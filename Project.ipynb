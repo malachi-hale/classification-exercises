{
 "cells": [
  {
   "cell_type": "code",
   "execution_count": 62,
   "id": "00781ac6",
   "metadata": {},
   "outputs": [],
   "source": [
    "import pandas as pd\n",
    "import os\n",
    "import env\n",
    "import matplotlib.pyplot as plt\n",
    "import pandas as pd\n",
    "import seaborn as sns\n",
    "from pydataset import data\n",
    "from acquire import get_telco_data\n",
    "import warnings\n",
    "warnings.filterwarnings('ignore')\n",
    "from sklearn.dummy import DummyClassifier\n",
    "from sklearn.metrics import classification_report\n",
    "from sklearn.model_selection import train_test_split"
   ]
  },
  {
   "cell_type": "markdown",
   "id": "09ae79c3",
   "metadata": {},
   "source": [
    "## Acquire the data"
   ]
  },
  {
   "cell_type": "code",
   "execution_count": 26,
   "id": "e03a5e30",
   "metadata": {},
   "outputs": [],
   "source": [
    "df = get_telco_data()"
   ]
  },
  {
   "cell_type": "code",
   "execution_count": 27,
   "id": "88631536",
   "metadata": {},
   "outputs": [],
   "source": [
    "df = df.loc[:,~df.columns.duplicated()]"
   ]
  },
  {
   "cell_type": "code",
   "execution_count": 28,
   "id": "e0379e34",
   "metadata": {},
   "outputs": [
    {
     "data": {
      "text/html": [
       "<div>\n",
       "<style scoped>\n",
       "    .dataframe tbody tr th:only-of-type {\n",
       "        vertical-align: middle;\n",
       "    }\n",
       "\n",
       "    .dataframe tbody tr th {\n",
       "        vertical-align: top;\n",
       "    }\n",
       "\n",
       "    .dataframe thead th {\n",
       "        text-align: right;\n",
       "    }\n",
       "</style>\n",
       "<table border=\"1\" class=\"dataframe\">\n",
       "  <thead>\n",
       "    <tr style=\"text-align: right;\">\n",
       "      <th></th>\n",
       "      <th>customer_id</th>\n",
       "      <th>gender</th>\n",
       "      <th>senior_citizen</th>\n",
       "      <th>partner</th>\n",
       "      <th>dependents</th>\n",
       "      <th>tenure</th>\n",
       "      <th>phone_service</th>\n",
       "      <th>multiple_lines</th>\n",
       "      <th>internet_service_type_id</th>\n",
       "      <th>online_security</th>\n",
       "      <th>...</th>\n",
       "      <th>streaming_movies</th>\n",
       "      <th>contract_type_id</th>\n",
       "      <th>paperless_billing</th>\n",
       "      <th>payment_type_id</th>\n",
       "      <th>monthly_charges</th>\n",
       "      <th>total_charges</th>\n",
       "      <th>churn</th>\n",
       "      <th>contract_type</th>\n",
       "      <th>internet_service_type</th>\n",
       "      <th>payment_type</th>\n",
       "    </tr>\n",
       "  </thead>\n",
       "  <tbody>\n",
       "    <tr>\n",
       "      <th>0</th>\n",
       "      <td>0016-QLJIS</td>\n",
       "      <td>Female</td>\n",
       "      <td>0</td>\n",
       "      <td>Yes</td>\n",
       "      <td>Yes</td>\n",
       "      <td>65</td>\n",
       "      <td>Yes</td>\n",
       "      <td>Yes</td>\n",
       "      <td>1</td>\n",
       "      <td>Yes</td>\n",
       "      <td>...</td>\n",
       "      <td>Yes</td>\n",
       "      <td>3</td>\n",
       "      <td>Yes</td>\n",
       "      <td>2</td>\n",
       "      <td>90.45</td>\n",
       "      <td>5957.9</td>\n",
       "      <td>No</td>\n",
       "      <td>Two year</td>\n",
       "      <td>DSL</td>\n",
       "      <td>Mailed check</td>\n",
       "    </tr>\n",
       "    <tr>\n",
       "      <th>1</th>\n",
       "      <td>0017-DINOC</td>\n",
       "      <td>Male</td>\n",
       "      <td>0</td>\n",
       "      <td>No</td>\n",
       "      <td>No</td>\n",
       "      <td>54</td>\n",
       "      <td>No</td>\n",
       "      <td>No phone service</td>\n",
       "      <td>1</td>\n",
       "      <td>Yes</td>\n",
       "      <td>...</td>\n",
       "      <td>No</td>\n",
       "      <td>3</td>\n",
       "      <td>No</td>\n",
       "      <td>4</td>\n",
       "      <td>45.20</td>\n",
       "      <td>2460.55</td>\n",
       "      <td>No</td>\n",
       "      <td>Two year</td>\n",
       "      <td>DSL</td>\n",
       "      <td>Credit card (automatic)</td>\n",
       "    </tr>\n",
       "    <tr>\n",
       "      <th>2</th>\n",
       "      <td>0019-GFNTW</td>\n",
       "      <td>Female</td>\n",
       "      <td>0</td>\n",
       "      <td>No</td>\n",
       "      <td>No</td>\n",
       "      <td>56</td>\n",
       "      <td>No</td>\n",
       "      <td>No phone service</td>\n",
       "      <td>1</td>\n",
       "      <td>Yes</td>\n",
       "      <td>...</td>\n",
       "      <td>No</td>\n",
       "      <td>3</td>\n",
       "      <td>No</td>\n",
       "      <td>3</td>\n",
       "      <td>45.05</td>\n",
       "      <td>2560.1</td>\n",
       "      <td>No</td>\n",
       "      <td>Two year</td>\n",
       "      <td>DSL</td>\n",
       "      <td>Bank transfer (automatic)</td>\n",
       "    </tr>\n",
       "    <tr>\n",
       "      <th>3</th>\n",
       "      <td>0056-EPFBG</td>\n",
       "      <td>Male</td>\n",
       "      <td>0</td>\n",
       "      <td>Yes</td>\n",
       "      <td>Yes</td>\n",
       "      <td>20</td>\n",
       "      <td>No</td>\n",
       "      <td>No phone service</td>\n",
       "      <td>1</td>\n",
       "      <td>Yes</td>\n",
       "      <td>...</td>\n",
       "      <td>No</td>\n",
       "      <td>3</td>\n",
       "      <td>Yes</td>\n",
       "      <td>4</td>\n",
       "      <td>39.40</td>\n",
       "      <td>825.4</td>\n",
       "      <td>No</td>\n",
       "      <td>Two year</td>\n",
       "      <td>DSL</td>\n",
       "      <td>Credit card (automatic)</td>\n",
       "    </tr>\n",
       "    <tr>\n",
       "      <th>4</th>\n",
       "      <td>0078-XZMHT</td>\n",
       "      <td>Male</td>\n",
       "      <td>0</td>\n",
       "      <td>Yes</td>\n",
       "      <td>No</td>\n",
       "      <td>72</td>\n",
       "      <td>Yes</td>\n",
       "      <td>Yes</td>\n",
       "      <td>1</td>\n",
       "      <td>No</td>\n",
       "      <td>...</td>\n",
       "      <td>Yes</td>\n",
       "      <td>3</td>\n",
       "      <td>Yes</td>\n",
       "      <td>3</td>\n",
       "      <td>85.15</td>\n",
       "      <td>6316.2</td>\n",
       "      <td>No</td>\n",
       "      <td>Two year</td>\n",
       "      <td>DSL</td>\n",
       "      <td>Bank transfer (automatic)</td>\n",
       "    </tr>\n",
       "  </tbody>\n",
       "</table>\n",
       "<p>5 rows × 24 columns</p>\n",
       "</div>"
      ],
      "text/plain": [
       "  customer_id  gender  senior_citizen partner dependents  tenure  \\\n",
       "0  0016-QLJIS  Female               0     Yes        Yes      65   \n",
       "1  0017-DINOC    Male               0      No         No      54   \n",
       "2  0019-GFNTW  Female               0      No         No      56   \n",
       "3  0056-EPFBG    Male               0     Yes        Yes      20   \n",
       "4  0078-XZMHT    Male               0     Yes         No      72   \n",
       "\n",
       "  phone_service    multiple_lines  internet_service_type_id online_security  \\\n",
       "0           Yes               Yes                         1             Yes   \n",
       "1            No  No phone service                         1             Yes   \n",
       "2            No  No phone service                         1             Yes   \n",
       "3            No  No phone service                         1             Yes   \n",
       "4           Yes               Yes                         1              No   \n",
       "\n",
       "   ... streaming_movies contract_type_id paperless_billing payment_type_id  \\\n",
       "0  ...              Yes                3               Yes               2   \n",
       "1  ...               No                3                No               4   \n",
       "2  ...               No                3                No               3   \n",
       "3  ...               No                3               Yes               4   \n",
       "4  ...              Yes                3               Yes               3   \n",
       "\n",
       "  monthly_charges  total_charges churn  contract_type  internet_service_type  \\\n",
       "0           90.45         5957.9    No       Two year                    DSL   \n",
       "1           45.20        2460.55    No       Two year                    DSL   \n",
       "2           45.05         2560.1    No       Two year                    DSL   \n",
       "3           39.40          825.4    No       Two year                    DSL   \n",
       "4           85.15         6316.2    No       Two year                    DSL   \n",
       "\n",
       "                payment_type  \n",
       "0               Mailed check  \n",
       "1    Credit card (automatic)  \n",
       "2  Bank transfer (automatic)  \n",
       "3    Credit card (automatic)  \n",
       "4  Bank transfer (automatic)  \n",
       "\n",
       "[5 rows x 24 columns]"
      ]
     },
     "execution_count": 28,
     "metadata": {},
     "output_type": "execute_result"
    }
   ],
   "source": [
    "df.head()"
   ]
  },
  {
   "cell_type": "markdown",
   "id": "93be6998",
   "metadata": {},
   "source": [
    "## Split the data"
   ]
  },
  {
   "cell_type": "code",
   "execution_count": 29,
   "id": "392dd024",
   "metadata": {},
   "outputs": [],
   "source": [
    "def train_validate_test_split(df, target, seed=123):\n",
    "    '''\n",
    "    This function takes in a dataframe, the name of the target variable\n",
    "    (for stratification purposes), and an integer for a setting a seed\n",
    "    and splits the data into train, validate and test. \n",
    "    Test is 20% of the original dataset, validate is .30*.80= 24% of the \n",
    "    original dataset, and train is .70*.80= 56% of the original dataset. \n",
    "    The function returns, in this order, train, validate and test dataframes. \n",
    "    '''\n",
    "    train_validate, test = train_test_split(df, test_size=0.2, \n",
    "                                            random_state=seed, \n",
    "                                            stratify=df[target])\n",
    "    train, validate = train_test_split(train_validate, test_size=0.3, \n",
    "                                       random_state=seed,\n",
    "                                       stratify=train_validate[target])\n",
    "    return train, validate, test"
   ]
  },
  {
   "cell_type": "code",
   "execution_count": 30,
   "id": "80e84c9d",
   "metadata": {},
   "outputs": [
    {
     "data": {
      "text/html": [
       "<div>\n",
       "<style scoped>\n",
       "    .dataframe tbody tr th:only-of-type {\n",
       "        vertical-align: middle;\n",
       "    }\n",
       "\n",
       "    .dataframe tbody tr th {\n",
       "        vertical-align: top;\n",
       "    }\n",
       "\n",
       "    .dataframe thead th {\n",
       "        text-align: right;\n",
       "    }\n",
       "</style>\n",
       "<table border=\"1\" class=\"dataframe\">\n",
       "  <thead>\n",
       "    <tr style=\"text-align: right;\">\n",
       "      <th></th>\n",
       "      <th>customer_id</th>\n",
       "      <th>gender</th>\n",
       "      <th>senior_citizen</th>\n",
       "      <th>partner</th>\n",
       "      <th>dependents</th>\n",
       "      <th>tenure</th>\n",
       "      <th>phone_service</th>\n",
       "      <th>multiple_lines</th>\n",
       "      <th>internet_service_type_id</th>\n",
       "      <th>online_security</th>\n",
       "      <th>...</th>\n",
       "      <th>streaming_movies</th>\n",
       "      <th>contract_type_id</th>\n",
       "      <th>paperless_billing</th>\n",
       "      <th>payment_type_id</th>\n",
       "      <th>monthly_charges</th>\n",
       "      <th>total_charges</th>\n",
       "      <th>churn</th>\n",
       "      <th>contract_type</th>\n",
       "      <th>internet_service_type</th>\n",
       "      <th>payment_type</th>\n",
       "    </tr>\n",
       "  </thead>\n",
       "  <tbody>\n",
       "    <tr>\n",
       "      <th>5642</th>\n",
       "      <td>1982-FEBTD</td>\n",
       "      <td>Female</td>\n",
       "      <td>0</td>\n",
       "      <td>Yes</td>\n",
       "      <td>Yes</td>\n",
       "      <td>23</td>\n",
       "      <td>Yes</td>\n",
       "      <td>Yes</td>\n",
       "      <td>3</td>\n",
       "      <td>No internet service</td>\n",
       "      <td>...</td>\n",
       "      <td>No internet service</td>\n",
       "      <td>3</td>\n",
       "      <td>Yes</td>\n",
       "      <td>4</td>\n",
       "      <td>25.6</td>\n",
       "      <td>514.75</td>\n",
       "      <td>No</td>\n",
       "      <td>Two year</td>\n",
       "      <td>None</td>\n",
       "      <td>Credit card (automatic)</td>\n",
       "    </tr>\n",
       "    <tr>\n",
       "      <th>3338</th>\n",
       "      <td>8982-NHAVY</td>\n",
       "      <td>Male</td>\n",
       "      <td>0</td>\n",
       "      <td>No</td>\n",
       "      <td>No</td>\n",
       "      <td>27</td>\n",
       "      <td>Yes</td>\n",
       "      <td>Yes</td>\n",
       "      <td>2</td>\n",
       "      <td>No</td>\n",
       "      <td>...</td>\n",
       "      <td>Yes</td>\n",
       "      <td>2</td>\n",
       "      <td>Yes</td>\n",
       "      <td>3</td>\n",
       "      <td>100.5</td>\n",
       "      <td>2673.45</td>\n",
       "      <td>No</td>\n",
       "      <td>One year</td>\n",
       "      <td>Fiber optic</td>\n",
       "      <td>Bank transfer (automatic)</td>\n",
       "    </tr>\n",
       "  </tbody>\n",
       "</table>\n",
       "<p>2 rows × 24 columns</p>\n",
       "</div>"
      ],
      "text/plain": [
       "     customer_id  gender  senior_citizen partner dependents  tenure  \\\n",
       "5642  1982-FEBTD  Female               0     Yes        Yes      23   \n",
       "3338  8982-NHAVY    Male               0      No         No      27   \n",
       "\n",
       "     phone_service multiple_lines  internet_service_type_id  \\\n",
       "5642           Yes            Yes                         3   \n",
       "3338           Yes            Yes                         2   \n",
       "\n",
       "          online_security  ...     streaming_movies contract_type_id  \\\n",
       "5642  No internet service  ...  No internet service                3   \n",
       "3338                   No  ...                  Yes                2   \n",
       "\n",
       "     paperless_billing payment_type_id monthly_charges  total_charges churn  \\\n",
       "5642               Yes               4            25.6         514.75    No   \n",
       "3338               Yes               3           100.5        2673.45    No   \n",
       "\n",
       "      contract_type  internet_service_type               payment_type  \n",
       "5642       Two year                   None    Credit card (automatic)  \n",
       "3338       One year            Fiber optic  Bank transfer (automatic)  \n",
       "\n",
       "[2 rows x 24 columns]"
      ]
     },
     "execution_count": 30,
     "metadata": {},
     "output_type": "execute_result"
    }
   ],
   "source": [
    "train, validate, test = train_validate_test_split(df, target='churn')\n",
    "train.head(2)"
   ]
  },
  {
   "cell_type": "code",
   "execution_count": 31,
   "id": "36231a9f",
   "metadata": {},
   "outputs": [
    {
     "data": {
      "text/plain": [
       "((3943, 24), (1691, 24), (1409, 24))"
      ]
     },
     "execution_count": 31,
     "metadata": {},
     "output_type": "execute_result"
    }
   ],
   "source": [
    "train.shape, validate.shape, test.shape"
   ]
  },
  {
   "cell_type": "code",
   "execution_count": 32,
   "id": "fab167cf",
   "metadata": {},
   "outputs": [],
   "source": [
    "X_train, y_train = train.drop(columns='churn'), train.churn\n",
    "X_validate, y_validate = validate.drop(columns='churn'), validate.churn\n",
    "X_test, y_test = test.drop(columns='churn'), test.churn"
   ]
  },
  {
   "cell_type": "code",
   "execution_count": 33,
   "id": "ca96f1e6",
   "metadata": {},
   "outputs": [
    {
     "data": {
      "text/html": [
       "<div>\n",
       "<style scoped>\n",
       "    .dataframe tbody tr th:only-of-type {\n",
       "        vertical-align: middle;\n",
       "    }\n",
       "\n",
       "    .dataframe tbody tr th {\n",
       "        vertical-align: top;\n",
       "    }\n",
       "\n",
       "    .dataframe thead th {\n",
       "        text-align: right;\n",
       "    }\n",
       "</style>\n",
       "<table border=\"1\" class=\"dataframe\">\n",
       "  <thead>\n",
       "    <tr style=\"text-align: right;\">\n",
       "      <th></th>\n",
       "      <th>customer_id</th>\n",
       "      <th>gender</th>\n",
       "      <th>senior_citizen</th>\n",
       "      <th>partner</th>\n",
       "      <th>dependents</th>\n",
       "      <th>tenure</th>\n",
       "      <th>phone_service</th>\n",
       "      <th>multiple_lines</th>\n",
       "      <th>internet_service_type_id</th>\n",
       "      <th>online_security</th>\n",
       "      <th>...</th>\n",
       "      <th>streaming_tv</th>\n",
       "      <th>streaming_movies</th>\n",
       "      <th>contract_type_id</th>\n",
       "      <th>paperless_billing</th>\n",
       "      <th>payment_type_id</th>\n",
       "      <th>monthly_charges</th>\n",
       "      <th>total_charges</th>\n",
       "      <th>contract_type</th>\n",
       "      <th>internet_service_type</th>\n",
       "      <th>payment_type</th>\n",
       "    </tr>\n",
       "  </thead>\n",
       "  <tbody>\n",
       "    <tr>\n",
       "      <th>5642</th>\n",
       "      <td>1982-FEBTD</td>\n",
       "      <td>Female</td>\n",
       "      <td>0</td>\n",
       "      <td>Yes</td>\n",
       "      <td>Yes</td>\n",
       "      <td>23</td>\n",
       "      <td>Yes</td>\n",
       "      <td>Yes</td>\n",
       "      <td>3</td>\n",
       "      <td>No internet service</td>\n",
       "      <td>...</td>\n",
       "      <td>No internet service</td>\n",
       "      <td>No internet service</td>\n",
       "      <td>3</td>\n",
       "      <td>Yes</td>\n",
       "      <td>4</td>\n",
       "      <td>25.60</td>\n",
       "      <td>514.75</td>\n",
       "      <td>Two year</td>\n",
       "      <td>None</td>\n",
       "      <td>Credit card (automatic)</td>\n",
       "    </tr>\n",
       "    <tr>\n",
       "      <th>3338</th>\n",
       "      <td>8982-NHAVY</td>\n",
       "      <td>Male</td>\n",
       "      <td>0</td>\n",
       "      <td>No</td>\n",
       "      <td>No</td>\n",
       "      <td>27</td>\n",
       "      <td>Yes</td>\n",
       "      <td>Yes</td>\n",
       "      <td>2</td>\n",
       "      <td>No</td>\n",
       "      <td>...</td>\n",
       "      <td>Yes</td>\n",
       "      <td>Yes</td>\n",
       "      <td>2</td>\n",
       "      <td>Yes</td>\n",
       "      <td>3</td>\n",
       "      <td>100.50</td>\n",
       "      <td>2673.45</td>\n",
       "      <td>One year</td>\n",
       "      <td>Fiber optic</td>\n",
       "      <td>Bank transfer (automatic)</td>\n",
       "    </tr>\n",
       "    <tr>\n",
       "      <th>4273</th>\n",
       "      <td>4115-NZRKS</td>\n",
       "      <td>Female</td>\n",
       "      <td>1</td>\n",
       "      <td>No</td>\n",
       "      <td>No</td>\n",
       "      <td>7</td>\n",
       "      <td>Yes</td>\n",
       "      <td>No</td>\n",
       "      <td>2</td>\n",
       "      <td>No</td>\n",
       "      <td>...</td>\n",
       "      <td>Yes</td>\n",
       "      <td>Yes</td>\n",
       "      <td>1</td>\n",
       "      <td>Yes</td>\n",
       "      <td>1</td>\n",
       "      <td>89.15</td>\n",
       "      <td>574.35</td>\n",
       "      <td>Month-to-month</td>\n",
       "      <td>Fiber optic</td>\n",
       "      <td>Electronic check</td>\n",
       "    </tr>\n",
       "    <tr>\n",
       "      <th>2382</th>\n",
       "      <td>9633-DENPU</td>\n",
       "      <td>Female</td>\n",
       "      <td>0</td>\n",
       "      <td>Yes</td>\n",
       "      <td>No</td>\n",
       "      <td>47</td>\n",
       "      <td>Yes</td>\n",
       "      <td>No</td>\n",
       "      <td>1</td>\n",
       "      <td>No</td>\n",
       "      <td>...</td>\n",
       "      <td>Yes</td>\n",
       "      <td>No</td>\n",
       "      <td>1</td>\n",
       "      <td>Yes</td>\n",
       "      <td>3</td>\n",
       "      <td>58.60</td>\n",
       "      <td>2723.4</td>\n",
       "      <td>Month-to-month</td>\n",
       "      <td>DSL</td>\n",
       "      <td>Bank transfer (automatic)</td>\n",
       "    </tr>\n",
       "    <tr>\n",
       "      <th>2655</th>\n",
       "      <td>5693-PIPCS</td>\n",
       "      <td>Male</td>\n",
       "      <td>0</td>\n",
       "      <td>No</td>\n",
       "      <td>No</td>\n",
       "      <td>41</td>\n",
       "      <td>Yes</td>\n",
       "      <td>No</td>\n",
       "      <td>2</td>\n",
       "      <td>No</td>\n",
       "      <td>...</td>\n",
       "      <td>Yes</td>\n",
       "      <td>Yes</td>\n",
       "      <td>3</td>\n",
       "      <td>Yes</td>\n",
       "      <td>4</td>\n",
       "      <td>99.65</td>\n",
       "      <td>4220.35</td>\n",
       "      <td>Two year</td>\n",
       "      <td>Fiber optic</td>\n",
       "      <td>Credit card (automatic)</td>\n",
       "    </tr>\n",
       "  </tbody>\n",
       "</table>\n",
       "<p>5 rows × 23 columns</p>\n",
       "</div>"
      ],
      "text/plain": [
       "     customer_id  gender  senior_citizen partner dependents  tenure  \\\n",
       "5642  1982-FEBTD  Female               0     Yes        Yes      23   \n",
       "3338  8982-NHAVY    Male               0      No         No      27   \n",
       "4273  4115-NZRKS  Female               1      No         No       7   \n",
       "2382  9633-DENPU  Female               0     Yes         No      47   \n",
       "2655  5693-PIPCS    Male               0      No         No      41   \n",
       "\n",
       "     phone_service multiple_lines  internet_service_type_id  \\\n",
       "5642           Yes            Yes                         3   \n",
       "3338           Yes            Yes                         2   \n",
       "4273           Yes             No                         2   \n",
       "2382           Yes             No                         1   \n",
       "2655           Yes             No                         2   \n",
       "\n",
       "          online_security  ...         streaming_tv     streaming_movies  \\\n",
       "5642  No internet service  ...  No internet service  No internet service   \n",
       "3338                   No  ...                  Yes                  Yes   \n",
       "4273                   No  ...                  Yes                  Yes   \n",
       "2382                   No  ...                  Yes                   No   \n",
       "2655                   No  ...                  Yes                  Yes   \n",
       "\n",
       "     contract_type_id paperless_billing payment_type_id  monthly_charges  \\\n",
       "5642                3               Yes               4            25.60   \n",
       "3338                2               Yes               3           100.50   \n",
       "4273                1               Yes               1            89.15   \n",
       "2382                1               Yes               3            58.60   \n",
       "2655                3               Yes               4            99.65   \n",
       "\n",
       "     total_charges   contract_type  internet_service_type  \\\n",
       "5642        514.75        Two year                   None   \n",
       "3338       2673.45        One year            Fiber optic   \n",
       "4273        574.35  Month-to-month            Fiber optic   \n",
       "2382        2723.4  Month-to-month                    DSL   \n",
       "2655       4220.35        Two year            Fiber optic   \n",
       "\n",
       "                   payment_type  \n",
       "5642    Credit card (automatic)  \n",
       "3338  Bank transfer (automatic)  \n",
       "4273           Electronic check  \n",
       "2382  Bank transfer (automatic)  \n",
       "2655    Credit card (automatic)  \n",
       "\n",
       "[5 rows x 23 columns]"
      ]
     },
     "execution_count": 33,
     "metadata": {},
     "output_type": "execute_result"
    }
   ],
   "source": [
    "X_train.head()"
   ]
  },
  {
   "cell_type": "code",
   "execution_count": 34,
   "id": "bbbfc759",
   "metadata": {},
   "outputs": [
    {
     "name": "stdout",
     "output_type": "stream",
     "text": [
      "<class 'pandas.core.frame.DataFrame'>\n",
      "Int64Index: 3943 entries, 5642 to 6840\n",
      "Data columns (total 23 columns):\n",
      " #   Column                    Non-Null Count  Dtype  \n",
      "---  ------                    --------------  -----  \n",
      " 0   customer_id               3943 non-null   object \n",
      " 1   gender                    3943 non-null   object \n",
      " 2   senior_citizen            3943 non-null   int64  \n",
      " 3   partner                   3943 non-null   object \n",
      " 4   dependents                3943 non-null   object \n",
      " 5   tenure                    3943 non-null   int64  \n",
      " 6   phone_service             3943 non-null   object \n",
      " 7   multiple_lines            3943 non-null   object \n",
      " 8   internet_service_type_id  3943 non-null   int64  \n",
      " 9   online_security           3943 non-null   object \n",
      " 10  online_backup             3943 non-null   object \n",
      " 11  device_protection         3943 non-null   object \n",
      " 12  tech_support              3943 non-null   object \n",
      " 13  streaming_tv              3943 non-null   object \n",
      " 14  streaming_movies          3943 non-null   object \n",
      " 15  contract_type_id          3943 non-null   int64  \n",
      " 16  paperless_billing         3943 non-null   object \n",
      " 17  payment_type_id           3943 non-null   int64  \n",
      " 18  monthly_charges           3943 non-null   float64\n",
      " 19  total_charges             3943 non-null   object \n",
      " 20  contract_type             3943 non-null   object \n",
      " 21  internet_service_type     3943 non-null   object \n",
      " 22  payment_type              3943 non-null   object \n",
      "dtypes: float64(1), int64(5), object(17)\n",
      "memory usage: 739.3+ KB\n"
     ]
    }
   ],
   "source": [
    "X_train.info()"
   ]
  },
  {
   "cell_type": "markdown",
   "id": "628a170d",
   "metadata": {},
   "source": [
    "## Clean the data"
   ]
  },
  {
   "cell_type": "code",
   "execution_count": 35,
   "id": "63a95f8a",
   "metadata": {},
   "outputs": [],
   "source": [
    "dummy_df = pd.get_dummies(X_train[['partner', 'dependents', 'gender', 'phone_service', 'multiple_lines', 'online_security', 'online_backup', 'device_protection', 'tech_support', 'streaming_tv', 'streaming_movies']], drop_first=True)\n",
    "X_train = pd.concat([X_train, dummy_df], axis=1)"
   ]
  },
  {
   "cell_type": "code",
   "execution_count": 36,
   "id": "98a31cf9",
   "metadata": {},
   "outputs": [],
   "source": [
    "X_train = X_train.drop(columns = ['customer_id', 'gender', 'partner', 'dependents', 'phone_service', 'multiple_lines', 'online_security', 'online_backup', 'device_protection', 'tech_support', 'streaming_tv', 'streaming_movies', 'contract_type', 'internet_service_type', 'payment_type'])"
   ]
  },
  {
   "cell_type": "code",
   "execution_count": 37,
   "id": "2e2193b5",
   "metadata": {},
   "outputs": [
    {
     "data": {
      "text/html": [
       "<div>\n",
       "<style scoped>\n",
       "    .dataframe tbody tr th:only-of-type {\n",
       "        vertical-align: middle;\n",
       "    }\n",
       "\n",
       "    .dataframe tbody tr th {\n",
       "        vertical-align: top;\n",
       "    }\n",
       "\n",
       "    .dataframe thead th {\n",
       "        text-align: right;\n",
       "    }\n",
       "</style>\n",
       "<table border=\"1\" class=\"dataframe\">\n",
       "  <thead>\n",
       "    <tr style=\"text-align: right;\">\n",
       "      <th></th>\n",
       "      <th>senior_citizen</th>\n",
       "      <th>tenure</th>\n",
       "      <th>internet_service_type_id</th>\n",
       "      <th>contract_type_id</th>\n",
       "      <th>paperless_billing</th>\n",
       "      <th>payment_type_id</th>\n",
       "      <th>monthly_charges</th>\n",
       "      <th>total_charges</th>\n",
       "      <th>partner_Yes</th>\n",
       "      <th>dependents_Yes</th>\n",
       "      <th>...</th>\n",
       "      <th>online_backup_No internet service</th>\n",
       "      <th>online_backup_Yes</th>\n",
       "      <th>device_protection_No internet service</th>\n",
       "      <th>device_protection_Yes</th>\n",
       "      <th>tech_support_No internet service</th>\n",
       "      <th>tech_support_Yes</th>\n",
       "      <th>streaming_tv_No internet service</th>\n",
       "      <th>streaming_tv_Yes</th>\n",
       "      <th>streaming_movies_No internet service</th>\n",
       "      <th>streaming_movies_Yes</th>\n",
       "    </tr>\n",
       "  </thead>\n",
       "  <tbody>\n",
       "    <tr>\n",
       "      <th>5642</th>\n",
       "      <td>0</td>\n",
       "      <td>23</td>\n",
       "      <td>3</td>\n",
       "      <td>3</td>\n",
       "      <td>Yes</td>\n",
       "      <td>4</td>\n",
       "      <td>25.60</td>\n",
       "      <td>514.75</td>\n",
       "      <td>1</td>\n",
       "      <td>1</td>\n",
       "      <td>...</td>\n",
       "      <td>1</td>\n",
       "      <td>0</td>\n",
       "      <td>1</td>\n",
       "      <td>0</td>\n",
       "      <td>1</td>\n",
       "      <td>0</td>\n",
       "      <td>1</td>\n",
       "      <td>0</td>\n",
       "      <td>1</td>\n",
       "      <td>0</td>\n",
       "    </tr>\n",
       "    <tr>\n",
       "      <th>3338</th>\n",
       "      <td>0</td>\n",
       "      <td>27</td>\n",
       "      <td>2</td>\n",
       "      <td>2</td>\n",
       "      <td>Yes</td>\n",
       "      <td>3</td>\n",
       "      <td>100.50</td>\n",
       "      <td>2673.45</td>\n",
       "      <td>0</td>\n",
       "      <td>0</td>\n",
       "      <td>...</td>\n",
       "      <td>0</td>\n",
       "      <td>0</td>\n",
       "      <td>0</td>\n",
       "      <td>1</td>\n",
       "      <td>0</td>\n",
       "      <td>0</td>\n",
       "      <td>0</td>\n",
       "      <td>1</td>\n",
       "      <td>0</td>\n",
       "      <td>1</td>\n",
       "    </tr>\n",
       "    <tr>\n",
       "      <th>4273</th>\n",
       "      <td>1</td>\n",
       "      <td>7</td>\n",
       "      <td>2</td>\n",
       "      <td>1</td>\n",
       "      <td>Yes</td>\n",
       "      <td>1</td>\n",
       "      <td>89.15</td>\n",
       "      <td>574.35</td>\n",
       "      <td>0</td>\n",
       "      <td>0</td>\n",
       "      <td>...</td>\n",
       "      <td>0</td>\n",
       "      <td>0</td>\n",
       "      <td>0</td>\n",
       "      <td>0</td>\n",
       "      <td>0</td>\n",
       "      <td>0</td>\n",
       "      <td>0</td>\n",
       "      <td>1</td>\n",
       "      <td>0</td>\n",
       "      <td>1</td>\n",
       "    </tr>\n",
       "    <tr>\n",
       "      <th>2382</th>\n",
       "      <td>0</td>\n",
       "      <td>47</td>\n",
       "      <td>1</td>\n",
       "      <td>1</td>\n",
       "      <td>Yes</td>\n",
       "      <td>3</td>\n",
       "      <td>58.60</td>\n",
       "      <td>2723.4</td>\n",
       "      <td>1</td>\n",
       "      <td>0</td>\n",
       "      <td>...</td>\n",
       "      <td>0</td>\n",
       "      <td>1</td>\n",
       "      <td>0</td>\n",
       "      <td>0</td>\n",
       "      <td>0</td>\n",
       "      <td>0</td>\n",
       "      <td>0</td>\n",
       "      <td>1</td>\n",
       "      <td>0</td>\n",
       "      <td>0</td>\n",
       "    </tr>\n",
       "    <tr>\n",
       "      <th>2655</th>\n",
       "      <td>0</td>\n",
       "      <td>41</td>\n",
       "      <td>2</td>\n",
       "      <td>3</td>\n",
       "      <td>Yes</td>\n",
       "      <td>4</td>\n",
       "      <td>99.65</td>\n",
       "      <td>4220.35</td>\n",
       "      <td>0</td>\n",
       "      <td>0</td>\n",
       "      <td>...</td>\n",
       "      <td>0</td>\n",
       "      <td>1</td>\n",
       "      <td>0</td>\n",
       "      <td>0</td>\n",
       "      <td>0</td>\n",
       "      <td>1</td>\n",
       "      <td>0</td>\n",
       "      <td>1</td>\n",
       "      <td>0</td>\n",
       "      <td>1</td>\n",
       "    </tr>\n",
       "  </tbody>\n",
       "</table>\n",
       "<p>5 rows × 26 columns</p>\n",
       "</div>"
      ],
      "text/plain": [
       "      senior_citizen  tenure  internet_service_type_id  contract_type_id  \\\n",
       "5642               0      23                         3                 3   \n",
       "3338               0      27                         2                 2   \n",
       "4273               1       7                         2                 1   \n",
       "2382               0      47                         1                 1   \n",
       "2655               0      41                         2                 3   \n",
       "\n",
       "     paperless_billing  payment_type_id  monthly_charges total_charges  \\\n",
       "5642               Yes                4            25.60        514.75   \n",
       "3338               Yes                3           100.50       2673.45   \n",
       "4273               Yes                1            89.15        574.35   \n",
       "2382               Yes                3            58.60        2723.4   \n",
       "2655               Yes                4            99.65       4220.35   \n",
       "\n",
       "      partner_Yes  dependents_Yes  ...  online_backup_No internet service  \\\n",
       "5642            1               1  ...                                  1   \n",
       "3338            0               0  ...                                  0   \n",
       "4273            0               0  ...                                  0   \n",
       "2382            1               0  ...                                  0   \n",
       "2655            0               0  ...                                  0   \n",
       "\n",
       "      online_backup_Yes  device_protection_No internet service  \\\n",
       "5642                  0                                      1   \n",
       "3338                  0                                      0   \n",
       "4273                  0                                      0   \n",
       "2382                  1                                      0   \n",
       "2655                  1                                      0   \n",
       "\n",
       "      device_protection_Yes  tech_support_No internet service  \\\n",
       "5642                      0                                 1   \n",
       "3338                      1                                 0   \n",
       "4273                      0                                 0   \n",
       "2382                      0                                 0   \n",
       "2655                      0                                 0   \n",
       "\n",
       "      tech_support_Yes  streaming_tv_No internet service  streaming_tv_Yes  \\\n",
       "5642                 0                                 1                 0   \n",
       "3338                 0                                 0                 1   \n",
       "4273                 0                                 0                 1   \n",
       "2382                 0                                 0                 1   \n",
       "2655                 1                                 0                 1   \n",
       "\n",
       "      streaming_movies_No internet service  streaming_movies_Yes  \n",
       "5642                                     1                     0  \n",
       "3338                                     0                     1  \n",
       "4273                                     0                     1  \n",
       "2382                                     0                     0  \n",
       "2655                                     0                     1  \n",
       "\n",
       "[5 rows x 26 columns]"
      ]
     },
     "execution_count": 37,
     "metadata": {},
     "output_type": "execute_result"
    }
   ],
   "source": [
    "X_train.head()"
   ]
  },
  {
   "cell_type": "code",
   "execution_count": 38,
   "id": "fa5f85ef",
   "metadata": {},
   "outputs": [],
   "source": [
    "X_train = X_train.drop(columns = ['paperless_billing', 'total_charges'])"
   ]
  },
  {
   "cell_type": "code",
   "execution_count": 39,
   "id": "bd81763a",
   "metadata": {},
   "outputs": [
    {
     "data": {
      "text/html": [
       "<div>\n",
       "<style scoped>\n",
       "    .dataframe tbody tr th:only-of-type {\n",
       "        vertical-align: middle;\n",
       "    }\n",
       "\n",
       "    .dataframe tbody tr th {\n",
       "        vertical-align: top;\n",
       "    }\n",
       "\n",
       "    .dataframe thead th {\n",
       "        text-align: right;\n",
       "    }\n",
       "</style>\n",
       "<table border=\"1\" class=\"dataframe\">\n",
       "  <thead>\n",
       "    <tr style=\"text-align: right;\">\n",
       "      <th></th>\n",
       "      <th>senior_citizen</th>\n",
       "      <th>tenure</th>\n",
       "      <th>internet_service_type_id</th>\n",
       "      <th>contract_type_id</th>\n",
       "      <th>payment_type_id</th>\n",
       "      <th>monthly_charges</th>\n",
       "      <th>partner_Yes</th>\n",
       "      <th>dependents_Yes</th>\n",
       "      <th>gender_Male</th>\n",
       "      <th>phone_service_Yes</th>\n",
       "      <th>...</th>\n",
       "      <th>online_backup_No internet service</th>\n",
       "      <th>online_backup_Yes</th>\n",
       "      <th>device_protection_No internet service</th>\n",
       "      <th>device_protection_Yes</th>\n",
       "      <th>tech_support_No internet service</th>\n",
       "      <th>tech_support_Yes</th>\n",
       "      <th>streaming_tv_No internet service</th>\n",
       "      <th>streaming_tv_Yes</th>\n",
       "      <th>streaming_movies_No internet service</th>\n",
       "      <th>streaming_movies_Yes</th>\n",
       "    </tr>\n",
       "  </thead>\n",
       "  <tbody>\n",
       "    <tr>\n",
       "      <th>5642</th>\n",
       "      <td>0</td>\n",
       "      <td>23</td>\n",
       "      <td>3</td>\n",
       "      <td>3</td>\n",
       "      <td>4</td>\n",
       "      <td>25.60</td>\n",
       "      <td>1</td>\n",
       "      <td>1</td>\n",
       "      <td>0</td>\n",
       "      <td>1</td>\n",
       "      <td>...</td>\n",
       "      <td>1</td>\n",
       "      <td>0</td>\n",
       "      <td>1</td>\n",
       "      <td>0</td>\n",
       "      <td>1</td>\n",
       "      <td>0</td>\n",
       "      <td>1</td>\n",
       "      <td>0</td>\n",
       "      <td>1</td>\n",
       "      <td>0</td>\n",
       "    </tr>\n",
       "    <tr>\n",
       "      <th>3338</th>\n",
       "      <td>0</td>\n",
       "      <td>27</td>\n",
       "      <td>2</td>\n",
       "      <td>2</td>\n",
       "      <td>3</td>\n",
       "      <td>100.50</td>\n",
       "      <td>0</td>\n",
       "      <td>0</td>\n",
       "      <td>1</td>\n",
       "      <td>1</td>\n",
       "      <td>...</td>\n",
       "      <td>0</td>\n",
       "      <td>0</td>\n",
       "      <td>0</td>\n",
       "      <td>1</td>\n",
       "      <td>0</td>\n",
       "      <td>0</td>\n",
       "      <td>0</td>\n",
       "      <td>1</td>\n",
       "      <td>0</td>\n",
       "      <td>1</td>\n",
       "    </tr>\n",
       "    <tr>\n",
       "      <th>4273</th>\n",
       "      <td>1</td>\n",
       "      <td>7</td>\n",
       "      <td>2</td>\n",
       "      <td>1</td>\n",
       "      <td>1</td>\n",
       "      <td>89.15</td>\n",
       "      <td>0</td>\n",
       "      <td>0</td>\n",
       "      <td>0</td>\n",
       "      <td>1</td>\n",
       "      <td>...</td>\n",
       "      <td>0</td>\n",
       "      <td>0</td>\n",
       "      <td>0</td>\n",
       "      <td>0</td>\n",
       "      <td>0</td>\n",
       "      <td>0</td>\n",
       "      <td>0</td>\n",
       "      <td>1</td>\n",
       "      <td>0</td>\n",
       "      <td>1</td>\n",
       "    </tr>\n",
       "    <tr>\n",
       "      <th>2382</th>\n",
       "      <td>0</td>\n",
       "      <td>47</td>\n",
       "      <td>1</td>\n",
       "      <td>1</td>\n",
       "      <td>3</td>\n",
       "      <td>58.60</td>\n",
       "      <td>1</td>\n",
       "      <td>0</td>\n",
       "      <td>0</td>\n",
       "      <td>1</td>\n",
       "      <td>...</td>\n",
       "      <td>0</td>\n",
       "      <td>1</td>\n",
       "      <td>0</td>\n",
       "      <td>0</td>\n",
       "      <td>0</td>\n",
       "      <td>0</td>\n",
       "      <td>0</td>\n",
       "      <td>1</td>\n",
       "      <td>0</td>\n",
       "      <td>0</td>\n",
       "    </tr>\n",
       "    <tr>\n",
       "      <th>2655</th>\n",
       "      <td>0</td>\n",
       "      <td>41</td>\n",
       "      <td>2</td>\n",
       "      <td>3</td>\n",
       "      <td>4</td>\n",
       "      <td>99.65</td>\n",
       "      <td>0</td>\n",
       "      <td>0</td>\n",
       "      <td>1</td>\n",
       "      <td>1</td>\n",
       "      <td>...</td>\n",
       "      <td>0</td>\n",
       "      <td>1</td>\n",
       "      <td>0</td>\n",
       "      <td>0</td>\n",
       "      <td>0</td>\n",
       "      <td>1</td>\n",
       "      <td>0</td>\n",
       "      <td>1</td>\n",
       "      <td>0</td>\n",
       "      <td>1</td>\n",
       "    </tr>\n",
       "  </tbody>\n",
       "</table>\n",
       "<p>5 rows × 24 columns</p>\n",
       "</div>"
      ],
      "text/plain": [
       "      senior_citizen  tenure  internet_service_type_id  contract_type_id  \\\n",
       "5642               0      23                         3                 3   \n",
       "3338               0      27                         2                 2   \n",
       "4273               1       7                         2                 1   \n",
       "2382               0      47                         1                 1   \n",
       "2655               0      41                         2                 3   \n",
       "\n",
       "      payment_type_id  monthly_charges  partner_Yes  dependents_Yes  \\\n",
       "5642                4            25.60            1               1   \n",
       "3338                3           100.50            0               0   \n",
       "4273                1            89.15            0               0   \n",
       "2382                3            58.60            1               0   \n",
       "2655                4            99.65            0               0   \n",
       "\n",
       "      gender_Male  phone_service_Yes  ...  online_backup_No internet service  \\\n",
       "5642            0                  1  ...                                  1   \n",
       "3338            1                  1  ...                                  0   \n",
       "4273            0                  1  ...                                  0   \n",
       "2382            0                  1  ...                                  0   \n",
       "2655            1                  1  ...                                  0   \n",
       "\n",
       "      online_backup_Yes  device_protection_No internet service  \\\n",
       "5642                  0                                      1   \n",
       "3338                  0                                      0   \n",
       "4273                  0                                      0   \n",
       "2382                  1                                      0   \n",
       "2655                  1                                      0   \n",
       "\n",
       "      device_protection_Yes  tech_support_No internet service  \\\n",
       "5642                      0                                 1   \n",
       "3338                      1                                 0   \n",
       "4273                      0                                 0   \n",
       "2382                      0                                 0   \n",
       "2655                      0                                 0   \n",
       "\n",
       "      tech_support_Yes  streaming_tv_No internet service  streaming_tv_Yes  \\\n",
       "5642                 0                                 1                 0   \n",
       "3338                 0                                 0                 1   \n",
       "4273                 0                                 0                 1   \n",
       "2382                 0                                 0                 1   \n",
       "2655                 1                                 0                 1   \n",
       "\n",
       "      streaming_movies_No internet service  streaming_movies_Yes  \n",
       "5642                                     1                     0  \n",
       "3338                                     0                     1  \n",
       "4273                                     0                     1  \n",
       "2382                                     0                     0  \n",
       "2655                                     0                     1  \n",
       "\n",
       "[5 rows x 24 columns]"
      ]
     },
     "execution_count": 39,
     "metadata": {},
     "output_type": "execute_result"
    }
   ],
   "source": [
    "X_train.head()"
   ]
  },
  {
   "cell_type": "markdown",
   "id": "0780dd22",
   "metadata": {},
   "source": [
    "## Baseline Accuracy"
   ]
  },
  {
   "cell_type": "code",
   "execution_count": 40,
   "id": "ccdf3ad2",
   "metadata": {},
   "outputs": [
    {
     "data": {
      "text/plain": [
       "No     2897\n",
       "Yes    1046\n",
       "Name: churn, dtype: int64"
      ]
     },
     "execution_count": 40,
     "metadata": {},
     "output_type": "execute_result"
    }
   ],
   "source": [
    "train.churn.value_counts()"
   ]
  },
  {
   "cell_type": "markdown",
   "id": "a9ec4cb2",
   "metadata": {},
   "source": [
    "The majority of our customers have not churned, so our baseliene assumption is that cutsomers will not churn."
   ]
  },
  {
   "cell_type": "code",
   "execution_count": 41,
   "id": "6e7826c3",
   "metadata": {},
   "outputs": [],
   "source": [
    "model = DummyClassifier(strategy= 'constant', constant ='No')"
   ]
  },
  {
   "cell_type": "code",
   "execution_count": 42,
   "id": "47abb410",
   "metadata": {},
   "outputs": [
    {
     "data": {
      "text/plain": [
       "DummyClassifier(constant='No', strategy='constant')"
      ]
     },
     "execution_count": 42,
     "metadata": {},
     "output_type": "execute_result"
    }
   ],
   "source": [
    "model.fit(X_train, y_train)"
   ]
  },
  {
   "cell_type": "code",
   "execution_count": 43,
   "id": "5ecc288f",
   "metadata": {},
   "outputs": [
    {
     "name": "stdout",
     "output_type": "stream",
     "text": [
      "Training accuracy: 0.73\n"
     ]
    }
   ],
   "source": [
    "accuracy = round(model.score(X_train, y_train), 2)\n",
    "print(f'Training accuracy: {accuracy}')"
   ]
  },
  {
   "cell_type": "markdown",
   "id": "96a55359",
   "metadata": {},
   "source": [
    "## Decision Tree"
   ]
  },
  {
   "cell_type": "code",
   "execution_count": 44,
   "id": "aec5aca4",
   "metadata": {},
   "outputs": [],
   "source": [
    "from sklearn.model_selection import train_test_split\n",
    "from sklearn.tree import DecisionTreeClassifier\n",
    "from sklearn.tree import export_graphviz\n",
    "from sklearn.metrics import classification_report\n",
    "from sklearn.metrics import confusion_matrix\n",
    "import graphviz\n",
    "from graphviz import Graph\n",
    "from sklearn import tree\n",
    "import numpy\n",
    "from sklearn.metrics import accuracy_score\n",
    "from sklearn.metrics import precision_score\n",
    "from sklearn.metrics import recall_score\n",
    "from sklearn.metrics import f1_score"
   ]
  },
  {
   "cell_type": "code",
   "execution_count": 45,
   "id": "0fa6ce27",
   "metadata": {},
   "outputs": [],
   "source": [
    "clf1 = DecisionTreeClassifier(max_depth=3, random_state=123)"
   ]
  },
  {
   "cell_type": "code",
   "execution_count": 46,
   "id": "9f08209c",
   "metadata": {},
   "outputs": [],
   "source": [
    "clf1 = clf1.fit(X_train, y_train)"
   ]
  },
  {
   "cell_type": "code",
   "execution_count": 47,
   "id": "83bf719e",
   "metadata": {},
   "outputs": [
    {
     "data": {
      "text/plain": [
       "DecisionTreeClassifier(max_depth=3, random_state=123)"
      ]
     },
     "execution_count": 47,
     "metadata": {},
     "output_type": "execute_result"
    }
   ],
   "source": [
    "clf1"
   ]
  },
  {
   "cell_type": "code",
   "execution_count": 48,
   "id": "dc67cd45",
   "metadata": {},
   "outputs": [
    {
     "data": {
      "text/plain": [
       "'telco_tree.pdf'"
      ]
     },
     "execution_count": 48,
     "metadata": {},
     "output_type": "execute_result"
    }
   ],
   "source": [
    "dot_data = export_graphviz(clf1, feature_names= X_train.columns, rounded=True, filled=True, out_file=None)\n",
    "graph = graphviz.Source(dot_data) \n",
    "\n",
    "graph.render('telco_tree', view=True)"
   ]
  },
  {
   "cell_type": "markdown",
   "id": "eb234d51",
   "metadata": {},
   "source": [
    "The tree indicates to us that the main predictor of churn is contract type. Customers with contract type ID 1 are more likely to churn than customers with contract type ID 2 and 3."
   ]
  },
  {
   "cell_type": "markdown",
   "id": "987bfe64",
   "metadata": {},
   "source": [
    "Of customers who have contract type iD one, the biggest predictor of churn is monthly charges less than 64.43."
   ]
  },
  {
   "cell_type": "markdown",
   "id": "2fc9af0b",
   "metadata": {},
   "source": [
    "3 is a year contract, 2 is yearly, 1 is month to month"
   ]
  },
  {
   "cell_type": "markdown",
   "id": "083052cd",
   "metadata": {},
   "source": [
    "### Probability of churn"
   ]
  },
  {
   "cell_type": "code",
   "execution_count": 49,
   "id": "6e8e184c",
   "metadata": {},
   "outputs": [],
   "source": [
    "y_pred = clf1.predict(X_train)"
   ]
  },
  {
   "cell_type": "code",
   "execution_count": 50,
   "id": "c27316c5",
   "metadata": {},
   "outputs": [],
   "source": [
    "y_pred_proba = clf1.predict_proba(X_train)"
   ]
  },
  {
   "cell_type": "code",
   "execution_count": 51,
   "id": "15dcdcb2",
   "metadata": {},
   "outputs": [
    {
     "data": {
      "text/html": [
       "<div>\n",
       "<style scoped>\n",
       "    .dataframe tbody tr th:only-of-type {\n",
       "        vertical-align: middle;\n",
       "    }\n",
       "\n",
       "    .dataframe tbody tr th {\n",
       "        vertical-align: top;\n",
       "    }\n",
       "\n",
       "    .dataframe thead th {\n",
       "        text-align: right;\n",
       "    }\n",
       "</style>\n",
       "<table border=\"1\" class=\"dataframe\">\n",
       "  <thead>\n",
       "    <tr style=\"text-align: right;\">\n",
       "      <th></th>\n",
       "      <th>0</th>\n",
       "      <th>1</th>\n",
       "    </tr>\n",
       "  </thead>\n",
       "  <tbody>\n",
       "    <tr>\n",
       "      <th>0</th>\n",
       "      <td>0.983914</td>\n",
       "      <td>0.016086</td>\n",
       "    </tr>\n",
       "    <tr>\n",
       "      <th>1</th>\n",
       "      <td>0.808442</td>\n",
       "      <td>0.191558</td>\n",
       "    </tr>\n",
       "    <tr>\n",
       "      <th>2</th>\n",
       "      <td>0.254808</td>\n",
       "      <td>0.745192</td>\n",
       "    </tr>\n",
       "    <tr>\n",
       "      <th>3</th>\n",
       "      <td>0.793834</td>\n",
       "      <td>0.206166</td>\n",
       "    </tr>\n",
       "    <tr>\n",
       "      <th>4</th>\n",
       "      <td>0.808442</td>\n",
       "      <td>0.191558</td>\n",
       "    </tr>\n",
       "  </tbody>\n",
       "</table>\n",
       "</div>"
      ],
      "text/plain": [
       "          0         1\n",
       "0  0.983914  0.016086\n",
       "1  0.808442  0.191558\n",
       "2  0.254808  0.745192\n",
       "3  0.793834  0.206166\n",
       "4  0.808442  0.191558"
      ]
     },
     "execution_count": 51,
     "metadata": {},
     "output_type": "execute_result"
    }
   ],
   "source": [
    "y_probability = pd.DataFrame(y_pred_proba)\n",
    "y_probability.head()"
   ]
  },
  {
   "cell_type": "markdown",
   "id": "75f23863",
   "metadata": {},
   "source": [
    "### Evaluate in-sample results"
   ]
  },
  {
   "cell_type": "markdown",
   "id": "5269349b",
   "metadata": {},
   "source": [
    "#### Accuracy score"
   ]
  },
  {
   "cell_type": "code",
   "execution_count": 52,
   "id": "cd5c8517",
   "metadata": {},
   "outputs": [
    {
     "name": "stdout",
     "output_type": "stream",
     "text": [
      "Accuracy of Decision Tree classifier on training set: 0.79\n"
     ]
    }
   ],
   "source": [
    "print('Accuracy of Decision Tree classifier on training set: {:.2f}'\n",
    "      .format(clf1.score(X_train, y_train)))"
   ]
  },
  {
   "cell_type": "markdown",
   "id": "63f53764",
   "metadata": {},
   "source": [
    "#### Confusion Matrix"
   ]
  },
  {
   "cell_type": "code",
   "execution_count": 53,
   "id": "b5a9aae6",
   "metadata": {},
   "outputs": [
    {
     "data": {
      "text/plain": [
       "array([[2791,  106],\n",
       "       [ 736,  310]])"
      ]
     },
     "execution_count": 53,
     "metadata": {},
     "output_type": "execute_result"
    }
   ],
   "source": [
    "confusion_matrix(y_train, y_pred)"
   ]
  },
  {
   "cell_type": "code",
   "execution_count": 54,
   "id": "f76aba1c",
   "metadata": {},
   "outputs": [
    {
     "data": {
      "text/html": [
       "<div>\n",
       "<style scoped>\n",
       "    .dataframe tbody tr th:only-of-type {\n",
       "        vertical-align: middle;\n",
       "    }\n",
       "\n",
       "    .dataframe tbody tr th {\n",
       "        vertical-align: top;\n",
       "    }\n",
       "\n",
       "    .dataframe thead th {\n",
       "        text-align: right;\n",
       "    }\n",
       "</style>\n",
       "<table border=\"1\" class=\"dataframe\">\n",
       "  <thead>\n",
       "    <tr style=\"text-align: right;\">\n",
       "      <th></th>\n",
       "      <th>no_churn_predicted</th>\n",
       "      <th>churn_predicted</th>\n",
       "    </tr>\n",
       "  </thead>\n",
       "  <tbody>\n",
       "    <tr>\n",
       "      <th>no_churn_actual</th>\n",
       "      <td>2791</td>\n",
       "      <td>106</td>\n",
       "    </tr>\n",
       "    <tr>\n",
       "      <th>churn_actual</th>\n",
       "      <td>736</td>\n",
       "      <td>310</td>\n",
       "    </tr>\n",
       "  </tbody>\n",
       "</table>\n",
       "</div>"
      ],
      "text/plain": [
       "                 no_churn_predicted  churn_predicted\n",
       "no_churn_actual                2791              106\n",
       "churn_actual                    736              310"
      ]
     },
     "execution_count": 54,
     "metadata": {},
     "output_type": "execute_result"
    }
   ],
   "source": [
    "labels1 = ['no_churn_actual', 'churn_actual']\n",
    "labels2 = ['no_churn_predicted', 'churn_predicted']\n",
    "\n",
    "pd.DataFrame(confusion_matrix(y_train, y_pred), index = labels1, columns = labels2)"
   ]
  },
  {
   "cell_type": "markdown",
   "id": "f8826246",
   "metadata": {},
   "source": [
    "### Classification Report"
   ]
  },
  {
   "cell_type": "code",
   "execution_count": 55,
   "id": "a0a8359f",
   "metadata": {},
   "outputs": [],
   "source": [
    "classification_report_churn = pd.DataFrame(classification_report(y_train, y_pred, output_dict = True)).T"
   ]
  },
  {
   "cell_type": "code",
   "execution_count": 56,
   "id": "2f2668d2",
   "metadata": {},
   "outputs": [
    {
     "data": {
      "text/html": [
       "<div>\n",
       "<style scoped>\n",
       "    .dataframe tbody tr th:only-of-type {\n",
       "        vertical-align: middle;\n",
       "    }\n",
       "\n",
       "    .dataframe tbody tr th {\n",
       "        vertical-align: top;\n",
       "    }\n",
       "\n",
       "    .dataframe thead th {\n",
       "        text-align: right;\n",
       "    }\n",
       "</style>\n",
       "<table border=\"1\" class=\"dataframe\">\n",
       "  <thead>\n",
       "    <tr style=\"text-align: right;\">\n",
       "      <th></th>\n",
       "      <th>precision</th>\n",
       "      <th>recall</th>\n",
       "      <th>f1-score</th>\n",
       "      <th>support</th>\n",
       "    </tr>\n",
       "  </thead>\n",
       "  <tbody>\n",
       "    <tr>\n",
       "      <th>No</th>\n",
       "      <td>0.791324</td>\n",
       "      <td>0.963410</td>\n",
       "      <td>0.868929</td>\n",
       "      <td>2897.000000</td>\n",
       "    </tr>\n",
       "    <tr>\n",
       "      <th>Yes</th>\n",
       "      <td>0.745192</td>\n",
       "      <td>0.296367</td>\n",
       "      <td>0.424077</td>\n",
       "      <td>1046.000000</td>\n",
       "    </tr>\n",
       "    <tr>\n",
       "      <th>accuracy</th>\n",
       "      <td>0.786457</td>\n",
       "      <td>0.786457</td>\n",
       "      <td>0.786457</td>\n",
       "      <td>0.786457</td>\n",
       "    </tr>\n",
       "    <tr>\n",
       "      <th>macro avg</th>\n",
       "      <td>0.768258</td>\n",
       "      <td>0.629889</td>\n",
       "      <td>0.646503</td>\n",
       "      <td>3943.000000</td>\n",
       "    </tr>\n",
       "    <tr>\n",
       "      <th>weighted avg</th>\n",
       "      <td>0.779086</td>\n",
       "      <td>0.786457</td>\n",
       "      <td>0.750918</td>\n",
       "      <td>3943.000000</td>\n",
       "    </tr>\n",
       "  </tbody>\n",
       "</table>\n",
       "</div>"
      ],
      "text/plain": [
       "              precision    recall  f1-score      support\n",
       "No             0.791324  0.963410  0.868929  2897.000000\n",
       "Yes            0.745192  0.296367  0.424077  1046.000000\n",
       "accuracy       0.786457  0.786457  0.786457     0.786457\n",
       "macro avg      0.768258  0.629889  0.646503  3943.000000\n",
       "weighted avg   0.779086  0.786457  0.750918  3943.000000"
      ]
     },
     "execution_count": 56,
     "metadata": {},
     "output_type": "execute_result"
    }
   ],
   "source": [
    "classification_report_churn"
   ]
  },
  {
   "cell_type": "markdown",
   "id": "bfaa231b",
   "metadata": {},
   "source": [
    "## Random forest"
   ]
  },
  {
   "cell_type": "code",
   "execution_count": 58,
   "id": "6d7c10dc",
   "metadata": {},
   "outputs": [],
   "source": [
    "from sklearn.ensemble import RandomForestClassifier"
   ]
  },
  {
   "cell_type": "code",
   "execution_count": 59,
   "id": "539ff291",
   "metadata": {},
   "outputs": [],
   "source": [
    "rf = RandomForestClassifier(bootstrap=True, \n",
    "                            class_weight=None, \n",
    "                            criterion='gini',\n",
    "                            min_samples_leaf=1,\n",
    "                            n_estimators=100,\n",
    "                            max_depth=10, \n",
    "                            random_state=123)"
   ]
  },
  {
   "cell_type": "markdown",
   "id": "7c459b5f",
   "metadata": {},
   "source": [
    "### Fit the model"
   ]
  },
  {
   "cell_type": "code",
   "execution_count": 60,
   "id": "dde3ce46",
   "metadata": {},
   "outputs": [
    {
     "data": {
      "text/plain": [
       "RandomForestClassifier(max_depth=10, random_state=123)"
      ]
     },
     "execution_count": 60,
     "metadata": {},
     "output_type": "execute_result"
    }
   ],
   "source": [
    "rf.fit(X_train, y_train)"
   ]
  },
  {
   "cell_type": "markdown",
   "id": "6d3387f1",
   "metadata": {},
   "source": [
    "### Feature importance"
   ]
  },
  {
   "cell_type": "code",
   "execution_count": 71,
   "id": "ee5db815",
   "metadata": {},
   "outputs": [],
   "source": [
    "feature_importances = pd.DataFrame(rf.feature_importances_, index = X_train.columns, columns = [ \"relative importance\"])"
   ]
  },
  {
   "cell_type": "code",
   "execution_count": 72,
   "id": "87e3fae8",
   "metadata": {},
   "outputs": [],
   "source": [
    "feature_importances = feature_importances.sort_values(by = ['relative importance'], ascending = False)"
   ]
  },
  {
   "cell_type": "code",
   "execution_count": 73,
   "id": "4dd97f7c",
   "metadata": {},
   "outputs": [],
   "source": [
    "feature_importances.columns.names = ['category']"
   ]
  },
  {
   "cell_type": "code",
   "execution_count": 74,
   "id": "3a1fc520",
   "metadata": {},
   "outputs": [
    {
     "data": {
      "text/html": [
       "<div>\n",
       "<style scoped>\n",
       "    .dataframe tbody tr th:only-of-type {\n",
       "        vertical-align: middle;\n",
       "    }\n",
       "\n",
       "    .dataframe tbody tr th {\n",
       "        vertical-align: top;\n",
       "    }\n",
       "\n",
       "    .dataframe thead th {\n",
       "        text-align: right;\n",
       "    }\n",
       "</style>\n",
       "<table border=\"1\" class=\"dataframe\">\n",
       "  <thead>\n",
       "    <tr style=\"text-align: right;\">\n",
       "      <th>category</th>\n",
       "      <th>relative importance</th>\n",
       "    </tr>\n",
       "  </thead>\n",
       "  <tbody>\n",
       "    <tr>\n",
       "      <th>tenure</th>\n",
       "      <td>0.241970</td>\n",
       "    </tr>\n",
       "    <tr>\n",
       "      <th>monthly_charges</th>\n",
       "      <td>0.156533</td>\n",
       "    </tr>\n",
       "    <tr>\n",
       "      <th>contract_type_id</th>\n",
       "      <td>0.148934</td>\n",
       "    </tr>\n",
       "    <tr>\n",
       "      <th>payment_type_id</th>\n",
       "      <td>0.080547</td>\n",
       "    </tr>\n",
       "    <tr>\n",
       "      <th>internet_service_type_id</th>\n",
       "      <td>0.043483</td>\n",
       "    </tr>\n",
       "    <tr>\n",
       "      <th>tech_support_Yes</th>\n",
       "      <td>0.040455</td>\n",
       "    </tr>\n",
       "    <tr>\n",
       "      <th>online_security_Yes</th>\n",
       "      <td>0.036775</td>\n",
       "    </tr>\n",
       "    <tr>\n",
       "      <th>gender_Male</th>\n",
       "      <td>0.023522</td>\n",
       "    </tr>\n",
       "    <tr>\n",
       "      <th>online_backup_Yes</th>\n",
       "      <td>0.022281</td>\n",
       "    </tr>\n",
       "    <tr>\n",
       "      <th>senior_citizen</th>\n",
       "      <td>0.020345</td>\n",
       "    </tr>\n",
       "    <tr>\n",
       "      <th>partner_Yes</th>\n",
       "      <td>0.019818</td>\n",
       "    </tr>\n",
       "    <tr>\n",
       "      <th>multiple_lines_Yes</th>\n",
       "      <td>0.019737</td>\n",
       "    </tr>\n",
       "    <tr>\n",
       "      <th>dependents_Yes</th>\n",
       "      <td>0.018233</td>\n",
       "    </tr>\n",
       "    <tr>\n",
       "      <th>device_protection_Yes</th>\n",
       "      <td>0.017293</td>\n",
       "    </tr>\n",
       "    <tr>\n",
       "      <th>streaming_movies_Yes</th>\n",
       "      <td>0.016257</td>\n",
       "    </tr>\n",
       "    <tr>\n",
       "      <th>streaming_tv_Yes</th>\n",
       "      <td>0.016179</td>\n",
       "    </tr>\n",
       "    <tr>\n",
       "      <th>online_backup_No internet service</th>\n",
       "      <td>0.014457</td>\n",
       "    </tr>\n",
       "    <tr>\n",
       "      <th>tech_support_No internet service</th>\n",
       "      <td>0.011631</td>\n",
       "    </tr>\n",
       "    <tr>\n",
       "      <th>online_security_No internet service</th>\n",
       "      <td>0.011617</td>\n",
       "    </tr>\n",
       "    <tr>\n",
       "      <th>streaming_tv_No internet service</th>\n",
       "      <td>0.010116</td>\n",
       "    </tr>\n",
       "    <tr>\n",
       "      <th>device_protection_No internet service</th>\n",
       "      <td>0.008728</td>\n",
       "    </tr>\n",
       "    <tr>\n",
       "      <th>streaming_movies_No internet service</th>\n",
       "      <td>0.008308</td>\n",
       "    </tr>\n",
       "    <tr>\n",
       "      <th>multiple_lines_No phone service</th>\n",
       "      <td>0.006552</td>\n",
       "    </tr>\n",
       "    <tr>\n",
       "      <th>phone_service_Yes</th>\n",
       "      <td>0.006228</td>\n",
       "    </tr>\n",
       "  </tbody>\n",
       "</table>\n",
       "</div>"
      ],
      "text/plain": [
       "category                               relative importance\n",
       "tenure                                            0.241970\n",
       "monthly_charges                                   0.156533\n",
       "contract_type_id                                  0.148934\n",
       "payment_type_id                                   0.080547\n",
       "internet_service_type_id                          0.043483\n",
       "tech_support_Yes                                  0.040455\n",
       "online_security_Yes                               0.036775\n",
       "gender_Male                                       0.023522\n",
       "online_backup_Yes                                 0.022281\n",
       "senior_citizen                                    0.020345\n",
       "partner_Yes                                       0.019818\n",
       "multiple_lines_Yes                                0.019737\n",
       "dependents_Yes                                    0.018233\n",
       "device_protection_Yes                             0.017293\n",
       "streaming_movies_Yes                              0.016257\n",
       "streaming_tv_Yes                                  0.016179\n",
       "online_backup_No internet service                 0.014457\n",
       "tech_support_No internet service                  0.011631\n",
       "online_security_No internet service               0.011617\n",
       "streaming_tv_No internet service                  0.010116\n",
       "device_protection_No internet service             0.008728\n",
       "streaming_movies_No internet service              0.008308\n",
       "multiple_lines_No phone service                   0.006552\n",
       "phone_service_Yes                                 0.006228"
      ]
     },
     "execution_count": 74,
     "metadata": {},
     "output_type": "execute_result"
    }
   ],
   "source": [
    "feature_importances"
   ]
  },
  {
   "cell_type": "markdown",
   "id": "5923cc86",
   "metadata": {},
   "source": [
    "The above chart indicates to us that the most important values for predicting churn are: **tenure**, **monthly charges**, **contract type**, and **payment type**."
   ]
  },
  {
   "cell_type": "code",
   "execution_count": 85,
   "id": "d438f9f8",
   "metadata": {},
   "outputs": [
    {
     "data": {
      "image/png": "[encoded data removed]",
      "text/plain": [
       "<Figure size 432x288 with 1 Axes>"
      ]
     },
     "metadata": {
      "needs_background": "light"
     },
     "output_type": "display_data"
    }
   ],
   "source": [
    "relative_importances = sns.barplot(x=feature_importances['relative importance'], y=feature_importances.index)"
   ]
  },
  {
   "cell_type": "code",
   "execution_count": 86,
   "id": "9d67dc63",
   "metadata": {},
   "outputs": [
    {
     "data": {
      "image/png": "[encoded data removed]",
      "text/plain": [
       "<Figure size 432x288 with 1 Axes>"
      ]
     },
     "metadata": {
      "needs_background": "light"
     },
     "output_type": "display_data"
    }
   ],
   "source": [
    "relative_importances = sns.barplot(x=feature_importances['relative importance'][0:5], y=feature_importances.index[0:5])"
   ]
  },
  {
   "cell_type": "markdown",
   "id": "68a4e503",
   "metadata": {},
   "source": [
    "### Mann Whitney Test"
   ]
  },
  {
   "cell_type": "markdown",
   "id": "16886efb",
   "metadata": {},
   "source": [
    "Let's run the Mann Whitney test on these variables to see if they're really correlated with churn."
   ]
  },
  {
   "cell_type": "code",
   "execution_count": 51,
   "id": "eea5ec6b",
   "metadata": {},
   "outputs": [],
   "source": [
    "from scipy.stats import mannwhitneyu\n",
    "from scipy import stats"
   ]
  },
  {
   "cell_type": "code",
   "execution_count": 52,
   "id": "6b1d9759",
   "metadata": {},
   "outputs": [],
   "source": [
    "train_has_churned = train[train[\"churn\"] == \"Yes\"]\n",
    "train_no_churn = train[train[\"churn\"] == \"No\"]"
   ]
  },
  {
   "cell_type": "code",
   "execution_count": 53,
   "id": "bd3a41a2",
   "metadata": {},
   "outputs": [
    {
     "data": {
      "text/plain": [
       "MannwhitneyuResult(statistic=787745.5, pvalue=5.978994288055496e-118)"
      ]
     },
     "execution_count": 53,
     "metadata": {},
     "output_type": "execute_result"
    }
   ],
   "source": [
    "stats.mannwhitneyu(train_has_churned['tenure'], train_no_churn['tenure'], use_continuity=True)"
   ]
  },
  {
   "cell_type": "code",
   "execution_count": 54,
   "id": "ea3de6cf",
   "metadata": {},
   "outputs": [
    {
     "data": {
      "text/plain": [
       "MannwhitneyuResult(statistic=1160715.0, pvalue=1.4455529063493655e-29)"
      ]
     },
     "execution_count": 54,
     "metadata": {},
     "output_type": "execute_result"
    }
   ],
   "source": [
    "stats.mannwhitneyu(train_has_churned['monthly_charges'], train_no_churn['monthly_charges'], use_continuity=True)"
   ]
  },
  {
   "cell_type": "code",
   "execution_count": 55,
   "id": "0f71ec88",
   "metadata": {},
   "outputs": [
    {
     "data": {
      "text/plain": [
       "MannwhitneyuResult(statistic=789116.0, pvalue=3.760387895572131e-144)"
      ]
     },
     "execution_count": 55,
     "metadata": {},
     "output_type": "execute_result"
    }
   ],
   "source": [
    "stats.mannwhitneyu(train_has_churned['contract_type_id'], train_no_churn['contract_type_id'], use_continuity=True)"
   ]
  },
  {
   "cell_type": "code",
   "execution_count": 56,
   "id": "9e85a77e",
   "metadata": {},
   "outputs": [
    {
     "data": {
      "text/plain": [
       "MannwhitneyuResult(statistic=1010432.5, pvalue=4.42203203035722e-62)"
      ]
     },
     "execution_count": 56,
     "metadata": {},
     "output_type": "execute_result"
    }
   ],
   "source": [
    "stats.mannwhitneyu(train_has_churned['payment_type_id'], train_no_churn['payment_type_id'], use_continuity=True)"
   ]
  },
  {
   "cell_type": "code",
   "execution_count": 57,
   "id": "abb4fa26",
   "metadata": {},
   "outputs": [
    {
     "data": {
      "text/plain": [
       "MannwhitneyuResult(statistic=1469861.5, pvalue=0.061278792735769076)"
      ]
     },
     "execution_count": 57,
     "metadata": {},
     "output_type": "execute_result"
    }
   ],
   "source": [
    "stats.mannwhitneyu(train_has_churned['internet_service_type_id'], train_no_churn['internet_service_type_id'], use_continuity=True)"
   ]
  },
  {
   "cell_type": "markdown",
   "id": "6f4cf1a8",
   "metadata": {},
   "source": [
    "Tenure, monthly charges, contract type id, and payment type are all strongly associated with churn. "
   ]
  },
  {
   "cell_type": "markdown",
   "id": "343ddbad",
   "metadata": {},
   "source": [
    "### Make predictions"
   ]
  },
  {
   "cell_type": "code",
   "execution_count": 69,
   "id": "d4167080",
   "metadata": {},
   "outputs": [],
   "source": [
    "y_pred = rf.predict(X_train)"
   ]
  },
  {
   "cell_type": "code",
   "execution_count": 70,
   "id": "a8cfad96",
   "metadata": {},
   "outputs": [
    {
     "data": {
      "text/html": [
       "<div>\n",
       "<style scoped>\n",
       "    .dataframe tbody tr th:only-of-type {\n",
       "        vertical-align: middle;\n",
       "    }\n",
       "\n",
       "    .dataframe tbody tr th {\n",
       "        vertical-align: top;\n",
       "    }\n",
       "\n",
       "    .dataframe thead th {\n",
       "        text-align: right;\n",
       "    }\n",
       "</style>\n",
       "<table border=\"1\" class=\"dataframe\">\n",
       "  <thead>\n",
       "    <tr style=\"text-align: right;\">\n",
       "      <th></th>\n",
       "      <th>0</th>\n",
       "    </tr>\n",
       "  </thead>\n",
       "  <tbody>\n",
       "    <tr>\n",
       "      <th>0</th>\n",
       "      <td>No</td>\n",
       "    </tr>\n",
       "    <tr>\n",
       "      <th>1</th>\n",
       "      <td>No</td>\n",
       "    </tr>\n",
       "    <tr>\n",
       "      <th>2</th>\n",
       "      <td>Yes</td>\n",
       "    </tr>\n",
       "    <tr>\n",
       "      <th>3</th>\n",
       "      <td>No</td>\n",
       "    </tr>\n",
       "    <tr>\n",
       "      <th>4</th>\n",
       "      <td>No</td>\n",
       "    </tr>\n",
       "    <tr>\n",
       "      <th>...</th>\n",
       "      <td>...</td>\n",
       "    </tr>\n",
       "    <tr>\n",
       "      <th>3938</th>\n",
       "      <td>No</td>\n",
       "    </tr>\n",
       "    <tr>\n",
       "      <th>3939</th>\n",
       "      <td>No</td>\n",
       "    </tr>\n",
       "    <tr>\n",
       "      <th>3940</th>\n",
       "      <td>No</td>\n",
       "    </tr>\n",
       "    <tr>\n",
       "      <th>3941</th>\n",
       "      <td>No</td>\n",
       "    </tr>\n",
       "    <tr>\n",
       "      <th>3942</th>\n",
       "      <td>No</td>\n",
       "    </tr>\n",
       "  </tbody>\n",
       "</table>\n",
       "<p>3943 rows × 1 columns</p>\n",
       "</div>"
      ],
      "text/plain": [
       "        0\n",
       "0      No\n",
       "1      No\n",
       "2     Yes\n",
       "3      No\n",
       "4      No\n",
       "...   ...\n",
       "3938   No\n",
       "3939   No\n",
       "3940   No\n",
       "3941   No\n",
       "3942   No\n",
       "\n",
       "[3943 rows x 1 columns]"
      ]
     },
     "execution_count": 70,
     "metadata": {},
     "output_type": "execute_result"
    }
   ],
   "source": [
    "pd.DataFrame(y_pred)"
   ]
  },
  {
   "cell_type": "markdown",
   "id": "eb71a439",
   "metadata": {},
   "source": [
    "### Estimate probability"
   ]
  },
  {
   "cell_type": "code",
   "execution_count": 71,
   "id": "e136a739",
   "metadata": {},
   "outputs": [],
   "source": [
    "y_pred_proba = rf.predict_proba(X_train)"
   ]
  },
  {
   "cell_type": "code",
   "execution_count": 72,
   "id": "7d0677cc",
   "metadata": {},
   "outputs": [
    {
     "data": {
      "text/html": [
       "<div>\n",
       "<style scoped>\n",
       "    .dataframe tbody tr th:only-of-type {\n",
       "        vertical-align: middle;\n",
       "    }\n",
       "\n",
       "    .dataframe tbody tr th {\n",
       "        vertical-align: top;\n",
       "    }\n",
       "\n",
       "    .dataframe thead th {\n",
       "        text-align: right;\n",
       "    }\n",
       "</style>\n",
       "<table border=\"1\" class=\"dataframe\">\n",
       "  <thead>\n",
       "    <tr style=\"text-align: right;\">\n",
       "      <th></th>\n",
       "      <th>0</th>\n",
       "      <th>1</th>\n",
       "    </tr>\n",
       "  </thead>\n",
       "  <tbody>\n",
       "    <tr>\n",
       "      <th>0</th>\n",
       "      <td>0.987037</td>\n",
       "      <td>0.012963</td>\n",
       "    </tr>\n",
       "    <tr>\n",
       "      <th>1</th>\n",
       "      <td>0.821021</td>\n",
       "      <td>0.178979</td>\n",
       "    </tr>\n",
       "    <tr>\n",
       "      <th>2</th>\n",
       "      <td>0.444101</td>\n",
       "      <td>0.555899</td>\n",
       "    </tr>\n",
       "    <tr>\n",
       "      <th>3</th>\n",
       "      <td>0.869228</td>\n",
       "      <td>0.130772</td>\n",
       "    </tr>\n",
       "    <tr>\n",
       "      <th>4</th>\n",
       "      <td>0.886389</td>\n",
       "      <td>0.113611</td>\n",
       "    </tr>\n",
       "    <tr>\n",
       "      <th>...</th>\n",
       "      <td>...</td>\n",
       "      <td>...</td>\n",
       "    </tr>\n",
       "    <tr>\n",
       "      <th>3938</th>\n",
       "      <td>0.505858</td>\n",
       "      <td>0.494142</td>\n",
       "    </tr>\n",
       "    <tr>\n",
       "      <th>3939</th>\n",
       "      <td>0.981048</td>\n",
       "      <td>0.018952</td>\n",
       "    </tr>\n",
       "    <tr>\n",
       "      <th>3940</th>\n",
       "      <td>0.638087</td>\n",
       "      <td>0.361913</td>\n",
       "    </tr>\n",
       "    <tr>\n",
       "      <th>3941</th>\n",
       "      <td>0.833498</td>\n",
       "      <td>0.166502</td>\n",
       "    </tr>\n",
       "    <tr>\n",
       "      <th>3942</th>\n",
       "      <td>0.619198</td>\n",
       "      <td>0.380802</td>\n",
       "    </tr>\n",
       "  </tbody>\n",
       "</table>\n",
       "<p>3943 rows × 2 columns</p>\n",
       "</div>"
      ],
      "text/plain": [
       "             0         1\n",
       "0     0.987037  0.012963\n",
       "1     0.821021  0.178979\n",
       "2     0.444101  0.555899\n",
       "3     0.869228  0.130772\n",
       "4     0.886389  0.113611\n",
       "...        ...       ...\n",
       "3938  0.505858  0.494142\n",
       "3939  0.981048  0.018952\n",
       "3940  0.638087  0.361913\n",
       "3941  0.833498  0.166502\n",
       "3942  0.619198  0.380802\n",
       "\n",
       "[3943 rows x 2 columns]"
      ]
     },
     "execution_count": 72,
     "metadata": {},
     "output_type": "execute_result"
    }
   ],
   "source": [
    "pd.DataFrame(y_pred_proba)"
   ]
  },
  {
   "cell_type": "markdown",
   "id": "f6d3a1a6",
   "metadata": {},
   "source": [
    "#### Accuracy"
   ]
  },
  {
   "cell_type": "code",
   "execution_count": 57,
   "id": "833e0853",
   "metadata": {},
   "outputs": [
    {
     "name": "stdout",
     "output_type": "stream",
     "text": [
      "Accuracy of random forest classifier on training set: 0.89\n"
     ]
    }
   ],
   "source": [
    "print('Accuracy of random forest classifier on training set: {:.2f}'\n",
    "     .format(rf.score(X_train, y_train)))"
   ]
  },
  {
   "cell_type": "markdown",
   "id": "23887541",
   "metadata": {},
   "source": [
    "#### Confusion matrix"
   ]
  },
  {
   "cell_type": "code",
   "execution_count": 58,
   "id": "3ca72e0a",
   "metadata": {},
   "outputs": [],
   "source": [
    "labels1 = ['did not churn actual', 'churned actual']\n",
    "labels2 = ['did not churn predicted', 'churned predicted']\n",
    "df_confusion_matrix = pd.DataFrame(confusion_matrix(y_train, y_pred), index=labels1, columns=labels2)"
   ]
  },
  {
   "cell_type": "code",
   "execution_count": 59,
   "id": "617c7d77",
   "metadata": {},
   "outputs": [
    {
     "data": {
      "text/html": [
       "<div>\n",
       "<style scoped>\n",
       "    .dataframe tbody tr th:only-of-type {\n",
       "        vertical-align: middle;\n",
       "    }\n",
       "\n",
       "    .dataframe tbody tr th {\n",
       "        vertical-align: top;\n",
       "    }\n",
       "\n",
       "    .dataframe thead th {\n",
       "        text-align: right;\n",
       "    }\n",
       "</style>\n",
       "<table border=\"1\" class=\"dataframe\">\n",
       "  <thead>\n",
       "    <tr style=\"text-align: right;\">\n",
       "      <th></th>\n",
       "      <th>did not churn predicted</th>\n",
       "      <th>churned predicted</th>\n",
       "    </tr>\n",
       "  </thead>\n",
       "  <tbody>\n",
       "    <tr>\n",
       "      <th>did not churn actual</th>\n",
       "      <td>2742</td>\n",
       "      <td>155</td>\n",
       "    </tr>\n",
       "    <tr>\n",
       "      <th>churned actual</th>\n",
       "      <td>286</td>\n",
       "      <td>760</td>\n",
       "    </tr>\n",
       "  </tbody>\n",
       "</table>\n",
       "</div>"
      ],
      "text/plain": [
       "                      did not churn predicted  churned predicted\n",
       "did not churn actual                     2742                155\n",
       "churned actual                            286                760"
      ]
     },
     "execution_count": 59,
     "metadata": {},
     "output_type": "execute_result"
    }
   ],
   "source": [
    "df_confusion_matrix"
   ]
  },
  {
   "cell_type": "markdown",
   "id": "982e9754",
   "metadata": {},
   "source": [
    "#### Classification Report"
   ]
  },
  {
   "cell_type": "code",
   "execution_count": 60,
   "id": "4d62986a",
   "metadata": {},
   "outputs": [],
   "source": [
    "classification_report_2 = classification_report(y_train, y_pred, output_dict = True)"
   ]
  },
  {
   "cell_type": "code",
   "execution_count": 61,
   "id": "44a7dbbf",
   "metadata": {},
   "outputs": [],
   "source": [
    "df_classification_report_2 = pd.DataFrame(classification_report_2).T"
   ]
  },
  {
   "cell_type": "code",
   "execution_count": 62,
   "id": "e4596126",
   "metadata": {},
   "outputs": [
    {
     "data": {
      "text/html": [
       "<div>\n",
       "<style scoped>\n",
       "    .dataframe tbody tr th:only-of-type {\n",
       "        vertical-align: middle;\n",
       "    }\n",
       "\n",
       "    .dataframe tbody tr th {\n",
       "        vertical-align: top;\n",
       "    }\n",
       "\n",
       "    .dataframe thead th {\n",
       "        text-align: right;\n",
       "    }\n",
       "</style>\n",
       "<table border=\"1\" class=\"dataframe\">\n",
       "  <thead>\n",
       "    <tr style=\"text-align: right;\">\n",
       "      <th></th>\n",
       "      <th>precision</th>\n",
       "      <th>recall</th>\n",
       "      <th>f1-score</th>\n",
       "      <th>support</th>\n",
       "    </tr>\n",
       "  </thead>\n",
       "  <tbody>\n",
       "    <tr>\n",
       "      <th>No</th>\n",
       "      <td>0.905548</td>\n",
       "      <td>0.946496</td>\n",
       "      <td>0.925570</td>\n",
       "      <td>2897.000000</td>\n",
       "    </tr>\n",
       "    <tr>\n",
       "      <th>Yes</th>\n",
       "      <td>0.830601</td>\n",
       "      <td>0.726577</td>\n",
       "      <td>0.775115</td>\n",
       "      <td>1046.000000</td>\n",
       "    </tr>\n",
       "    <tr>\n",
       "      <th>accuracy</th>\n",
       "      <td>0.888156</td>\n",
       "      <td>0.888156</td>\n",
       "      <td>0.888156</td>\n",
       "      <td>0.888156</td>\n",
       "    </tr>\n",
       "    <tr>\n",
       "      <th>macro avg</th>\n",
       "      <td>0.868075</td>\n",
       "      <td>0.836537</td>\n",
       "      <td>0.850342</td>\n",
       "      <td>3943.000000</td>\n",
       "    </tr>\n",
       "    <tr>\n",
       "      <th>weighted avg</th>\n",
       "      <td>0.885666</td>\n",
       "      <td>0.888156</td>\n",
       "      <td>0.885657</td>\n",
       "      <td>3943.000000</td>\n",
       "    </tr>\n",
       "  </tbody>\n",
       "</table>\n",
       "</div>"
      ],
      "text/plain": [
       "              precision    recall  f1-score      support\n",
       "No             0.905548  0.946496  0.925570  2897.000000\n",
       "Yes            0.830601  0.726577  0.775115  1046.000000\n",
       "accuracy       0.888156  0.888156  0.888156     0.888156\n",
       "macro avg      0.868075  0.836537  0.850342  3943.000000\n",
       "weighted avg   0.885666  0.888156  0.885657  3943.000000"
      ]
     },
     "execution_count": 62,
     "metadata": {},
     "output_type": "execute_result"
    }
   ],
   "source": [
    "df_classification_report_2"
   ]
  },
  {
   "cell_type": "code",
   "execution_count": null,
   "id": "8ec551ef",
   "metadata": {},
   "outputs": [],
   "source": []
  }
 ],
 "metadata": {
  "kernelspec": {
   "display_name": "Python 3",
   "language": "python",
   "name": "python3"
  },
  "language_info": {
   "codemirror_mode": {
    "name": "ipython",
    "version": 3
   },
   "file_extension": ".py",
   "mimetype": "text/x-python",
   "name": "python",
   "nbconvert_exporter": "python",
   "pygments_lexer": "ipython3",
   "version": "3.8.8"
  }
 },
 "nbformat": 4,
 "nbformat_minor": 5
}

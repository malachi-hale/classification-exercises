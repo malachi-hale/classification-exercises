{
 "cells": [
  {
   "cell_type": "code",
   "execution_count": 1,
   "id": "25b47b87",
   "metadata": {},
   "outputs": [],
   "source": [
    "import pandas as pd\n",
    "from sklearn.metrics import confusion_matrix\n",
    "import seaborn as sns"
   ]
  },
  {
   "cell_type": "markdown",
   "id": "ecae0b4a",
   "metadata": {},
   "source": [
    "## Given the following confusion matrix, evaluate (by hand) the model's performance."
   ]
  },
  {
   "cell_type": "markdown",
   "id": "4cca4cea",
   "metadata": {},
   "source": [
    "|               | pred dog   | pred cat   |\n",
    "|:------------  |-----------:|-----------:|\n",
    "| actual dog    |         46 |         7  |\n",
    "| actual cat    |         13 |         34 |"
   ]
  },
  {
   "cell_type": "markdown",
   "id": "d50f6e42",
   "metadata": {},
   "source": [
    "#### In the context of this problem, what is a false positive?"
   ]
  },
  {
   "cell_type": "markdown",
   "id": "5a94e189",
   "metadata": {},
   "source": [
    "A false positive would be that we predicted a dog, but there the observation was an actual cat."
   ]
  },
  {
   "cell_type": "markdown",
   "id": "e1968693",
   "metadata": {},
   "source": [
    "#### In the context of this problem, what is a false negative?"
   ]
  },
  {
   "cell_type": "markdown",
   "id": "6e881bdb",
   "metadata": {},
   "source": [
    "A false negative would be that we predicted a cat, but the observation was in fact a dog. "
   ]
  },
  {
   "cell_type": "markdown",
   "id": "560217b2",
   "metadata": {},
   "source": [
    "#### How would you describe this model?"
   ]
  },
  {
   "cell_type": "code",
   "execution_count": 3,
   "id": "33a21de6",
   "metadata": {},
   "outputs": [],
   "source": [
    "accuracy = (46 + 34)/(46+7+13+34)\n",
    "precision = (46)/(46+13)\n",
    "recall = (46)/(46+7)"
   ]
  },
  {
   "cell_type": "code",
   "execution_count": 5,
   "id": "bf55a31b",
   "metadata": {},
   "outputs": [
    {
     "name": "stdout",
     "output_type": "stream",
     "text": [
      "accuracy rate: 0.8\n",
      "precision rate: 0.78\n",
      "recall rate: 0.87\n"
     ]
    }
   ],
   "source": [
    "print(f\"accuracy rate:\", accuracy)\n",
    "print(f\"precision rate:\", round(precision, 2)) \n",
    "print(f\"recall rate:\", round(recall, 2))"
   ]
  },
  {
   "cell_type": "markdown",
   "id": "af5414b4",
   "metadata": {},
   "source": [
    "## Question 1 Background"
   ]
  },
  {
   "cell_type": "markdown",
   "id": "be048db1",
   "metadata": {},
   "source": [
    "You are working as a datascientist working for Codeup Cody Creator (C3 for short), a rubber-duck manufacturing plant."
   ]
  },
  {
   "cell_type": "markdown",
   "id": "113a5b4f",
   "metadata": {},
   "source": [
    "Unfortunately, some of the rubber ducks that are produced will have defects. Your team has built several models that try to predict those defects, and the data from their predictions is found below:"
   ]
  },
  {
   "cell_type": "code",
   "execution_count": 7,
   "id": "dd949679",
   "metadata": {},
   "outputs": [],
   "source": [
    "c3 = pd.read_csv('c3.csv')"
   ]
  },
  {
   "cell_type": "code",
   "execution_count": 10,
   "id": "804712d4",
   "metadata": {},
   "outputs": [
    {
     "name": "stdout",
     "output_type": "stream",
     "text": [
      "<class 'pandas.core.frame.DataFrame'>\n",
      "RangeIndex: 200 entries, 0 to 199\n",
      "Data columns (total 4 columns):\n",
      " #   Column  Non-Null Count  Dtype \n",
      "---  ------  --------------  ----- \n",
      " 0   actual  200 non-null    object\n",
      " 1   model1  200 non-null    object\n",
      " 2   model2  200 non-null    object\n",
      " 3   model3  200 non-null    object\n",
      "dtypes: object(4)\n",
      "memory usage: 6.4+ KB\n"
     ]
    }
   ],
   "source": [
    "c3.info()"
   ]
  },
  {
   "cell_type": "markdown",
   "id": "b1d38f69",
   "metadata": {},
   "source": [
    "Our dataframe has no null values, so we don't have to worry about removing nulls."
   ]
  },
  {
   "cell_type": "code",
   "execution_count": 11,
   "id": "cf4190ae",
   "metadata": {},
   "outputs": [
    {
     "data": {
      "text/html": [
       "<div>\n",
       "<style scoped>\n",
       "    .dataframe tbody tr th:only-of-type {\n",
       "        vertical-align: middle;\n",
       "    }\n",
       "\n",
       "    .dataframe tbody tr th {\n",
       "        vertical-align: top;\n",
       "    }\n",
       "\n",
       "    .dataframe thead th {\n",
       "        text-align: right;\n",
       "    }\n",
       "</style>\n",
       "<table border=\"1\" class=\"dataframe\">\n",
       "  <thead>\n",
       "    <tr style=\"text-align: right;\">\n",
       "      <th></th>\n",
       "      <th>actual</th>\n",
       "      <th>model1</th>\n",
       "      <th>model2</th>\n",
       "      <th>model3</th>\n",
       "    </tr>\n",
       "  </thead>\n",
       "  <tbody>\n",
       "    <tr>\n",
       "      <th>0</th>\n",
       "      <td>No Defect</td>\n",
       "      <td>No Defect</td>\n",
       "      <td>Defect</td>\n",
       "      <td>No Defect</td>\n",
       "    </tr>\n",
       "    <tr>\n",
       "      <th>1</th>\n",
       "      <td>No Defect</td>\n",
       "      <td>No Defect</td>\n",
       "      <td>Defect</td>\n",
       "      <td>Defect</td>\n",
       "    </tr>\n",
       "    <tr>\n",
       "      <th>2</th>\n",
       "      <td>No Defect</td>\n",
       "      <td>No Defect</td>\n",
       "      <td>Defect</td>\n",
       "      <td>No Defect</td>\n",
       "    </tr>\n",
       "    <tr>\n",
       "      <th>3</th>\n",
       "      <td>No Defect</td>\n",
       "      <td>Defect</td>\n",
       "      <td>Defect</td>\n",
       "      <td>Defect</td>\n",
       "    </tr>\n",
       "    <tr>\n",
       "      <th>4</th>\n",
       "      <td>No Defect</td>\n",
       "      <td>No Defect</td>\n",
       "      <td>Defect</td>\n",
       "      <td>No Defect</td>\n",
       "    </tr>\n",
       "  </tbody>\n",
       "</table>\n",
       "</div>"
      ],
      "text/plain": [
       "      actual     model1  model2     model3\n",
       "0  No Defect  No Defect  Defect  No Defect\n",
       "1  No Defect  No Defect  Defect     Defect\n",
       "2  No Defect  No Defect  Defect  No Defect\n",
       "3  No Defect     Defect  Defect     Defect\n",
       "4  No Defect  No Defect  Defect  No Defect"
      ]
     },
     "execution_count": 11,
     "metadata": {},
     "output_type": "execute_result"
    }
   ],
   "source": [
    "c3.head()"
   ]
  },
  {
   "cell_type": "markdown",
   "id": "89b36c85",
   "metadata": {},
   "source": [
    "### Use the predictions dataset and pandas to help answer the following questions:"
   ]
  },
  {
   "cell_type": "markdown",
   "id": "3ede16d1",
   "metadata": {},
   "source": [
    "**Part 1**"
   ]
  },
  {
   "cell_type": "markdown",
   "id": "5dce61c1",
   "metadata": {},
   "source": [
    "An internal team wants to investigate the cause of the manufacturing defects. They tell you that they want to identify as many of the ducks that have a defect as possible."
   ]
  },
  {
   "cell_type": "markdown",
   "id": "2fb4fc4c",
   "metadata": {},
   "source": [
    "#### Which evaluation metric would be appropriate here? "
   ]
  },
  {
   "cell_type": "markdown",
   "id": "6825e83c",
   "metadata": {},
   "source": [
    "The recall metric is the best metric to use in this case because False Negatives are more damaging to company revenues than False Positives. False Positives will force us to throw out  good rubber ducks, which is certainly bad for the company. However, False Negatives will cause us to try to sell defective rubber ducks, which could have long term implications for our company, including damaging our comapany's reputation."
   ]
  },
  {
   "cell_type": "markdown",
   "id": "3b7139a9",
   "metadata": {},
   "source": [
    "#### Which model would be the best fit for this use case?"
   ]
  },
  {
   "cell_type": "markdown",
   "id": "44355249",
   "metadata": {},
   "source": [
    "We will evaluate the recall for each model."
   ]
  },
  {
   "cell_type": "code",
   "execution_count": 12,
   "id": "e65aa872",
   "metadata": {},
   "outputs": [],
   "source": [
    "subset = c3[c3.actual == 'Defect']"
   ]
  },
  {
   "cell_type": "code",
   "execution_count": 64,
   "id": "18e256f8",
   "metadata": {},
   "outputs": [],
   "source": [
    "model1_recall = (subset.model1 == subset.actual).mean()"
   ]
  },
  {
   "cell_type": "code",
   "execution_count": 65,
   "id": "b67573dd",
   "metadata": {},
   "outputs": [],
   "source": [
    "model2_recall = (subset.model2 == subset.actual).mean()"
   ]
  },
  {
   "cell_type": "code",
   "execution_count": 66,
   "id": "079cdcf3",
   "metadata": {},
   "outputs": [],
   "source": [
    "model3_recall = (subset.model3 == subset.actual).mean()"
   ]
  },
  {
   "cell_type": "code",
   "execution_count": 67,
   "id": "b7406e52",
   "metadata": {},
   "outputs": [
    {
     "name": "stdout",
     "output_type": "stream",
     "text": [
      "Recall rates\n",
      "     Model 1 recall: 0.5\n",
      "     Model 2 recall: 0.5625\n",
      "     Model 3 recall: 0.8125\n"
     ]
    }
   ],
   "source": [
    "print(\"Recall rates\")\n",
    "print(\"     Model 1 recall:\", model1_recall)\n",
    "print(\"     Model 2 recall:\", model2_recall)\n",
    "print(\"     Model 3 recall:\", model3_recall)"
   ]
  },
  {
   "cell_type": "markdown",
   "id": "8ac6fccb",
   "metadata": {},
   "source": [
    "Since Model 3 has the highest recall rate, **Model 3** is the best fit for this case. "
   ]
  },
  {
   "cell_type": "markdown",
   "id": "4868f4bf",
   "metadata": {},
   "source": [
    "**Part 2**"
   ]
  },
  {
   "cell_type": "markdown",
   "id": "16945b31",
   "metadata": {},
   "source": [
    "Recently several stories in the local news have come out highlighting customers who received a rubber duck with a defect, and portraying C3 in a bad light. The PR team has decided to launch a program that gives customers with a defective duck a vacation to Hawaii."
   ]
  },
  {
   "cell_type": "markdown",
   "id": "e3cb2831",
   "metadata": {},
   "source": [
    "They need you to predict which ducks will have defects, but tell you the really don't want to accidentally give out a vacation package when the duck really doesn't have a defect."
   ]
  },
  {
   "cell_type": "markdown",
   "id": "a9e7bc91",
   "metadata": {},
   "source": [
    "#### Which evaluation metric would be appropriate here?"
   ]
  },
  {
   "cell_type": "markdown",
   "id": "9d6e3de2",
   "metadata": {},
   "source": [
    "Since we don't want to accidentally give out a vacation package, a False Positive here is more costly than a False Negative. Thus, the **precision metric** is most appropriate here."
   ]
  },
  {
   "cell_type": "markdown",
   "id": "9af29e6a",
   "metadata": {},
   "source": [
    "#### Which model would be the best fit for this use case?"
   ]
  },
  {
   "cell_type": "code",
   "execution_count": 68,
   "id": "7d1e0a29",
   "metadata": {},
   "outputs": [],
   "source": [
    "subset1 = c3[c3.model1 == 'Defect']\n",
    "model1_precision = (subset1.model1==subset1.actual).mean()"
   ]
  },
  {
   "cell_type": "code",
   "execution_count": 69,
   "id": "bc7b28ff",
   "metadata": {},
   "outputs": [],
   "source": [
    "subset2 = c3[c3.model2 == 'Defect']\n",
    "model2_precision = (subset2.model2==subset2.actual).mean()"
   ]
  },
  {
   "cell_type": "code",
   "execution_count": 70,
   "id": "27c96e3a",
   "metadata": {},
   "outputs": [],
   "source": [
    "subset3 = c3[c3.model3 == 'Defect']\n",
    "model3_precision = (subset3.model3==subset3.actual).mean()"
   ]
  },
  {
   "cell_type": "code",
   "execution_count": 71,
   "id": "8fc71abe",
   "metadata": {},
   "outputs": [
    {
     "name": "stdout",
     "output_type": "stream",
     "text": [
      "Precision rates\n",
      "     Model 1 precision: 0.8\n",
      "     Model 2 precision: 0.1\n",
      "     Model 3 precision: 0.13\n"
     ]
    }
   ],
   "source": [
    "print(\"Precision rates\")\n",
    "print(\"     Model 1 precision:\", model1_precision)\n",
    "print(\"     Model 2 precision:\", model2_precision)\n",
    "print(\"     Model 3 precision:\", round(model3_precision, 2))"
   ]
  },
  {
   "cell_type": "markdown",
   "id": "1d1b3540",
   "metadata": {},
   "source": [
    "Since Model 1 has the highest precision, **Model 1** is the best fit for this case."
   ]
  },
  {
   "cell_type": "markdown",
   "id": "54dbc934",
   "metadata": {},
   "source": [
    "## Question 2 Background"
   ]
  },
  {
   "cell_type": "markdown",
   "id": "feac360c",
   "metadata": {},
   "source": [
    "You are working as a data scientist for Gives You Paws ™, a subscription based service that shows you cute pictures of dogs or cats (or both for an additional fee)."
   ]
  },
  {
   "cell_type": "markdown",
   "id": "7f48a24e",
   "metadata": {},
   "source": [
    "At Gives You Paws, anyone can upload pictures of their cats or dogs. The photos are then put through a two step process. First an automated algorithm tags pictures as either a cat or a dog (Phase I). Next, the photos that have been initially identified are put through another round of review, possibly with some human oversight, before being presented to the users (Phase II)."
   ]
  },
  {
   "cell_type": "markdown",
   "id": "9193a55b",
   "metadata": {},
   "source": [
    "Several models have already been developed with the data, and you can find the results below:"
   ]
  },
  {
   "cell_type": "code",
   "execution_count": 2,
   "id": "d19c15ef",
   "metadata": {},
   "outputs": [],
   "source": [
    "paws = pd.read_csv('gives_you_paws.csv')"
   ]
  },
  {
   "cell_type": "code",
   "execution_count": 3,
   "id": "cc34bc36",
   "metadata": {},
   "outputs": [
    {
     "data": {
      "text/html": [
       "<div>\n",
       "<style scoped>\n",
       "    .dataframe tbody tr th:only-of-type {\n",
       "        vertical-align: middle;\n",
       "    }\n",
       "\n",
       "    .dataframe tbody tr th {\n",
       "        vertical-align: top;\n",
       "    }\n",
       "\n",
       "    .dataframe thead th {\n",
       "        text-align: right;\n",
       "    }\n",
       "</style>\n",
       "<table border=\"1\" class=\"dataframe\">\n",
       "  <thead>\n",
       "    <tr style=\"text-align: right;\">\n",
       "      <th></th>\n",
       "      <th>actual</th>\n",
       "      <th>model1</th>\n",
       "      <th>model2</th>\n",
       "      <th>model3</th>\n",
       "      <th>model4</th>\n",
       "    </tr>\n",
       "  </thead>\n",
       "  <tbody>\n",
       "    <tr>\n",
       "      <th>0</th>\n",
       "      <td>cat</td>\n",
       "      <td>cat</td>\n",
       "      <td>dog</td>\n",
       "      <td>cat</td>\n",
       "      <td>dog</td>\n",
       "    </tr>\n",
       "    <tr>\n",
       "      <th>1</th>\n",
       "      <td>dog</td>\n",
       "      <td>dog</td>\n",
       "      <td>cat</td>\n",
       "      <td>cat</td>\n",
       "      <td>dog</td>\n",
       "    </tr>\n",
       "    <tr>\n",
       "      <th>2</th>\n",
       "      <td>dog</td>\n",
       "      <td>cat</td>\n",
       "      <td>cat</td>\n",
       "      <td>cat</td>\n",
       "      <td>dog</td>\n",
       "    </tr>\n",
       "    <tr>\n",
       "      <th>3</th>\n",
       "      <td>dog</td>\n",
       "      <td>dog</td>\n",
       "      <td>dog</td>\n",
       "      <td>cat</td>\n",
       "      <td>dog</td>\n",
       "    </tr>\n",
       "    <tr>\n",
       "      <th>4</th>\n",
       "      <td>cat</td>\n",
       "      <td>cat</td>\n",
       "      <td>cat</td>\n",
       "      <td>dog</td>\n",
       "      <td>dog</td>\n",
       "    </tr>\n",
       "  </tbody>\n",
       "</table>\n",
       "</div>"
      ],
      "text/plain": [
       "  actual model1 model2 model3 model4\n",
       "0    cat    cat    dog    cat    dog\n",
       "1    dog    dog    cat    cat    dog\n",
       "2    dog    cat    cat    cat    dog\n",
       "3    dog    dog    dog    cat    dog\n",
       "4    cat    cat    cat    dog    dog"
      ]
     },
     "execution_count": 3,
     "metadata": {},
     "output_type": "execute_result"
    }
   ],
   "source": [
    "paws.head()"
   ]
  },
  {
   "cell_type": "markdown",
   "id": "8a864f86",
   "metadata": {},
   "source": [
    "#### Given this dataset, use pandas to create a baseline model (i.e. a model that just predicts the most common class)."
   ]
  },
  {
   "cell_type": "code",
   "execution_count": 4,
   "id": "cc786bcd",
   "metadata": {},
   "outputs": [
    {
     "data": {
      "text/plain": [
       "dog    3254\n",
       "cat    1746\n",
       "Name: actual, dtype: int64"
      ]
     },
     "execution_count": 4,
     "metadata": {},
     "output_type": "execute_result"
    }
   ],
   "source": [
    "paws.actual.value_counts()"
   ]
  },
  {
   "cell_type": "code",
   "execution_count": 5,
   "id": "815b31c0",
   "metadata": {},
   "outputs": [],
   "source": [
    "paws['baseline_prediction'] = 'dog'"
   ]
  },
  {
   "cell_type": "code",
   "execution_count": 76,
   "id": "bdab6de0",
   "metadata": {},
   "outputs": [
    {
     "data": {
      "text/html": [
       "<div>\n",
       "<style scoped>\n",
       "    .dataframe tbody tr th:only-of-type {\n",
       "        vertical-align: middle;\n",
       "    }\n",
       "\n",
       "    .dataframe tbody tr th {\n",
       "        vertical-align: top;\n",
       "    }\n",
       "\n",
       "    .dataframe thead th {\n",
       "        text-align: right;\n",
       "    }\n",
       "</style>\n",
       "<table border=\"1\" class=\"dataframe\">\n",
       "  <thead>\n",
       "    <tr style=\"text-align: right;\">\n",
       "      <th></th>\n",
       "      <th>actual</th>\n",
       "      <th>model1</th>\n",
       "      <th>model2</th>\n",
       "      <th>model3</th>\n",
       "      <th>model4</th>\n",
       "      <th>baseline_prediction</th>\n",
       "    </tr>\n",
       "  </thead>\n",
       "  <tbody>\n",
       "    <tr>\n",
       "      <th>0</th>\n",
       "      <td>cat</td>\n",
       "      <td>cat</td>\n",
       "      <td>dog</td>\n",
       "      <td>cat</td>\n",
       "      <td>dog</td>\n",
       "      <td>dog</td>\n",
       "    </tr>\n",
       "    <tr>\n",
       "      <th>1</th>\n",
       "      <td>dog</td>\n",
       "      <td>dog</td>\n",
       "      <td>cat</td>\n",
       "      <td>cat</td>\n",
       "      <td>dog</td>\n",
       "      <td>dog</td>\n",
       "    </tr>\n",
       "    <tr>\n",
       "      <th>2</th>\n",
       "      <td>dog</td>\n",
       "      <td>cat</td>\n",
       "      <td>cat</td>\n",
       "      <td>cat</td>\n",
       "      <td>dog</td>\n",
       "      <td>dog</td>\n",
       "    </tr>\n",
       "    <tr>\n",
       "      <th>3</th>\n",
       "      <td>dog</td>\n",
       "      <td>dog</td>\n",
       "      <td>dog</td>\n",
       "      <td>cat</td>\n",
       "      <td>dog</td>\n",
       "      <td>dog</td>\n",
       "    </tr>\n",
       "    <tr>\n",
       "      <th>4</th>\n",
       "      <td>cat</td>\n",
       "      <td>cat</td>\n",
       "      <td>cat</td>\n",
       "      <td>dog</td>\n",
       "      <td>dog</td>\n",
       "      <td>dog</td>\n",
       "    </tr>\n",
       "  </tbody>\n",
       "</table>\n",
       "</div>"
      ],
      "text/plain": [
       "  actual model1 model2 model3 model4 baseline_prediction\n",
       "0    cat    cat    dog    cat    dog                 dog\n",
       "1    dog    dog    cat    cat    dog                 dog\n",
       "2    dog    cat    cat    cat    dog                 dog\n",
       "3    dog    dog    dog    cat    dog                 dog\n",
       "4    cat    cat    cat    dog    dog                 dog"
      ]
     },
     "execution_count": 76,
     "metadata": {},
     "output_type": "execute_result"
    }
   ],
   "source": [
    "paws.head()"
   ]
  },
  {
   "cell_type": "markdown",
   "id": "3516c88e",
   "metadata": {},
   "source": [
    "#### In terms of accuracy, how do the various models compare to the baseline model? Are any of the models better than the baseline?"
   ]
  },
  {
   "cell_type": "code",
   "execution_count": 77,
   "id": "f495384f",
   "metadata": {},
   "outputs": [],
   "source": [
    "model1_accuracy = (paws.model1 == paws.actual).mean()"
   ]
  },
  {
   "cell_type": "code",
   "execution_count": 78,
   "id": "bbd8f423",
   "metadata": {},
   "outputs": [],
   "source": [
    "model2_accuracy = (paws.model2 == paws.actual).mean()"
   ]
  },
  {
   "cell_type": "code",
   "execution_count": 79,
   "id": "27b518d9",
   "metadata": {},
   "outputs": [],
   "source": [
    "model3_accuracy = (paws.model3 == paws.actual).mean()"
   ]
  },
  {
   "cell_type": "code",
   "execution_count": 80,
   "id": "f2aa7d51",
   "metadata": {},
   "outputs": [],
   "source": [
    "model4_accuracy = (paws.model4 == paws.actual).mean()"
   ]
  },
  {
   "cell_type": "code",
   "execution_count": 81,
   "id": "55d92f37",
   "metadata": {},
   "outputs": [],
   "source": [
    "baseline_accuracy = (paws.baseline_prediction == paws.actual).mean()"
   ]
  },
  {
   "cell_type": "code",
   "execution_count": 82,
   "id": "2fc6783c",
   "metadata": {},
   "outputs": [
    {
     "name": "stdout",
     "output_type": "stream",
     "text": [
      "Accuracy rates\n",
      "     model 1 accuracy: 80.74%\n",
      "     model 2 accuracy: 63.04%\n",
      "     model 3 accuracy: 50.96%\n",
      "     model 4 accuracy: 74.26%\n",
      "     baseline accuracy: 65.08%\n"
     ]
    }
   ],
   "source": [
    "print(f'Accuracy rates')\n",
    "print(f'     model 1 accuracy: {model1_accuracy:.2%}')\n",
    "print(f'     model 2 accuracy: {model2_accuracy:.2%}')\n",
    "print(f'     model 3 accuracy: {model3_accuracy:.2%}')\n",
    "print(f'     model 4 accuracy: {model4_accuracy:.2%}')\n",
    "print(f'     baseline accuracy: {baseline_accuracy:.2%}')"
   ]
  },
  {
   "cell_type": "markdown",
   "id": "f235da77",
   "metadata": {},
   "source": [
    "Model 1 and Model 4 perform better than the baseline. "
   ]
  },
  {
   "cell_type": "markdown",
   "id": "d4280458",
   "metadata": {},
   "source": [
    "Model 2 and Model 3 perform worse than the baseline."
   ]
  },
  {
   "cell_type": "markdown",
   "id": "ee6f765f",
   "metadata": {},
   "source": [
    "#### Suppose you are working on a team that solely deals with dog pictures. Which of these models would you recomend for Phase I? For Phase II?"
   ]
  },
  {
   "cell_type": "markdown",
   "id": "0b8e1915",
   "metadata": {},
   "source": [
    "For Phase 1 we should use **Model 1** because this model has the highest accuracy. For Phase 1, we simply want to filter between cat and dog pictures."
   ]
  },
  {
   "cell_type": "markdown",
   "id": "e1e92207",
   "metadata": {},
   "source": [
    "For Phase 2 we should find the model that has the highest precision rate. At this phase, we want to eliminate all cat pictures. Leaving in a cat picture is more costly than mistakenly throwing out a dog picture."
   ]
  },
  {
   "cell_type": "code",
   "execution_count": 83,
   "id": "c961aa6d",
   "metadata": {},
   "outputs": [],
   "source": [
    "subset1 = paws[paws.model1 == 'dog']"
   ]
  },
  {
   "cell_type": "code",
   "execution_count": 84,
   "id": "68e24eb3",
   "metadata": {},
   "outputs": [],
   "source": [
    "model1_precision = (subset1.model1 == subset1.actual).mean()"
   ]
  },
  {
   "cell_type": "code",
   "execution_count": 85,
   "id": "bf7cdbcd",
   "metadata": {},
   "outputs": [],
   "source": [
    "subset2 = paws[paws.model2 == 'dog']"
   ]
  },
  {
   "cell_type": "code",
   "execution_count": 86,
   "id": "c1c3be99",
   "metadata": {},
   "outputs": [],
   "source": [
    "model2_precision = (subset2.model2 == subset2.actual).mean()"
   ]
  },
  {
   "cell_type": "code",
   "execution_count": 87,
   "id": "130ce602",
   "metadata": {},
   "outputs": [],
   "source": [
    "subset3 = paws[paws.model3 == 'dog']"
   ]
  },
  {
   "cell_type": "code",
   "execution_count": 88,
   "id": "bb474e75",
   "metadata": {},
   "outputs": [],
   "source": [
    "model3_precision = (subset3.model3 == subset3.actual).mean()"
   ]
  },
  {
   "cell_type": "code",
   "execution_count": 89,
   "id": "94f52da9",
   "metadata": {},
   "outputs": [],
   "source": [
    "subset4 = paws[paws.model4 == 'dog']"
   ]
  },
  {
   "cell_type": "code",
   "execution_count": 90,
   "id": "8309101d",
   "metadata": {},
   "outputs": [],
   "source": [
    "model4_precision = (subset4.model4 == subset4.actual).mean()"
   ]
  },
  {
   "cell_type": "code",
   "execution_count": 91,
   "id": "20569a79",
   "metadata": {},
   "outputs": [],
   "source": [
    "baseline_precision = (paws.baseline_prediction == paws.actual).mean()"
   ]
  },
  {
   "cell_type": "code",
   "execution_count": 92,
   "id": "1f02fcd0",
   "metadata": {},
   "outputs": [
    {
     "name": "stdout",
     "output_type": "stream",
     "text": [
      "Precision rates\n",
      "     model 1 precision: 89.00%\n",
      "     model 2 precision: 89.32%\n",
      "     model 3 precision: 65.99%\n",
      "     model 4 precision: 73.12%\n",
      "     baseline precision: 65.08%\n"
     ]
    }
   ],
   "source": [
    "print('Precision rates')\n",
    "print(f'     model 1 precision: {model1_precision:.2%}')\n",
    "print(f'     model 2 precision: {model2_precision:.2%}')\n",
    "print(f'     model 3 precision: {model3_precision:.2%}')\n",
    "print(f'     model 4 precision: {model4_precision:.2%}')\n",
    "print(f'     baseline precision: {baseline_precision:.2%}')"
   ]
  },
  {
   "cell_type": "markdown",
   "id": "cf080361",
   "metadata": {},
   "source": [
    "**Model 2** has the highest precision rate, so we should use Model 2 for Phase 2."
   ]
  },
  {
   "cell_type": "markdown",
   "id": "442437fb",
   "metadata": {},
   "source": [
    "#### Suppose you are working on a team that solely deals with cat pictures. Which of these models would you recomend for Phase I? For Phase II?"
   ]
  },
  {
   "cell_type": "markdown",
   "id": "2780492c",
   "metadata": {},
   "source": [
    "For Phase 1, I would use **Model 1** because this model has the highest accuracy rate. For Phase 1, we simply want to sort between teh cat and dog pictures. "
   ]
  },
  {
   "cell_type": "markdown",
   "id": "cfe6dc2f",
   "metadata": {},
   "source": [
    "For Phase 2, we need to determine which model has the highest recall rate. Leaving in a dog photo is more costly than mistakenly throwing out a cat photo."
   ]
  },
  {
   "cell_type": "code",
   "execution_count": 93,
   "id": "d5cf1ea7",
   "metadata": {},
   "outputs": [],
   "source": [
    "subset = paws[paws.actual == 'dog']"
   ]
  },
  {
   "cell_type": "code",
   "execution_count": 94,
   "id": "016e5168",
   "metadata": {},
   "outputs": [],
   "source": [
    "model1_recall = (subset.model1 == subset.actual).mean()"
   ]
  },
  {
   "cell_type": "code",
   "execution_count": 95,
   "id": "a6e07b46",
   "metadata": {},
   "outputs": [],
   "source": [
    "model2_recall = (subset.model2 == subset.actual).mean()"
   ]
  },
  {
   "cell_type": "code",
   "execution_count": 96,
   "id": "ea369d89",
   "metadata": {},
   "outputs": [],
   "source": [
    "model3_recall = (subset.model3 == subset.actual).mean()"
   ]
  },
  {
   "cell_type": "code",
   "execution_count": 97,
   "id": "62941bea",
   "metadata": {},
   "outputs": [],
   "source": [
    "model4_recall = (subset.model4 == subset.actual).mean()"
   ]
  },
  {
   "cell_type": "code",
   "execution_count": 98,
   "id": "56c10716",
   "metadata": {},
   "outputs": [
    {
     "name": "stdout",
     "output_type": "stream",
     "text": [
      "model 1 recall: 80.33%\n",
      "model 2 recall: 49.08%\n",
      "model 3 recall: 50.86%\n",
      "model 4 recall: 95.57%\n"
     ]
    }
   ],
   "source": [
    "print(f'model 1 recall: {model1_recall:.2%}')\n",
    "print(f'model 2 recall: {model2_recall:.2%}')\n",
    "print(f'model 3 recall: {model3_recall:.2%}')\n",
    "print(f'model 4 recall: {model4_recall:.2%}')"
   ]
  },
  {
   "cell_type": "markdown",
   "id": "d033be9a",
   "metadata": {},
   "source": [
    "**Model 4** has the highest recall rate, so we should use Model 4 for Phase II."
   ]
  },
  {
   "cell_type": "code",
   "execution_count": 15,
   "id": "c20647b9",
   "metadata": {},
   "outputs": [
    {
     "data": {
      "text/html": [
       "<div>\n",
       "<style scoped>\n",
       "    .dataframe tbody tr th:only-of-type {\n",
       "        vertical-align: middle;\n",
       "    }\n",
       "\n",
       "    .dataframe tbody tr th {\n",
       "        vertical-align: top;\n",
       "    }\n",
       "\n",
       "    .dataframe thead th {\n",
       "        text-align: right;\n",
       "    }\n",
       "</style>\n",
       "<table border=\"1\" class=\"dataframe\">\n",
       "  <thead>\n",
       "    <tr style=\"text-align: right;\">\n",
       "      <th>actual</th>\n",
       "      <th>cat</th>\n",
       "      <th>dog</th>\n",
       "    </tr>\n",
       "    <tr>\n",
       "      <th>model4</th>\n",
       "      <th></th>\n",
       "      <th></th>\n",
       "    </tr>\n",
       "  </thead>\n",
       "  <tbody>\n",
       "    <tr>\n",
       "      <th>cat</th>\n",
       "      <td>603</td>\n",
       "      <td>144</td>\n",
       "    </tr>\n",
       "    <tr>\n",
       "      <th>dog</th>\n",
       "      <td>1143</td>\n",
       "      <td>3110</td>\n",
       "    </tr>\n",
       "  </tbody>\n",
       "</table>\n",
       "</div>"
      ],
      "text/plain": [
       "actual   cat   dog\n",
       "model4            \n",
       "cat      603   144\n",
       "dog     1143  3110"
      ]
     },
     "execution_count": 15,
     "metadata": {},
     "output_type": "execute_result"
    }
   ],
   "source": [
    "pd.crosstab(paws.model4, paws.actual)"
   ]
  },
  {
   "cell_type": "markdown",
   "id": "133d870b",
   "metadata": {},
   "source": [
    "### Apply the following functions to the data from the previous problem."
   ]
  },
  {
   "cell_type": "markdown",
   "id": "19f1ad04",
   "metadata": {},
   "source": [
    "#### sklearn.metrics.accuracy_score"
   ]
  },
  {
   "cell_type": "code",
   "execution_count": 99,
   "id": "fb7667f2",
   "metadata": {},
   "outputs": [],
   "source": [
    "from sklearn.metrics import accuracy_score"
   ]
  },
  {
   "cell_type": "code",
   "execution_count": 100,
   "id": "37374ac0",
   "metadata": {},
   "outputs": [],
   "source": [
    "acc_model1 = accuracy_score(paws.actual, paws.model1)"
   ]
  },
  {
   "cell_type": "code",
   "execution_count": 101,
   "id": "df7c85e4",
   "metadata": {},
   "outputs": [],
   "source": [
    "acc_model2 = accuracy_score(paws.actual, paws.model2)"
   ]
  },
  {
   "cell_type": "code",
   "execution_count": 102,
   "id": "efee5336",
   "metadata": {},
   "outputs": [],
   "source": [
    "acc_model3 = accuracy_score(paws.actual, paws.model3)"
   ]
  },
  {
   "cell_type": "code",
   "execution_count": 103,
   "id": "83a9b0e7",
   "metadata": {},
   "outputs": [],
   "source": [
    "acc_model4 = accuracy_score(paws.actual, paws.model4)"
   ]
  },
  {
   "cell_type": "code",
   "execution_count": 104,
   "id": "a4d4d3da",
   "metadata": {},
   "outputs": [],
   "source": [
    "acc_baseline = accuracy_score(paws.actual, paws.baseline_prediction)"
   ]
  },
  {
   "cell_type": "code",
   "execution_count": 105,
   "id": "6315c143",
   "metadata": {},
   "outputs": [
    {
     "name": "stdout",
     "output_type": "stream",
     "text": [
      "Accuracy using the sklearn function:\n",
      "          model 1 accuracy: 80.74%\n",
      "          model 2 accuracy: 63.04%\n",
      "          model 3 accuracy: 50.96%\n",
      "          model 4 accuracy: 74.26%\n",
      "          baseline accuracy: 65.08%\n"
     ]
    }
   ],
   "source": [
    "print(f'Accuracy using the sklearn function:')\n",
    "print(f'          model 1 accuracy: {acc_model1:.2%}')\n",
    "print(f'          model 2 accuracy: {acc_model2:.2%}')\n",
    "print(f'          model 3 accuracy: {acc_model3:.2%}')\n",
    "print(f'          model 4 accuracy: {acc_model4:.2%}')\n",
    "print(f'          baseline accuracy: {acc_baseline:.2%}')"
   ]
  },
  {
   "cell_type": "markdown",
   "id": "4e54153b",
   "metadata": {},
   "source": [
    "**sklearn.metrics.precision_score**"
   ]
  },
  {
   "cell_type": "code",
   "execution_count": 106,
   "id": "dc607942",
   "metadata": {},
   "outputs": [],
   "source": [
    "from sklearn.metrics import precision_score"
   ]
  },
  {
   "cell_type": "code",
   "execution_count": 107,
   "id": "e2748304",
   "metadata": {},
   "outputs": [],
   "source": [
    "prec_model1 = precision_score(paws.actual, paws.model1, pos_label='dog')"
   ]
  },
  {
   "cell_type": "code",
   "execution_count": 108,
   "id": "423b68ed",
   "metadata": {},
   "outputs": [],
   "source": [
    "prec_model2 = precision_score(paws.actual, paws.model2, pos_label='dog')"
   ]
  },
  {
   "cell_type": "code",
   "execution_count": 109,
   "id": "8b6046dd",
   "metadata": {},
   "outputs": [],
   "source": [
    "prec_model3 = precision_score(paws.actual, paws.model3, pos_label='dog')"
   ]
  },
  {
   "cell_type": "code",
   "execution_count": 110,
   "id": "f6f20119",
   "metadata": {},
   "outputs": [],
   "source": [
    "prec_model4 = precision_score(paws.actual, paws.model4, pos_label='dog')"
   ]
  },
  {
   "cell_type": "code",
   "execution_count": 111,
   "id": "884a183d",
   "metadata": {},
   "outputs": [],
   "source": [
    "prec_baseline = precision_score(paws.actual, paws.baseline_prediction, pos_label = 'dog')"
   ]
  },
  {
   "cell_type": "code",
   "execution_count": 112,
   "id": "846ff3e8",
   "metadata": {},
   "outputs": [
    {
     "name": "stdout",
     "output_type": "stream",
     "text": [
      "Precision using the sklearn function:\n",
      "          model 1 precision: 89.00%\n",
      "          model 2 precision: 89.32%\n",
      "          model 3 precision: 65.99%\n",
      "          model 4 precision: 73.12%\n",
      "          baseline precision: 65.08%\n"
     ]
    }
   ],
   "source": [
    "print(f'Precision using the sklearn function:')\n",
    "print(f'          model 1 precision: {prec_model1:.2%}')\n",
    "print(f'          model 2 precision: {prec_model2:.2%}')\n",
    "print(f'          model 3 precision: {prec_model3:.2%}')\n",
    "print(f'          model 4 precision: {prec_model4:.2%}')\n",
    "print(f'          baseline precision: {prec_baseline:.2%}')"
   ]
  },
  {
   "cell_type": "markdown",
   "id": "554271da",
   "metadata": {},
   "source": [
    "**sklearn.metrics.recall_score**"
   ]
  },
  {
   "cell_type": "code",
   "execution_count": 113,
   "id": "e4a7ba58",
   "metadata": {},
   "outputs": [],
   "source": [
    "from sklearn.metrics import recall_score"
   ]
  },
  {
   "cell_type": "code",
   "execution_count": 114,
   "id": "22273750",
   "metadata": {},
   "outputs": [],
   "source": [
    "recall_model1 = recall_score(paws.actual, paws.model1, pos_label = \"dog\")"
   ]
  },
  {
   "cell_type": "code",
   "execution_count": 115,
   "id": "813189ec",
   "metadata": {},
   "outputs": [],
   "source": [
    "recall_model2 = recall_score(paws.actual, paws.model2, pos_label = \"dog\")"
   ]
  },
  {
   "cell_type": "code",
   "execution_count": 116,
   "id": "b7ed6dcd",
   "metadata": {},
   "outputs": [],
   "source": [
    "recall_model3 = recall_score(paws.actual, paws.model3, pos_label = \"dog\")"
   ]
  },
  {
   "cell_type": "code",
   "execution_count": 117,
   "id": "5e82ede1",
   "metadata": {},
   "outputs": [],
   "source": [
    "recall_model4 = recall_score(paws.actual, paws.model4, pos_label = \"dog\")"
   ]
  },
  {
   "cell_type": "code",
   "execution_count": 118,
   "id": "2c71fdfa",
   "metadata": {},
   "outputs": [],
   "source": [
    "recall_baseline = recall_score(paws.actual, paws.baseline_prediction, pos_label = 'dog')"
   ]
  },
  {
   "cell_type": "code",
   "execution_count": 119,
   "id": "0107ad26",
   "metadata": {},
   "outputs": [
    {
     "name": "stdout",
     "output_type": "stream",
     "text": [
      "Recall using the sklearn function:\n",
      "          model 1 recall: 80.33%\n",
      "          model 2 recall: 49.08%\n",
      "          model 3 recall: 50.86%\n",
      "          model 4 recall: 95.57%\n",
      "          baseline recall: 100.00%\n"
     ]
    }
   ],
   "source": [
    "print(f'Recall using the sklearn function:')\n",
    "print(f'          model 1 recall: {recall_model1:.2%}')\n",
    "print(f'          model 2 recall: {recall_model2:.2%}')\n",
    "print(f'          model 3 recall: {recall_model3:.2%}')\n",
    "print(f'          model 4 recall: {recall_model4:.2%}')\n",
    "print(f'          baseline recall: {recall_baseline:.2%}')"
   ]
  },
  {
   "cell_type": "markdown",
   "id": "13b74cde",
   "metadata": {},
   "source": [
    "**sklearn.metrics.classification_report**"
   ]
  },
  {
   "cell_type": "code",
   "execution_count": 6,
   "id": "fb7cfcdd",
   "metadata": {},
   "outputs": [],
   "source": [
    "from sklearn.metrics import classification_report\n",
    "import warnings\n",
    "warnings.filterwarnings(\"ignore\")"
   ]
  },
  {
   "cell_type": "code",
   "execution_count": 7,
   "id": "4fa4595e",
   "metadata": {},
   "outputs": [],
   "source": [
    "target_names = ['dog', 'cat']"
   ]
  },
  {
   "cell_type": "code",
   "execution_count": 8,
   "id": "615ad7c3",
   "metadata": {},
   "outputs": [],
   "source": [
    "model1_classification_report = classification_report(paws.actual, paws.model1, target_names=target_names, output_dict=True)"
   ]
  },
  {
   "cell_type": "code",
   "execution_count": 12,
   "id": "ed240bae",
   "metadata": {},
   "outputs": [],
   "source": [
    "model2_classification_report = classification_report(paws.actual, paws.model2, target_names=target_names, output_dict = True)"
   ]
  },
  {
   "cell_type": "code",
   "execution_count": 13,
   "id": "77c4125c",
   "metadata": {},
   "outputs": [],
   "source": [
    "model3_classification_report = classification_report(paws.actual, paws.model1, target_names=target_names, output_dict = True)"
   ]
  },
  {
   "cell_type": "code",
   "execution_count": 14,
   "id": "67a42317",
   "metadata": {},
   "outputs": [],
   "source": [
    "model4_classification_report = classification_report(paws.actual, paws.model1, target_names = target_names, output_dict = True)"
   ]
  },
  {
   "cell_type": "code",
   "execution_count": 15,
   "id": "8371c7cf",
   "metadata": {},
   "outputs": [],
   "source": [
    "baseline_classification_report = classification_report(paws.actual, paws.baseline_prediction, target_names = target_names, output_dict = True)"
   ]
  },
  {
   "cell_type": "code",
   "execution_count": 11,
   "id": "e0315d3e",
   "metadata": {},
   "outputs": [
    {
     "name": "stdout",
     "output_type": "stream",
     "text": [
      "Model 1 Classification Report\n"
     ]
    },
    {
     "data": {
      "text/html": [
       "<div>\n",
       "<style scoped>\n",
       "    .dataframe tbody tr th:only-of-type {\n",
       "        vertical-align: middle;\n",
       "    }\n",
       "\n",
       "    .dataframe tbody tr th {\n",
       "        vertical-align: top;\n",
       "    }\n",
       "\n",
       "    .dataframe thead th {\n",
       "        text-align: right;\n",
       "    }\n",
       "</style>\n",
       "<table border=\"1\" class=\"dataframe\">\n",
       "  <thead>\n",
       "    <tr style=\"text-align: right;\">\n",
       "      <th></th>\n",
       "      <th>precision</th>\n",
       "      <th>recall</th>\n",
       "      <th>f1-score</th>\n",
       "      <th>support</th>\n",
       "    </tr>\n",
       "  </thead>\n",
       "  <tbody>\n",
       "    <tr>\n",
       "      <th>dog</th>\n",
       "      <td>0.689772</td>\n",
       "      <td>0.815006</td>\n",
       "      <td>0.747178</td>\n",
       "      <td>1746.0000</td>\n",
       "    </tr>\n",
       "    <tr>\n",
       "      <th>cat</th>\n",
       "      <td>0.890024</td>\n",
       "      <td>0.803319</td>\n",
       "      <td>0.844452</td>\n",
       "      <td>3254.0000</td>\n",
       "    </tr>\n",
       "    <tr>\n",
       "      <th>accuracy</th>\n",
       "      <td>0.807400</td>\n",
       "      <td>0.807400</td>\n",
       "      <td>0.807400</td>\n",
       "      <td>0.8074</td>\n",
       "    </tr>\n",
       "    <tr>\n",
       "      <th>macro avg</th>\n",
       "      <td>0.789898</td>\n",
       "      <td>0.809162</td>\n",
       "      <td>0.795815</td>\n",
       "      <td>5000.0000</td>\n",
       "    </tr>\n",
       "    <tr>\n",
       "      <th>weighted avg</th>\n",
       "      <td>0.820096</td>\n",
       "      <td>0.807400</td>\n",
       "      <td>0.810484</td>\n",
       "      <td>5000.0000</td>\n",
       "    </tr>\n",
       "  </tbody>\n",
       "</table>\n",
       "</div>"
      ],
      "text/plain": [
       "              precision    recall  f1-score    support\n",
       "dog            0.689772  0.815006  0.747178  1746.0000\n",
       "cat            0.890024  0.803319  0.844452  3254.0000\n",
       "accuracy       0.807400  0.807400  0.807400     0.8074\n",
       "macro avg      0.789898  0.809162  0.795815  5000.0000\n",
       "weighted avg   0.820096  0.807400  0.810484  5000.0000"
      ]
     },
     "execution_count": 11,
     "metadata": {},
     "output_type": "execute_result"
    }
   ],
   "source": [
    "print(\"Model 1 Classification Report\")\n",
    "pd.DataFrame(model1_classification_report).T"
   ]
  },
  {
   "cell_type": "code",
   "execution_count": 16,
   "id": "d034ce46",
   "metadata": {},
   "outputs": [
    {
     "name": "stdout",
     "output_type": "stream",
     "text": [
      "Model 2 Classification Report\n"
     ]
    },
    {
     "data": {
      "text/html": [
       "<div>\n",
       "<style scoped>\n",
       "    .dataframe tbody tr th:only-of-type {\n",
       "        vertical-align: middle;\n",
       "    }\n",
       "\n",
       "    .dataframe tbody tr th {\n",
       "        vertical-align: top;\n",
       "    }\n",
       "\n",
       "    .dataframe thead th {\n",
       "        text-align: right;\n",
       "    }\n",
       "</style>\n",
       "<table border=\"1\" class=\"dataframe\">\n",
       "  <thead>\n",
       "    <tr style=\"text-align: right;\">\n",
       "      <th></th>\n",
       "      <th>precision</th>\n",
       "      <th>recall</th>\n",
       "      <th>f1-score</th>\n",
       "      <th>support</th>\n",
       "    </tr>\n",
       "  </thead>\n",
       "  <tbody>\n",
       "    <tr>\n",
       "      <th>dog</th>\n",
       "      <td>0.484122</td>\n",
       "      <td>0.890607</td>\n",
       "      <td>0.627269</td>\n",
       "      <td>1746.0000</td>\n",
       "    </tr>\n",
       "    <tr>\n",
       "      <th>cat</th>\n",
       "      <td>0.893177</td>\n",
       "      <td>0.490781</td>\n",
       "      <td>0.633479</td>\n",
       "      <td>3254.0000</td>\n",
       "    </tr>\n",
       "    <tr>\n",
       "      <th>accuracy</th>\n",
       "      <td>0.630400</td>\n",
       "      <td>0.630400</td>\n",
       "      <td>0.630400</td>\n",
       "      <td>0.6304</td>\n",
       "    </tr>\n",
       "    <tr>\n",
       "      <th>macro avg</th>\n",
       "      <td>0.688649</td>\n",
       "      <td>0.690694</td>\n",
       "      <td>0.630374</td>\n",
       "      <td>5000.0000</td>\n",
       "    </tr>\n",
       "    <tr>\n",
       "      <th>weighted avg</th>\n",
       "      <td>0.750335</td>\n",
       "      <td>0.630400</td>\n",
       "      <td>0.631310</td>\n",
       "      <td>5000.0000</td>\n",
       "    </tr>\n",
       "  </tbody>\n",
       "</table>\n",
       "</div>"
      ],
      "text/plain": [
       "              precision    recall  f1-score    support\n",
       "dog            0.484122  0.890607  0.627269  1746.0000\n",
       "cat            0.893177  0.490781  0.633479  3254.0000\n",
       "accuracy       0.630400  0.630400  0.630400     0.6304\n",
       "macro avg      0.688649  0.690694  0.630374  5000.0000\n",
       "weighted avg   0.750335  0.630400  0.631310  5000.0000"
      ]
     },
     "execution_count": 16,
     "metadata": {},
     "output_type": "execute_result"
    }
   ],
   "source": [
    "print(\"Model 2 Classification Report\")\n",
    "pd.DataFrame(model2_classification_report).T"
   ]
  },
  {
   "cell_type": "code",
   "execution_count": 17,
   "id": "1c5f8dbc",
   "metadata": {},
   "outputs": [
    {
     "name": "stdout",
     "output_type": "stream",
     "text": [
      "Model 3 Classification Report\n"
     ]
    },
    {
     "data": {
      "text/html": [
       "<div>\n",
       "<style scoped>\n",
       "    .dataframe tbody tr th:only-of-type {\n",
       "        vertical-align: middle;\n",
       "    }\n",
       "\n",
       "    .dataframe tbody tr th {\n",
       "        vertical-align: top;\n",
       "    }\n",
       "\n",
       "    .dataframe thead th {\n",
       "        text-align: right;\n",
       "    }\n",
       "</style>\n",
       "<table border=\"1\" class=\"dataframe\">\n",
       "  <thead>\n",
       "    <tr style=\"text-align: right;\">\n",
       "      <th></th>\n",
       "      <th>precision</th>\n",
       "      <th>recall</th>\n",
       "      <th>f1-score</th>\n",
       "      <th>support</th>\n",
       "    </tr>\n",
       "  </thead>\n",
       "  <tbody>\n",
       "    <tr>\n",
       "      <th>dog</th>\n",
       "      <td>0.689772</td>\n",
       "      <td>0.815006</td>\n",
       "      <td>0.747178</td>\n",
       "      <td>1746.0000</td>\n",
       "    </tr>\n",
       "    <tr>\n",
       "      <th>cat</th>\n",
       "      <td>0.890024</td>\n",
       "      <td>0.803319</td>\n",
       "      <td>0.844452</td>\n",
       "      <td>3254.0000</td>\n",
       "    </tr>\n",
       "    <tr>\n",
       "      <th>accuracy</th>\n",
       "      <td>0.807400</td>\n",
       "      <td>0.807400</td>\n",
       "      <td>0.807400</td>\n",
       "      <td>0.8074</td>\n",
       "    </tr>\n",
       "    <tr>\n",
       "      <th>macro avg</th>\n",
       "      <td>0.789898</td>\n",
       "      <td>0.809162</td>\n",
       "      <td>0.795815</td>\n",
       "      <td>5000.0000</td>\n",
       "    </tr>\n",
       "    <tr>\n",
       "      <th>weighted avg</th>\n",
       "      <td>0.820096</td>\n",
       "      <td>0.807400</td>\n",
       "      <td>0.810484</td>\n",
       "      <td>5000.0000</td>\n",
       "    </tr>\n",
       "  </tbody>\n",
       "</table>\n",
       "</div>"
      ],
      "text/plain": [
       "              precision    recall  f1-score    support\n",
       "dog            0.689772  0.815006  0.747178  1746.0000\n",
       "cat            0.890024  0.803319  0.844452  3254.0000\n",
       "accuracy       0.807400  0.807400  0.807400     0.8074\n",
       "macro avg      0.789898  0.809162  0.795815  5000.0000\n",
       "weighted avg   0.820096  0.807400  0.810484  5000.0000"
      ]
     },
     "execution_count": 17,
     "metadata": {},
     "output_type": "execute_result"
    }
   ],
   "source": [
    "print(\"Model 3 Classification Report\")\n",
    "pd.DataFrame(model3_classification_report).T"
   ]
  },
  {
   "cell_type": "code",
   "execution_count": 18,
   "id": "e6922392",
   "metadata": {},
   "outputs": [
    {
     "name": "stdout",
     "output_type": "stream",
     "text": [
      "Model 4 Classification Report\n"
     ]
    },
    {
     "data": {
      "text/html": [
       "<div>\n",
       "<style scoped>\n",
       "    .dataframe tbody tr th:only-of-type {\n",
       "        vertical-align: middle;\n",
       "    }\n",
       "\n",
       "    .dataframe tbody tr th {\n",
       "        vertical-align: top;\n",
       "    }\n",
       "\n",
       "    .dataframe thead th {\n",
       "        text-align: right;\n",
       "    }\n",
       "</style>\n",
       "<table border=\"1\" class=\"dataframe\">\n",
       "  <thead>\n",
       "    <tr style=\"text-align: right;\">\n",
       "      <th></th>\n",
       "      <th>precision</th>\n",
       "      <th>recall</th>\n",
       "      <th>f1-score</th>\n",
       "      <th>support</th>\n",
       "    </tr>\n",
       "  </thead>\n",
       "  <tbody>\n",
       "    <tr>\n",
       "      <th>dog</th>\n",
       "      <td>0.689772</td>\n",
       "      <td>0.815006</td>\n",
       "      <td>0.747178</td>\n",
       "      <td>1746.0000</td>\n",
       "    </tr>\n",
       "    <tr>\n",
       "      <th>cat</th>\n",
       "      <td>0.890024</td>\n",
       "      <td>0.803319</td>\n",
       "      <td>0.844452</td>\n",
       "      <td>3254.0000</td>\n",
       "    </tr>\n",
       "    <tr>\n",
       "      <th>accuracy</th>\n",
       "      <td>0.807400</td>\n",
       "      <td>0.807400</td>\n",
       "      <td>0.807400</td>\n",
       "      <td>0.8074</td>\n",
       "    </tr>\n",
       "    <tr>\n",
       "      <th>macro avg</th>\n",
       "      <td>0.789898</td>\n",
       "      <td>0.809162</td>\n",
       "      <td>0.795815</td>\n",
       "      <td>5000.0000</td>\n",
       "    </tr>\n",
       "    <tr>\n",
       "      <th>weighted avg</th>\n",
       "      <td>0.820096</td>\n",
       "      <td>0.807400</td>\n",
       "      <td>0.810484</td>\n",
       "      <td>5000.0000</td>\n",
       "    </tr>\n",
       "  </tbody>\n",
       "</table>\n",
       "</div>"
      ],
      "text/plain": [
       "              precision    recall  f1-score    support\n",
       "dog            0.689772  0.815006  0.747178  1746.0000\n",
       "cat            0.890024  0.803319  0.844452  3254.0000\n",
       "accuracy       0.807400  0.807400  0.807400     0.8074\n",
       "macro avg      0.789898  0.809162  0.795815  5000.0000\n",
       "weighted avg   0.820096  0.807400  0.810484  5000.0000"
      ]
     },
     "execution_count": 18,
     "metadata": {},
     "output_type": "execute_result"
    }
   ],
   "source": [
    "print(\"Model 4 Classification Report\")\n",
    "pd.DataFrame(model4_classification_report).T"
   ]
  },
  {
   "cell_type": "code",
   "execution_count": 19,
   "id": "a6fbcc01",
   "metadata": {},
   "outputs": [
    {
     "name": "stdout",
     "output_type": "stream",
     "text": [
      "Baseline Classification Report\n"
     ]
    },
    {
     "data": {
      "text/html": [
       "<div>\n",
       "<style scoped>\n",
       "    .dataframe tbody tr th:only-of-type {\n",
       "        vertical-align: middle;\n",
       "    }\n",
       "\n",
       "    .dataframe tbody tr th {\n",
       "        vertical-align: top;\n",
       "    }\n",
       "\n",
       "    .dataframe thead th {\n",
       "        text-align: right;\n",
       "    }\n",
       "</style>\n",
       "<table border=\"1\" class=\"dataframe\">\n",
       "  <thead>\n",
       "    <tr style=\"text-align: right;\">\n",
       "      <th></th>\n",
       "      <th>precision</th>\n",
       "      <th>recall</th>\n",
       "      <th>f1-score</th>\n",
       "      <th>support</th>\n",
       "    </tr>\n",
       "  </thead>\n",
       "  <tbody>\n",
       "    <tr>\n",
       "      <th>dog</th>\n",
       "      <td>0.000000</td>\n",
       "      <td>0.0000</td>\n",
       "      <td>0.000000</td>\n",
       "      <td>1746.0000</td>\n",
       "    </tr>\n",
       "    <tr>\n",
       "      <th>cat</th>\n",
       "      <td>0.650800</td>\n",
       "      <td>1.0000</td>\n",
       "      <td>0.788466</td>\n",
       "      <td>3254.0000</td>\n",
       "    </tr>\n",
       "    <tr>\n",
       "      <th>accuracy</th>\n",
       "      <td>0.650800</td>\n",
       "      <td>0.6508</td>\n",
       "      <td>0.650800</td>\n",
       "      <td>0.6508</td>\n",
       "    </tr>\n",
       "    <tr>\n",
       "      <th>macro avg</th>\n",
       "      <td>0.325400</td>\n",
       "      <td>0.5000</td>\n",
       "      <td>0.394233</td>\n",
       "      <td>5000.0000</td>\n",
       "    </tr>\n",
       "    <tr>\n",
       "      <th>weighted avg</th>\n",
       "      <td>0.423541</td>\n",
       "      <td>0.6508</td>\n",
       "      <td>0.513134</td>\n",
       "      <td>5000.0000</td>\n",
       "    </tr>\n",
       "  </tbody>\n",
       "</table>\n",
       "</div>"
      ],
      "text/plain": [
       "              precision  recall  f1-score    support\n",
       "dog            0.000000  0.0000  0.000000  1746.0000\n",
       "cat            0.650800  1.0000  0.788466  3254.0000\n",
       "accuracy       0.650800  0.6508  0.650800     0.6508\n",
       "macro avg      0.325400  0.5000  0.394233  5000.0000\n",
       "weighted avg   0.423541  0.6508  0.513134  5000.0000"
      ]
     },
     "execution_count": 19,
     "metadata": {},
     "output_type": "execute_result"
    }
   ],
   "source": [
    "print(\"Baseline Classification Report\")\n",
    "pd.DataFrame(baseline_classification_report).T"
   ]
  }
 ],
 "metadata": {
  "kernelspec": {
   "display_name": "Python 3",
   "language": "python",
   "name": "python3"
  },
  "language_info": {
   "codemirror_mode": {
    "name": "ipython",
    "version": 3
   },
   "file_extension": ".py",
   "mimetype": "text/x-python",
   "name": "python",
   "nbconvert_exporter": "python",
   "pygments_lexer": "ipython3",
   "version": "3.8.8"
  }
 },
 "nbformat": 4,
 "nbformat_minor": 5
}

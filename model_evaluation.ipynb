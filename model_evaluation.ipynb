{
 "cells": [
  {
   "cell_type": "code",
   "execution_count": 1,
   "id": "25b47b87",
   "metadata": {},
   "outputs": [],
   "source": [
    "import pandas as pd\n",
    "from sklearn.metrics import confusion_matrix\n",
    "import seaborn as sns"
   ]
  },
  {
   "cell_type": "markdown",
   "id": "ecae0b4a",
   "metadata": {},
   "source": [
    "## Given the following confusion matrix, evaluate (by hand) the model's performance."
   ]
  },
  {
   "cell_type": "markdown",
   "id": "4cca4cea",
   "metadata": {},
   "source": [
    "|               | pred dog   | pred cat   |\n",
    "|:------------  |-----------:|-----------:|\n",
    "| actual dog    |         46 |         7  |\n",
    "| actual cat    |         13 |         34 |"
   ]
  },
  {
   "cell_type": "markdown",
   "id": "d50f6e42",
   "metadata": {},
   "source": [
    "#### In the context of this problem, what is a false positive?"
   ]
  },
  {
   "cell_type": "markdown",
   "id": "5a94e189",
   "metadata": {},
   "source": [
    "A false positive would be that we predicted a dog, but there the observation was an actual cat."
   ]
  },
  {
   "cell_type": "markdown",
   "id": "e1968693",
   "metadata": {},
   "source": [
    "#### In the context of this problem, what is a false negative?"
   ]
  },
  {
   "cell_type": "markdown",
   "id": "6e881bdb",
   "metadata": {},
   "source": [
    "A false negative would be that we predicted a cat, but the observation was in fact a dog. "
   ]
  },
  {
   "cell_type": "markdown",
   "id": "560217b2",
   "metadata": {},
   "source": [
    "#### How would you describe this model?"
   ]
  },
  {
   "cell_type": "code",
   "execution_count": 4,
   "id": "33a21de6",
   "metadata": {},
   "outputs": [],
   "source": [
    "accuracy = (46 + 34)/(46+7+13+34)\n",
    "precision = (46)/(46+13)\n",
    "recall = (46)/(46+7)"
   ]
  },
  {
   "cell_type": "code",
   "execution_count": 6,
   "id": "bf55a31b",
   "metadata": {},
   "outputs": [
    {
     "name": "stdout",
     "output_type": "stream",
     "text": [
      "The model has an accuracy rate of 0.8 a precision rate of 0.78 and a recall rate of  0.87 .\n"
     ]
    }
   ],
   "source": [
    "print(\"The model has an accuracy rate of\", accuracy, \"a precision rate of\", round(precision, 2) , \"and a recall rate of \", round(recall, 2), \".\")"
   ]
  },
  {
   "cell_type": "markdown",
   "id": "af5414b4",
   "metadata": {},
   "source": [
    "## Question 1 Background"
   ]
  },
  {
   "cell_type": "markdown",
   "id": "be048db1",
   "metadata": {},
   "source": [
    "You are working as a datascientist working for Codeup Cody Creator (C3 for short), a rubber-duck manufacturing plant."
   ]
  },
  {
   "cell_type": "markdown",
   "id": "113a5b4f",
   "metadata": {},
   "source": [
    "Unfortunately, some of the rubber ducks that are produced will have defects. Your team has built several models that try to predict those defects, and the data from their predictions is found below:"
   ]
  },
  {
   "cell_type": "code",
   "execution_count": 3,
   "id": "dd949679",
   "metadata": {},
   "outputs": [],
   "source": [
    "c3 = attendance = pd.read_csv('c3.csv')"
   ]
  },
  {
   "cell_type": "code",
   "execution_count": 4,
   "id": "cf4190ae",
   "metadata": {},
   "outputs": [
    {
     "data": {
      "text/html": [
       "<div>\n",
       "<style scoped>\n",
       "    .dataframe tbody tr th:only-of-type {\n",
       "        vertical-align: middle;\n",
       "    }\n",
       "\n",
       "    .dataframe tbody tr th {\n",
       "        vertical-align: top;\n",
       "    }\n",
       "\n",
       "    .dataframe thead th {\n",
       "        text-align: right;\n",
       "    }\n",
       "</style>\n",
       "<table border=\"1\" class=\"dataframe\">\n",
       "  <thead>\n",
       "    <tr style=\"text-align: right;\">\n",
       "      <th></th>\n",
       "      <th>actual</th>\n",
       "      <th>model1</th>\n",
       "      <th>model2</th>\n",
       "      <th>model3</th>\n",
       "    </tr>\n",
       "  </thead>\n",
       "  <tbody>\n",
       "    <tr>\n",
       "      <th>0</th>\n",
       "      <td>No Defect</td>\n",
       "      <td>No Defect</td>\n",
       "      <td>Defect</td>\n",
       "      <td>No Defect</td>\n",
       "    </tr>\n",
       "    <tr>\n",
       "      <th>1</th>\n",
       "      <td>No Defect</td>\n",
       "      <td>No Defect</td>\n",
       "      <td>Defect</td>\n",
       "      <td>Defect</td>\n",
       "    </tr>\n",
       "    <tr>\n",
       "      <th>2</th>\n",
       "      <td>No Defect</td>\n",
       "      <td>No Defect</td>\n",
       "      <td>Defect</td>\n",
       "      <td>No Defect</td>\n",
       "    </tr>\n",
       "    <tr>\n",
       "      <th>3</th>\n",
       "      <td>No Defect</td>\n",
       "      <td>Defect</td>\n",
       "      <td>Defect</td>\n",
       "      <td>Defect</td>\n",
       "    </tr>\n",
       "    <tr>\n",
       "      <th>4</th>\n",
       "      <td>No Defect</td>\n",
       "      <td>No Defect</td>\n",
       "      <td>Defect</td>\n",
       "      <td>No Defect</td>\n",
       "    </tr>\n",
       "  </tbody>\n",
       "</table>\n",
       "</div>"
      ],
      "text/plain": [
       "      actual     model1  model2     model3\n",
       "0  No Defect  No Defect  Defect  No Defect\n",
       "1  No Defect  No Defect  Defect     Defect\n",
       "2  No Defect  No Defect  Defect  No Defect\n",
       "3  No Defect     Defect  Defect     Defect\n",
       "4  No Defect  No Defect  Defect  No Defect"
      ]
     },
     "execution_count": 4,
     "metadata": {},
     "output_type": "execute_result"
    }
   ],
   "source": [
    "c3.head()"
   ]
  },
  {
   "cell_type": "markdown",
   "id": "89b36c85",
   "metadata": {},
   "source": [
    "### Use the predictions dataset and pandas to help answer the following questions:"
   ]
  },
  {
   "cell_type": "markdown",
   "id": "3ede16d1",
   "metadata": {},
   "source": [
    "**Part 1**"
   ]
  },
  {
   "cell_type": "markdown",
   "id": "5dce61c1",
   "metadata": {},
   "source": [
    "An internal team wants to investigate the cause of the manufacturing defects. They tell you that they want to identify as many of the ducks that have a defect as possible."
   ]
  },
  {
   "cell_type": "markdown",
   "id": "2fb4fc4c",
   "metadata": {},
   "source": [
    "#### Which evaluation metric would be appropriate here? "
   ]
  },
  {
   "cell_type": "markdown",
   "id": "6825e83c",
   "metadata": {},
   "source": [
    "The recall metric is the best metric to use in this case because False Negatives are more damaging to company revenues than False Positives. False Positives will force us to throw out  good rubber ducks, which is certainly bad for the company. However, False Negatives will cause us to try to sell defective rubber ducks, which could have long term implications for our company, including damaging our comapany's reputation."
   ]
  },
  {
   "cell_type": "markdown",
   "id": "3b7139a9",
   "metadata": {},
   "source": [
    "#### Which model would be the best fit for this use case?"
   ]
  },
  {
   "cell_type": "markdown",
   "id": "44355249",
   "metadata": {},
   "source": [
    "We will evaluate the recall for each model."
   ]
  },
  {
   "cell_type": "code",
   "execution_count": 9,
   "id": "e65aa872",
   "metadata": {},
   "outputs": [],
   "source": [
    "subset = c3[c3.actual == 'Defect']"
   ]
  },
  {
   "cell_type": "code",
   "execution_count": 10,
   "id": "18e256f8",
   "metadata": {},
   "outputs": [],
   "source": [
    "model1_recall = (subset.model1 == subset.actual).mean()"
   ]
  },
  {
   "cell_type": "code",
   "execution_count": 12,
   "id": "b67573dd",
   "metadata": {},
   "outputs": [],
   "source": [
    "model2_recall = (subset.model2 == subset.actual).mean()"
   ]
  },
  {
   "cell_type": "code",
   "execution_count": 13,
   "id": "079cdcf3",
   "metadata": {},
   "outputs": [],
   "source": [
    "model3_recall = (subset.model3 == subset.actual).mean()"
   ]
  },
  {
   "cell_type": "code",
   "execution_count": 15,
   "id": "b7406e52",
   "metadata": {},
   "outputs": [
    {
     "name": "stdout",
     "output_type": "stream",
     "text": [
      "Model 1 recall: 0.5\n",
      "Model 2 recall: 0.5625\n",
      "Model 3 recall: 0.8125\n"
     ]
    }
   ],
   "source": [
    "print(\"Model 1 recall:\", model1_recall)\n",
    "print(\"Model 2 recall:\", model2_recall)\n",
    "print(\"Model 3 recall:\", model3_recall)"
   ]
  },
  {
   "cell_type": "markdown",
   "id": "8ac6fccb",
   "metadata": {},
   "source": [
    "Since Model 3 has the highest recall rate, **Model 3** is the best fit for this case. "
   ]
  },
  {
   "cell_type": "markdown",
   "id": "4868f4bf",
   "metadata": {},
   "source": [
    "**Part 2**"
   ]
  },
  {
   "cell_type": "markdown",
   "id": "16945b31",
   "metadata": {},
   "source": [
    "Recently several stories in the local news have come out highlighting customers who received a rubber duck with a defect, and portraying C3 in a bad light. The PR team has decided to launch a program that gives customers with a defective duck a vacation to Hawaii."
   ]
  },
  {
   "cell_type": "markdown",
   "id": "e3cb2831",
   "metadata": {},
   "source": [
    "They need you to predict which ducks will have defects, but tell you the really don't want to accidentally give out a vacation package when the duck really doesn't have a defect."
   ]
  },
  {
   "cell_type": "markdown",
   "id": "a9e7bc91",
   "metadata": {},
   "source": [
    "#### Which evaluation metric would be appropriate here?"
   ]
  },
  {
   "cell_type": "markdown",
   "id": "9d6e3de2",
   "metadata": {},
   "source": [
    "Since we don't want to accidentally give out a vacation package, a False Positive here is more costly than a False Negative. Thus, the **precision metric** is most appropriate here."
   ]
  },
  {
   "cell_type": "markdown",
   "id": "9af29e6a",
   "metadata": {},
   "source": [
    "#### Which model would be the best fit for this use case?"
   ]
  },
  {
   "cell_type": "code",
   "execution_count": 7,
   "id": "7d1e0a29",
   "metadata": {},
   "outputs": [],
   "source": [
    "subset1 = c3[c3.model1 == 'Defect']\n",
    "model1_precision = (subset1.model1==subset1.actual).mean()"
   ]
  },
  {
   "cell_type": "code",
   "execution_count": 8,
   "id": "bc7b28ff",
   "metadata": {},
   "outputs": [],
   "source": [
    "subset2 = c3[c3.model2 == 'Defect']\n",
    "model2_precision = (subset2.model2==subset2.actual).mean()"
   ]
  },
  {
   "cell_type": "code",
   "execution_count": 9,
   "id": "27c96e3a",
   "metadata": {},
   "outputs": [],
   "source": [
    "subset3 = c3[c3.model3 == 'Defect']\n",
    "model3_precision = (subset3.model3==subset3.actual).mean()"
   ]
  },
  {
   "cell_type": "code",
   "execution_count": 11,
   "id": "8fc71abe",
   "metadata": {},
   "outputs": [
    {
     "name": "stdout",
     "output_type": "stream",
     "text": [
      "Model 1 precision: 0.8\n",
      "Model 2 precision: 0.1\n",
      "Model 3 precision: 0.13\n"
     ]
    }
   ],
   "source": [
    "print(\"Model 1 precision:\", model1_precision)\n",
    "print(\"Model 2 precision:\", model2_precision)\n",
    "print(\"Model 3 precision:\", round(model3_precision, 2))"
   ]
  },
  {
   "cell_type": "markdown",
   "id": "1d1b3540",
   "metadata": {},
   "source": [
    "Since Model 1 has the highest precision, **Model 1** is the best fit for this case."
   ]
  },
  {
   "cell_type": "markdown",
   "id": "54dbc934",
   "metadata": {},
   "source": [
    "## Question 2 Background"
   ]
  },
  {
   "cell_type": "markdown",
   "id": "feac360c",
   "metadata": {},
   "source": [
    "You are working as a data scientist for Gives You Paws ™, a subscription based service that shows you cute pictures of dogs or cats (or both for an additional fee)."
   ]
  },
  {
   "cell_type": "markdown",
   "id": "7f48a24e",
   "metadata": {},
   "source": [
    "At Gives You Paws, anyone can upload pictures of their cats or dogs. The photos are then put through a two step process. First an automated algorithm tags pictures as either a cat or a dog (Phase I). Next, the photos that have been initially identified are put through another round of review, possibly with some human oversight, before being presented to the users (Phase II)."
   ]
  },
  {
   "cell_type": "markdown",
   "id": "9193a55b",
   "metadata": {},
   "source": [
    "Several models have already been developed with the data, and you can find the results below:"
   ]
  },
  {
   "cell_type": "code",
   "execution_count": 58,
   "id": "d19c15ef",
   "metadata": {},
   "outputs": [],
   "source": [
    "paws = pd.read_csv('gives_you_paws.csv')"
   ]
  },
  {
   "cell_type": "code",
   "execution_count": 59,
   "id": "cc34bc36",
   "metadata": {},
   "outputs": [
    {
     "data": {
      "text/html": [
       "<div>\n",
       "<style scoped>\n",
       "    .dataframe tbody tr th:only-of-type {\n",
       "        vertical-align: middle;\n",
       "    }\n",
       "\n",
       "    .dataframe tbody tr th {\n",
       "        vertical-align: top;\n",
       "    }\n",
       "\n",
       "    .dataframe thead th {\n",
       "        text-align: right;\n",
       "    }\n",
       "</style>\n",
       "<table border=\"1\" class=\"dataframe\">\n",
       "  <thead>\n",
       "    <tr style=\"text-align: right;\">\n",
       "      <th></th>\n",
       "      <th>actual</th>\n",
       "      <th>model1</th>\n",
       "      <th>model2</th>\n",
       "      <th>model3</th>\n",
       "      <th>model4</th>\n",
       "    </tr>\n",
       "  </thead>\n",
       "  <tbody>\n",
       "    <tr>\n",
       "      <th>0</th>\n",
       "      <td>cat</td>\n",
       "      <td>cat</td>\n",
       "      <td>dog</td>\n",
       "      <td>cat</td>\n",
       "      <td>dog</td>\n",
       "    </tr>\n",
       "    <tr>\n",
       "      <th>1</th>\n",
       "      <td>dog</td>\n",
       "      <td>dog</td>\n",
       "      <td>cat</td>\n",
       "      <td>cat</td>\n",
       "      <td>dog</td>\n",
       "    </tr>\n",
       "    <tr>\n",
       "      <th>2</th>\n",
       "      <td>dog</td>\n",
       "      <td>cat</td>\n",
       "      <td>cat</td>\n",
       "      <td>cat</td>\n",
       "      <td>dog</td>\n",
       "    </tr>\n",
       "    <tr>\n",
       "      <th>3</th>\n",
       "      <td>dog</td>\n",
       "      <td>dog</td>\n",
       "      <td>dog</td>\n",
       "      <td>cat</td>\n",
       "      <td>dog</td>\n",
       "    </tr>\n",
       "    <tr>\n",
       "      <th>4</th>\n",
       "      <td>cat</td>\n",
       "      <td>cat</td>\n",
       "      <td>cat</td>\n",
       "      <td>dog</td>\n",
       "      <td>dog</td>\n",
       "    </tr>\n",
       "  </tbody>\n",
       "</table>\n",
       "</div>"
      ],
      "text/plain": [
       "  actual model1 model2 model3 model4\n",
       "0    cat    cat    dog    cat    dog\n",
       "1    dog    dog    cat    cat    dog\n",
       "2    dog    cat    cat    cat    dog\n",
       "3    dog    dog    dog    cat    dog\n",
       "4    cat    cat    cat    dog    dog"
      ]
     },
     "execution_count": 59,
     "metadata": {},
     "output_type": "execute_result"
    }
   ],
   "source": [
    "paws.head()"
   ]
  },
  {
   "cell_type": "markdown",
   "id": "8a864f86",
   "metadata": {},
   "source": [
    "#### Given this dataset, use pandas to create a baseline model (i.e. a model that just predicts the most common class)."
   ]
  },
  {
   "cell_type": "code",
   "execution_count": 60,
   "id": "cc786bcd",
   "metadata": {},
   "outputs": [
    {
     "data": {
      "text/plain": [
       "dog    3254\n",
       "cat    1746\n",
       "Name: actual, dtype: int64"
      ]
     },
     "execution_count": 60,
     "metadata": {},
     "output_type": "execute_result"
    }
   ],
   "source": [
    "paws.actual.value_counts()"
   ]
  },
  {
   "cell_type": "code",
   "execution_count": 61,
   "id": "815b31c0",
   "metadata": {},
   "outputs": [],
   "source": [
    "paws['baseline_prediction'] = 'dog'"
   ]
  },
  {
   "cell_type": "code",
   "execution_count": 62,
   "id": "bdab6de0",
   "metadata": {},
   "outputs": [
    {
     "data": {
      "text/html": [
       "<div>\n",
       "<style scoped>\n",
       "    .dataframe tbody tr th:only-of-type {\n",
       "        vertical-align: middle;\n",
       "    }\n",
       "\n",
       "    .dataframe tbody tr th {\n",
       "        vertical-align: top;\n",
       "    }\n",
       "\n",
       "    .dataframe thead th {\n",
       "        text-align: right;\n",
       "    }\n",
       "</style>\n",
       "<table border=\"1\" class=\"dataframe\">\n",
       "  <thead>\n",
       "    <tr style=\"text-align: right;\">\n",
       "      <th></th>\n",
       "      <th>actual</th>\n",
       "      <th>model1</th>\n",
       "      <th>model2</th>\n",
       "      <th>model3</th>\n",
       "      <th>model4</th>\n",
       "      <th>baseline_prediction</th>\n",
       "    </tr>\n",
       "  </thead>\n",
       "  <tbody>\n",
       "    <tr>\n",
       "      <th>0</th>\n",
       "      <td>cat</td>\n",
       "      <td>cat</td>\n",
       "      <td>dog</td>\n",
       "      <td>cat</td>\n",
       "      <td>dog</td>\n",
       "      <td>dog</td>\n",
       "    </tr>\n",
       "    <tr>\n",
       "      <th>1</th>\n",
       "      <td>dog</td>\n",
       "      <td>dog</td>\n",
       "      <td>cat</td>\n",
       "      <td>cat</td>\n",
       "      <td>dog</td>\n",
       "      <td>dog</td>\n",
       "    </tr>\n",
       "    <tr>\n",
       "      <th>2</th>\n",
       "      <td>dog</td>\n",
       "      <td>cat</td>\n",
       "      <td>cat</td>\n",
       "      <td>cat</td>\n",
       "      <td>dog</td>\n",
       "      <td>dog</td>\n",
       "    </tr>\n",
       "    <tr>\n",
       "      <th>3</th>\n",
       "      <td>dog</td>\n",
       "      <td>dog</td>\n",
       "      <td>dog</td>\n",
       "      <td>cat</td>\n",
       "      <td>dog</td>\n",
       "      <td>dog</td>\n",
       "    </tr>\n",
       "    <tr>\n",
       "      <th>4</th>\n",
       "      <td>cat</td>\n",
       "      <td>cat</td>\n",
       "      <td>cat</td>\n",
       "      <td>dog</td>\n",
       "      <td>dog</td>\n",
       "      <td>dog</td>\n",
       "    </tr>\n",
       "  </tbody>\n",
       "</table>\n",
       "</div>"
      ],
      "text/plain": [
       "  actual model1 model2 model3 model4 baseline_prediction\n",
       "0    cat    cat    dog    cat    dog                 dog\n",
       "1    dog    dog    cat    cat    dog                 dog\n",
       "2    dog    cat    cat    cat    dog                 dog\n",
       "3    dog    dog    dog    cat    dog                 dog\n",
       "4    cat    cat    cat    dog    dog                 dog"
      ]
     },
     "execution_count": 62,
     "metadata": {},
     "output_type": "execute_result"
    }
   ],
   "source": [
    "paws.head()"
   ]
  },
  {
   "cell_type": "markdown",
   "id": "3516c88e",
   "metadata": {},
   "source": [
    "#### In terms of accuracy, how do the various models compare to the baseline model? Are any of the models better than the baseline?"
   ]
  },
  {
   "cell_type": "code",
   "execution_count": 21,
   "id": "f495384f",
   "metadata": {},
   "outputs": [],
   "source": [
    "model1_accuracy = (paws.model1 == paws.actual).mean()"
   ]
  },
  {
   "cell_type": "code",
   "execution_count": 22,
   "id": "bbd8f423",
   "metadata": {},
   "outputs": [],
   "source": [
    "model2_accuracy = (paws.model2 == paws.actual).mean()"
   ]
  },
  {
   "cell_type": "code",
   "execution_count": 23,
   "id": "27b518d9",
   "metadata": {},
   "outputs": [],
   "source": [
    "model3_accuracy = (paws.model3 == paws.actual).mean()"
   ]
  },
  {
   "cell_type": "code",
   "execution_count": 24,
   "id": "f2aa7d51",
   "metadata": {},
   "outputs": [],
   "source": [
    "model4_accuracy = (paws.model4 == paws.actual).mean()"
   ]
  },
  {
   "cell_type": "code",
   "execution_count": 25,
   "id": "55d92f37",
   "metadata": {},
   "outputs": [],
   "source": [
    "baseline_accuracy = (paws.baseline_prediction == paws.actual).mean()"
   ]
  },
  {
   "cell_type": "code",
   "execution_count": 28,
   "id": "2fc6783c",
   "metadata": {},
   "outputs": [
    {
     "name": "stdout",
     "output_type": "stream",
     "text": [
      "model 1 accuracy: 80.74%\n",
      "model 2 accuracy: 63.04%\n",
      "model 3 accuracy: 50.96%\n",
      "model 4 accuracy: 74.26%\n",
      "baseline accuracy: 65.08%\n"
     ]
    }
   ],
   "source": [
    "print(f'model 1 accuracy: {model1_accuracy:.2%}')\n",
    "print(f'model 2 accuracy: {model2_accuracy:.2%}')\n",
    "print(f'model 3 accuracy: {model3_accuracy:.2%}')\n",
    "print(f'model 4 accuracy: {model4_accuracy:.2%}')\n",
    "print(f'baseline accuracy: {baseline_accuracy:.2%}')"
   ]
  },
  {
   "cell_type": "markdown",
   "id": "f235da77",
   "metadata": {},
   "source": [
    "Model 1 and Model 4 perform better than the baseline. "
   ]
  },
  {
   "cell_type": "markdown",
   "id": "d4280458",
   "metadata": {},
   "source": [
    "Model 2 and Model 3 perform worse than the baseline."
   ]
  },
  {
   "cell_type": "markdown",
   "id": "ee6f765f",
   "metadata": {},
   "source": [
    "#### Suppose you are working on a team that solely deals with dog pictures. Which of these models would you recomend for Phase I? For Phase II?"
   ]
  },
  {
   "cell_type": "markdown",
   "id": "0b8e1915",
   "metadata": {},
   "source": [
    "For Phase 1 we should use **Model 1** because this model has the highest accuracy. For Phase 1, we simply want to filter between cat and dog pictures."
   ]
  },
  {
   "cell_type": "markdown",
   "id": "e1e92207",
   "metadata": {},
   "source": [
    "For Phase 2 we should find the model that has the highest precision rate. At this phase, we want to eliminate all cat pictures. Leaving in a cat picture is more costly than mistakenly throwing out a dog picture."
   ]
  },
  {
   "cell_type": "code",
   "execution_count": 63,
   "id": "c961aa6d",
   "metadata": {},
   "outputs": [],
   "source": [
    "subset1 = paws[paws.model1 == 'dog']"
   ]
  },
  {
   "cell_type": "code",
   "execution_count": 64,
   "id": "68e24eb3",
   "metadata": {},
   "outputs": [],
   "source": [
    "model1_precision = (subset1.model1 == subset1.actual).mean()"
   ]
  },
  {
   "cell_type": "code",
   "execution_count": 40,
   "id": "bf7cdbcd",
   "metadata": {},
   "outputs": [],
   "source": [
    "subset2 = paws[paws.model2 == 'dog']"
   ]
  },
  {
   "cell_type": "code",
   "execution_count": 41,
   "id": "c1c3be99",
   "metadata": {},
   "outputs": [],
   "source": [
    "model2_precision = (subset2.model2 == subset2.actual).mean()"
   ]
  },
  {
   "cell_type": "code",
   "execution_count": 42,
   "id": "130ce602",
   "metadata": {},
   "outputs": [],
   "source": [
    "subset3 = paws[paws.model3 == 'dog']"
   ]
  },
  {
   "cell_type": "code",
   "execution_count": 43,
   "id": "bb474e75",
   "metadata": {},
   "outputs": [],
   "source": [
    "model3_precision = (subset3.model3 == subset3.actual).mean()"
   ]
  },
  {
   "cell_type": "code",
   "execution_count": 44,
   "id": "94f52da9",
   "metadata": {},
   "outputs": [],
   "source": [
    "subset4 = paws[paws.model4 == 'dog']"
   ]
  },
  {
   "cell_type": "code",
   "execution_count": 45,
   "id": "8309101d",
   "metadata": {},
   "outputs": [],
   "source": [
    "model4_precision = (subset4.model4 == subset4.actual).mean()"
   ]
  },
  {
   "cell_type": "code",
   "execution_count": 49,
   "id": "1f02fcd0",
   "metadata": {},
   "outputs": [
    {
     "name": "stdout",
     "output_type": "stream",
     "text": [
      "model 1 precision: 89.00%\n",
      "model 2 precision: 89.32%\n",
      "model 3 precision: 65.99%\n",
      "model 4 precision: 73.12%\n"
     ]
    }
   ],
   "source": [
    "print(f'model 1 precision: {model1_precision:.2%}')\n",
    "print(f'model 2 precision: {model2_precision:.2%}')\n",
    "print(f'model 3 precision: {model3_precision:.2%}')\n",
    "print(f'model 4 precision: {model4_precision:.2%}')"
   ]
  },
  {
   "cell_type": "markdown",
   "id": "cf080361",
   "metadata": {},
   "source": [
    "**Model 2** has the highest precision rate, so we should use Model 2 for Phase 2."
   ]
  },
  {
   "cell_type": "markdown",
   "id": "442437fb",
   "metadata": {},
   "source": [
    "#### Suppose you are working on a team that solely deals with cat pictures. Which of these models would you recomend for Phase I? For Phase II?"
   ]
  },
  {
   "cell_type": "markdown",
   "id": "2780492c",
   "metadata": {},
   "source": [
    "For Phase 1, I would use **Model 1** because this model has the highest accuracy rate. For Phase 1, we simply want to sort between teh cat and dog pictures. "
   ]
  },
  {
   "cell_type": "markdown",
   "id": "cfe6dc2f",
   "metadata": {},
   "source": [
    "For Phase 2, we need to determine which model has the highest recall rate. Leaving in a dog photo is more costly than mistakenly throwing out a cat photo."
   ]
  },
  {
   "cell_type": "code",
   "execution_count": 71,
   "id": "d5cf1ea7",
   "metadata": {},
   "outputs": [],
   "source": [
    "subset = paws[paws.actual == 'dog']"
   ]
  },
  {
   "cell_type": "code",
   "execution_count": 72,
   "id": "016e5168",
   "metadata": {},
   "outputs": [],
   "source": [
    "model1_recall = (subset.model1 == subset.actual).mean()"
   ]
  },
  {
   "cell_type": "code",
   "execution_count": 73,
   "id": "a6e07b46",
   "metadata": {},
   "outputs": [],
   "source": [
    "model2_recall = (subset.model2 == subset.actual).mean()"
   ]
  },
  {
   "cell_type": "code",
   "execution_count": 74,
   "id": "ea369d89",
   "metadata": {},
   "outputs": [],
   "source": [
    "model3_recall = (subset.model3 == subset.actual).mean()"
   ]
  },
  {
   "cell_type": "code",
   "execution_count": 75,
   "id": "62941bea",
   "metadata": {},
   "outputs": [],
   "source": [
    "model4_recall = (subset.model4 == subset.actual).mean()"
   ]
  },
  {
   "cell_type": "code",
   "execution_count": 76,
   "id": "56c10716",
   "metadata": {},
   "outputs": [
    {
     "name": "stdout",
     "output_type": "stream",
     "text": [
      "model 1 recall: 80.33%\n",
      "model 2 recall: 49.08%\n",
      "model 3 recall: 50.86%\n",
      "model 4 recall: 95.57%\n"
     ]
    }
   ],
   "source": [
    "print(f'model 1 recall: {model1_recall:.2%}')\n",
    "print(f'model 2 recall: {model2_recall:.2%}')\n",
    "print(f'model 3 recall: {model3_recall:.2%}')\n",
    "print(f'model 4 recall: {model4_recall:.2%}')"
   ]
  },
  {
   "cell_type": "markdown",
   "id": "d033be9a",
   "metadata": {},
   "source": [
    "**Model 4** has the highest recall rate, so we should use Model 4 for Phase II."
   ]
  },
  {
   "cell_type": "markdown",
   "id": "133d870b",
   "metadata": {},
   "source": [
    "### Apply the following functions to the data from the previous problem."
   ]
  },
  {
   "cell_type": "markdown",
   "id": "19f1ad04",
   "metadata": {},
   "source": [
    "#### sklearn.metrics.accuracy_score"
   ]
  },
  {
   "cell_type": "code",
   "execution_count": 78,
   "id": "fb7667f2",
   "metadata": {},
   "outputs": [],
   "source": [
    "from sklearn.metrics import accuracy_score"
   ]
  },
  {
   "cell_type": "code",
   "execution_count": 79,
   "id": "37374ac0",
   "metadata": {},
   "outputs": [
    {
     "data": {
      "text/plain": [
       "0.8074"
      ]
     },
     "execution_count": 79,
     "metadata": {},
     "output_type": "execute_result"
    }
   ],
   "source": [
    "accuracy_score(paws.model1, paws.actual)"
   ]
  },
  {
   "cell_type": "code",
   "execution_count": 80,
   "id": "df7c85e4",
   "metadata": {},
   "outputs": [
    {
     "data": {
      "text/plain": [
       "0.6304"
      ]
     },
     "execution_count": 80,
     "metadata": {},
     "output_type": "execute_result"
    }
   ],
   "source": [
    "accuracy_score(paws.model2, paws.actual)"
   ]
  },
  {
   "cell_type": "code",
   "execution_count": 81,
   "id": "efee5336",
   "metadata": {},
   "outputs": [
    {
     "data": {
      "text/plain": [
       "0.5096"
      ]
     },
     "execution_count": 81,
     "metadata": {},
     "output_type": "execute_result"
    }
   ],
   "source": [
    "accuracy_score(paws.model3, paws.actual)"
   ]
  },
  {
   "cell_type": "code",
   "execution_count": 82,
   "id": "83a9b0e7",
   "metadata": {},
   "outputs": [
    {
     "data": {
      "text/plain": [
       "0.7426"
      ]
     },
     "execution_count": 82,
     "metadata": {},
     "output_type": "execute_result"
    }
   ],
   "source": [
    "accuracy_score(paws.model4, paws.actual)"
   ]
  }
 ],
 "metadata": {
  "kernelspec": {
   "display_name": "Python 3",
   "language": "python",
   "name": "python3"
  },
  "language_info": {
   "codemirror_mode": {
    "name": "ipython",
    "version": 3
   },
   "file_extension": ".py",
   "mimetype": "text/x-python",
   "name": "python",
   "nbconvert_exporter": "python",
   "pygments_lexer": "ipython3",
   "version": "3.8.8"
  }
 },
 "nbformat": 4,
 "nbformat_minor": 5
}

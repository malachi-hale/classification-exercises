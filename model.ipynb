{
 "cells": [
  {
   "cell_type": "code",
   "execution_count": 57,
   "id": "5bde5f4c",
   "metadata": {},
   "outputs": [],
   "source": [
    "import pandas as pd\n",
    "from sklearn.dummy import DummyClassifier\n",
    "from sklearn.metrics import classification_report\n",
    "import acquire\n",
    "import prepare\n",
    "\n",
    "import warnings\n",
    "warnings.filterwarnings('ignore')"
   ]
  },
  {
   "cell_type": "markdown",
   "id": "85438639",
   "metadata": {},
   "source": [
    "# Decision Tree"
   ]
  },
  {
   "cell_type": "markdown",
   "id": "67ff9a14",
   "metadata": {},
   "source": [
    "## Acquire Data"
   ]
  },
  {
   "cell_type": "code",
   "execution_count": 58,
   "id": "e6aef708",
   "metadata": {},
   "outputs": [
    {
     "data": {
      "text/plain": [
       "((497, 15), (214, 15), (178, 15))"
      ]
     },
     "execution_count": 58,
     "metadata": {},
     "output_type": "execute_result"
    }
   ],
   "source": [
    "train, validate, test = prepare.prep_titanic(acquire.get_titanic_data())\n",
    "train.shape, validate.shape, test.shape"
   ]
  },
  {
   "cell_type": "code",
   "execution_count": 59,
   "id": "9ed45aa6",
   "metadata": {},
   "outputs": [],
   "source": [
    "X_train, y_train = train.drop(columns='survived'), train.survived\n",
    "X_validate, y_validate = validate.drop(columns='survived'), validate.survived\n",
    "X_test, y_test = test.drop(columns='survived'), test.survived"
   ]
  },
  {
   "cell_type": "markdown",
   "id": "72f4c50f",
   "metadata": {},
   "source": [
    "## Clean Data"
   ]
  },
  {
   "cell_type": "code",
   "execution_count": 60,
   "id": "9d512890",
   "metadata": {},
   "outputs": [
    {
     "data": {
      "text/html": [
       "<div>\n",
       "<style scoped>\n",
       "    .dataframe tbody tr th:only-of-type {\n",
       "        vertical-align: middle;\n",
       "    }\n",
       "\n",
       "    .dataframe tbody tr th {\n",
       "        vertical-align: top;\n",
       "    }\n",
       "\n",
       "    .dataframe thead th {\n",
       "        text-align: right;\n",
       "    }\n",
       "</style>\n",
       "<table border=\"1\" class=\"dataframe\">\n",
       "  <thead>\n",
       "    <tr style=\"text-align: right;\">\n",
       "      <th></th>\n",
       "      <th>Unnamed: 0</th>\n",
       "      <th>passenger_id</th>\n",
       "      <th>pclass</th>\n",
       "      <th>sex</th>\n",
       "      <th>age</th>\n",
       "      <th>sibsp</th>\n",
       "      <th>parch</th>\n",
       "      <th>fare</th>\n",
       "      <th>embarked</th>\n",
       "      <th>class</th>\n",
       "      <th>embark_town</th>\n",
       "      <th>alone</th>\n",
       "      <th>Q</th>\n",
       "      <th>S</th>\n",
       "    </tr>\n",
       "  </thead>\n",
       "  <tbody>\n",
       "    <tr>\n",
       "      <th>583</th>\n",
       "      <td>583</td>\n",
       "      <td>583</td>\n",
       "      <td>1</td>\n",
       "      <td>male</td>\n",
       "      <td>36.000000</td>\n",
       "      <td>0</td>\n",
       "      <td>0</td>\n",
       "      <td>40.1250</td>\n",
       "      <td>C</td>\n",
       "      <td>First</td>\n",
       "      <td>Cherbourg</td>\n",
       "      <td>1</td>\n",
       "      <td>0</td>\n",
       "      <td>0</td>\n",
       "    </tr>\n",
       "    <tr>\n",
       "      <th>337</th>\n",
       "      <td>337</td>\n",
       "      <td>337</td>\n",
       "      <td>1</td>\n",
       "      <td>female</td>\n",
       "      <td>41.000000</td>\n",
       "      <td>0</td>\n",
       "      <td>0</td>\n",
       "      <td>134.5000</td>\n",
       "      <td>C</td>\n",
       "      <td>First</td>\n",
       "      <td>Cherbourg</td>\n",
       "      <td>1</td>\n",
       "      <td>0</td>\n",
       "      <td>0</td>\n",
       "    </tr>\n",
       "    <tr>\n",
       "      <th>50</th>\n",
       "      <td>50</td>\n",
       "      <td>50</td>\n",
       "      <td>3</td>\n",
       "      <td>male</td>\n",
       "      <td>7.000000</td>\n",
       "      <td>4</td>\n",
       "      <td>1</td>\n",
       "      <td>39.6875</td>\n",
       "      <td>S</td>\n",
       "      <td>Third</td>\n",
       "      <td>Southampton</td>\n",
       "      <td>0</td>\n",
       "      <td>0</td>\n",
       "      <td>1</td>\n",
       "    </tr>\n",
       "    <tr>\n",
       "      <th>218</th>\n",
       "      <td>218</td>\n",
       "      <td>218</td>\n",
       "      <td>1</td>\n",
       "      <td>female</td>\n",
       "      <td>32.000000</td>\n",
       "      <td>0</td>\n",
       "      <td>0</td>\n",
       "      <td>76.2917</td>\n",
       "      <td>C</td>\n",
       "      <td>First</td>\n",
       "      <td>Cherbourg</td>\n",
       "      <td>1</td>\n",
       "      <td>0</td>\n",
       "      <td>0</td>\n",
       "    </tr>\n",
       "    <tr>\n",
       "      <th>31</th>\n",
       "      <td>31</td>\n",
       "      <td>31</td>\n",
       "      <td>1</td>\n",
       "      <td>female</td>\n",
       "      <td>29.916875</td>\n",
       "      <td>1</td>\n",
       "      <td>0</td>\n",
       "      <td>146.5208</td>\n",
       "      <td>C</td>\n",
       "      <td>First</td>\n",
       "      <td>Cherbourg</td>\n",
       "      <td>0</td>\n",
       "      <td>0</td>\n",
       "      <td>0</td>\n",
       "    </tr>\n",
       "  </tbody>\n",
       "</table>\n",
       "</div>"
      ],
      "text/plain": [
       "     Unnamed: 0  passenger_id  pclass     sex        age  sibsp  parch  \\\n",
       "583         583           583       1    male  36.000000      0      0   \n",
       "337         337           337       1  female  41.000000      0      0   \n",
       "50           50            50       3    male   7.000000      4      1   \n",
       "218         218           218       1  female  32.000000      0      0   \n",
       "31           31            31       1  female  29.916875      1      0   \n",
       "\n",
       "         fare embarked  class  embark_town  alone  Q  S  \n",
       "583   40.1250        C  First    Cherbourg      1  0  0  \n",
       "337  134.5000        C  First    Cherbourg      1  0  0  \n",
       "50    39.6875        S  Third  Southampton      0  0  1  \n",
       "218   76.2917        C  First    Cherbourg      1  0  0  \n",
       "31   146.5208        C  First    Cherbourg      0  0  0  "
      ]
     },
     "execution_count": 60,
     "metadata": {},
     "output_type": "execute_result"
    }
   ],
   "source": [
    "X_train.head()"
   ]
  },
  {
   "cell_type": "code",
   "execution_count": 49,
   "id": "7069cd59",
   "metadata": {},
   "outputs": [
    {
     "name": "stdout",
     "output_type": "stream",
     "text": [
      "<class 'pandas.core.frame.DataFrame'>\n",
      "Int64Index: 497 entries, 583 to 553\n",
      "Data columns (total 14 columns):\n",
      " #   Column        Non-Null Count  Dtype  \n",
      "---  ------        --------------  -----  \n",
      " 0   Unnamed: 0    497 non-null    int64  \n",
      " 1   passenger_id  497 non-null    int64  \n",
      " 2   pclass        497 non-null    int64  \n",
      " 3   sex           497 non-null    object \n",
      " 4   age           497 non-null    float64\n",
      " 5   sibsp         497 non-null    int64  \n",
      " 6   parch         497 non-null    int64  \n",
      " 7   fare          497 non-null    float64\n",
      " 8   embarked      497 non-null    object \n",
      " 9   class         497 non-null    object \n",
      " 10  embark_town   497 non-null    object \n",
      " 11  alone         497 non-null    int64  \n",
      " 12  Q             497 non-null    uint8  \n",
      " 13  S             497 non-null    uint8  \n",
      "dtypes: float64(2), int64(6), object(4), uint8(2)\n",
      "memory usage: 51.4+ KB\n"
     ]
    }
   ],
   "source": [
    "X_train.info()"
   ]
  },
  {
   "cell_type": "code",
   "execution_count": 50,
   "id": "68d36b4f",
   "metadata": {},
   "outputs": [],
   "source": [
    "def clean_data(df):\n",
    "    '''\n",
    "    This function will drop any duplicate observations, \n",
    "    drop ['deck', 'embarked', 'class', 'age'], fill missing embark_town with 'Southampton'\n",
    "    and create dummy vars from sex and embark_town. \n",
    "    '''\n",
    "    df = df.drop_duplicates()\n",
    "    df = df.drop(columns=['embarked', 'class', 'age'])\n",
    "    df['embark_town'] = df.embark_town.fillna(value='Southampton')\n",
    "    dummy_df = pd.get_dummies(df[['sex', 'embark_town']], drop_first=True)\n",
    "    df = pd.concat([df, dummy_df], axis=1)\n",
    "    return df"
   ]
  },
  {
   "cell_type": "code",
   "execution_count": 51,
   "id": "b7d8e96b",
   "metadata": {},
   "outputs": [],
   "source": [
    "X_train = clean_data(X_train)"
   ]
  },
  {
   "cell_type": "code",
   "execution_count": 52,
   "id": "7f8a0768",
   "metadata": {},
   "outputs": [
    {
     "data": {
      "text/html": [
       "<div>\n",
       "<style scoped>\n",
       "    .dataframe tbody tr th:only-of-type {\n",
       "        vertical-align: middle;\n",
       "    }\n",
       "\n",
       "    .dataframe tbody tr th {\n",
       "        vertical-align: top;\n",
       "    }\n",
       "\n",
       "    .dataframe thead th {\n",
       "        text-align: right;\n",
       "    }\n",
       "</style>\n",
       "<table border=\"1\" class=\"dataframe\">\n",
       "  <thead>\n",
       "    <tr style=\"text-align: right;\">\n",
       "      <th></th>\n",
       "      <th>Unnamed: 0</th>\n",
       "      <th>passenger_id</th>\n",
       "      <th>pclass</th>\n",
       "      <th>sex</th>\n",
       "      <th>sibsp</th>\n",
       "      <th>parch</th>\n",
       "      <th>fare</th>\n",
       "      <th>embark_town</th>\n",
       "      <th>alone</th>\n",
       "      <th>Q</th>\n",
       "      <th>S</th>\n",
       "      <th>sex_male</th>\n",
       "      <th>embark_town_Queenstown</th>\n",
       "      <th>embark_town_Southampton</th>\n",
       "    </tr>\n",
       "  </thead>\n",
       "  <tbody>\n",
       "    <tr>\n",
       "      <th>583</th>\n",
       "      <td>583</td>\n",
       "      <td>583</td>\n",
       "      <td>1</td>\n",
       "      <td>male</td>\n",
       "      <td>0</td>\n",
       "      <td>0</td>\n",
       "      <td>40.1250</td>\n",
       "      <td>Cherbourg</td>\n",
       "      <td>1</td>\n",
       "      <td>0</td>\n",
       "      <td>0</td>\n",
       "      <td>1</td>\n",
       "      <td>0</td>\n",
       "      <td>0</td>\n",
       "    </tr>\n",
       "    <tr>\n",
       "      <th>337</th>\n",
       "      <td>337</td>\n",
       "      <td>337</td>\n",
       "      <td>1</td>\n",
       "      <td>female</td>\n",
       "      <td>0</td>\n",
       "      <td>0</td>\n",
       "      <td>134.5000</td>\n",
       "      <td>Cherbourg</td>\n",
       "      <td>1</td>\n",
       "      <td>0</td>\n",
       "      <td>0</td>\n",
       "      <td>0</td>\n",
       "      <td>0</td>\n",
       "      <td>0</td>\n",
       "    </tr>\n",
       "    <tr>\n",
       "      <th>50</th>\n",
       "      <td>50</td>\n",
       "      <td>50</td>\n",
       "      <td>3</td>\n",
       "      <td>male</td>\n",
       "      <td>4</td>\n",
       "      <td>1</td>\n",
       "      <td>39.6875</td>\n",
       "      <td>Southampton</td>\n",
       "      <td>0</td>\n",
       "      <td>0</td>\n",
       "      <td>1</td>\n",
       "      <td>1</td>\n",
       "      <td>0</td>\n",
       "      <td>1</td>\n",
       "    </tr>\n",
       "    <tr>\n",
       "      <th>218</th>\n",
       "      <td>218</td>\n",
       "      <td>218</td>\n",
       "      <td>1</td>\n",
       "      <td>female</td>\n",
       "      <td>0</td>\n",
       "      <td>0</td>\n",
       "      <td>76.2917</td>\n",
       "      <td>Cherbourg</td>\n",
       "      <td>1</td>\n",
       "      <td>0</td>\n",
       "      <td>0</td>\n",
       "      <td>0</td>\n",
       "      <td>0</td>\n",
       "      <td>0</td>\n",
       "    </tr>\n",
       "    <tr>\n",
       "      <th>31</th>\n",
       "      <td>31</td>\n",
       "      <td>31</td>\n",
       "      <td>1</td>\n",
       "      <td>female</td>\n",
       "      <td>1</td>\n",
       "      <td>0</td>\n",
       "      <td>146.5208</td>\n",
       "      <td>Cherbourg</td>\n",
       "      <td>0</td>\n",
       "      <td>0</td>\n",
       "      <td>0</td>\n",
       "      <td>0</td>\n",
       "      <td>0</td>\n",
       "      <td>0</td>\n",
       "    </tr>\n",
       "  </tbody>\n",
       "</table>\n",
       "</div>"
      ],
      "text/plain": [
       "     Unnamed: 0  passenger_id  pclass     sex  sibsp  parch      fare  \\\n",
       "583         583           583       1    male      0      0   40.1250   \n",
       "337         337           337       1  female      0      0  134.5000   \n",
       "50           50            50       3    male      4      1   39.6875   \n",
       "218         218           218       1  female      0      0   76.2917   \n",
       "31           31            31       1  female      1      0  146.5208   \n",
       "\n",
       "     embark_town  alone  Q  S  sex_male  embark_town_Queenstown  \\\n",
       "583    Cherbourg      1  0  0         1                       0   \n",
       "337    Cherbourg      1  0  0         0                       0   \n",
       "50   Southampton      0  0  1         1                       0   \n",
       "218    Cherbourg      1  0  0         0                       0   \n",
       "31     Cherbourg      0  0  0         0                       0   \n",
       "\n",
       "     embark_town_Southampton  \n",
       "583                        0  \n",
       "337                        0  \n",
       "50                         1  \n",
       "218                        0  \n",
       "31                         0  "
      ]
     },
     "execution_count": 52,
     "metadata": {},
     "output_type": "execute_result"
    }
   ],
   "source": [
    "X_train.head()"
   ]
  },
  {
   "cell_type": "code",
   "execution_count": 53,
   "id": "00a0175a",
   "metadata": {},
   "outputs": [],
   "source": [
    "X_train = X_train.drop(['sex', 'embark_town'], axis=1)"
   ]
  },
  {
   "cell_type": "code",
   "execution_count": 54,
   "id": "7fe9249c",
   "metadata": {},
   "outputs": [
    {
     "data": {
      "text/plain": [
       "583    0\n",
       "337    1\n",
       "50     0\n",
       "218    1\n",
       "31     1\n",
       "Name: survived, dtype: int64"
      ]
     },
     "execution_count": 54,
     "metadata": {},
     "output_type": "execute_result"
    }
   ],
   "source": [
    "y_train.head()"
   ]
  },
  {
   "cell_type": "markdown",
   "id": "6a7de886",
   "metadata": {},
   "source": [
    "### What is your baseline prediction?"
   ]
  },
  {
   "cell_type": "code",
   "execution_count": 32,
   "id": "537fabe5",
   "metadata": {},
   "outputs": [
    {
     "data": {
      "text/plain": [
       "0    307\n",
       "1    190\n",
       "Name: survived, dtype: int64"
      ]
     },
     "execution_count": 32,
     "metadata": {},
     "output_type": "execute_result"
    }
   ],
   "source": [
    "train.survived.value_counts()"
   ]
  },
  {
   "cell_type": "markdown",
   "id": "614e607d",
   "metadata": {},
   "source": [
    "As we can see above, the majority of passengers died, so our baseline assumption is that all passengers died."
   ]
  },
  {
   "cell_type": "markdown",
   "id": "2c0104b7",
   "metadata": {},
   "source": [
    "### What is your baseline accuracy"
   ]
  },
  {
   "cell_type": "markdown",
   "id": "f9d7eae0",
   "metadata": {},
   "source": [
    "Create the object."
   ]
  },
  {
   "cell_type": "code",
   "execution_count": 33,
   "id": "35d52326",
   "metadata": {},
   "outputs": [],
   "source": [
    "model = DummyClassifier(strategy='constant', constant=0)"
   ]
  },
  {
   "cell_type": "markdown",
   "id": "ddbf7a36",
   "metadata": {},
   "source": [
    "Fit the object."
   ]
  },
  {
   "cell_type": "code",
   "execution_count": 34,
   "id": "d6095b38",
   "metadata": {},
   "outputs": [
    {
     "data": {
      "text/plain": [
       "DummyClassifier(constant=0, strategy='constant')"
      ]
     },
     "execution_count": 34,
     "metadata": {},
     "output_type": "execute_result"
    }
   ],
   "source": [
    "model.fit(X_train, y_train)"
   ]
  },
  {
   "cell_type": "code",
   "execution_count": 35,
   "id": "d0d9d458",
   "metadata": {
    "scrolled": true
   },
   "outputs": [
    {
     "name": "stdout",
     "output_type": "stream",
     "text": [
      "Training accuracy: 0.62\n"
     ]
    }
   ],
   "source": [
    "accuracy = round(model.score(X_train, y_train), 2)\n",
    "print(f'Training accuracy: {accuracy}')"
   ]
  },
  {
   "cell_type": "markdown",
   "id": "e7a6cafc",
   "metadata": {},
   "source": [
    "### Fit the decision tree classifier to your training sample and transform"
   ]
  },
  {
   "cell_type": "code",
   "execution_count": 183,
   "id": "0d1d7690",
   "metadata": {},
   "outputs": [],
   "source": [
    "from sklearn.model_selection import train_test_split\n",
    "from sklearn.tree import DecisionTreeClassifier\n",
    "from sklearn.tree import export_graphviz\n",
    "from sklearn.metrics import classification_report\n",
    "from sklearn.metrics import confusion_matrix\n",
    "import graphviz\n",
    "from graphviz import Graph\n",
    "from sklearn import tree\n",
    "import numpy\n",
    "from sklearn.metrics import accuracy_score\n",
    "from sklearn.metrics import precision_score\n",
    "from sklearn.metrics import recall_score\n",
    "from sklearn.metrics import f1_score"
   ]
  },
  {
   "cell_type": "code",
   "execution_count": 184,
   "id": "cf99e714",
   "metadata": {},
   "outputs": [],
   "source": [
    "clf1 = DecisionTreeClassifier(max_depth=3, random_state=123)"
   ]
  },
  {
   "cell_type": "code",
   "execution_count": 185,
   "id": "dfe95284",
   "metadata": {},
   "outputs": [],
   "source": [
    "clf1 = clf1.fit(X_train, y_train)"
   ]
  },
  {
   "cell_type": "code",
   "execution_count": 186,
   "id": "88bef5b7",
   "metadata": {},
   "outputs": [
    {
     "data": {
      "text/plain": [
       "DecisionTreeClassifier(max_depth=3, random_state=123)"
      ]
     },
     "execution_count": 186,
     "metadata": {},
     "output_type": "execute_result"
    }
   ],
   "source": [
    "clf1"
   ]
  },
  {
   "cell_type": "code",
   "execution_count": 187,
   "id": "ac01430b",
   "metadata": {},
   "outputs": [
    {
     "data": {
      "text/plain": [
       "'titanic_tree.pdf'"
      ]
     },
     "execution_count": 187,
     "metadata": {},
     "output_type": "execute_result"
    }
   ],
   "source": [
    "dot_data = export_graphviz(clf1, feature_names= X_train.columns, rounded=True, filled=True, out_file=None)\n",
    "graph = graphviz.Source(dot_data) \n",
    "\n",
    "graph.render('titanic_tree', view=True)"
   ]
  },
  {
   "cell_type": "code",
   "execution_count": 188,
   "id": "f1335f00",
   "metadata": {},
   "outputs": [],
   "source": [
    "y_pred = clf1.predict(X_train)"
   ]
  },
  {
   "cell_type": "code",
   "execution_count": 189,
   "id": "ce63ed1d",
   "metadata": {},
   "outputs": [],
   "source": [
    "y_pred_proba = clf1.predict_proba(X_train)"
   ]
  },
  {
   "cell_type": "code",
   "execution_count": 190,
   "id": "3103da33",
   "metadata": {
    "scrolled": true
   },
   "outputs": [
    {
     "data": {
      "text/html": [
       "<div>\n",
       "<style scoped>\n",
       "    .dataframe tbody tr th:only-of-type {\n",
       "        vertical-align: middle;\n",
       "    }\n",
       "\n",
       "    .dataframe tbody tr th {\n",
       "        vertical-align: top;\n",
       "    }\n",
       "\n",
       "    .dataframe thead th {\n",
       "        text-align: right;\n",
       "    }\n",
       "</style>\n",
       "<table border=\"1\" class=\"dataframe\">\n",
       "  <thead>\n",
       "    <tr style=\"text-align: right;\">\n",
       "      <th></th>\n",
       "      <th>0</th>\n",
       "      <th>1</th>\n",
       "    </tr>\n",
       "  </thead>\n",
       "  <tbody>\n",
       "    <tr>\n",
       "      <th>0</th>\n",
       "      <td>0.525424</td>\n",
       "      <td>0.474576</td>\n",
       "    </tr>\n",
       "    <tr>\n",
       "      <th>1</th>\n",
       "      <td>0.012821</td>\n",
       "      <td>0.987179</td>\n",
       "    </tr>\n",
       "    <tr>\n",
       "      <th>2</th>\n",
       "      <td>0.722222</td>\n",
       "      <td>0.277778</td>\n",
       "    </tr>\n",
       "    <tr>\n",
       "      <th>3</th>\n",
       "      <td>0.012821</td>\n",
       "      <td>0.987179</td>\n",
       "    </tr>\n",
       "    <tr>\n",
       "      <th>4</th>\n",
       "      <td>0.187500</td>\n",
       "      <td>0.812500</td>\n",
       "    </tr>\n",
       "  </tbody>\n",
       "</table>\n",
       "</div>"
      ],
      "text/plain": [
       "          0         1\n",
       "0  0.525424  0.474576\n",
       "1  0.012821  0.987179\n",
       "2  0.722222  0.277778\n",
       "3  0.012821  0.987179\n",
       "4  0.187500  0.812500"
      ]
     },
     "execution_count": 190,
     "metadata": {},
     "output_type": "execute_result"
    }
   ],
   "source": [
    "y_probability = pd.DataFrame(y_pred_proba)\n",
    "y_probability.head()"
   ]
  },
  {
   "cell_type": "markdown",
   "id": "3a1c8313",
   "metadata": {},
   "source": [
    "### Evaluate your in-sample results using the model score, confusion matrix, and classification report."
   ]
  },
  {
   "cell_type": "markdown",
   "id": "ba16c3b2",
   "metadata": {},
   "source": [
    "**Accuracy Score**"
   ]
  },
  {
   "cell_type": "code",
   "execution_count": 191,
   "id": "81c444f8",
   "metadata": {},
   "outputs": [
    {
     "name": "stdout",
     "output_type": "stream",
     "text": [
      "Accuracy of Decision Tree classifier on training set: 0.81\n"
     ]
    }
   ],
   "source": [
    "print('Accuracy of Decision Tree classifier on training set: {:.2f}'\n",
    "      .format(clf1.score(X_train, y_train)))"
   ]
  },
  {
   "cell_type": "markdown",
   "id": "dc54e77f",
   "metadata": {},
   "source": [
    "**Confusion Matrix**"
   ]
  },
  {
   "cell_type": "code",
   "execution_count": 192,
   "id": "3e6f8780",
   "metadata": {},
   "outputs": [
    {
     "data": {
      "text/plain": [
       "array([[279,  28],\n",
       "       [ 66, 124]])"
      ]
     },
     "execution_count": 192,
     "metadata": {},
     "output_type": "execute_result"
    }
   ],
   "source": [
    "confusion_matrix(y_train, y_pred)"
   ]
  },
  {
   "cell_type": "code",
   "execution_count": 193,
   "id": "4ca364c0",
   "metadata": {},
   "outputs": [
    {
     "data": {
      "text/plain": [
       "0    307\n",
       "1    190\n",
       "Name: survived, dtype: int64"
      ]
     },
     "execution_count": 193,
     "metadata": {},
     "output_type": "execute_result"
    }
   ],
   "source": [
    "y_train.value_counts()"
   ]
  },
  {
   "cell_type": "code",
   "execution_count": 194,
   "id": "7a401821",
   "metadata": {},
   "outputs": [
    {
     "data": {
      "text/html": [
       "<div>\n",
       "<style scoped>\n",
       "    .dataframe tbody tr th:only-of-type {\n",
       "        vertical-align: middle;\n",
       "    }\n",
       "\n",
       "    .dataframe tbody tr th {\n",
       "        vertical-align: top;\n",
       "    }\n",
       "\n",
       "    .dataframe thead th {\n",
       "        text-align: right;\n",
       "    }\n",
       "</style>\n",
       "<table border=\"1\" class=\"dataframe\">\n",
       "  <thead>\n",
       "    <tr style=\"text-align: right;\">\n",
       "      <th></th>\n",
       "      <th>died_predict</th>\n",
       "      <th>survived_predict</th>\n",
       "    </tr>\n",
       "  </thead>\n",
       "  <tbody>\n",
       "    <tr>\n",
       "      <th>died_actual</th>\n",
       "      <td>279</td>\n",
       "      <td>28</td>\n",
       "    </tr>\n",
       "    <tr>\n",
       "      <th>survived_actual</th>\n",
       "      <td>66</td>\n",
       "      <td>124</td>\n",
       "    </tr>\n",
       "  </tbody>\n",
       "</table>\n",
       "</div>"
      ],
      "text/plain": [
       "                 died_predict  survived_predict\n",
       "died_actual               279                28\n",
       "survived_actual            66               124"
      ]
     },
     "execution_count": 194,
     "metadata": {},
     "output_type": "execute_result"
    }
   ],
   "source": [
    "labels1 = ['died_actual', 'survived_actual']\n",
    "labels2 = ['died_predict', 'survived_predict']\n",
    "\n",
    "pd.DataFrame(confusion_matrix(y_train, y_pred), index=labels1, columns=labels2)"
   ]
  },
  {
   "cell_type": "markdown",
   "id": "dc0c06d8",
   "metadata": {},
   "source": [
    "**Classification report**"
   ]
  },
  {
   "cell_type": "code",
   "execution_count": 195,
   "id": "d5caec67",
   "metadata": {},
   "outputs": [],
   "source": [
    "report_train_depth_three = classification_report(y_train, y_pred, output_dict = True)"
   ]
  },
  {
   "cell_type": "code",
   "execution_count": 196,
   "id": "4209fa0c",
   "metadata": {},
   "outputs": [],
   "source": [
    "df_report_train_depth_three = pd.DataFrame(report_train_depth_three).T"
   ]
  },
  {
   "cell_type": "code",
   "execution_count": 197,
   "id": "ba756fe6",
   "metadata": {},
   "outputs": [
    {
     "data": {
      "text/html": [
       "<div>\n",
       "<style scoped>\n",
       "    .dataframe tbody tr th:only-of-type {\n",
       "        vertical-align: middle;\n",
       "    }\n",
       "\n",
       "    .dataframe tbody tr th {\n",
       "        vertical-align: top;\n",
       "    }\n",
       "\n",
       "    .dataframe thead th {\n",
       "        text-align: right;\n",
       "    }\n",
       "</style>\n",
       "<table border=\"1\" class=\"dataframe\">\n",
       "  <thead>\n",
       "    <tr style=\"text-align: right;\">\n",
       "      <th></th>\n",
       "      <th>precision</th>\n",
       "      <th>recall</th>\n",
       "      <th>f1-score</th>\n",
       "      <th>support</th>\n",
       "    </tr>\n",
       "  </thead>\n",
       "  <tbody>\n",
       "    <tr>\n",
       "      <th>0</th>\n",
       "      <td>0.808696</td>\n",
       "      <td>0.908795</td>\n",
       "      <td>0.855828</td>\n",
       "      <td>307.000000</td>\n",
       "    </tr>\n",
       "    <tr>\n",
       "      <th>1</th>\n",
       "      <td>0.815789</td>\n",
       "      <td>0.652632</td>\n",
       "      <td>0.725146</td>\n",
       "      <td>190.000000</td>\n",
       "    </tr>\n",
       "    <tr>\n",
       "      <th>accuracy</th>\n",
       "      <td>0.810865</td>\n",
       "      <td>0.810865</td>\n",
       "      <td>0.810865</td>\n",
       "      <td>0.810865</td>\n",
       "    </tr>\n",
       "    <tr>\n",
       "      <th>macro avg</th>\n",
       "      <td>0.812243</td>\n",
       "      <td>0.780713</td>\n",
       "      <td>0.790487</td>\n",
       "      <td>497.000000</td>\n",
       "    </tr>\n",
       "    <tr>\n",
       "      <th>weighted avg</th>\n",
       "      <td>0.811408</td>\n",
       "      <td>0.810865</td>\n",
       "      <td>0.805869</td>\n",
       "      <td>497.000000</td>\n",
       "    </tr>\n",
       "  </tbody>\n",
       "</table>\n",
       "</div>"
      ],
      "text/plain": [
       "              precision    recall  f1-score     support\n",
       "0              0.808696  0.908795  0.855828  307.000000\n",
       "1              0.815789  0.652632  0.725146  190.000000\n",
       "accuracy       0.810865  0.810865  0.810865    0.810865\n",
       "macro avg      0.812243  0.780713  0.790487  497.000000\n",
       "weighted avg   0.811408  0.810865  0.805869  497.000000"
      ]
     },
     "execution_count": 197,
     "metadata": {},
     "output_type": "execute_result"
    }
   ],
   "source": [
    "df_report_train_depth_three"
   ]
  },
  {
   "cell_type": "markdown",
   "id": "9b0b236b",
   "metadata": {},
   "source": [
    "### Now we'll take a look at the validate model."
   ]
  },
  {
   "cell_type": "markdown",
   "id": "ef5b2002",
   "metadata": {},
   "source": [
    "**Clean the data**"
   ]
  },
  {
   "cell_type": "code",
   "execution_count": 198,
   "id": "fb146511",
   "metadata": {},
   "outputs": [],
   "source": [
    "X_validate = clean_data(X_validate)"
   ]
  },
  {
   "cell_type": "code",
   "execution_count": 199,
   "id": "d1f5e84e",
   "metadata": {},
   "outputs": [],
   "source": [
    "X_validate = X_validate.drop(['sex', 'embark_town'], axis=1)"
   ]
  },
  {
   "cell_type": "markdown",
   "id": "bc60a262",
   "metadata": {},
   "source": [
    "**Accuracy Score**"
   ]
  },
  {
   "cell_type": "code",
   "execution_count": 200,
   "id": "ba101a11",
   "metadata": {},
   "outputs": [],
   "source": [
    "y_pred_validate_depth_three = clf1.predict(X_validate)"
   ]
  },
  {
   "cell_type": "code",
   "execution_count": 201,
   "id": "d38d1772",
   "metadata": {},
   "outputs": [
    {
     "name": "stdout",
     "output_type": "stream",
     "text": [
      "Accuracy of Decision Tree classifier on training set: 0.79\n"
     ]
    }
   ],
   "source": [
    "print('Accuracy of Decision Tree classifier on training set: {:.2f}'\n",
    "      .format(clf1.score(X_validate, y_validate)))"
   ]
  },
  {
   "cell_type": "markdown",
   "id": "c8ea844b",
   "metadata": {},
   "source": [
    "**Confusion Matrix**"
   ]
  },
  {
   "cell_type": "code",
   "execution_count": 202,
   "id": "34f6ef9d",
   "metadata": {},
   "outputs": [
    {
     "data": {
      "text/html": [
       "<div>\n",
       "<style scoped>\n",
       "    .dataframe tbody tr th:only-of-type {\n",
       "        vertical-align: middle;\n",
       "    }\n",
       "\n",
       "    .dataframe tbody tr th {\n",
       "        vertical-align: top;\n",
       "    }\n",
       "\n",
       "    .dataframe thead th {\n",
       "        text-align: right;\n",
       "    }\n",
       "</style>\n",
       "<table border=\"1\" class=\"dataframe\">\n",
       "  <thead>\n",
       "    <tr style=\"text-align: right;\">\n",
       "      <th></th>\n",
       "      <th>died_predict</th>\n",
       "      <th>survived_predict</th>\n",
       "    </tr>\n",
       "  </thead>\n",
       "  <tbody>\n",
       "    <tr>\n",
       "      <th>died_actual</th>\n",
       "      <td>117</td>\n",
       "      <td>15</td>\n",
       "    </tr>\n",
       "    <tr>\n",
       "      <th>survived_actual</th>\n",
       "      <td>30</td>\n",
       "      <td>52</td>\n",
       "    </tr>\n",
       "  </tbody>\n",
       "</table>\n",
       "</div>"
      ],
      "text/plain": [
       "                 died_predict  survived_predict\n",
       "died_actual               117                15\n",
       "survived_actual            30                52"
      ]
     },
     "execution_count": 202,
     "metadata": {},
     "output_type": "execute_result"
    }
   ],
   "source": [
    "labels1 = ['died_actual', 'survived_actual']\n",
    "labels2 = ['died_predict', 'survived_predict']\n",
    "\n",
    "pd.DataFrame(confusion_matrix(y_validate, y_pred_validate_depth_three), index=labels1, columns=labels2)"
   ]
  },
  {
   "cell_type": "markdown",
   "id": "dc0161e9",
   "metadata": {},
   "source": [
    "**Create a classification table**"
   ]
  },
  {
   "cell_type": "code",
   "execution_count": 203,
   "id": "82a472fa",
   "metadata": {},
   "outputs": [],
   "source": [
    "report_validate_depth_three = classification_report(y_validate, y_pred_validate_depth_three, output_dict = True)"
   ]
  },
  {
   "cell_type": "code",
   "execution_count": 204,
   "id": "c001ed66",
   "metadata": {},
   "outputs": [],
   "source": [
    "df_report_validate_depth_three = pd.DataFrame(report_validate_depth_three).T"
   ]
  },
  {
   "cell_type": "code",
   "execution_count": 205,
   "id": "646979a4",
   "metadata": {},
   "outputs": [
    {
     "data": {
      "text/html": [
       "<div>\n",
       "<style scoped>\n",
       "    .dataframe tbody tr th:only-of-type {\n",
       "        vertical-align: middle;\n",
       "    }\n",
       "\n",
       "    .dataframe tbody tr th {\n",
       "        vertical-align: top;\n",
       "    }\n",
       "\n",
       "    .dataframe thead th {\n",
       "        text-align: right;\n",
       "    }\n",
       "</style>\n",
       "<table border=\"1\" class=\"dataframe\">\n",
       "  <thead>\n",
       "    <tr style=\"text-align: right;\">\n",
       "      <th></th>\n",
       "      <th>precision</th>\n",
       "      <th>recall</th>\n",
       "      <th>f1-score</th>\n",
       "      <th>support</th>\n",
       "    </tr>\n",
       "  </thead>\n",
       "  <tbody>\n",
       "    <tr>\n",
       "      <th>0</th>\n",
       "      <td>0.795918</td>\n",
       "      <td>0.886364</td>\n",
       "      <td>0.838710</td>\n",
       "      <td>132.00000</td>\n",
       "    </tr>\n",
       "    <tr>\n",
       "      <th>1</th>\n",
       "      <td>0.776119</td>\n",
       "      <td>0.634146</td>\n",
       "      <td>0.697987</td>\n",
       "      <td>82.00000</td>\n",
       "    </tr>\n",
       "    <tr>\n",
       "      <th>accuracy</th>\n",
       "      <td>0.789720</td>\n",
       "      <td>0.789720</td>\n",
       "      <td>0.789720</td>\n",
       "      <td>0.78972</td>\n",
       "    </tr>\n",
       "    <tr>\n",
       "      <th>macro avg</th>\n",
       "      <td>0.786019</td>\n",
       "      <td>0.760255</td>\n",
       "      <td>0.768348</td>\n",
       "      <td>214.00000</td>\n",
       "    </tr>\n",
       "    <tr>\n",
       "      <th>weighted avg</th>\n",
       "      <td>0.788332</td>\n",
       "      <td>0.789720</td>\n",
       "      <td>0.784788</td>\n",
       "      <td>214.00000</td>\n",
       "    </tr>\n",
       "  </tbody>\n",
       "</table>\n",
       "</div>"
      ],
      "text/plain": [
       "              precision    recall  f1-score    support\n",
       "0              0.795918  0.886364  0.838710  132.00000\n",
       "1              0.776119  0.634146  0.697987   82.00000\n",
       "accuracy       0.789720  0.789720  0.789720    0.78972\n",
       "macro avg      0.786019  0.760255  0.768348  214.00000\n",
       "weighted avg   0.788332  0.789720  0.784788  214.00000"
      ]
     },
     "execution_count": 205,
     "metadata": {},
     "output_type": "execute_result"
    }
   ],
   "source": [
    "df_report_validate_depth_three"
   ]
  },
  {
   "cell_type": "markdown",
   "id": "540c5694",
   "metadata": {},
   "source": [
    "### Compute: Accuracy, true positive rate, false positive rate, true negative rate, false negative rate, precision, recall, f1-score, and support."
   ]
  },
  {
   "cell_type": "markdown",
   "id": "8474f115",
   "metadata": {},
   "source": [
    "**Accuracy**"
   ]
  },
  {
   "cell_type": "code",
   "execution_count": 206,
   "id": "9dd6ce8e",
   "metadata": {},
   "outputs": [
    {
     "data": {
      "text/plain": [
       "0.8108651911468813"
      ]
     },
     "execution_count": 206,
     "metadata": {},
     "output_type": "execute_result"
    }
   ],
   "source": [
    "model_accuracy = accuracy_score(y_train, y_pred)\n",
    "model_accuracy"
   ]
  },
  {
   "cell_type": "markdown",
   "id": "63c4c73f",
   "metadata": {},
   "source": [
    "**True Positive Rate**"
   ]
  },
  {
   "cell_type": "code",
   "execution_count": 207,
   "id": "42e7b2f2",
   "metadata": {},
   "outputs": [],
   "source": [
    "true_positive = 128 \n",
    "false_negative = 62\n",
    "true_negative = 279\n",
    "false_positive = 28"
   ]
  },
  {
   "cell_type": "code",
   "execution_count": 208,
   "id": "2d8963f1",
   "metadata": {},
   "outputs": [
    {
     "data": {
      "text/plain": [
       "0.6736842105263158"
      ]
     },
     "execution_count": 208,
     "metadata": {},
     "output_type": "execute_result"
    }
   ],
   "source": [
    "true_positive_rate = (true_positive)/(true_positive + false_negative)\n",
    "true_positive_rate"
   ]
  },
  {
   "cell_type": "markdown",
   "id": "7dac863d",
   "metadata": {},
   "source": [
    "**False Positive Rate**"
   ]
  },
  {
   "cell_type": "code",
   "execution_count": 209,
   "id": "b9a386db",
   "metadata": {},
   "outputs": [
    {
     "data": {
      "text/plain": [
       "0.09120521172638436"
      ]
     },
     "execution_count": 209,
     "metadata": {},
     "output_type": "execute_result"
    }
   ],
   "source": [
    "false_positive_rate = (false_positive)/(false_positive+true_negative)\n",
    "false_positive_rate"
   ]
  },
  {
   "cell_type": "markdown",
   "id": "b3bb6427",
   "metadata": {},
   "source": [
    "**True Negative Rate**"
   ]
  },
  {
   "cell_type": "code",
   "execution_count": 210,
   "id": "b47eb1b0",
   "metadata": {},
   "outputs": [
    {
     "data": {
      "text/plain": [
       "0.9087947882736156"
      ]
     },
     "execution_count": 210,
     "metadata": {},
     "output_type": "execute_result"
    }
   ],
   "source": [
    "true_negative_rate = (true_negative)/(true_negative + false_positive)\n",
    "true_negative_rate"
   ]
  },
  {
   "cell_type": "markdown",
   "id": "e6f41a61",
   "metadata": {},
   "source": [
    "**False Negative Rate**"
   ]
  },
  {
   "cell_type": "code",
   "execution_count": 211,
   "id": "f9f2e6ab",
   "metadata": {},
   "outputs": [
    {
     "data": {
      "text/plain": [
       "0.3263157894736842"
      ]
     },
     "execution_count": 211,
     "metadata": {},
     "output_type": "execute_result"
    }
   ],
   "source": [
    "false_negative_rate = (false_negative)/(false_negative + true_positive)\n",
    "false_negative_rate"
   ]
  },
  {
   "cell_type": "markdown",
   "id": "19254a41",
   "metadata": {},
   "source": [
    "**Precision**"
   ]
  },
  {
   "cell_type": "code",
   "execution_count": 212,
   "id": "95bdb070",
   "metadata": {},
   "outputs": [
    {
     "data": {
      "text/plain": [
       "0.8157894736842105"
      ]
     },
     "execution_count": 212,
     "metadata": {},
     "output_type": "execute_result"
    }
   ],
   "source": [
    "model_precision = precision_score(y_train, y_pred, pos_label= 1)\n",
    "model_precision"
   ]
  },
  {
   "cell_type": "markdown",
   "id": "97fd302b",
   "metadata": {},
   "source": [
    "**Recall**"
   ]
  },
  {
   "cell_type": "code",
   "execution_count": 213,
   "id": "a4bce48d",
   "metadata": {},
   "outputs": [
    {
     "data": {
      "text/plain": [
       "0.6526315789473685"
      ]
     },
     "execution_count": 213,
     "metadata": {},
     "output_type": "execute_result"
    }
   ],
   "source": [
    "model_recall = recall_score(y_train, y_pred, pos_label = 1)\n",
    "model_recall"
   ]
  },
  {
   "cell_type": "markdown",
   "id": "be6c2fb6",
   "metadata": {},
   "source": [
    "**f-1 score**"
   ]
  },
  {
   "cell_type": "code",
   "execution_count": 214,
   "id": "06e51ff1",
   "metadata": {},
   "outputs": [
    {
     "data": {
      "text/plain": [
       "array([0.85582822, 0.7251462 ])"
      ]
     },
     "execution_count": 214,
     "metadata": {},
     "output_type": "execute_result"
    }
   ],
   "source": [
    "model_f1_score = f1_score(y_train, y_pred, average=None)\n",
    "model_f1_score"
   ]
  },
  {
   "cell_type": "markdown",
   "id": "020b60f3",
   "metadata": {},
   "source": [
    "**Support**"
   ]
  },
  {
   "cell_type": "code",
   "execution_count": 215,
   "id": "4ef49cfd",
   "metadata": {},
   "outputs": [
    {
     "data": {
      "text/plain": [
       "0    307\n",
       "1    190\n",
       "Name: survived, dtype: int64"
      ]
     },
     "execution_count": 215,
     "metadata": {},
     "output_type": "execute_result"
    }
   ],
   "source": [
    "y_train.value_counts()"
   ]
  },
  {
   "cell_type": "code",
   "execution_count": 216,
   "id": "28da756f",
   "metadata": {},
   "outputs": [],
   "source": [
    "y_pred_df = pd.DataFrame(y_pred)"
   ]
  },
  {
   "cell_type": "code",
   "execution_count": 217,
   "id": "3fd9097f",
   "metadata": {},
   "outputs": [
    {
     "data": {
      "text/html": [
       "<div>\n",
       "<style scoped>\n",
       "    .dataframe tbody tr th:only-of-type {\n",
       "        vertical-align: middle;\n",
       "    }\n",
       "\n",
       "    .dataframe tbody tr th {\n",
       "        vertical-align: top;\n",
       "    }\n",
       "\n",
       "    .dataframe thead th {\n",
       "        text-align: right;\n",
       "    }\n",
       "</style>\n",
       "<table border=\"1\" class=\"dataframe\">\n",
       "  <thead>\n",
       "    <tr style=\"text-align: right;\">\n",
       "      <th></th>\n",
       "      <th>0</th>\n",
       "    </tr>\n",
       "  </thead>\n",
       "  <tbody>\n",
       "    <tr>\n",
       "      <th>0</th>\n",
       "      <td>0</td>\n",
       "    </tr>\n",
       "    <tr>\n",
       "      <th>1</th>\n",
       "      <td>1</td>\n",
       "    </tr>\n",
       "    <tr>\n",
       "      <th>2</th>\n",
       "      <td>0</td>\n",
       "    </tr>\n",
       "    <tr>\n",
       "      <th>3</th>\n",
       "      <td>1</td>\n",
       "    </tr>\n",
       "    <tr>\n",
       "      <th>4</th>\n",
       "      <td>1</td>\n",
       "    </tr>\n",
       "  </tbody>\n",
       "</table>\n",
       "</div>"
      ],
      "text/plain": [
       "   0\n",
       "0  0\n",
       "1  1\n",
       "2  0\n",
       "3  1\n",
       "4  1"
      ]
     },
     "execution_count": 217,
     "metadata": {},
     "output_type": "execute_result"
    }
   ],
   "source": [
    "y_pred_df.head()"
   ]
  },
  {
   "cell_type": "code",
   "execution_count": 218,
   "id": "43ffd700",
   "metadata": {},
   "outputs": [
    {
     "data": {
      "text/plain": [
       "345"
      ]
     },
     "execution_count": 218,
     "metadata": {},
     "output_type": "execute_result"
    }
   ],
   "source": [
    "y0 = y_pred_df[y_pred_df[0] == 0]\n",
    "y0.size"
   ]
  },
  {
   "cell_type": "code",
   "execution_count": 219,
   "id": "3a407cc8",
   "metadata": {},
   "outputs": [
    {
     "data": {
      "text/plain": [
       "152"
      ]
     },
     "execution_count": 219,
     "metadata": {},
     "output_type": "execute_result"
    }
   ],
   "source": [
    "y1 = y_pred_df[y_pred_df[0] == 1]\n",
    "y1.size"
   ]
  },
  {
   "cell_type": "markdown",
   "id": "cc7d74d9",
   "metadata": {},
   "source": [
    "## Run through steps 2-4 using a different max_depth value."
   ]
  },
  {
   "cell_type": "markdown",
   "id": "67457baa",
   "metadata": {},
   "source": [
    "### Training data"
   ]
  },
  {
   "cell_type": "code",
   "execution_count": 220,
   "id": "30b72810",
   "metadata": {},
   "outputs": [],
   "source": [
    "clf2 = DecisionTreeClassifier(max_depth=4, random_state=123)"
   ]
  },
  {
   "cell_type": "code",
   "execution_count": 221,
   "id": "f4cf7bcb",
   "metadata": {},
   "outputs": [],
   "source": [
    "clf2 = clf2.fit(X_train, y_train)"
   ]
  },
  {
   "cell_type": "code",
   "execution_count": 222,
   "id": "d5981a0b",
   "metadata": {},
   "outputs": [],
   "source": [
    "y_pred_train_depth_4 = clf2.predict(X_train)"
   ]
  },
  {
   "cell_type": "code",
   "execution_count": 223,
   "id": "8bb0475b",
   "metadata": {},
   "outputs": [],
   "source": [
    "y_pred_proba = clf2.predict_proba(X_train)"
   ]
  },
  {
   "cell_type": "code",
   "execution_count": 224,
   "id": "a0d2e9c9",
   "metadata": {},
   "outputs": [],
   "source": [
    "y_probability = pd.DataFrame(y_pred_proba)"
   ]
  },
  {
   "cell_type": "markdown",
   "id": "ecddb3a7",
   "metadata": {},
   "source": [
    "**Training data accuracy score**"
   ]
  },
  {
   "cell_type": "code",
   "execution_count": 225,
   "id": "930c98d6",
   "metadata": {},
   "outputs": [
    {
     "name": "stdout",
     "output_type": "stream",
     "text": [
      "Accuracy of Decision Tree classifier on training set: 0.85\n"
     ]
    }
   ],
   "source": [
    "print('Accuracy of Decision Tree classifier on training set: {:.2f}'\n",
    "      .format(clf2.score(X_train, y_train)))"
   ]
  },
  {
   "cell_type": "markdown",
   "id": "3b47c217",
   "metadata": {},
   "source": [
    "**Traininig data confusion matrix**"
   ]
  },
  {
   "cell_type": "code",
   "execution_count": 226,
   "id": "ac6eac1e",
   "metadata": {},
   "outputs": [
    {
     "data": {
      "text/plain": [
       "array([[283,  24],\n",
       "       [ 53, 137]])"
      ]
     },
     "execution_count": 226,
     "metadata": {},
     "output_type": "execute_result"
    }
   ],
   "source": [
    "confusion_matrix(y_train, y_pred_train_depth_4)"
   ]
  },
  {
   "cell_type": "code",
   "execution_count": 227,
   "id": "4fa38f70",
   "metadata": {},
   "outputs": [
    {
     "data": {
      "text/html": [
       "<div>\n",
       "<style scoped>\n",
       "    .dataframe tbody tr th:only-of-type {\n",
       "        vertical-align: middle;\n",
       "    }\n",
       "\n",
       "    .dataframe tbody tr th {\n",
       "        vertical-align: top;\n",
       "    }\n",
       "\n",
       "    .dataframe thead th {\n",
       "        text-align: right;\n",
       "    }\n",
       "</style>\n",
       "<table border=\"1\" class=\"dataframe\">\n",
       "  <thead>\n",
       "    <tr style=\"text-align: right;\">\n",
       "      <th></th>\n",
       "      <th>died_predict</th>\n",
       "      <th>survived_predict</th>\n",
       "    </tr>\n",
       "  </thead>\n",
       "  <tbody>\n",
       "    <tr>\n",
       "      <th>died_actual</th>\n",
       "      <td>283</td>\n",
       "      <td>24</td>\n",
       "    </tr>\n",
       "    <tr>\n",
       "      <th>survived_actual</th>\n",
       "      <td>53</td>\n",
       "      <td>137</td>\n",
       "    </tr>\n",
       "  </tbody>\n",
       "</table>\n",
       "</div>"
      ],
      "text/plain": [
       "                 died_predict  survived_predict\n",
       "died_actual               283                24\n",
       "survived_actual            53               137"
      ]
     },
     "execution_count": 227,
     "metadata": {},
     "output_type": "execute_result"
    }
   ],
   "source": [
    "labels1 = ['died_actual', 'survived_actual']\n",
    "labels2 = ['died_predict', 'survived_predict']\n",
    "\n",
    "pd.DataFrame(confusion_matrix(y_train, y_pred_train_depth_4), index=labels1, columns=labels2)"
   ]
  },
  {
   "cell_type": "markdown",
   "id": "388bff7e",
   "metadata": {},
   "source": [
    "**Training Data Classification Report**"
   ]
  },
  {
   "cell_type": "code",
   "execution_count": 228,
   "id": "c576d5ff",
   "metadata": {},
   "outputs": [],
   "source": [
    "classification_report_train_depth_four = classification_report(y_train, y_pred_train_depth_4, output_dict = True)"
   ]
  },
  {
   "cell_type": "code",
   "execution_count": 229,
   "id": "44c8c341",
   "metadata": {},
   "outputs": [],
   "source": [
    "df_classification_report_train_depth_four = pd.DataFrame(classification_report_train_depth_four).T"
   ]
  },
  {
   "cell_type": "code",
   "execution_count": 230,
   "id": "38bf2918",
   "metadata": {},
   "outputs": [
    {
     "data": {
      "text/html": [
       "<div>\n",
       "<style scoped>\n",
       "    .dataframe tbody tr th:only-of-type {\n",
       "        vertical-align: middle;\n",
       "    }\n",
       "\n",
       "    .dataframe tbody tr th {\n",
       "        vertical-align: top;\n",
       "    }\n",
       "\n",
       "    .dataframe thead th {\n",
       "        text-align: right;\n",
       "    }\n",
       "</style>\n",
       "<table border=\"1\" class=\"dataframe\">\n",
       "  <thead>\n",
       "    <tr style=\"text-align: right;\">\n",
       "      <th></th>\n",
       "      <th>precision</th>\n",
       "      <th>recall</th>\n",
       "      <th>f1-score</th>\n",
       "      <th>support</th>\n",
       "    </tr>\n",
       "  </thead>\n",
       "  <tbody>\n",
       "    <tr>\n",
       "      <th>0</th>\n",
       "      <td>0.842262</td>\n",
       "      <td>0.921824</td>\n",
       "      <td>0.880249</td>\n",
       "      <td>307.00000</td>\n",
       "    </tr>\n",
       "    <tr>\n",
       "      <th>1</th>\n",
       "      <td>0.850932</td>\n",
       "      <td>0.721053</td>\n",
       "      <td>0.780627</td>\n",
       "      <td>190.00000</td>\n",
       "    </tr>\n",
       "    <tr>\n",
       "      <th>accuracy</th>\n",
       "      <td>0.845070</td>\n",
       "      <td>0.845070</td>\n",
       "      <td>0.845070</td>\n",
       "      <td>0.84507</td>\n",
       "    </tr>\n",
       "    <tr>\n",
       "      <th>macro avg</th>\n",
       "      <td>0.846597</td>\n",
       "      <td>0.821438</td>\n",
       "      <td>0.830438</td>\n",
       "      <td>497.00000</td>\n",
       "    </tr>\n",
       "    <tr>\n",
       "      <th>weighted avg</th>\n",
       "      <td>0.845576</td>\n",
       "      <td>0.845070</td>\n",
       "      <td>0.842164</td>\n",
       "      <td>497.00000</td>\n",
       "    </tr>\n",
       "  </tbody>\n",
       "</table>\n",
       "</div>"
      ],
      "text/plain": [
       "              precision    recall  f1-score    support\n",
       "0              0.842262  0.921824  0.880249  307.00000\n",
       "1              0.850932  0.721053  0.780627  190.00000\n",
       "accuracy       0.845070  0.845070  0.845070    0.84507\n",
       "macro avg      0.846597  0.821438  0.830438  497.00000\n",
       "weighted avg   0.845576  0.845070  0.842164  497.00000"
      ]
     },
     "execution_count": 230,
     "metadata": {},
     "output_type": "execute_result"
    }
   ],
   "source": [
    "df_classification_report_train_depth_four"
   ]
  },
  {
   "cell_type": "markdown",
   "id": "093d65b0",
   "metadata": {},
   "source": [
    "### Validate Data"
   ]
  },
  {
   "cell_type": "code",
   "execution_count": 231,
   "id": "69c70ca7",
   "metadata": {},
   "outputs": [],
   "source": [
    "clf2 = clf2.fit(X_validate, y_validate)"
   ]
  },
  {
   "cell_type": "code",
   "execution_count": 232,
   "id": "8d41e532",
   "metadata": {},
   "outputs": [],
   "source": [
    "y_pred_validate_depth_4 = clf2.predict(X_validate)"
   ]
  },
  {
   "cell_type": "markdown",
   "id": "a3eb802c",
   "metadata": {},
   "source": [
    "**Validate accuracy**"
   ]
  },
  {
   "cell_type": "code",
   "execution_count": 233,
   "id": "a85992de",
   "metadata": {},
   "outputs": [
    {
     "name": "stdout",
     "output_type": "stream",
     "text": [
      "Accuracy of Decision Tree classifier on validate set: 0.86\n"
     ]
    }
   ],
   "source": [
    "print('Accuracy of Decision Tree classifier on validate set: {:.2f}'\n",
    "      .format(clf2.score(X_validate, y_validate)))"
   ]
  },
  {
   "cell_type": "markdown",
   "id": "a6e38c34",
   "metadata": {},
   "source": [
    "**Validate confusion matrix**"
   ]
  },
  {
   "cell_type": "code",
   "execution_count": 234,
   "id": "ab4f7417",
   "metadata": {},
   "outputs": [
    {
     "data": {
      "text/html": [
       "<div>\n",
       "<style scoped>\n",
       "    .dataframe tbody tr th:only-of-type {\n",
       "        vertical-align: middle;\n",
       "    }\n",
       "\n",
       "    .dataframe tbody tr th {\n",
       "        vertical-align: top;\n",
       "    }\n",
       "\n",
       "    .dataframe thead th {\n",
       "        text-align: right;\n",
       "    }\n",
       "</style>\n",
       "<table border=\"1\" class=\"dataframe\">\n",
       "  <thead>\n",
       "    <tr style=\"text-align: right;\">\n",
       "      <th></th>\n",
       "      <th>died_predict</th>\n",
       "      <th>survived_predict</th>\n",
       "    </tr>\n",
       "  </thead>\n",
       "  <tbody>\n",
       "    <tr>\n",
       "      <th>died_actual</th>\n",
       "      <td>125</td>\n",
       "      <td>7</td>\n",
       "    </tr>\n",
       "    <tr>\n",
       "      <th>survived_actual</th>\n",
       "      <td>24</td>\n",
       "      <td>58</td>\n",
       "    </tr>\n",
       "  </tbody>\n",
       "</table>\n",
       "</div>"
      ],
      "text/plain": [
       "                 died_predict  survived_predict\n",
       "died_actual               125                 7\n",
       "survived_actual            24                58"
      ]
     },
     "execution_count": 234,
     "metadata": {},
     "output_type": "execute_result"
    }
   ],
   "source": [
    "labels1 = ['died_actual', 'survived_actual']\n",
    "labels2 = ['died_predict', 'survived_predict']\n",
    "\n",
    "pd.DataFrame(confusion_matrix(y_validate, y_pred_validate_depth_4), index=labels1, columns=labels2)"
   ]
  },
  {
   "cell_type": "markdown",
   "id": "951bd4e8",
   "metadata": {},
   "source": [
    "**Training data classification report**"
   ]
  },
  {
   "cell_type": "code",
   "execution_count": 235,
   "id": "a926431b",
   "metadata": {},
   "outputs": [],
   "source": [
    "classification_report_validate_depth_4 = classification_report(y_validate, y_pred_validate_depth_4, output_dict = True)\n",
    "df_classification_report_validate_depth_4 = pd.DataFrame(classification_report_validate_depth_4).T"
   ]
  },
  {
   "cell_type": "code",
   "execution_count": 236,
   "id": "4b79a770",
   "metadata": {},
   "outputs": [
    {
     "data": {
      "text/html": [
       "<div>\n",
       "<style scoped>\n",
       "    .dataframe tbody tr th:only-of-type {\n",
       "        vertical-align: middle;\n",
       "    }\n",
       "\n",
       "    .dataframe tbody tr th {\n",
       "        vertical-align: top;\n",
       "    }\n",
       "\n",
       "    .dataframe thead th {\n",
       "        text-align: right;\n",
       "    }\n",
       "</style>\n",
       "<table border=\"1\" class=\"dataframe\">\n",
       "  <thead>\n",
       "    <tr style=\"text-align: right;\">\n",
       "      <th></th>\n",
       "      <th>precision</th>\n",
       "      <th>recall</th>\n",
       "      <th>f1-score</th>\n",
       "      <th>support</th>\n",
       "    </tr>\n",
       "  </thead>\n",
       "  <tbody>\n",
       "    <tr>\n",
       "      <th>0</th>\n",
       "      <td>0.838926</td>\n",
       "      <td>0.946970</td>\n",
       "      <td>0.889680</td>\n",
       "      <td>132.00000</td>\n",
       "    </tr>\n",
       "    <tr>\n",
       "      <th>1</th>\n",
       "      <td>0.892308</td>\n",
       "      <td>0.707317</td>\n",
       "      <td>0.789116</td>\n",
       "      <td>82.00000</td>\n",
       "    </tr>\n",
       "    <tr>\n",
       "      <th>accuracy</th>\n",
       "      <td>0.855140</td>\n",
       "      <td>0.855140</td>\n",
       "      <td>0.855140</td>\n",
       "      <td>0.85514</td>\n",
       "    </tr>\n",
       "    <tr>\n",
       "      <th>macro avg</th>\n",
       "      <td>0.865617</td>\n",
       "      <td>0.827143</td>\n",
       "      <td>0.839398</td>\n",
       "      <td>214.00000</td>\n",
       "    </tr>\n",
       "    <tr>\n",
       "      <th>weighted avg</th>\n",
       "      <td>0.859381</td>\n",
       "      <td>0.855140</td>\n",
       "      <td>0.851146</td>\n",
       "      <td>214.00000</td>\n",
       "    </tr>\n",
       "  </tbody>\n",
       "</table>\n",
       "</div>"
      ],
      "text/plain": [
       "              precision    recall  f1-score    support\n",
       "0              0.838926  0.946970  0.889680  132.00000\n",
       "1              0.892308  0.707317  0.789116   82.00000\n",
       "accuracy       0.855140  0.855140  0.855140    0.85514\n",
       "macro avg      0.865617  0.827143  0.839398  214.00000\n",
       "weighted avg   0.859381  0.855140  0.851146  214.00000"
      ]
     },
     "execution_count": 236,
     "metadata": {},
     "output_type": "execute_result"
    }
   ],
   "source": [
    "df_classification_report_validate_depth_4"
   ]
  },
  {
   "cell_type": "markdown",
   "id": "a2897605",
   "metadata": {},
   "source": [
    "### Which model performs better on your in-sample data?"
   ]
  },
  {
   "cell_type": "markdown",
   "id": "7322e70c",
   "metadata": {},
   "source": [
    "To answer this question, let's look at the training data classificatino reports side by side."
   ]
  },
  {
   "cell_type": "markdown",
   "id": "9fb5dd40",
   "metadata": {},
   "source": [
    "**Max depth three**"
   ]
  },
  {
   "cell_type": "code",
   "execution_count": 237,
   "id": "8c524bf6",
   "metadata": {},
   "outputs": [
    {
     "data": {
      "text/html": [
       "<div>\n",
       "<style scoped>\n",
       "    .dataframe tbody tr th:only-of-type {\n",
       "        vertical-align: middle;\n",
       "    }\n",
       "\n",
       "    .dataframe tbody tr th {\n",
       "        vertical-align: top;\n",
       "    }\n",
       "\n",
       "    .dataframe thead th {\n",
       "        text-align: right;\n",
       "    }\n",
       "</style>\n",
       "<table border=\"1\" class=\"dataframe\">\n",
       "  <thead>\n",
       "    <tr style=\"text-align: right;\">\n",
       "      <th></th>\n",
       "      <th>precision</th>\n",
       "      <th>recall</th>\n",
       "      <th>f1-score</th>\n",
       "      <th>support</th>\n",
       "    </tr>\n",
       "  </thead>\n",
       "  <tbody>\n",
       "    <tr>\n",
       "      <th>0</th>\n",
       "      <td>0.808696</td>\n",
       "      <td>0.908795</td>\n",
       "      <td>0.855828</td>\n",
       "      <td>307.000000</td>\n",
       "    </tr>\n",
       "    <tr>\n",
       "      <th>1</th>\n",
       "      <td>0.815789</td>\n",
       "      <td>0.652632</td>\n",
       "      <td>0.725146</td>\n",
       "      <td>190.000000</td>\n",
       "    </tr>\n",
       "    <tr>\n",
       "      <th>accuracy</th>\n",
       "      <td>0.810865</td>\n",
       "      <td>0.810865</td>\n",
       "      <td>0.810865</td>\n",
       "      <td>0.810865</td>\n",
       "    </tr>\n",
       "    <tr>\n",
       "      <th>macro avg</th>\n",
       "      <td>0.812243</td>\n",
       "      <td>0.780713</td>\n",
       "      <td>0.790487</td>\n",
       "      <td>497.000000</td>\n",
       "    </tr>\n",
       "    <tr>\n",
       "      <th>weighted avg</th>\n",
       "      <td>0.811408</td>\n",
       "      <td>0.810865</td>\n",
       "      <td>0.805869</td>\n",
       "      <td>497.000000</td>\n",
       "    </tr>\n",
       "  </tbody>\n",
       "</table>\n",
       "</div>"
      ],
      "text/plain": [
       "              precision    recall  f1-score     support\n",
       "0              0.808696  0.908795  0.855828  307.000000\n",
       "1              0.815789  0.652632  0.725146  190.000000\n",
       "accuracy       0.810865  0.810865  0.810865    0.810865\n",
       "macro avg      0.812243  0.780713  0.790487  497.000000\n",
       "weighted avg   0.811408  0.810865  0.805869  497.000000"
      ]
     },
     "execution_count": 237,
     "metadata": {},
     "output_type": "execute_result"
    }
   ],
   "source": [
    "df_report_train_depth_three"
   ]
  },
  {
   "cell_type": "markdown",
   "id": "f0a6243c",
   "metadata": {},
   "source": [
    "**Max depth four**"
   ]
  },
  {
   "cell_type": "code",
   "execution_count": 238,
   "id": "25068d46",
   "metadata": {},
   "outputs": [
    {
     "data": {
      "text/html": [
       "<div>\n",
       "<style scoped>\n",
       "    .dataframe tbody tr th:only-of-type {\n",
       "        vertical-align: middle;\n",
       "    }\n",
       "\n",
       "    .dataframe tbody tr th {\n",
       "        vertical-align: top;\n",
       "    }\n",
       "\n",
       "    .dataframe thead th {\n",
       "        text-align: right;\n",
       "    }\n",
       "</style>\n",
       "<table border=\"1\" class=\"dataframe\">\n",
       "  <thead>\n",
       "    <tr style=\"text-align: right;\">\n",
       "      <th></th>\n",
       "      <th>precision</th>\n",
       "      <th>recall</th>\n",
       "      <th>f1-score</th>\n",
       "      <th>support</th>\n",
       "    </tr>\n",
       "  </thead>\n",
       "  <tbody>\n",
       "    <tr>\n",
       "      <th>0</th>\n",
       "      <td>0.842262</td>\n",
       "      <td>0.921824</td>\n",
       "      <td>0.880249</td>\n",
       "      <td>307.00000</td>\n",
       "    </tr>\n",
       "    <tr>\n",
       "      <th>1</th>\n",
       "      <td>0.850932</td>\n",
       "      <td>0.721053</td>\n",
       "      <td>0.780627</td>\n",
       "      <td>190.00000</td>\n",
       "    </tr>\n",
       "    <tr>\n",
       "      <th>accuracy</th>\n",
       "      <td>0.845070</td>\n",
       "      <td>0.845070</td>\n",
       "      <td>0.845070</td>\n",
       "      <td>0.84507</td>\n",
       "    </tr>\n",
       "    <tr>\n",
       "      <th>macro avg</th>\n",
       "      <td>0.846597</td>\n",
       "      <td>0.821438</td>\n",
       "      <td>0.830438</td>\n",
       "      <td>497.00000</td>\n",
       "    </tr>\n",
       "    <tr>\n",
       "      <th>weighted avg</th>\n",
       "      <td>0.845576</td>\n",
       "      <td>0.845070</td>\n",
       "      <td>0.842164</td>\n",
       "      <td>497.00000</td>\n",
       "    </tr>\n",
       "  </tbody>\n",
       "</table>\n",
       "</div>"
      ],
      "text/plain": [
       "              precision    recall  f1-score    support\n",
       "0              0.842262  0.921824  0.880249  307.00000\n",
       "1              0.850932  0.721053  0.780627  190.00000\n",
       "accuracy       0.845070  0.845070  0.845070    0.84507\n",
       "macro avg      0.846597  0.821438  0.830438  497.00000\n",
       "weighted avg   0.845576  0.845070  0.842164  497.00000"
      ]
     },
     "execution_count": 238,
     "metadata": {},
     "output_type": "execute_result"
    }
   ],
   "source": [
    "df_classification_report_train_depth_four"
   ]
  },
  {
   "cell_type": "markdown",
   "id": "2694c1be",
   "metadata": {},
   "source": [
    "Max depth three out performs Max depth four on every observable measure."
   ]
  },
  {
   "cell_type": "markdown",
   "id": "7a75418a",
   "metadata": {},
   "source": [
    "### Which model performs best on your out-of-sample data, the validate set?"
   ]
  },
  {
   "cell_type": "markdown",
   "id": "9b19fcf5",
   "metadata": {},
   "source": [
    "**Max depth three**"
   ]
  },
  {
   "cell_type": "code",
   "execution_count": 239,
   "id": "ba1a5ff4",
   "metadata": {},
   "outputs": [
    {
     "data": {
      "text/html": [
       "<div>\n",
       "<style scoped>\n",
       "    .dataframe tbody tr th:only-of-type {\n",
       "        vertical-align: middle;\n",
       "    }\n",
       "\n",
       "    .dataframe tbody tr th {\n",
       "        vertical-align: top;\n",
       "    }\n",
       "\n",
       "    .dataframe thead th {\n",
       "        text-align: right;\n",
       "    }\n",
       "</style>\n",
       "<table border=\"1\" class=\"dataframe\">\n",
       "  <thead>\n",
       "    <tr style=\"text-align: right;\">\n",
       "      <th></th>\n",
       "      <th>precision</th>\n",
       "      <th>recall</th>\n",
       "      <th>f1-score</th>\n",
       "      <th>support</th>\n",
       "    </tr>\n",
       "  </thead>\n",
       "  <tbody>\n",
       "    <tr>\n",
       "      <th>0</th>\n",
       "      <td>0.795918</td>\n",
       "      <td>0.886364</td>\n",
       "      <td>0.838710</td>\n",
       "      <td>132.00000</td>\n",
       "    </tr>\n",
       "    <tr>\n",
       "      <th>1</th>\n",
       "      <td>0.776119</td>\n",
       "      <td>0.634146</td>\n",
       "      <td>0.697987</td>\n",
       "      <td>82.00000</td>\n",
       "    </tr>\n",
       "    <tr>\n",
       "      <th>accuracy</th>\n",
       "      <td>0.789720</td>\n",
       "      <td>0.789720</td>\n",
       "      <td>0.789720</td>\n",
       "      <td>0.78972</td>\n",
       "    </tr>\n",
       "    <tr>\n",
       "      <th>macro avg</th>\n",
       "      <td>0.786019</td>\n",
       "      <td>0.760255</td>\n",
       "      <td>0.768348</td>\n",
       "      <td>214.00000</td>\n",
       "    </tr>\n",
       "    <tr>\n",
       "      <th>weighted avg</th>\n",
       "      <td>0.788332</td>\n",
       "      <td>0.789720</td>\n",
       "      <td>0.784788</td>\n",
       "      <td>214.00000</td>\n",
       "    </tr>\n",
       "  </tbody>\n",
       "</table>\n",
       "</div>"
      ],
      "text/plain": [
       "              precision    recall  f1-score    support\n",
       "0              0.795918  0.886364  0.838710  132.00000\n",
       "1              0.776119  0.634146  0.697987   82.00000\n",
       "accuracy       0.789720  0.789720  0.789720    0.78972\n",
       "macro avg      0.786019  0.760255  0.768348  214.00000\n",
       "weighted avg   0.788332  0.789720  0.784788  214.00000"
      ]
     },
     "execution_count": 239,
     "metadata": {},
     "output_type": "execute_result"
    }
   ],
   "source": [
    "df_report_validate_depth_three"
   ]
  },
  {
   "cell_type": "markdown",
   "id": "c3b2322e",
   "metadata": {},
   "source": [
    "**Max depth four**"
   ]
  },
  {
   "cell_type": "code",
   "execution_count": 240,
   "id": "f4f69292",
   "metadata": {},
   "outputs": [
    {
     "data": {
      "text/html": [
       "<div>\n",
       "<style scoped>\n",
       "    .dataframe tbody tr th:only-of-type {\n",
       "        vertical-align: middle;\n",
       "    }\n",
       "\n",
       "    .dataframe tbody tr th {\n",
       "        vertical-align: top;\n",
       "    }\n",
       "\n",
       "    .dataframe thead th {\n",
       "        text-align: right;\n",
       "    }\n",
       "</style>\n",
       "<table border=\"1\" class=\"dataframe\">\n",
       "  <thead>\n",
       "    <tr style=\"text-align: right;\">\n",
       "      <th></th>\n",
       "      <th>precision</th>\n",
       "      <th>recall</th>\n",
       "      <th>f1-score</th>\n",
       "      <th>support</th>\n",
       "    </tr>\n",
       "  </thead>\n",
       "  <tbody>\n",
       "    <tr>\n",
       "      <th>0</th>\n",
       "      <td>0.838926</td>\n",
       "      <td>0.946970</td>\n",
       "      <td>0.889680</td>\n",
       "      <td>132.00000</td>\n",
       "    </tr>\n",
       "    <tr>\n",
       "      <th>1</th>\n",
       "      <td>0.892308</td>\n",
       "      <td>0.707317</td>\n",
       "      <td>0.789116</td>\n",
       "      <td>82.00000</td>\n",
       "    </tr>\n",
       "    <tr>\n",
       "      <th>accuracy</th>\n",
       "      <td>0.855140</td>\n",
       "      <td>0.855140</td>\n",
       "      <td>0.855140</td>\n",
       "      <td>0.85514</td>\n",
       "    </tr>\n",
       "    <tr>\n",
       "      <th>macro avg</th>\n",
       "      <td>0.865617</td>\n",
       "      <td>0.827143</td>\n",
       "      <td>0.839398</td>\n",
       "      <td>214.00000</td>\n",
       "    </tr>\n",
       "    <tr>\n",
       "      <th>weighted avg</th>\n",
       "      <td>0.859381</td>\n",
       "      <td>0.855140</td>\n",
       "      <td>0.851146</td>\n",
       "      <td>214.00000</td>\n",
       "    </tr>\n",
       "  </tbody>\n",
       "</table>\n",
       "</div>"
      ],
      "text/plain": [
       "              precision    recall  f1-score    support\n",
       "0              0.838926  0.946970  0.889680  132.00000\n",
       "1              0.892308  0.707317  0.789116   82.00000\n",
       "accuracy       0.855140  0.855140  0.855140    0.85514\n",
       "macro avg      0.865617  0.827143  0.839398  214.00000\n",
       "weighted avg   0.859381  0.855140  0.851146  214.00000"
      ]
     },
     "execution_count": 240,
     "metadata": {},
     "output_type": "execute_result"
    }
   ],
   "source": [
    "df_classification_report_validate_depth_4"
   ]
  },
  {
   "cell_type": "markdown",
   "id": "4f84afe8",
   "metadata": {},
   "source": [
    "Max depth three outperforms Max depth three for the validate data sets."
   ]
  },
  {
   "cell_type": "markdown",
   "id": "70a10521",
   "metadata": {},
   "source": [
    "# Random Forest"
   ]
  },
  {
   "cell_type": "markdown",
   "id": "fc13edc5",
   "metadata": {},
   "source": [
    "### Fit the Random Forest classifier to your training sample and transform (i.e. make predictions on the training sample) setting the random_state accordingly and setting min_samples_leaf = 1 and max_depth = 10."
   ]
  },
  {
   "cell_type": "code",
   "execution_count": 241,
   "id": "d0da26d0",
   "metadata": {},
   "outputs": [],
   "source": [
    "from sklearn.ensemble import RandomForestClassifier"
   ]
  },
  {
   "cell_type": "code",
   "execution_count": 242,
   "id": "6e2b46ae",
   "metadata": {},
   "outputs": [],
   "source": [
    "rf = RandomForestClassifier(bootstrap=True, \n",
    "                            class_weight=None, \n",
    "                            criterion='gini',\n",
    "                            min_samples_leaf=1,\n",
    "                            n_estimators=100,\n",
    "                            max_depth=10, \n",
    "                            random_state=123)"
   ]
  },
  {
   "cell_type": "markdown",
   "id": "342edb22",
   "metadata": {},
   "source": [
    "**Fit the model**"
   ]
  },
  {
   "cell_type": "code",
   "execution_count": 243,
   "id": "09693ea3",
   "metadata": {},
   "outputs": [
    {
     "data": {
      "text/plain": [
       "RandomForestClassifier(max_depth=10, random_state=123)"
      ]
     },
     "execution_count": 243,
     "metadata": {},
     "output_type": "execute_result"
    }
   ],
   "source": [
    "rf.fit(X_train, y_train)"
   ]
  },
  {
   "cell_type": "markdown",
   "id": "e919535e",
   "metadata": {},
   "source": [
    "**Feature importance**"
   ]
  },
  {
   "cell_type": "code",
   "execution_count": 244,
   "id": "84e18c79",
   "metadata": {},
   "outputs": [
    {
     "data": {
      "text/html": [
       "<div>\n",
       "<style scoped>\n",
       "    .dataframe tbody tr th:only-of-type {\n",
       "        vertical-align: middle;\n",
       "    }\n",
       "\n",
       "    .dataframe tbody tr th {\n",
       "        vertical-align: top;\n",
       "    }\n",
       "\n",
       "    .dataframe thead th {\n",
       "        text-align: right;\n",
       "    }\n",
       "</style>\n",
       "<table border=\"1\" class=\"dataframe\">\n",
       "  <thead>\n",
       "    <tr style=\"text-align: right;\">\n",
       "      <th></th>\n",
       "      <th>0</th>\n",
       "    </tr>\n",
       "  </thead>\n",
       "  <tbody>\n",
       "    <tr>\n",
       "      <th>0</th>\n",
       "      <td>0.158897</td>\n",
       "    </tr>\n",
       "    <tr>\n",
       "      <th>1</th>\n",
       "      <td>0.162192</td>\n",
       "    </tr>\n",
       "    <tr>\n",
       "      <th>2</th>\n",
       "      <td>0.099323</td>\n",
       "    </tr>\n",
       "    <tr>\n",
       "      <th>3</th>\n",
       "      <td>0.047610</td>\n",
       "    </tr>\n",
       "    <tr>\n",
       "      <th>4</th>\n",
       "      <td>0.031066</td>\n",
       "    </tr>\n",
       "    <tr>\n",
       "      <th>5</th>\n",
       "      <td>0.195731</td>\n",
       "    </tr>\n",
       "    <tr>\n",
       "      <th>6</th>\n",
       "      <td>0.029676</td>\n",
       "    </tr>\n",
       "    <tr>\n",
       "      <th>7</th>\n",
       "      <td>0.007023</td>\n",
       "    </tr>\n",
       "    <tr>\n",
       "      <th>8</th>\n",
       "      <td>0.013260</td>\n",
       "    </tr>\n",
       "    <tr>\n",
       "      <th>9</th>\n",
       "      <td>0.233667</td>\n",
       "    </tr>\n",
       "    <tr>\n",
       "      <th>10</th>\n",
       "      <td>0.006549</td>\n",
       "    </tr>\n",
       "    <tr>\n",
       "      <th>11</th>\n",
       "      <td>0.015006</td>\n",
       "    </tr>\n",
       "  </tbody>\n",
       "</table>\n",
       "</div>"
      ],
      "text/plain": [
       "           0\n",
       "0   0.158897\n",
       "1   0.162192\n",
       "2   0.099323\n",
       "3   0.047610\n",
       "4   0.031066\n",
       "5   0.195731\n",
       "6   0.029676\n",
       "7   0.007023\n",
       "8   0.013260\n",
       "9   0.233667\n",
       "10  0.006549\n",
       "11  0.015006"
      ]
     },
     "execution_count": 244,
     "metadata": {},
     "output_type": "execute_result"
    }
   ],
   "source": [
    "pd.DataFrame(rf.feature_importances_)"
   ]
  },
  {
   "cell_type": "markdown",
   "id": "197bf9f1",
   "metadata": {},
   "source": [
    "**Make predictions**"
   ]
  },
  {
   "cell_type": "code",
   "execution_count": 245,
   "id": "d5747e3b",
   "metadata": {},
   "outputs": [],
   "source": [
    "y_pred = rf.predict(X_train)"
   ]
  },
  {
   "cell_type": "code",
   "execution_count": 246,
   "id": "806b1523",
   "metadata": {},
   "outputs": [
    {
     "data": {
      "text/html": [
       "<div>\n",
       "<style scoped>\n",
       "    .dataframe tbody tr th:only-of-type {\n",
       "        vertical-align: middle;\n",
       "    }\n",
       "\n",
       "    .dataframe tbody tr th {\n",
       "        vertical-align: top;\n",
       "    }\n",
       "\n",
       "    .dataframe thead th {\n",
       "        text-align: right;\n",
       "    }\n",
       "</style>\n",
       "<table border=\"1\" class=\"dataframe\">\n",
       "  <thead>\n",
       "    <tr style=\"text-align: right;\">\n",
       "      <th></th>\n",
       "      <th>0</th>\n",
       "    </tr>\n",
       "  </thead>\n",
       "  <tbody>\n",
       "    <tr>\n",
       "      <th>0</th>\n",
       "      <td>0</td>\n",
       "    </tr>\n",
       "    <tr>\n",
       "      <th>1</th>\n",
       "      <td>1</td>\n",
       "    </tr>\n",
       "    <tr>\n",
       "      <th>2</th>\n",
       "      <td>0</td>\n",
       "    </tr>\n",
       "    <tr>\n",
       "      <th>3</th>\n",
       "      <td>1</td>\n",
       "    </tr>\n",
       "    <tr>\n",
       "      <th>4</th>\n",
       "      <td>1</td>\n",
       "    </tr>\n",
       "    <tr>\n",
       "      <th>...</th>\n",
       "      <td>...</td>\n",
       "    </tr>\n",
       "    <tr>\n",
       "      <th>492</th>\n",
       "      <td>0</td>\n",
       "    </tr>\n",
       "    <tr>\n",
       "      <th>493</th>\n",
       "      <td>0</td>\n",
       "    </tr>\n",
       "    <tr>\n",
       "      <th>494</th>\n",
       "      <td>0</td>\n",
       "    </tr>\n",
       "    <tr>\n",
       "      <th>495</th>\n",
       "      <td>0</td>\n",
       "    </tr>\n",
       "    <tr>\n",
       "      <th>496</th>\n",
       "      <td>1</td>\n",
       "    </tr>\n",
       "  </tbody>\n",
       "</table>\n",
       "<p>497 rows × 1 columns</p>\n",
       "</div>"
      ],
      "text/plain": [
       "     0\n",
       "0    0\n",
       "1    1\n",
       "2    0\n",
       "3    1\n",
       "4    1\n",
       "..  ..\n",
       "492  0\n",
       "493  0\n",
       "494  0\n",
       "495  0\n",
       "496  1\n",
       "\n",
       "[497 rows x 1 columns]"
      ]
     },
     "execution_count": 246,
     "metadata": {},
     "output_type": "execute_result"
    }
   ],
   "source": [
    "pd.DataFrame(y_pred)"
   ]
  },
  {
   "cell_type": "markdown",
   "id": "c5da035b",
   "metadata": {},
   "source": [
    "**Estimate probability**"
   ]
  },
  {
   "cell_type": "code",
   "execution_count": 247,
   "id": "a0179a81",
   "metadata": {},
   "outputs": [],
   "source": [
    "y_pred_proba = rf.predict_proba(X_train)"
   ]
  },
  {
   "cell_type": "code",
   "execution_count": 248,
   "id": "8d0a16c9",
   "metadata": {},
   "outputs": [
    {
     "data": {
      "text/html": [
       "<div>\n",
       "<style scoped>\n",
       "    .dataframe tbody tr th:only-of-type {\n",
       "        vertical-align: middle;\n",
       "    }\n",
       "\n",
       "    .dataframe tbody tr th {\n",
       "        vertical-align: top;\n",
       "    }\n",
       "\n",
       "    .dataframe thead th {\n",
       "        text-align: right;\n",
       "    }\n",
       "</style>\n",
       "<table border=\"1\" class=\"dataframe\">\n",
       "  <thead>\n",
       "    <tr style=\"text-align: right;\">\n",
       "      <th></th>\n",
       "      <th>0</th>\n",
       "      <th>1</th>\n",
       "    </tr>\n",
       "  </thead>\n",
       "  <tbody>\n",
       "    <tr>\n",
       "      <th>0</th>\n",
       "      <td>0.845507</td>\n",
       "      <td>0.154493</td>\n",
       "    </tr>\n",
       "    <tr>\n",
       "      <th>1</th>\n",
       "      <td>0.021714</td>\n",
       "      <td>0.978286</td>\n",
       "    </tr>\n",
       "    <tr>\n",
       "      <th>2</th>\n",
       "      <td>0.977273</td>\n",
       "      <td>0.022727</td>\n",
       "    </tr>\n",
       "    <tr>\n",
       "      <th>3</th>\n",
       "      <td>0.010714</td>\n",
       "      <td>0.989286</td>\n",
       "    </tr>\n",
       "    <tr>\n",
       "      <th>4</th>\n",
       "      <td>0.100000</td>\n",
       "      <td>0.900000</td>\n",
       "    </tr>\n",
       "    <tr>\n",
       "      <th>...</th>\n",
       "      <td>...</td>\n",
       "      <td>...</td>\n",
       "    </tr>\n",
       "    <tr>\n",
       "      <th>492</th>\n",
       "      <td>0.942332</td>\n",
       "      <td>0.057668</td>\n",
       "    </tr>\n",
       "    <tr>\n",
       "      <th>493</th>\n",
       "      <td>0.906272</td>\n",
       "      <td>0.093728</td>\n",
       "    </tr>\n",
       "    <tr>\n",
       "      <th>494</th>\n",
       "      <td>0.799098</td>\n",
       "      <td>0.200902</td>\n",
       "    </tr>\n",
       "    <tr>\n",
       "      <th>495</th>\n",
       "      <td>0.921866</td>\n",
       "      <td>0.078134</td>\n",
       "    </tr>\n",
       "    <tr>\n",
       "      <th>496</th>\n",
       "      <td>0.439101</td>\n",
       "      <td>0.560899</td>\n",
       "    </tr>\n",
       "  </tbody>\n",
       "</table>\n",
       "<p>497 rows × 2 columns</p>\n",
       "</div>"
      ],
      "text/plain": [
       "            0         1\n",
       "0    0.845507  0.154493\n",
       "1    0.021714  0.978286\n",
       "2    0.977273  0.022727\n",
       "3    0.010714  0.989286\n",
       "4    0.100000  0.900000\n",
       "..        ...       ...\n",
       "492  0.942332  0.057668\n",
       "493  0.906272  0.093728\n",
       "494  0.799098  0.200902\n",
       "495  0.921866  0.078134\n",
       "496  0.439101  0.560899\n",
       "\n",
       "[497 rows x 2 columns]"
      ]
     },
     "execution_count": 248,
     "metadata": {},
     "output_type": "execute_result"
    }
   ],
   "source": [
    "pd.DataFrame(y_pred_proba)"
   ]
  },
  {
   "cell_type": "markdown",
   "id": "ca51efc1",
   "metadata": {},
   "source": [
    "### Evaluate your results using the model score, confusion matrix, and classification report."
   ]
  },
  {
   "cell_type": "markdown",
   "id": "1d28239e",
   "metadata": {},
   "source": [
    "**Compute Accuracy**"
   ]
  },
  {
   "cell_type": "code",
   "execution_count": 249,
   "id": "f7fe93fa",
   "metadata": {},
   "outputs": [
    {
     "name": "stdout",
     "output_type": "stream",
     "text": [
      "Accuracy of random forest classifier on training set: 0.97\n"
     ]
    }
   ],
   "source": [
    "print('Accuracy of random forest classifier on training set: {:.2f}'\n",
    "     .format(rf.score(X_train, y_train)))"
   ]
  },
  {
   "cell_type": "markdown",
   "id": "5c795f03",
   "metadata": {},
   "source": [
    "**Create a confusion matrix**"
   ]
  },
  {
   "cell_type": "code",
   "execution_count": 250,
   "id": "53649edb",
   "metadata": {},
   "outputs": [],
   "source": [
    "labels1 = ['died_actual', 'survived_actual']\n",
    "labels2 = ['died_predicted', 'survived_predicted']\n",
    "df_confusion_matrix = pd.DataFrame(confusion_matrix(y_train, y_pred), index=labels1, columns=labels2)"
   ]
  },
  {
   "cell_type": "code",
   "execution_count": 251,
   "id": "44ab8780",
   "metadata": {},
   "outputs": [
    {
     "data": {
      "text/html": [
       "<div>\n",
       "<style scoped>\n",
       "    .dataframe tbody tr th:only-of-type {\n",
       "        vertical-align: middle;\n",
       "    }\n",
       "\n",
       "    .dataframe tbody tr th {\n",
       "        vertical-align: top;\n",
       "    }\n",
       "\n",
       "    .dataframe thead th {\n",
       "        text-align: right;\n",
       "    }\n",
       "</style>\n",
       "<table border=\"1\" class=\"dataframe\">\n",
       "  <thead>\n",
       "    <tr style=\"text-align: right;\">\n",
       "      <th></th>\n",
       "      <th>died_predicted</th>\n",
       "      <th>survived_predicted</th>\n",
       "    </tr>\n",
       "  </thead>\n",
       "  <tbody>\n",
       "    <tr>\n",
       "      <th>died_actual</th>\n",
       "      <td>307</td>\n",
       "      <td>0</td>\n",
       "    </tr>\n",
       "    <tr>\n",
       "      <th>survived_actual</th>\n",
       "      <td>16</td>\n",
       "      <td>174</td>\n",
       "    </tr>\n",
       "  </tbody>\n",
       "</table>\n",
       "</div>"
      ],
      "text/plain": [
       "                 died_predicted  survived_predicted\n",
       "died_actual                 307                   0\n",
       "survived_actual              16                 174"
      ]
     },
     "execution_count": 251,
     "metadata": {},
     "output_type": "execute_result"
    }
   ],
   "source": [
    "df_confusion_matrix"
   ]
  },
  {
   "cell_type": "markdown",
   "id": "aacbd509",
   "metadata": {},
   "source": [
    "**Create a classification report**"
   ]
  },
  {
   "cell_type": "code",
   "execution_count": 252,
   "id": "31846441",
   "metadata": {},
   "outputs": [],
   "source": [
    "classification_report = classification_report(y_train, y_pred, output_dict = True)"
   ]
  },
  {
   "cell_type": "code",
   "execution_count": 253,
   "id": "8a265f68",
   "metadata": {},
   "outputs": [],
   "source": [
    "df_classification_report = pd.DataFrame(classification_report).T"
   ]
  },
  {
   "cell_type": "code",
   "execution_count": 254,
   "id": "d897467d",
   "metadata": {},
   "outputs": [
    {
     "data": {
      "text/html": [
       "<div>\n",
       "<style scoped>\n",
       "    .dataframe tbody tr th:only-of-type {\n",
       "        vertical-align: middle;\n",
       "    }\n",
       "\n",
       "    .dataframe tbody tr th {\n",
       "        vertical-align: top;\n",
       "    }\n",
       "\n",
       "    .dataframe thead th {\n",
       "        text-align: right;\n",
       "    }\n",
       "</style>\n",
       "<table border=\"1\" class=\"dataframe\">\n",
       "  <thead>\n",
       "    <tr style=\"text-align: right;\">\n",
       "      <th></th>\n",
       "      <th>precision</th>\n",
       "      <th>recall</th>\n",
       "      <th>f1-score</th>\n",
       "      <th>support</th>\n",
       "    </tr>\n",
       "  </thead>\n",
       "  <tbody>\n",
       "    <tr>\n",
       "      <th>0</th>\n",
       "      <td>0.950464</td>\n",
       "      <td>1.000000</td>\n",
       "      <td>0.974603</td>\n",
       "      <td>307.000000</td>\n",
       "    </tr>\n",
       "    <tr>\n",
       "      <th>1</th>\n",
       "      <td>1.000000</td>\n",
       "      <td>0.915789</td>\n",
       "      <td>0.956044</td>\n",
       "      <td>190.000000</td>\n",
       "    </tr>\n",
       "    <tr>\n",
       "      <th>accuracy</th>\n",
       "      <td>0.967807</td>\n",
       "      <td>0.967807</td>\n",
       "      <td>0.967807</td>\n",
       "      <td>0.967807</td>\n",
       "    </tr>\n",
       "    <tr>\n",
       "      <th>macro avg</th>\n",
       "      <td>0.975232</td>\n",
       "      <td>0.957895</td>\n",
       "      <td>0.965324</td>\n",
       "      <td>497.000000</td>\n",
       "    </tr>\n",
       "    <tr>\n",
       "      <th>weighted avg</th>\n",
       "      <td>0.969402</td>\n",
       "      <td>0.967807</td>\n",
       "      <td>0.967508</td>\n",
       "      <td>497.000000</td>\n",
       "    </tr>\n",
       "  </tbody>\n",
       "</table>\n",
       "</div>"
      ],
      "text/plain": [
       "              precision    recall  f1-score     support\n",
       "0              0.950464  1.000000  0.974603  307.000000\n",
       "1              1.000000  0.915789  0.956044  190.000000\n",
       "accuracy       0.967807  0.967807  0.967807    0.967807\n",
       "macro avg      0.975232  0.957895  0.965324  497.000000\n",
       "weighted avg   0.969402  0.967807  0.967508  497.000000"
      ]
     },
     "execution_count": 254,
     "metadata": {},
     "output_type": "execute_result"
    }
   ],
   "source": [
    "df_classification_report"
   ]
  },
  {
   "cell_type": "markdown",
   "id": "27491801",
   "metadata": {},
   "source": [
    "### Print and clearly label the following: Accuracy, true positive rate, false positive rate, true negative rate, false negative rate, precision, recall, f1-score, and support."
   ]
  },
  {
   "cell_type": "code",
   "execution_count": 255,
   "id": "78126252",
   "metadata": {},
   "outputs": [],
   "source": [
    "true_positives = 174 \n",
    "false_positives = 0 \n",
    "true_negatives = 307\n",
    "false_negatives = 16"
   ]
  },
  {
   "cell_type": "markdown",
   "id": "13a42fb5",
   "metadata": {},
   "source": [
    "**Accuracy**"
   ]
  },
  {
   "cell_type": "code",
   "execution_count": 256,
   "id": "bb5d04ba",
   "metadata": {},
   "outputs": [
    {
     "data": {
      "text/plain": [
       "0.9678068410462777"
      ]
     },
     "execution_count": 256,
     "metadata": {},
     "output_type": "execute_result"
    }
   ],
   "source": [
    "model_accuracy = accuracy_score(y_train, y_pred)\n",
    "model_accuracy"
   ]
  },
  {
   "cell_type": "markdown",
   "id": "43c15395",
   "metadata": {},
   "source": [
    "**True positive rate**"
   ]
  },
  {
   "cell_type": "code",
   "execution_count": 257,
   "id": "8972b933",
   "metadata": {},
   "outputs": [],
   "source": [
    "true_positive_rate = (true_positives)/(true_positives + false_negatives)"
   ]
  },
  {
   "cell_type": "code",
   "execution_count": 258,
   "id": "8d500258",
   "metadata": {},
   "outputs": [
    {
     "data": {
      "text/plain": [
       "0.9157894736842105"
      ]
     },
     "execution_count": 258,
     "metadata": {},
     "output_type": "execute_result"
    }
   ],
   "source": [
    "true_positive_rate"
   ]
  },
  {
   "cell_type": "markdown",
   "id": "773483a3",
   "metadata": {},
   "source": [
    "**False negative rate**"
   ]
  },
  {
   "cell_type": "code",
   "execution_count": 259,
   "id": "034a539e",
   "metadata": {},
   "outputs": [],
   "source": [
    "false_negative_rate = (false_negatives)/(false_negatives + true_positives)"
   ]
  },
  {
   "cell_type": "code",
   "execution_count": 260,
   "id": "1522b477",
   "metadata": {},
   "outputs": [
    {
     "data": {
      "text/plain": [
       "0.08421052631578947"
      ]
     },
     "execution_count": 260,
     "metadata": {},
     "output_type": "execute_result"
    }
   ],
   "source": [
    "false_negative_rate"
   ]
  },
  {
   "cell_type": "markdown",
   "id": "fe283ff8",
   "metadata": {},
   "source": [
    "**True negative rate**"
   ]
  },
  {
   "cell_type": "code",
   "execution_count": 261,
   "id": "131e3f4a",
   "metadata": {},
   "outputs": [],
   "source": [
    "true_negative_rate = (true_negatives)/(true_negatives + false_positives)"
   ]
  },
  {
   "cell_type": "code",
   "execution_count": 262,
   "id": "660e6f15",
   "metadata": {},
   "outputs": [
    {
     "data": {
      "text/plain": [
       "1.0"
      ]
     },
     "execution_count": 262,
     "metadata": {},
     "output_type": "execute_result"
    }
   ],
   "source": [
    "true_negative_rate"
   ]
  },
  {
   "cell_type": "markdown",
   "id": "6a204aab",
   "metadata": {},
   "source": [
    "**False Posititve  rate**"
   ]
  },
  {
   "cell_type": "code",
   "execution_count": 263,
   "id": "a878070b",
   "metadata": {},
   "outputs": [],
   "source": [
    "false_positive_rate = (false_positives)/(false_positives + true_negatives)"
   ]
  },
  {
   "cell_type": "code",
   "execution_count": 264,
   "id": "4a22fd82",
   "metadata": {},
   "outputs": [
    {
     "data": {
      "text/plain": [
       "0.0"
      ]
     },
     "execution_count": 264,
     "metadata": {},
     "output_type": "execute_result"
    }
   ],
   "source": [
    "false_positive_rate"
   ]
  },
  {
   "cell_type": "markdown",
   "id": "70c964f2",
   "metadata": {},
   "source": [
    "**Precision rate**"
   ]
  },
  {
   "cell_type": "code",
   "execution_count": 265,
   "id": "8c254119",
   "metadata": {},
   "outputs": [],
   "source": [
    "precision = precision_score(y_train, y_pred)"
   ]
  },
  {
   "cell_type": "code",
   "execution_count": 266,
   "id": "b17763e5",
   "metadata": {},
   "outputs": [
    {
     "data": {
      "text/plain": [
       "1.0"
      ]
     },
     "execution_count": 266,
     "metadata": {},
     "output_type": "execute_result"
    }
   ],
   "source": [
    "precision"
   ]
  },
  {
   "cell_type": "markdown",
   "id": "f776cbd4",
   "metadata": {},
   "source": [
    "**Recall**"
   ]
  },
  {
   "cell_type": "code",
   "execution_count": 267,
   "id": "3fe86b40",
   "metadata": {},
   "outputs": [],
   "source": [
    "recall = recall_score(y_train, y_pred)"
   ]
  },
  {
   "cell_type": "code",
   "execution_count": 268,
   "id": "e14fc250",
   "metadata": {},
   "outputs": [
    {
     "data": {
      "text/plain": [
       "0.9157894736842105"
      ]
     },
     "execution_count": 268,
     "metadata": {},
     "output_type": "execute_result"
    }
   ],
   "source": [
    "recall"
   ]
  },
  {
   "cell_type": "markdown",
   "id": "e1ceeb81",
   "metadata": {},
   "source": [
    "**F-1 score**"
   ]
  },
  {
   "cell_type": "code",
   "execution_count": 269,
   "id": "aef0e07e",
   "metadata": {},
   "outputs": [],
   "source": [
    "f1 = f1_score(y_train, y_pred)"
   ]
  },
  {
   "cell_type": "code",
   "execution_count": 270,
   "id": "3d0297ec",
   "metadata": {},
   "outputs": [
    {
     "data": {
      "text/plain": [
       "0.956043956043956"
      ]
     },
     "execution_count": 270,
     "metadata": {},
     "output_type": "execute_result"
    }
   ],
   "source": [
    "f1"
   ]
  },
  {
   "cell_type": "markdown",
   "id": "666b2f39",
   "metadata": {},
   "source": [
    "**Support**"
   ]
  },
  {
   "cell_type": "code",
   "execution_count": 271,
   "id": "1d70f1f6",
   "metadata": {},
   "outputs": [],
   "source": [
    "support_1 = true_positives + false_negatives \n",
    "support_0 = false_positives + true_negatives\n",
    "support_total = true_positives + false_negatives + false_positives + true_negatives"
   ]
  },
  {
   "cell_type": "code",
   "execution_count": 272,
   "id": "a89aaeb6",
   "metadata": {},
   "outputs": [
    {
     "name": "stdout",
     "output_type": "stream",
     "text": [
      "Support 1: 190\n",
      "Support 0: 307\n",
      "Support total: 497\n"
     ]
    }
   ],
   "source": [
    "print(f'Support 1: {support_1}')\n",
    "print(f'Support 0: {support_0}')\n",
    "print(f'Support total: {support_total}')"
   ]
  },
  {
   "cell_type": "markdown",
   "id": "6716f2dc",
   "metadata": {},
   "source": [
    "### Run through steps increasing your min_samples_leaf and decreasing your max_depth."
   ]
  },
  {
   "cell_type": "markdown",
   "id": "b9116ee2",
   "metadata": {},
   "source": [
    "This time, let's set min_samples_leaf to 3, and max_depth to 6."
   ]
  },
  {
   "cell_type": "code",
   "execution_count": 273,
   "id": "64657b82",
   "metadata": {},
   "outputs": [],
   "source": [
    "rf2 = RandomForestClassifier(bootstrap=True, \n",
    "                            class_weight=None, \n",
    "                            criterion='gini',\n",
    "                            min_samples_leaf=3,\n",
    "                            n_estimators=100,\n",
    "                            max_depth=6, \n",
    "                            random_state=123)"
   ]
  },
  {
   "cell_type": "markdown",
   "id": "bef68cd8",
   "metadata": {},
   "source": [
    "**Fit the model**"
   ]
  },
  {
   "cell_type": "code",
   "execution_count": 274,
   "id": "e6ca8643",
   "metadata": {},
   "outputs": [
    {
     "data": {
      "text/plain": [
       "RandomForestClassifier(max_depth=6, min_samples_leaf=3, random_state=123)"
      ]
     },
     "execution_count": 274,
     "metadata": {},
     "output_type": "execute_result"
    }
   ],
   "source": [
    "rf2.fit(X_train, y_train)"
   ]
  },
  {
   "cell_type": "markdown",
   "id": "d2101de1",
   "metadata": {},
   "source": [
    "**Feature importance**"
   ]
  },
  {
   "cell_type": "code",
   "execution_count": 275,
   "id": "8ba3504d",
   "metadata": {},
   "outputs": [
    {
     "data": {
      "text/html": [
       "<div>\n",
       "<style scoped>\n",
       "    .dataframe tbody tr th:only-of-type {\n",
       "        vertical-align: middle;\n",
       "    }\n",
       "\n",
       "    .dataframe tbody tr th {\n",
       "        vertical-align: top;\n",
       "    }\n",
       "\n",
       "    .dataframe thead th {\n",
       "        text-align: right;\n",
       "    }\n",
       "</style>\n",
       "<table border=\"1\" class=\"dataframe\">\n",
       "  <thead>\n",
       "    <tr style=\"text-align: right;\">\n",
       "      <th></th>\n",
       "      <th>0</th>\n",
       "    </tr>\n",
       "  </thead>\n",
       "  <tbody>\n",
       "    <tr>\n",
       "      <th>0</th>\n",
       "      <td>0.095989</td>\n",
       "    </tr>\n",
       "    <tr>\n",
       "      <th>1</th>\n",
       "      <td>0.096242</td>\n",
       "    </tr>\n",
       "    <tr>\n",
       "      <th>2</th>\n",
       "      <td>0.133684</td>\n",
       "    </tr>\n",
       "    <tr>\n",
       "      <th>3</th>\n",
       "      <td>0.047151</td>\n",
       "    </tr>\n",
       "    <tr>\n",
       "      <th>4</th>\n",
       "      <td>0.026138</td>\n",
       "    </tr>\n",
       "    <tr>\n",
       "      <th>5</th>\n",
       "      <td>0.169599</td>\n",
       "    </tr>\n",
       "    <tr>\n",
       "      <th>6</th>\n",
       "      <td>0.040284</td>\n",
       "    </tr>\n",
       "    <tr>\n",
       "      <th>7</th>\n",
       "      <td>0.004780</td>\n",
       "    </tr>\n",
       "    <tr>\n",
       "      <th>8</th>\n",
       "      <td>0.013097</td>\n",
       "    </tr>\n",
       "    <tr>\n",
       "      <th>9</th>\n",
       "      <td>0.355629</td>\n",
       "    </tr>\n",
       "    <tr>\n",
       "      <th>10</th>\n",
       "      <td>0.005959</td>\n",
       "    </tr>\n",
       "    <tr>\n",
       "      <th>11</th>\n",
       "      <td>0.011448</td>\n",
       "    </tr>\n",
       "  </tbody>\n",
       "</table>\n",
       "</div>"
      ],
      "text/plain": [
       "           0\n",
       "0   0.095989\n",
       "1   0.096242\n",
       "2   0.133684\n",
       "3   0.047151\n",
       "4   0.026138\n",
       "5   0.169599\n",
       "6   0.040284\n",
       "7   0.004780\n",
       "8   0.013097\n",
       "9   0.355629\n",
       "10  0.005959\n",
       "11  0.011448"
      ]
     },
     "execution_count": 275,
     "metadata": {},
     "output_type": "execute_result"
    }
   ],
   "source": [
    "pd.DataFrame(rf2.feature_importances_)"
   ]
  },
  {
   "cell_type": "markdown",
   "id": "5cc557f9",
   "metadata": {},
   "source": [
    "**Make predictions**"
   ]
  },
  {
   "cell_type": "code",
   "execution_count": 276,
   "id": "2cd42830",
   "metadata": {},
   "outputs": [
    {
     "data": {
      "text/html": [
       "<div>\n",
       "<style scoped>\n",
       "    .dataframe tbody tr th:only-of-type {\n",
       "        vertical-align: middle;\n",
       "    }\n",
       "\n",
       "    .dataframe tbody tr th {\n",
       "        vertical-align: top;\n",
       "    }\n",
       "\n",
       "    .dataframe thead th {\n",
       "        text-align: right;\n",
       "    }\n",
       "</style>\n",
       "<table border=\"1\" class=\"dataframe\">\n",
       "  <thead>\n",
       "    <tr style=\"text-align: right;\">\n",
       "      <th></th>\n",
       "      <th>0</th>\n",
       "    </tr>\n",
       "  </thead>\n",
       "  <tbody>\n",
       "    <tr>\n",
       "      <th>0</th>\n",
       "      <td>0</td>\n",
       "    </tr>\n",
       "    <tr>\n",
       "      <th>1</th>\n",
       "      <td>1</td>\n",
       "    </tr>\n",
       "    <tr>\n",
       "      <th>2</th>\n",
       "      <td>0</td>\n",
       "    </tr>\n",
       "    <tr>\n",
       "      <th>3</th>\n",
       "      <td>1</td>\n",
       "    </tr>\n",
       "    <tr>\n",
       "      <th>4</th>\n",
       "      <td>1</td>\n",
       "    </tr>\n",
       "    <tr>\n",
       "      <th>...</th>\n",
       "      <td>...</td>\n",
       "    </tr>\n",
       "    <tr>\n",
       "      <th>492</th>\n",
       "      <td>0</td>\n",
       "    </tr>\n",
       "    <tr>\n",
       "      <th>493</th>\n",
       "      <td>0</td>\n",
       "    </tr>\n",
       "    <tr>\n",
       "      <th>494</th>\n",
       "      <td>0</td>\n",
       "    </tr>\n",
       "    <tr>\n",
       "      <th>495</th>\n",
       "      <td>0</td>\n",
       "    </tr>\n",
       "    <tr>\n",
       "      <th>496</th>\n",
       "      <td>0</td>\n",
       "    </tr>\n",
       "  </tbody>\n",
       "</table>\n",
       "<p>497 rows × 1 columns</p>\n",
       "</div>"
      ],
      "text/plain": [
       "     0\n",
       "0    0\n",
       "1    1\n",
       "2    0\n",
       "3    1\n",
       "4    1\n",
       "..  ..\n",
       "492  0\n",
       "493  0\n",
       "494  0\n",
       "495  0\n",
       "496  0\n",
       "\n",
       "[497 rows x 1 columns]"
      ]
     },
     "execution_count": 276,
     "metadata": {},
     "output_type": "execute_result"
    }
   ],
   "source": [
    "y_pred = rf2.predict(X_train)\n",
    "pd.DataFrame(y_pred)"
   ]
  },
  {
   "cell_type": "markdown",
   "id": "468ad276",
   "metadata": {},
   "source": [
    "**Estimate probability**"
   ]
  },
  {
   "cell_type": "code",
   "execution_count": 277,
   "id": "9efe9dd1",
   "metadata": {},
   "outputs": [
    {
     "data": {
      "text/html": [
       "<div>\n",
       "<style scoped>\n",
       "    .dataframe tbody tr th:only-of-type {\n",
       "        vertical-align: middle;\n",
       "    }\n",
       "\n",
       "    .dataframe tbody tr th {\n",
       "        vertical-align: top;\n",
       "    }\n",
       "\n",
       "    .dataframe thead th {\n",
       "        text-align: right;\n",
       "    }\n",
       "</style>\n",
       "<table border=\"1\" class=\"dataframe\">\n",
       "  <thead>\n",
       "    <tr style=\"text-align: right;\">\n",
       "      <th></th>\n",
       "      <th>0</th>\n",
       "      <th>1</th>\n",
       "    </tr>\n",
       "  </thead>\n",
       "  <tbody>\n",
       "    <tr>\n",
       "      <th>0</th>\n",
       "      <td>0.691080</td>\n",
       "      <td>0.308920</td>\n",
       "    </tr>\n",
       "    <tr>\n",
       "      <th>1</th>\n",
       "      <td>0.046536</td>\n",
       "      <td>0.953464</td>\n",
       "    </tr>\n",
       "    <tr>\n",
       "      <th>2</th>\n",
       "      <td>0.914865</td>\n",
       "      <td>0.085135</td>\n",
       "    </tr>\n",
       "    <tr>\n",
       "      <th>3</th>\n",
       "      <td>0.098877</td>\n",
       "      <td>0.901123</td>\n",
       "    </tr>\n",
       "    <tr>\n",
       "      <th>4</th>\n",
       "      <td>0.227153</td>\n",
       "      <td>0.772847</td>\n",
       "    </tr>\n",
       "    <tr>\n",
       "      <th>...</th>\n",
       "      <td>...</td>\n",
       "      <td>...</td>\n",
       "    </tr>\n",
       "    <tr>\n",
       "      <th>492</th>\n",
       "      <td>0.892887</td>\n",
       "      <td>0.107113</td>\n",
       "    </tr>\n",
       "    <tr>\n",
       "      <th>493</th>\n",
       "      <td>0.898224</td>\n",
       "      <td>0.101776</td>\n",
       "    </tr>\n",
       "    <tr>\n",
       "      <th>494</th>\n",
       "      <td>0.845211</td>\n",
       "      <td>0.154789</td>\n",
       "    </tr>\n",
       "    <tr>\n",
       "      <th>495</th>\n",
       "      <td>0.722290</td>\n",
       "      <td>0.277710</td>\n",
       "    </tr>\n",
       "    <tr>\n",
       "      <th>496</th>\n",
       "      <td>0.837201</td>\n",
       "      <td>0.162799</td>\n",
       "    </tr>\n",
       "  </tbody>\n",
       "</table>\n",
       "<p>497 rows × 2 columns</p>\n",
       "</div>"
      ],
      "text/plain": [
       "            0         1\n",
       "0    0.691080  0.308920\n",
       "1    0.046536  0.953464\n",
       "2    0.914865  0.085135\n",
       "3    0.098877  0.901123\n",
       "4    0.227153  0.772847\n",
       "..        ...       ...\n",
       "492  0.892887  0.107113\n",
       "493  0.898224  0.101776\n",
       "494  0.845211  0.154789\n",
       "495  0.722290  0.277710\n",
       "496  0.837201  0.162799\n",
       "\n",
       "[497 rows x 2 columns]"
      ]
     },
     "execution_count": 277,
     "metadata": {},
     "output_type": "execute_result"
    }
   ],
   "source": [
    "y_pred_proba = rf2.predict_proba(X_train)\n",
    "pd.DataFrame(y_pred_proba)"
   ]
  },
  {
   "cell_type": "markdown",
   "id": "798537cd",
   "metadata": {},
   "source": [
    "**Compute accuracy**"
   ]
  },
  {
   "cell_type": "code",
   "execution_count": 278,
   "id": "565a4531",
   "metadata": {},
   "outputs": [
    {
     "name": "stdout",
     "output_type": "stream",
     "text": [
      "Accuracy of random forest classifier on training set: 0.87\n"
     ]
    }
   ],
   "source": [
    "print('Accuracy of random forest classifier on training set: {:.2f}'\n",
    "     .format(rf2.score(X_train, y_train)))"
   ]
  },
  {
   "cell_type": "markdown",
   "id": "e5ccf05c",
   "metadata": {},
   "source": [
    "**Create a confusion matrix**"
   ]
  },
  {
   "cell_type": "code",
   "execution_count": 279,
   "id": "f5462e78",
   "metadata": {},
   "outputs": [],
   "source": [
    "labels1 = ['died_actual', 'survived_actual']\n",
    "labels2 = ['died_predicted', 'survived_predicted']\n",
    "df_confusion_matrix = pd.DataFrame(confusion_matrix(y_train, y_pred), index=labels1, columns=labels2)"
   ]
  },
  {
   "cell_type": "code",
   "execution_count": 280,
   "id": "cbdec033",
   "metadata": {},
   "outputs": [
    {
     "data": {
      "text/html": [
       "<div>\n",
       "<style scoped>\n",
       "    .dataframe tbody tr th:only-of-type {\n",
       "        vertical-align: middle;\n",
       "    }\n",
       "\n",
       "    .dataframe tbody tr th {\n",
       "        vertical-align: top;\n",
       "    }\n",
       "\n",
       "    .dataframe thead th {\n",
       "        text-align: right;\n",
       "    }\n",
       "</style>\n",
       "<table border=\"1\" class=\"dataframe\">\n",
       "  <thead>\n",
       "    <tr style=\"text-align: right;\">\n",
       "      <th></th>\n",
       "      <th>died_predicted</th>\n",
       "      <th>survived_predicted</th>\n",
       "    </tr>\n",
       "  </thead>\n",
       "  <tbody>\n",
       "    <tr>\n",
       "      <th>died_actual</th>\n",
       "      <td>295</td>\n",
       "      <td>12</td>\n",
       "    </tr>\n",
       "    <tr>\n",
       "      <th>survived_actual</th>\n",
       "      <td>51</td>\n",
       "      <td>139</td>\n",
       "    </tr>\n",
       "  </tbody>\n",
       "</table>\n",
       "</div>"
      ],
      "text/plain": [
       "                 died_predicted  survived_predicted\n",
       "died_actual                 295                  12\n",
       "survived_actual              51                 139"
      ]
     },
     "execution_count": 280,
     "metadata": {},
     "output_type": "execute_result"
    }
   ],
   "source": [
    "df_confusion_matrix"
   ]
  },
  {
   "cell_type": "markdown",
   "id": "193c6f69",
   "metadata": {},
   "source": [
    "**Create a classification report**"
   ]
  },
  {
   "cell_type": "code",
   "execution_count": 281,
   "id": "a7f5c562",
   "metadata": {},
   "outputs": [
    {
     "ename": "TypeError",
     "evalue": "'dict' object is not callable",
     "output_type": "error",
     "traceback": [
      "\u001b[0;31m---------------------------------------------------------------------------\u001b[0m",
      "\u001b[0;31mTypeError\u001b[0m                                 Traceback (most recent call last)",
      "\u001b[0;32m<ipython-input-281-4b4f31f0ddb8>\u001b[0m in \u001b[0;36m<module>\u001b[0;34m\u001b[0m\n\u001b[0;32m----> 1\u001b[0;31m \u001b[0mclassification_report_2\u001b[0m \u001b[0;34m=\u001b[0m \u001b[0mclassification_report\u001b[0m\u001b[0;34m(\u001b[0m\u001b[0my_train\u001b[0m\u001b[0;34m,\u001b[0m \u001b[0my_pred\u001b[0m\u001b[0;34m,\u001b[0m \u001b[0moutput_dict\u001b[0m \u001b[0;34m=\u001b[0m \u001b[0;32mTrue\u001b[0m\u001b[0;34m)\u001b[0m\u001b[0;34m\u001b[0m\u001b[0;34m\u001b[0m\u001b[0m\n\u001b[0m",
      "\u001b[0;31mTypeError\u001b[0m: 'dict' object is not callable"
     ]
    }
   ],
   "source": [
    "classification_report_2 = classification_report(y_train, y_pred, output_dict = True)"
   ]
  },
  {
   "cell_type": "code",
   "execution_count": null,
   "id": "d408dd57",
   "metadata": {},
   "outputs": [],
   "source": [
    "df_classification_report_2 = pd.DataFrame(classification_report_2).T"
   ]
  },
  {
   "cell_type": "code",
   "execution_count": null,
   "id": "2e481a01",
   "metadata": {},
   "outputs": [],
   "source": [
    "df_classification_report_2"
   ]
  },
  {
   "cell_type": "markdown",
   "id": "25ce78b2",
   "metadata": {},
   "source": [
    "### What are the differences in the evaluation metrics? Which performs better on your in-sample data? Why?"
   ]
  },
  {
   "cell_type": "markdown",
   "id": "19ce4321",
   "metadata": {},
   "source": [
    "Let's compare the two classification reports for the evaluation metrics."
   ]
  },
  {
   "cell_type": "code",
   "execution_count": null,
   "id": "acfdfbae",
   "metadata": {},
   "outputs": [],
   "source": [
    "df_classification_report"
   ]
  },
  {
   "cell_type": "code",
   "execution_count": null,
   "id": "115a4eea",
   "metadata": {},
   "outputs": [],
   "source": [
    "df_classification_report_2"
   ]
  },
  {
   "cell_type": "markdown",
   "id": "dd8de0d2",
   "metadata": {},
   "source": [
    "The first sample with min_samples_leaf = 1 and max_depth = 10 performs better than the second sample. This is likely because we are using a higher max depth."
   ]
  },
  {
   "cell_type": "markdown",
   "id": "4f0b449d",
   "metadata": {},
   "source": [
    "# K-Nearest Neighbor"
   ]
  },
  {
   "cell_type": "code",
   "execution_count": 282,
   "id": "1c5fe5c8",
   "metadata": {},
   "outputs": [],
   "source": [
    "# ignore warnings\n",
    "import warnings\n",
    "warnings.filterwarnings(\"ignore\")\n",
    "\n",
    "import pandas as pd\n",
    "import numpy as np\n",
    "\n",
    "%matplotlib inline\n",
    "import matplotlib.pyplot as plt\n",
    "import seaborn as sns\n",
    "\n",
    "from sklearn.model_selection import train_test_split\n",
    "from sklearn.neighbors import KNeighborsClassifier\n",
    "from sklearn.metrics import classification_report\n",
    "from sklearn.metrics import confusion_matrix\n",
    "\n",
    "from pydataset import data"
   ]
  },
  {
   "cell_type": "markdown",
   "id": "a7edbbd1",
   "metadata": {},
   "source": [
    "## Fit a K-Nearest Neighbors classifier to your training sample and transform (i.e. make predictions on the training sample)."
   ]
  },
  {
   "cell_type": "markdown",
   "id": "f5c572fa",
   "metadata": {},
   "source": [
    "#### Create a KNN Object"
   ]
  },
  {
   "cell_type": "code",
   "execution_count": 283,
   "id": "e87c1a00",
   "metadata": {},
   "outputs": [],
   "source": [
    "knn = KNeighborsClassifier(n_neighbors=5, weights='uniform')"
   ]
  },
  {
   "cell_type": "markdown",
   "id": "aa4c8c25",
   "metadata": {},
   "source": [
    "#### Fit the model to the training data"
   ]
  },
  {
   "cell_type": "code",
   "execution_count": 284,
   "id": "cb54a659",
   "metadata": {},
   "outputs": [
    {
     "data": {
      "text/plain": [
       "KNeighborsClassifier()"
      ]
     },
     "execution_count": 284,
     "metadata": {},
     "output_type": "execute_result"
    }
   ],
   "source": [
    "knn.fit(X_train, y_train)"
   ]
  },
  {
   "cell_type": "markdown",
   "id": "b91b0a6d",
   "metadata": {},
   "source": [
    "#### Make predictions"
   ]
  },
  {
   "cell_type": "code",
   "execution_count": 285,
   "id": "f27d8f8a",
   "metadata": {},
   "outputs": [],
   "source": [
    "y_pred = knn.predict(X_train)"
   ]
  },
  {
   "cell_type": "code",
   "execution_count": 286,
   "id": "8c581997",
   "metadata": {},
   "outputs": [],
   "source": [
    "y_pred2 = knn.predict(X_validate)"
   ]
  },
  {
   "cell_type": "markdown",
   "id": "a68ef81e",
   "metadata": {},
   "source": [
    "#### Estimate probability"
   ]
  },
  {
   "cell_type": "code",
   "execution_count": 287,
   "id": "a8bccf06",
   "metadata": {},
   "outputs": [],
   "source": [
    "y_pred_proba = knn.predict_proba(X_train)"
   ]
  },
  {
   "cell_type": "code",
   "execution_count": 288,
   "id": "ec8f0161",
   "metadata": {},
   "outputs": [],
   "source": [
    "df_probability = pd.DataFrame(y_pred_proba)"
   ]
  },
  {
   "cell_type": "code",
   "execution_count": 289,
   "id": "863d65f9",
   "metadata": {},
   "outputs": [
    {
     "data": {
      "text/html": [
       "<div>\n",
       "<style scoped>\n",
       "    .dataframe tbody tr th:only-of-type {\n",
       "        vertical-align: middle;\n",
       "    }\n",
       "\n",
       "    .dataframe tbody tr th {\n",
       "        vertical-align: top;\n",
       "    }\n",
       "\n",
       "    .dataframe thead th {\n",
       "        text-align: right;\n",
       "    }\n",
       "</style>\n",
       "<table border=\"1\" class=\"dataframe\">\n",
       "  <thead>\n",
       "    <tr style=\"text-align: right;\">\n",
       "      <th></th>\n",
       "      <th>0</th>\n",
       "      <th>1</th>\n",
       "    </tr>\n",
       "  </thead>\n",
       "  <tbody>\n",
       "    <tr>\n",
       "      <th>0</th>\n",
       "      <td>0.8</td>\n",
       "      <td>0.2</td>\n",
       "    </tr>\n",
       "    <tr>\n",
       "      <th>1</th>\n",
       "      <td>0.6</td>\n",
       "      <td>0.4</td>\n",
       "    </tr>\n",
       "    <tr>\n",
       "      <th>2</th>\n",
       "      <td>0.6</td>\n",
       "      <td>0.4</td>\n",
       "    </tr>\n",
       "    <tr>\n",
       "      <th>3</th>\n",
       "      <td>0.2</td>\n",
       "      <td>0.8</td>\n",
       "    </tr>\n",
       "    <tr>\n",
       "      <th>4</th>\n",
       "      <td>0.6</td>\n",
       "      <td>0.4</td>\n",
       "    </tr>\n",
       "    <tr>\n",
       "      <th>...</th>\n",
       "      <td>...</td>\n",
       "      <td>...</td>\n",
       "    </tr>\n",
       "    <tr>\n",
       "      <th>492</th>\n",
       "      <td>0.6</td>\n",
       "      <td>0.4</td>\n",
       "    </tr>\n",
       "    <tr>\n",
       "      <th>493</th>\n",
       "      <td>1.0</td>\n",
       "      <td>0.0</td>\n",
       "    </tr>\n",
       "    <tr>\n",
       "      <th>494</th>\n",
       "      <td>0.8</td>\n",
       "      <td>0.2</td>\n",
       "    </tr>\n",
       "    <tr>\n",
       "      <th>495</th>\n",
       "      <td>0.8</td>\n",
       "      <td>0.2</td>\n",
       "    </tr>\n",
       "    <tr>\n",
       "      <th>496</th>\n",
       "      <td>0.6</td>\n",
       "      <td>0.4</td>\n",
       "    </tr>\n",
       "  </tbody>\n",
       "</table>\n",
       "<p>497 rows × 2 columns</p>\n",
       "</div>"
      ],
      "text/plain": [
       "       0    1\n",
       "0    0.8  0.2\n",
       "1    0.6  0.4\n",
       "2    0.6  0.4\n",
       "3    0.2  0.8\n",
       "4    0.6  0.4\n",
       "..   ...  ...\n",
       "492  0.6  0.4\n",
       "493  1.0  0.0\n",
       "494  0.8  0.2\n",
       "495  0.8  0.2\n",
       "496  0.6  0.4\n",
       "\n",
       "[497 rows x 2 columns]"
      ]
     },
     "execution_count": 289,
     "metadata": {},
     "output_type": "execute_result"
    }
   ],
   "source": [
    "df_probability"
   ]
  },
  {
   "cell_type": "code",
   "execution_count": 290,
   "id": "8f0ebc5b",
   "metadata": {},
   "outputs": [],
   "source": [
    "y_pred_proba2 = knn.predict_proba(X_validate)"
   ]
  },
  {
   "cell_type": "code",
   "execution_count": 291,
   "id": "916957f6",
   "metadata": {},
   "outputs": [],
   "source": [
    "df_probability2 = pd.DataFrame(y_pred_proba2)"
   ]
  },
  {
   "cell_type": "code",
   "execution_count": 292,
   "id": "446e25fe",
   "metadata": {},
   "outputs": [
    {
     "data": {
      "text/html": [
       "<div>\n",
       "<style scoped>\n",
       "    .dataframe tbody tr th:only-of-type {\n",
       "        vertical-align: middle;\n",
       "    }\n",
       "\n",
       "    .dataframe tbody tr th {\n",
       "        vertical-align: top;\n",
       "    }\n",
       "\n",
       "    .dataframe thead th {\n",
       "        text-align: right;\n",
       "    }\n",
       "</style>\n",
       "<table border=\"1\" class=\"dataframe\">\n",
       "  <thead>\n",
       "    <tr style=\"text-align: right;\">\n",
       "      <th></th>\n",
       "      <th>0</th>\n",
       "      <th>1</th>\n",
       "    </tr>\n",
       "  </thead>\n",
       "  <tbody>\n",
       "    <tr>\n",
       "      <th>0</th>\n",
       "      <td>0.4</td>\n",
       "      <td>0.6</td>\n",
       "    </tr>\n",
       "    <tr>\n",
       "      <th>1</th>\n",
       "      <td>0.4</td>\n",
       "      <td>0.6</td>\n",
       "    </tr>\n",
       "    <tr>\n",
       "      <th>2</th>\n",
       "      <td>0.4</td>\n",
       "      <td>0.6</td>\n",
       "    </tr>\n",
       "    <tr>\n",
       "      <th>3</th>\n",
       "      <td>0.8</td>\n",
       "      <td>0.2</td>\n",
       "    </tr>\n",
       "    <tr>\n",
       "      <th>4</th>\n",
       "      <td>0.8</td>\n",
       "      <td>0.2</td>\n",
       "    </tr>\n",
       "    <tr>\n",
       "      <th>...</th>\n",
       "      <td>...</td>\n",
       "      <td>...</td>\n",
       "    </tr>\n",
       "    <tr>\n",
       "      <th>209</th>\n",
       "      <td>0.8</td>\n",
       "      <td>0.2</td>\n",
       "    </tr>\n",
       "    <tr>\n",
       "      <th>210</th>\n",
       "      <td>0.8</td>\n",
       "      <td>0.2</td>\n",
       "    </tr>\n",
       "    <tr>\n",
       "      <th>211</th>\n",
       "      <td>0.2</td>\n",
       "      <td>0.8</td>\n",
       "    </tr>\n",
       "    <tr>\n",
       "      <th>212</th>\n",
       "      <td>0.8</td>\n",
       "      <td>0.2</td>\n",
       "    </tr>\n",
       "    <tr>\n",
       "      <th>213</th>\n",
       "      <td>0.2</td>\n",
       "      <td>0.8</td>\n",
       "    </tr>\n",
       "  </tbody>\n",
       "</table>\n",
       "<p>214 rows × 2 columns</p>\n",
       "</div>"
      ],
      "text/plain": [
       "       0    1\n",
       "0    0.4  0.6\n",
       "1    0.4  0.6\n",
       "2    0.4  0.6\n",
       "3    0.8  0.2\n",
       "4    0.8  0.2\n",
       "..   ...  ...\n",
       "209  0.8  0.2\n",
       "210  0.8  0.2\n",
       "211  0.2  0.8\n",
       "212  0.8  0.2\n",
       "213  0.2  0.8\n",
       "\n",
       "[214 rows x 2 columns]"
      ]
     },
     "execution_count": 292,
     "metadata": {},
     "output_type": "execute_result"
    }
   ],
   "source": [
    "df_probability2"
   ]
  },
  {
   "cell_type": "markdown",
   "id": "ee25f159",
   "metadata": {},
   "source": [
    "## Evaluate your results using the model score, confusion matrix, and classification report."
   ]
  },
  {
   "cell_type": "markdown",
   "id": "0b172fd3",
   "metadata": {},
   "source": [
    "#### Model score"
   ]
  },
  {
   "cell_type": "code",
   "execution_count": 293,
   "id": "73ca9f41",
   "metadata": {},
   "outputs": [
    {
     "name": "stdout",
     "output_type": "stream",
     "text": [
      "Accuracy of KNN classifier on training set: 0.75\n"
     ]
    }
   ],
   "source": [
    "print('Accuracy of KNN classifier on training set: {:.2f}'\n",
    "     .format(knn.score(X_train, y_train)))"
   ]
  },
  {
   "cell_type": "code",
   "execution_count": 294,
   "id": "57566404",
   "metadata": {},
   "outputs": [
    {
     "name": "stdout",
     "output_type": "stream",
     "text": [
      "Accuracy of KNN classifier on validate set: 0.59\n"
     ]
    }
   ],
   "source": [
    "print('Accuracy of KNN classifier on validate set: {:.2f}'\n",
    "     .format(knn.score(X_validate, y_validate)))"
   ]
  },
  {
   "cell_type": "markdown",
   "id": "027e2632",
   "metadata": {},
   "source": [
    "#### Confusion matrix"
   ]
  },
  {
   "cell_type": "code",
   "execution_count": 295,
   "id": "4d6f1332",
   "metadata": {},
   "outputs": [],
   "source": [
    "labels1 = ['died_actual', 'survived_actual']\n",
    "labels2 = ['died_predict', 'survived_predict']\n",
    "df_knn_confusion_matrix = pd.DataFrame(confusion_matrix(y_train, y_pred), index = labels1, columns= labels2)"
   ]
  },
  {
   "cell_type": "code",
   "execution_count": 296,
   "id": "21064357",
   "metadata": {},
   "outputs": [
    {
     "data": {
      "text/html": [
       "<div>\n",
       "<style scoped>\n",
       "    .dataframe tbody tr th:only-of-type {\n",
       "        vertical-align: middle;\n",
       "    }\n",
       "\n",
       "    .dataframe tbody tr th {\n",
       "        vertical-align: top;\n",
       "    }\n",
       "\n",
       "    .dataframe thead th {\n",
       "        text-align: right;\n",
       "    }\n",
       "</style>\n",
       "<table border=\"1\" class=\"dataframe\">\n",
       "  <thead>\n",
       "    <tr style=\"text-align: right;\">\n",
       "      <th></th>\n",
       "      <th>died_predict</th>\n",
       "      <th>survived_predict</th>\n",
       "    </tr>\n",
       "  </thead>\n",
       "  <tbody>\n",
       "    <tr>\n",
       "      <th>died_actual</th>\n",
       "      <td>271</td>\n",
       "      <td>36</td>\n",
       "    </tr>\n",
       "    <tr>\n",
       "      <th>survived_actual</th>\n",
       "      <td>89</td>\n",
       "      <td>101</td>\n",
       "    </tr>\n",
       "  </tbody>\n",
       "</table>\n",
       "</div>"
      ],
      "text/plain": [
       "                 died_predict  survived_predict\n",
       "died_actual               271                36\n",
       "survived_actual            89               101"
      ]
     },
     "execution_count": 296,
     "metadata": {},
     "output_type": "execute_result"
    }
   ],
   "source": [
    "df_knn_confusion_matrix"
   ]
  },
  {
   "cell_type": "code",
   "execution_count": 297,
   "id": "6abc702c",
   "metadata": {},
   "outputs": [],
   "source": [
    "df_knn_confusion_matrix_validate = pd.DataFrame(confusion_matrix(y_validate, y_pred2), index = labels1, columns= labels2)"
   ]
  },
  {
   "cell_type": "code",
   "execution_count": 298,
   "id": "07caae96",
   "metadata": {},
   "outputs": [
    {
     "data": {
      "text/html": [
       "<div>\n",
       "<style scoped>\n",
       "    .dataframe tbody tr th:only-of-type {\n",
       "        vertical-align: middle;\n",
       "    }\n",
       "\n",
       "    .dataframe tbody tr th {\n",
       "        vertical-align: top;\n",
       "    }\n",
       "\n",
       "    .dataframe thead th {\n",
       "        text-align: right;\n",
       "    }\n",
       "</style>\n",
       "<table border=\"1\" class=\"dataframe\">\n",
       "  <thead>\n",
       "    <tr style=\"text-align: right;\">\n",
       "      <th></th>\n",
       "      <th>died_predict</th>\n",
       "      <th>survived_predict</th>\n",
       "    </tr>\n",
       "  </thead>\n",
       "  <tbody>\n",
       "    <tr>\n",
       "      <th>died_actual</th>\n",
       "      <td>97</td>\n",
       "      <td>35</td>\n",
       "    </tr>\n",
       "    <tr>\n",
       "      <th>survived_actual</th>\n",
       "      <td>53</td>\n",
       "      <td>29</td>\n",
       "    </tr>\n",
       "  </tbody>\n",
       "</table>\n",
       "</div>"
      ],
      "text/plain": [
       "                 died_predict  survived_predict\n",
       "died_actual                97                35\n",
       "survived_actual            53                29"
      ]
     },
     "execution_count": 298,
     "metadata": {},
     "output_type": "execute_result"
    }
   ],
   "source": [
    "df_knn_confusion_matrix_validate"
   ]
  },
  {
   "cell_type": "markdown",
   "id": "dd0b4101",
   "metadata": {},
   "source": [
    "#### Classification report"
   ]
  },
  {
   "cell_type": "code",
   "execution_count": 299,
   "id": "79c4f797",
   "metadata": {},
   "outputs": [],
   "source": [
    "df_knn_classification_report = pd.DataFrame(classification_report(y_train, y_pred, output_dict = True)).T"
   ]
  },
  {
   "cell_type": "code",
   "execution_count": 300,
   "id": "a0857787",
   "metadata": {},
   "outputs": [
    {
     "data": {
      "text/html": [
       "<div>\n",
       "<style scoped>\n",
       "    .dataframe tbody tr th:only-of-type {\n",
       "        vertical-align: middle;\n",
       "    }\n",
       "\n",
       "    .dataframe tbody tr th {\n",
       "        vertical-align: top;\n",
       "    }\n",
       "\n",
       "    .dataframe thead th {\n",
       "        text-align: right;\n",
       "    }\n",
       "</style>\n",
       "<table border=\"1\" class=\"dataframe\">\n",
       "  <thead>\n",
       "    <tr style=\"text-align: right;\">\n",
       "      <th></th>\n",
       "      <th>precision</th>\n",
       "      <th>recall</th>\n",
       "      <th>f1-score</th>\n",
       "      <th>support</th>\n",
       "    </tr>\n",
       "  </thead>\n",
       "  <tbody>\n",
       "    <tr>\n",
       "      <th>0</th>\n",
       "      <td>0.752778</td>\n",
       "      <td>0.882736</td>\n",
       "      <td>0.812594</td>\n",
       "      <td>307.000000</td>\n",
       "    </tr>\n",
       "    <tr>\n",
       "      <th>1</th>\n",
       "      <td>0.737226</td>\n",
       "      <td>0.531579</td>\n",
       "      <td>0.617737</td>\n",
       "      <td>190.000000</td>\n",
       "    </tr>\n",
       "    <tr>\n",
       "      <th>accuracy</th>\n",
       "      <td>0.748491</td>\n",
       "      <td>0.748491</td>\n",
       "      <td>0.748491</td>\n",
       "      <td>0.748491</td>\n",
       "    </tr>\n",
       "    <tr>\n",
       "      <th>macro avg</th>\n",
       "      <td>0.745002</td>\n",
       "      <td>0.707158</td>\n",
       "      <td>0.715165</td>\n",
       "      <td>497.000000</td>\n",
       "    </tr>\n",
       "    <tr>\n",
       "      <th>weighted avg</th>\n",
       "      <td>0.746833</td>\n",
       "      <td>0.748491</td>\n",
       "      <td>0.738101</td>\n",
       "      <td>497.000000</td>\n",
       "    </tr>\n",
       "  </tbody>\n",
       "</table>\n",
       "</div>"
      ],
      "text/plain": [
       "              precision    recall  f1-score     support\n",
       "0              0.752778  0.882736  0.812594  307.000000\n",
       "1              0.737226  0.531579  0.617737  190.000000\n",
       "accuracy       0.748491  0.748491  0.748491    0.748491\n",
       "macro avg      0.745002  0.707158  0.715165  497.000000\n",
       "weighted avg   0.746833  0.748491  0.738101  497.000000"
      ]
     },
     "execution_count": 300,
     "metadata": {},
     "output_type": "execute_result"
    }
   ],
   "source": [
    "df_knn_classification_report"
   ]
  },
  {
   "cell_type": "code",
   "execution_count": 301,
   "id": "5bffeecc",
   "metadata": {},
   "outputs": [],
   "source": [
    "df_knn_classification_report_validate = pd.DataFrame(classification_report(y_validate, y_pred2, output_dict = True)).T"
   ]
  },
  {
   "cell_type": "code",
   "execution_count": 302,
   "id": "9549115c",
   "metadata": {},
   "outputs": [
    {
     "data": {
      "text/html": [
       "<div>\n",
       "<style scoped>\n",
       "    .dataframe tbody tr th:only-of-type {\n",
       "        vertical-align: middle;\n",
       "    }\n",
       "\n",
       "    .dataframe tbody tr th {\n",
       "        vertical-align: top;\n",
       "    }\n",
       "\n",
       "    .dataframe thead th {\n",
       "        text-align: right;\n",
       "    }\n",
       "</style>\n",
       "<table border=\"1\" class=\"dataframe\">\n",
       "  <thead>\n",
       "    <tr style=\"text-align: right;\">\n",
       "      <th></th>\n",
       "      <th>precision</th>\n",
       "      <th>recall</th>\n",
       "      <th>f1-score</th>\n",
       "      <th>support</th>\n",
       "    </tr>\n",
       "  </thead>\n",
       "  <tbody>\n",
       "    <tr>\n",
       "      <th>0</th>\n",
       "      <td>0.646667</td>\n",
       "      <td>0.734848</td>\n",
       "      <td>0.687943</td>\n",
       "      <td>132.000000</td>\n",
       "    </tr>\n",
       "    <tr>\n",
       "      <th>1</th>\n",
       "      <td>0.453125</td>\n",
       "      <td>0.353659</td>\n",
       "      <td>0.397260</td>\n",
       "      <td>82.000000</td>\n",
       "    </tr>\n",
       "    <tr>\n",
       "      <th>accuracy</th>\n",
       "      <td>0.588785</td>\n",
       "      <td>0.588785</td>\n",
       "      <td>0.588785</td>\n",
       "      <td>0.588785</td>\n",
       "    </tr>\n",
       "    <tr>\n",
       "      <th>macro avg</th>\n",
       "      <td>0.549896</td>\n",
       "      <td>0.544254</td>\n",
       "      <td>0.542602</td>\n",
       "      <td>214.000000</td>\n",
       "    </tr>\n",
       "    <tr>\n",
       "      <th>weighted avg</th>\n",
       "      <td>0.572506</td>\n",
       "      <td>0.588785</td>\n",
       "      <td>0.576560</td>\n",
       "      <td>214.000000</td>\n",
       "    </tr>\n",
       "  </tbody>\n",
       "</table>\n",
       "</div>"
      ],
      "text/plain": [
       "              precision    recall  f1-score     support\n",
       "0              0.646667  0.734848  0.687943  132.000000\n",
       "1              0.453125  0.353659  0.397260   82.000000\n",
       "accuracy       0.588785  0.588785  0.588785    0.588785\n",
       "macro avg      0.549896  0.544254  0.542602  214.000000\n",
       "weighted avg   0.572506  0.588785  0.576560  214.000000"
      ]
     },
     "execution_count": 302,
     "metadata": {},
     "output_type": "execute_result"
    }
   ],
   "source": [
    "df_knn_classification_report_validate"
   ]
  },
  {
   "cell_type": "markdown",
   "id": "f751ea7a",
   "metadata": {},
   "source": [
    "## Print and clearly label the following: Accuracy, true positive rate, false positive rate, true negative rate, false negative rate, precision, recall, f1-score, and support."
   ]
  },
  {
   "cell_type": "code",
   "execution_count": 303,
   "id": "cf2ba1b4",
   "metadata": {},
   "outputs": [],
   "source": [
    "from sklearn.metrics import accuracy_score\n",
    "from sklearn.metrics import precision_score\n",
    "from sklearn.metrics import recall_score\n",
    "from sklearn.metrics import f1_score"
   ]
  },
  {
   "cell_type": "code",
   "execution_count": 304,
   "id": "45033c35",
   "metadata": {},
   "outputs": [],
   "source": [
    "true_positives = 101 \n",
    "false_positives = 36 \n",
    "true_negatives = 271\n",
    "false_negatives = 89"
   ]
  },
  {
   "cell_type": "markdown",
   "id": "667a5c8e",
   "metadata": {},
   "source": [
    "#### Accuracy"
   ]
  },
  {
   "cell_type": "code",
   "execution_count": 305,
   "id": "41815e06",
   "metadata": {},
   "outputs": [
    {
     "data": {
      "text/plain": [
       "0.7484909456740443"
      ]
     },
     "execution_count": 305,
     "metadata": {},
     "output_type": "execute_result"
    }
   ],
   "source": [
    "model_accuracy = accuracy_score(y_train, y_pred)\n",
    "model_accuracy"
   ]
  },
  {
   "cell_type": "markdown",
   "id": "a9b33228",
   "metadata": {},
   "source": [
    "#### True positive rate"
   ]
  },
  {
   "cell_type": "code",
   "execution_count": 306,
   "id": "c4d3944b",
   "metadata": {},
   "outputs": [
    {
     "data": {
      "text/plain": [
       "0.531578947368421"
      ]
     },
     "execution_count": 306,
     "metadata": {},
     "output_type": "execute_result"
    }
   ],
   "source": [
    "true_positive_rate = (true_positives)/(true_positives + false_negatives)\n",
    "true_positive_rate"
   ]
  },
  {
   "cell_type": "markdown",
   "id": "bebdb349",
   "metadata": {},
   "source": [
    "#### False positive rate"
   ]
  },
  {
   "cell_type": "code",
   "execution_count": 307,
   "id": "d28ff9e6",
   "metadata": {},
   "outputs": [
    {
     "data": {
      "text/plain": [
       "0.11726384364820847"
      ]
     },
     "execution_count": 307,
     "metadata": {},
     "output_type": "execute_result"
    }
   ],
   "source": [
    "false_positive_rate = (false_positives)/(false_positives + true_negatives)\n",
    "false_positive_rate"
   ]
  },
  {
   "cell_type": "markdown",
   "id": "7f377cbb",
   "metadata": {},
   "source": [
    "#### True negative rate"
   ]
  },
  {
   "cell_type": "code",
   "execution_count": 308,
   "id": "efedcc40",
   "metadata": {},
   "outputs": [
    {
     "data": {
      "text/plain": [
       "0.8827361563517915"
      ]
     },
     "execution_count": 308,
     "metadata": {},
     "output_type": "execute_result"
    }
   ],
   "source": [
    "true_negative_rate = (true_negatives)/(false_positives + true_negatives)\n",
    "true_negative_rate"
   ]
  },
  {
   "cell_type": "markdown",
   "id": "b65edb92",
   "metadata": {},
   "source": [
    "#### False negative rate"
   ]
  },
  {
   "cell_type": "code",
   "execution_count": 309,
   "id": "85f13c7f",
   "metadata": {},
   "outputs": [
    {
     "data": {
      "text/plain": [
       "0.46842105263157896"
      ]
     },
     "execution_count": 309,
     "metadata": {},
     "output_type": "execute_result"
    }
   ],
   "source": [
    "false_negative_rate = (false_negatives)/(true_positives + false_negatives)\n",
    "false_negative_rate"
   ]
  },
  {
   "cell_type": "markdown",
   "id": "694ef482",
   "metadata": {},
   "source": [
    "#### Precision score"
   ]
  },
  {
   "cell_type": "code",
   "execution_count": 310,
   "id": "63f3821c",
   "metadata": {},
   "outputs": [
    {
     "data": {
      "text/plain": [
       "0.7372262773722628"
      ]
     },
     "execution_count": 310,
     "metadata": {},
     "output_type": "execute_result"
    }
   ],
   "source": [
    "precision = precision_score(y_train, y_pred)\n",
    "precision"
   ]
  },
  {
   "cell_type": "markdown",
   "id": "7675f4bd",
   "metadata": {},
   "source": [
    "#### Recall score"
   ]
  },
  {
   "cell_type": "code",
   "execution_count": 311,
   "id": "32477638",
   "metadata": {},
   "outputs": [
    {
     "data": {
      "text/plain": [
       "0.531578947368421"
      ]
     },
     "execution_count": 311,
     "metadata": {},
     "output_type": "execute_result"
    }
   ],
   "source": [
    "recall = recall_score(y_train, y_pred)\n",
    "recall"
   ]
  },
  {
   "cell_type": "markdown",
   "id": "476741b7",
   "metadata": {},
   "source": [
    "#### f1 score"
   ]
  },
  {
   "cell_type": "code",
   "execution_count": 312,
   "id": "24b189b2",
   "metadata": {},
   "outputs": [
    {
     "data": {
      "text/plain": [
       "0.617737003058104"
      ]
     },
     "execution_count": 312,
     "metadata": {},
     "output_type": "execute_result"
    }
   ],
   "source": [
    "f1 = f1_score(y_train, y_pred)\n",
    "f1"
   ]
  },
  {
   "cell_type": "markdown",
   "id": "551acd2e",
   "metadata": {},
   "source": [
    "#### Support"
   ]
  },
  {
   "cell_type": "code",
   "execution_count": 313,
   "id": "88a967c1",
   "metadata": {},
   "outputs": [],
   "source": [
    "support_1 = true_positives + false_negatives \n",
    "support_0 = false_positives + true_negatives\n",
    "support_total = true_positives + false_negatives + false_positives + true_negatives"
   ]
  },
  {
   "cell_type": "code",
   "execution_count": 314,
   "id": "05609976",
   "metadata": {},
   "outputs": [
    {
     "name": "stdout",
     "output_type": "stream",
     "text": [
      "Support 1: 190\n",
      "Support 0: 307\n",
      "Support total: 497\n"
     ]
    }
   ],
   "source": [
    "print(f'Support 1: {support_1}')\n",
    "print(f'Support 0: {support_0}')\n",
    "print(f'Support total: {support_total}')"
   ]
  },
  {
   "cell_type": "markdown",
   "id": "0dff35b7",
   "metadata": {},
   "source": [
    "## Run through steps 2-4 setting k to 10"
   ]
  },
  {
   "cell_type": "markdown",
   "id": "2c5f8a1c",
   "metadata": {},
   "source": [
    "#### Create a KNN object"
   ]
  },
  {
   "cell_type": "code",
   "execution_count": 315,
   "id": "420e670a",
   "metadata": {},
   "outputs": [],
   "source": [
    "knn_10 = KNeighborsClassifier(n_neighbors=10, weights='uniform')"
   ]
  },
  {
   "cell_type": "markdown",
   "id": "461e404a",
   "metadata": {},
   "source": [
    "#### Fit the model to the training  data"
   ]
  },
  {
   "cell_type": "code",
   "execution_count": 316,
   "id": "86fb58bc",
   "metadata": {},
   "outputs": [
    {
     "data": {
      "text/plain": [
       "KNeighborsClassifier(n_neighbors=10)"
      ]
     },
     "execution_count": 316,
     "metadata": {},
     "output_type": "execute_result"
    }
   ],
   "source": [
    "knn_10.fit(X_train, y_train)"
   ]
  },
  {
   "cell_type": "markdown",
   "id": "083147da",
   "metadata": {},
   "source": [
    "#### Make predictions"
   ]
  },
  {
   "cell_type": "code",
   "execution_count": 317,
   "id": "d88e6e80",
   "metadata": {},
   "outputs": [],
   "source": [
    "y_pred_10_train = knn_10.predict(X_train)"
   ]
  },
  {
   "cell_type": "code",
   "execution_count": 318,
   "id": "a145ecd3",
   "metadata": {},
   "outputs": [],
   "source": [
    "y_pred_10_validate = knn_10.predict(X_validate)"
   ]
  },
  {
   "cell_type": "markdown",
   "id": "a4f214f3",
   "metadata": {},
   "source": [
    "#### Estimate probability "
   ]
  },
  {
   "cell_type": "code",
   "execution_count": 319,
   "id": "aeb6e180",
   "metadata": {},
   "outputs": [
    {
     "data": {
      "text/html": [
       "<div>\n",
       "<style scoped>\n",
       "    .dataframe tbody tr th:only-of-type {\n",
       "        vertical-align: middle;\n",
       "    }\n",
       "\n",
       "    .dataframe tbody tr th {\n",
       "        vertical-align: top;\n",
       "    }\n",
       "\n",
       "    .dataframe thead th {\n",
       "        text-align: right;\n",
       "    }\n",
       "</style>\n",
       "<table border=\"1\" class=\"dataframe\">\n",
       "  <thead>\n",
       "    <tr style=\"text-align: right;\">\n",
       "      <th></th>\n",
       "      <th>0</th>\n",
       "      <th>1</th>\n",
       "    </tr>\n",
       "  </thead>\n",
       "  <tbody>\n",
       "    <tr>\n",
       "      <th>0</th>\n",
       "      <td>0.6</td>\n",
       "      <td>0.4</td>\n",
       "    </tr>\n",
       "    <tr>\n",
       "      <th>1</th>\n",
       "      <td>0.5</td>\n",
       "      <td>0.5</td>\n",
       "    </tr>\n",
       "    <tr>\n",
       "      <th>2</th>\n",
       "      <td>0.7</td>\n",
       "      <td>0.3</td>\n",
       "    </tr>\n",
       "    <tr>\n",
       "      <th>3</th>\n",
       "      <td>0.3</td>\n",
       "      <td>0.7</td>\n",
       "    </tr>\n",
       "    <tr>\n",
       "      <th>4</th>\n",
       "      <td>0.6</td>\n",
       "      <td>0.4</td>\n",
       "    </tr>\n",
       "  </tbody>\n",
       "</table>\n",
       "</div>"
      ],
      "text/plain": [
       "     0    1\n",
       "0  0.6  0.4\n",
       "1  0.5  0.5\n",
       "2  0.7  0.3\n",
       "3  0.3  0.7\n",
       "4  0.6  0.4"
      ]
     },
     "execution_count": 319,
     "metadata": {},
     "output_type": "execute_result"
    }
   ],
   "source": [
    "y_pred_proba_10_train = knn_10.predict_proba(X_train)\n",
    "df_prob_10_train = pd.DataFrame(y_pred_proba_10_train)\n",
    "df_prob_10_train.head()"
   ]
  },
  {
   "cell_type": "code",
   "execution_count": 320,
   "id": "8959e1cd",
   "metadata": {},
   "outputs": [
    {
     "data": {
      "text/html": [
       "<div>\n",
       "<style scoped>\n",
       "    .dataframe tbody tr th:only-of-type {\n",
       "        vertical-align: middle;\n",
       "    }\n",
       "\n",
       "    .dataframe tbody tr th {\n",
       "        vertical-align: top;\n",
       "    }\n",
       "\n",
       "    .dataframe thead th {\n",
       "        text-align: right;\n",
       "    }\n",
       "</style>\n",
       "<table border=\"1\" class=\"dataframe\">\n",
       "  <thead>\n",
       "    <tr style=\"text-align: right;\">\n",
       "      <th></th>\n",
       "      <th>0</th>\n",
       "      <th>1</th>\n",
       "    </tr>\n",
       "  </thead>\n",
       "  <tbody>\n",
       "    <tr>\n",
       "      <th>0</th>\n",
       "      <td>0.6</td>\n",
       "      <td>0.4</td>\n",
       "    </tr>\n",
       "    <tr>\n",
       "      <th>1</th>\n",
       "      <td>0.7</td>\n",
       "      <td>0.3</td>\n",
       "    </tr>\n",
       "    <tr>\n",
       "      <th>2</th>\n",
       "      <td>0.5</td>\n",
       "      <td>0.5</td>\n",
       "    </tr>\n",
       "    <tr>\n",
       "      <th>3</th>\n",
       "      <td>0.8</td>\n",
       "      <td>0.2</td>\n",
       "    </tr>\n",
       "    <tr>\n",
       "      <th>4</th>\n",
       "      <td>0.8</td>\n",
       "      <td>0.2</td>\n",
       "    </tr>\n",
       "  </tbody>\n",
       "</table>\n",
       "</div>"
      ],
      "text/plain": [
       "     0    1\n",
       "0  0.6  0.4\n",
       "1  0.7  0.3\n",
       "2  0.5  0.5\n",
       "3  0.8  0.2\n",
       "4  0.8  0.2"
      ]
     },
     "execution_count": 320,
     "metadata": {},
     "output_type": "execute_result"
    }
   ],
   "source": [
    "y_pred_proba_10_validate = knn_10.predict_proba(X_validate)\n",
    "df_prob_10_validate = pd.DataFrame(y_pred_proba_10_validate)\n",
    "df_prob_10_validate.head()"
   ]
  },
  {
   "cell_type": "markdown",
   "id": "026ad103",
   "metadata": {},
   "source": [
    "#### Model score"
   ]
  },
  {
   "cell_type": "code",
   "execution_count": 321,
   "id": "6239d33d",
   "metadata": {},
   "outputs": [
    {
     "name": "stdout",
     "output_type": "stream",
     "text": [
      "Accuracy of KNN classifier on training set: 0.71\n"
     ]
    }
   ],
   "source": [
    "print('Accuracy of KNN classifier on training set: {:.2f}'\n",
    "     .format(knn_10.score(X_train, y_train)))"
   ]
  },
  {
   "cell_type": "code",
   "execution_count": 322,
   "id": "37ddc464",
   "metadata": {},
   "outputs": [
    {
     "name": "stdout",
     "output_type": "stream",
     "text": [
      "Accuracy of KNN classifier on training set: 0.63\n"
     ]
    }
   ],
   "source": [
    "print('Accuracy of KNN classifier on training set: {:.2f}'\n",
    "     .format(knn_10.score(X_validate, y_validate)))"
   ]
  },
  {
   "cell_type": "markdown",
   "id": "19a2de4f",
   "metadata": {},
   "source": [
    "#### Confusion matrix"
   ]
  },
  {
   "cell_type": "code",
   "execution_count": 323,
   "id": "6329b74b",
   "metadata": {},
   "outputs": [],
   "source": [
    "labels1 = ['died_actual', 'survived_actual']\n",
    "labels2 = ['died_predict', 'survived_predict']\n",
    "df_knn_10_confusion_matrix = pd.DataFrame(confusion_matrix(y_train, y_pred_10_train), index = labels1, columns= labels2)"
   ]
  },
  {
   "cell_type": "code",
   "execution_count": 324,
   "id": "6b736159",
   "metadata": {},
   "outputs": [
    {
     "data": {
      "text/html": [
       "<div>\n",
       "<style scoped>\n",
       "    .dataframe tbody tr th:only-of-type {\n",
       "        vertical-align: middle;\n",
       "    }\n",
       "\n",
       "    .dataframe tbody tr th {\n",
       "        vertical-align: top;\n",
       "    }\n",
       "\n",
       "    .dataframe thead th {\n",
       "        text-align: right;\n",
       "    }\n",
       "</style>\n",
       "<table border=\"1\" class=\"dataframe\">\n",
       "  <thead>\n",
       "    <tr style=\"text-align: right;\">\n",
       "      <th></th>\n",
       "      <th>died_predict</th>\n",
       "      <th>survived_predict</th>\n",
       "    </tr>\n",
       "  </thead>\n",
       "  <tbody>\n",
       "    <tr>\n",
       "      <th>died_actual</th>\n",
       "      <td>282</td>\n",
       "      <td>25</td>\n",
       "    </tr>\n",
       "    <tr>\n",
       "      <th>survived_actual</th>\n",
       "      <td>121</td>\n",
       "      <td>69</td>\n",
       "    </tr>\n",
       "  </tbody>\n",
       "</table>\n",
       "</div>"
      ],
      "text/plain": [
       "                 died_predict  survived_predict\n",
       "died_actual               282                25\n",
       "survived_actual           121                69"
      ]
     },
     "execution_count": 324,
     "metadata": {},
     "output_type": "execute_result"
    }
   ],
   "source": [
    "df_knn_10_confusion_matrix"
   ]
  },
  {
   "cell_type": "code",
   "execution_count": 325,
   "id": "59c5b602",
   "metadata": {},
   "outputs": [],
   "source": [
    "df_knn_10_confusion_matrix_validate = pd.DataFrame(confusion_matrix(y_validate, y_pred_10_validate), index = labels1, columns= labels2)"
   ]
  },
  {
   "cell_type": "code",
   "execution_count": 326,
   "id": "76e1634f",
   "metadata": {},
   "outputs": [
    {
     "data": {
      "text/html": [
       "<div>\n",
       "<style scoped>\n",
       "    .dataframe tbody tr th:only-of-type {\n",
       "        vertical-align: middle;\n",
       "    }\n",
       "\n",
       "    .dataframe tbody tr th {\n",
       "        vertical-align: top;\n",
       "    }\n",
       "\n",
       "    .dataframe thead th {\n",
       "        text-align: right;\n",
       "    }\n",
       "</style>\n",
       "<table border=\"1\" class=\"dataframe\">\n",
       "  <thead>\n",
       "    <tr style=\"text-align: right;\">\n",
       "      <th></th>\n",
       "      <th>died_predict</th>\n",
       "      <th>survived_predict</th>\n",
       "    </tr>\n",
       "  </thead>\n",
       "  <tbody>\n",
       "    <tr>\n",
       "      <th>died_actual</th>\n",
       "      <td>113</td>\n",
       "      <td>19</td>\n",
       "    </tr>\n",
       "    <tr>\n",
       "      <th>survived_actual</th>\n",
       "      <td>60</td>\n",
       "      <td>22</td>\n",
       "    </tr>\n",
       "  </tbody>\n",
       "</table>\n",
       "</div>"
      ],
      "text/plain": [
       "                 died_predict  survived_predict\n",
       "died_actual               113                19\n",
       "survived_actual            60                22"
      ]
     },
     "execution_count": 326,
     "metadata": {},
     "output_type": "execute_result"
    }
   ],
   "source": [
    "df_knn_10_confusion_matrix_validate"
   ]
  },
  {
   "cell_type": "markdown",
   "id": "acf3d95e",
   "metadata": {},
   "source": [
    "#### Classification report"
   ]
  },
  {
   "cell_type": "code",
   "execution_count": 327,
   "id": "3a2c0d88",
   "metadata": {},
   "outputs": [],
   "source": [
    "df_knn_10_train_classification_report = pd.DataFrame(classification_report(y_train, y_pred_10_train, output_dict = True)).T"
   ]
  },
  {
   "cell_type": "code",
   "execution_count": 328,
   "id": "2ecd1148",
   "metadata": {},
   "outputs": [
    {
     "data": {
      "text/html": [
       "<div>\n",
       "<style scoped>\n",
       "    .dataframe tbody tr th:only-of-type {\n",
       "        vertical-align: middle;\n",
       "    }\n",
       "\n",
       "    .dataframe tbody tr th {\n",
       "        vertical-align: top;\n",
       "    }\n",
       "\n",
       "    .dataframe thead th {\n",
       "        text-align: right;\n",
       "    }\n",
       "</style>\n",
       "<table border=\"1\" class=\"dataframe\">\n",
       "  <thead>\n",
       "    <tr style=\"text-align: right;\">\n",
       "      <th></th>\n",
       "      <th>precision</th>\n",
       "      <th>recall</th>\n",
       "      <th>f1-score</th>\n",
       "      <th>support</th>\n",
       "    </tr>\n",
       "  </thead>\n",
       "  <tbody>\n",
       "    <tr>\n",
       "      <th>0</th>\n",
       "      <td>0.699752</td>\n",
       "      <td>0.918567</td>\n",
       "      <td>0.794366</td>\n",
       "      <td>307.000000</td>\n",
       "    </tr>\n",
       "    <tr>\n",
       "      <th>1</th>\n",
       "      <td>0.734043</td>\n",
       "      <td>0.363158</td>\n",
       "      <td>0.485915</td>\n",
       "      <td>190.000000</td>\n",
       "    </tr>\n",
       "    <tr>\n",
       "      <th>accuracy</th>\n",
       "      <td>0.706237</td>\n",
       "      <td>0.706237</td>\n",
       "      <td>0.706237</td>\n",
       "      <td>0.706237</td>\n",
       "    </tr>\n",
       "    <tr>\n",
       "      <th>macro avg</th>\n",
       "      <td>0.716897</td>\n",
       "      <td>0.640862</td>\n",
       "      <td>0.640141</td>\n",
       "      <td>497.000000</td>\n",
       "    </tr>\n",
       "    <tr>\n",
       "      <th>weighted avg</th>\n",
       "      <td>0.712861</td>\n",
       "      <td>0.706237</td>\n",
       "      <td>0.676447</td>\n",
       "      <td>497.000000</td>\n",
       "    </tr>\n",
       "  </tbody>\n",
       "</table>\n",
       "</div>"
      ],
      "text/plain": [
       "              precision    recall  f1-score     support\n",
       "0              0.699752  0.918567  0.794366  307.000000\n",
       "1              0.734043  0.363158  0.485915  190.000000\n",
       "accuracy       0.706237  0.706237  0.706237    0.706237\n",
       "macro avg      0.716897  0.640862  0.640141  497.000000\n",
       "weighted avg   0.712861  0.706237  0.676447  497.000000"
      ]
     },
     "execution_count": 328,
     "metadata": {},
     "output_type": "execute_result"
    }
   ],
   "source": [
    "df_knn_10_train_classification_report"
   ]
  },
  {
   "cell_type": "code",
   "execution_count": 329,
   "id": "476bf910",
   "metadata": {},
   "outputs": [],
   "source": [
    "df_knn_10_validate_classification_report = pd.DataFrame(classification_report(y_validate, y_pred_10_validate, output_dict = True)).T"
   ]
  },
  {
   "cell_type": "code",
   "execution_count": 330,
   "id": "4a891c5c",
   "metadata": {},
   "outputs": [
    {
     "data": {
      "text/html": [
       "<div>\n",
       "<style scoped>\n",
       "    .dataframe tbody tr th:only-of-type {\n",
       "        vertical-align: middle;\n",
       "    }\n",
       "\n",
       "    .dataframe tbody tr th {\n",
       "        vertical-align: top;\n",
       "    }\n",
       "\n",
       "    .dataframe thead th {\n",
       "        text-align: right;\n",
       "    }\n",
       "</style>\n",
       "<table border=\"1\" class=\"dataframe\">\n",
       "  <thead>\n",
       "    <tr style=\"text-align: right;\">\n",
       "      <th></th>\n",
       "      <th>precision</th>\n",
       "      <th>recall</th>\n",
       "      <th>f1-score</th>\n",
       "      <th>support</th>\n",
       "    </tr>\n",
       "  </thead>\n",
       "  <tbody>\n",
       "    <tr>\n",
       "      <th>0</th>\n",
       "      <td>0.653179</td>\n",
       "      <td>0.856061</td>\n",
       "      <td>0.740984</td>\n",
       "      <td>132.000000</td>\n",
       "    </tr>\n",
       "    <tr>\n",
       "      <th>1</th>\n",
       "      <td>0.536585</td>\n",
       "      <td>0.268293</td>\n",
       "      <td>0.357724</td>\n",
       "      <td>82.000000</td>\n",
       "    </tr>\n",
       "    <tr>\n",
       "      <th>accuracy</th>\n",
       "      <td>0.630841</td>\n",
       "      <td>0.630841</td>\n",
       "      <td>0.630841</td>\n",
       "      <td>0.630841</td>\n",
       "    </tr>\n",
       "    <tr>\n",
       "      <th>macro avg</th>\n",
       "      <td>0.594882</td>\n",
       "      <td>0.562177</td>\n",
       "      <td>0.549354</td>\n",
       "      <td>214.000000</td>\n",
       "    </tr>\n",
       "    <tr>\n",
       "      <th>weighted avg</th>\n",
       "      <td>0.608503</td>\n",
       "      <td>0.630841</td>\n",
       "      <td>0.594127</td>\n",
       "      <td>214.000000</td>\n",
       "    </tr>\n",
       "  </tbody>\n",
       "</table>\n",
       "</div>"
      ],
      "text/plain": [
       "              precision    recall  f1-score     support\n",
       "0              0.653179  0.856061  0.740984  132.000000\n",
       "1              0.536585  0.268293  0.357724   82.000000\n",
       "accuracy       0.630841  0.630841  0.630841    0.630841\n",
       "macro avg      0.594882  0.562177  0.549354  214.000000\n",
       "weighted avg   0.608503  0.630841  0.594127  214.000000"
      ]
     },
     "execution_count": 330,
     "metadata": {},
     "output_type": "execute_result"
    }
   ],
   "source": [
    "df_knn_10_validate_classification_report"
   ]
  },
  {
   "cell_type": "markdown",
   "id": "9564dd8a",
   "metadata": {},
   "source": [
    "## Run through setps 2-4 setting k to 20"
   ]
  },
  {
   "cell_type": "markdown",
   "id": "b7ff4e59",
   "metadata": {},
   "source": [
    "#### Create a KNN object"
   ]
  },
  {
   "cell_type": "code",
   "execution_count": 331,
   "id": "88708641",
   "metadata": {},
   "outputs": [],
   "source": [
    "knn_20 = KNeighborsClassifier(n_neighbors=20, weights='uniform')"
   ]
  },
  {
   "cell_type": "markdown",
   "id": "0a086957",
   "metadata": {},
   "source": [
    "#### Fit the model to the training data"
   ]
  },
  {
   "cell_type": "code",
   "execution_count": 332,
   "id": "d41a0df3",
   "metadata": {},
   "outputs": [
    {
     "data": {
      "text/plain": [
       "KNeighborsClassifier(n_neighbors=20)"
      ]
     },
     "execution_count": 332,
     "metadata": {},
     "output_type": "execute_result"
    }
   ],
   "source": [
    "knn_20.fit(X_train, y_train)"
   ]
  },
  {
   "cell_type": "markdown",
   "id": "1314d7e1",
   "metadata": {},
   "source": [
    "#### Make predictions"
   ]
  },
  {
   "cell_type": "code",
   "execution_count": 333,
   "id": "114df46e",
   "metadata": {},
   "outputs": [],
   "source": [
    "y_pred_20_train = knn_20.predict(X_train)"
   ]
  },
  {
   "cell_type": "code",
   "execution_count": 334,
   "id": "f2332d7b",
   "metadata": {},
   "outputs": [],
   "source": [
    "y_pred_20_validate = knn_20.predict(X_validate)"
   ]
  },
  {
   "cell_type": "markdown",
   "id": "e02d29c6",
   "metadata": {},
   "source": [
    "#### Estimate probability"
   ]
  },
  {
   "cell_type": "code",
   "execution_count": 335,
   "id": "245dae3a",
   "metadata": {},
   "outputs": [
    {
     "data": {
      "text/html": [
       "<div>\n",
       "<style scoped>\n",
       "    .dataframe tbody tr th:only-of-type {\n",
       "        vertical-align: middle;\n",
       "    }\n",
       "\n",
       "    .dataframe tbody tr th {\n",
       "        vertical-align: top;\n",
       "    }\n",
       "\n",
       "    .dataframe thead th {\n",
       "        text-align: right;\n",
       "    }\n",
       "</style>\n",
       "<table border=\"1\" class=\"dataframe\">\n",
       "  <thead>\n",
       "    <tr style=\"text-align: right;\">\n",
       "      <th></th>\n",
       "      <th>0</th>\n",
       "      <th>1</th>\n",
       "    </tr>\n",
       "  </thead>\n",
       "  <tbody>\n",
       "    <tr>\n",
       "      <th>0</th>\n",
       "      <td>0.55</td>\n",
       "      <td>0.45</td>\n",
       "    </tr>\n",
       "    <tr>\n",
       "      <th>1</th>\n",
       "      <td>0.30</td>\n",
       "      <td>0.70</td>\n",
       "    </tr>\n",
       "    <tr>\n",
       "      <th>2</th>\n",
       "      <td>0.75</td>\n",
       "      <td>0.25</td>\n",
       "    </tr>\n",
       "    <tr>\n",
       "      <th>3</th>\n",
       "      <td>0.40</td>\n",
       "      <td>0.60</td>\n",
       "    </tr>\n",
       "    <tr>\n",
       "      <th>4</th>\n",
       "      <td>0.70</td>\n",
       "      <td>0.30</td>\n",
       "    </tr>\n",
       "  </tbody>\n",
       "</table>\n",
       "</div>"
      ],
      "text/plain": [
       "      0     1\n",
       "0  0.55  0.45\n",
       "1  0.30  0.70\n",
       "2  0.75  0.25\n",
       "3  0.40  0.60\n",
       "4  0.70  0.30"
      ]
     },
     "execution_count": 335,
     "metadata": {},
     "output_type": "execute_result"
    }
   ],
   "source": [
    "y_pred_proba_20_train = knn_20.predict_proba(X_train)\n",
    "df_prob_20_train = pd.DataFrame(y_pred_proba_20_train)\n",
    "df_prob_20_train.head()"
   ]
  },
  {
   "cell_type": "code",
   "execution_count": 336,
   "id": "bd95ff88",
   "metadata": {},
   "outputs": [
    {
     "data": {
      "text/html": [
       "<div>\n",
       "<style scoped>\n",
       "    .dataframe tbody tr th:only-of-type {\n",
       "        vertical-align: middle;\n",
       "    }\n",
       "\n",
       "    .dataframe tbody tr th {\n",
       "        vertical-align: top;\n",
       "    }\n",
       "\n",
       "    .dataframe thead th {\n",
       "        text-align: right;\n",
       "    }\n",
       "</style>\n",
       "<table border=\"1\" class=\"dataframe\">\n",
       "  <thead>\n",
       "    <tr style=\"text-align: right;\">\n",
       "      <th></th>\n",
       "      <th>0</th>\n",
       "      <th>1</th>\n",
       "    </tr>\n",
       "  </thead>\n",
       "  <tbody>\n",
       "    <tr>\n",
       "      <th>0</th>\n",
       "      <td>0.60</td>\n",
       "      <td>0.40</td>\n",
       "    </tr>\n",
       "    <tr>\n",
       "      <th>1</th>\n",
       "      <td>0.65</td>\n",
       "      <td>0.35</td>\n",
       "    </tr>\n",
       "    <tr>\n",
       "      <th>2</th>\n",
       "      <td>0.65</td>\n",
       "      <td>0.35</td>\n",
       "    </tr>\n",
       "    <tr>\n",
       "      <th>3</th>\n",
       "      <td>0.70</td>\n",
       "      <td>0.30</td>\n",
       "    </tr>\n",
       "    <tr>\n",
       "      <th>4</th>\n",
       "      <td>0.70</td>\n",
       "      <td>0.30</td>\n",
       "    </tr>\n",
       "  </tbody>\n",
       "</table>\n",
       "</div>"
      ],
      "text/plain": [
       "      0     1\n",
       "0  0.60  0.40\n",
       "1  0.65  0.35\n",
       "2  0.65  0.35\n",
       "3  0.70  0.30\n",
       "4  0.70  0.30"
      ]
     },
     "execution_count": 336,
     "metadata": {},
     "output_type": "execute_result"
    }
   ],
   "source": [
    "y_pred_proba_20_validate = knn_20.predict_proba(X_validate)\n",
    "df_prob_20_validate = pd.DataFrame(y_pred_proba_20_validate)\n",
    "df_prob_20_validate.head()"
   ]
  },
  {
   "cell_type": "markdown",
   "id": "8debaeb0",
   "metadata": {},
   "source": [
    "#### Model score"
   ]
  },
  {
   "cell_type": "code",
   "execution_count": 337,
   "id": "2ce7bdd5",
   "metadata": {},
   "outputs": [
    {
     "name": "stdout",
     "output_type": "stream",
     "text": [
      "Accuracy of KNN classifier on training set: 0.69\n"
     ]
    }
   ],
   "source": [
    "print('Accuracy of KNN classifier on training set: {:.2f}'\n",
    "     .format(knn_20.score(X_train, y_train)))"
   ]
  },
  {
   "cell_type": "code",
   "execution_count": 338,
   "id": "de4015ed",
   "metadata": {},
   "outputs": [
    {
     "name": "stdout",
     "output_type": "stream",
     "text": [
      "Accuracy of KNN classifier on validate set: 0.67\n"
     ]
    }
   ],
   "source": [
    "print('Accuracy of KNN classifier on validate set: {:.2f}'\n",
    "     .format(knn_20.score(X_validate, y_validate)))"
   ]
  },
  {
   "cell_type": "markdown",
   "id": "c96e39a0",
   "metadata": {},
   "source": [
    "#### Confusion matrix"
   ]
  },
  {
   "cell_type": "code",
   "execution_count": 339,
   "id": "6fd1d7aa",
   "metadata": {},
   "outputs": [],
   "source": [
    "labels1 = ['died_actual', 'survived_actual']\n",
    "labels2 = ['died_predict', 'survived_predict']\n",
    "df_knn_20_train_confusion_matrix = pd.DataFrame(confusion_matrix(y_train, y_pred_20_train), index = labels1, columns= labels2)"
   ]
  },
  {
   "cell_type": "code",
   "execution_count": 340,
   "id": "3a35cb5f",
   "metadata": {},
   "outputs": [
    {
     "data": {
      "text/html": [
       "<div>\n",
       "<style scoped>\n",
       "    .dataframe tbody tr th:only-of-type {\n",
       "        vertical-align: middle;\n",
       "    }\n",
       "\n",
       "    .dataframe tbody tr th {\n",
       "        vertical-align: top;\n",
       "    }\n",
       "\n",
       "    .dataframe thead th {\n",
       "        text-align: right;\n",
       "    }\n",
       "</style>\n",
       "<table border=\"1\" class=\"dataframe\">\n",
       "  <thead>\n",
       "    <tr style=\"text-align: right;\">\n",
       "      <th></th>\n",
       "      <th>died_predict</th>\n",
       "      <th>survived_predict</th>\n",
       "    </tr>\n",
       "  </thead>\n",
       "  <tbody>\n",
       "    <tr>\n",
       "      <th>died_actual</th>\n",
       "      <td>288</td>\n",
       "      <td>19</td>\n",
       "    </tr>\n",
       "    <tr>\n",
       "      <th>survived_actual</th>\n",
       "      <td>137</td>\n",
       "      <td>53</td>\n",
       "    </tr>\n",
       "  </tbody>\n",
       "</table>\n",
       "</div>"
      ],
      "text/plain": [
       "                 died_predict  survived_predict\n",
       "died_actual               288                19\n",
       "survived_actual           137                53"
      ]
     },
     "execution_count": 340,
     "metadata": {},
     "output_type": "execute_result"
    }
   ],
   "source": [
    "df_knn_20_train_confusion_matrix"
   ]
  },
  {
   "cell_type": "code",
   "execution_count": 341,
   "id": "1e1ee048",
   "metadata": {},
   "outputs": [],
   "source": [
    "df_knn_20_validate_confusion_matrix = pd.DataFrame(confusion_matrix(y_validate, y_pred_20_validate), index = labels1, columns= labels2)"
   ]
  },
  {
   "cell_type": "code",
   "execution_count": 342,
   "id": "b3aa1ca3",
   "metadata": {},
   "outputs": [
    {
     "data": {
      "text/html": [
       "<div>\n",
       "<style scoped>\n",
       "    .dataframe tbody tr th:only-of-type {\n",
       "        vertical-align: middle;\n",
       "    }\n",
       "\n",
       "    .dataframe tbody tr th {\n",
       "        vertical-align: top;\n",
       "    }\n",
       "\n",
       "    .dataframe thead th {\n",
       "        text-align: right;\n",
       "    }\n",
       "</style>\n",
       "<table border=\"1\" class=\"dataframe\">\n",
       "  <thead>\n",
       "    <tr style=\"text-align: right;\">\n",
       "      <th></th>\n",
       "      <th>died_predict</th>\n",
       "      <th>survived_predict</th>\n",
       "    </tr>\n",
       "  </thead>\n",
       "  <tbody>\n",
       "    <tr>\n",
       "      <th>died_actual</th>\n",
       "      <td>122</td>\n",
       "      <td>10</td>\n",
       "    </tr>\n",
       "    <tr>\n",
       "      <th>survived_actual</th>\n",
       "      <td>60</td>\n",
       "      <td>22</td>\n",
       "    </tr>\n",
       "  </tbody>\n",
       "</table>\n",
       "</div>"
      ],
      "text/plain": [
       "                 died_predict  survived_predict\n",
       "died_actual               122                10\n",
       "survived_actual            60                22"
      ]
     },
     "execution_count": 342,
     "metadata": {},
     "output_type": "execute_result"
    }
   ],
   "source": [
    "df_knn_20_validate_confusion_matrix"
   ]
  },
  {
   "cell_type": "markdown",
   "id": "89cc50ad",
   "metadata": {},
   "source": [
    "#### Classification report"
   ]
  },
  {
   "cell_type": "code",
   "execution_count": 343,
   "id": "d833b9fa",
   "metadata": {},
   "outputs": [],
   "source": [
    "df_knn_20_train_classification_report = pd.DataFrame(classification_report(y_train, y_pred_20_train, output_dict = True)).T"
   ]
  },
  {
   "cell_type": "code",
   "execution_count": 344,
   "id": "cb570365",
   "metadata": {},
   "outputs": [
    {
     "data": {
      "text/html": [
       "<div>\n",
       "<style scoped>\n",
       "    .dataframe tbody tr th:only-of-type {\n",
       "        vertical-align: middle;\n",
       "    }\n",
       "\n",
       "    .dataframe tbody tr th {\n",
       "        vertical-align: top;\n",
       "    }\n",
       "\n",
       "    .dataframe thead th {\n",
       "        text-align: right;\n",
       "    }\n",
       "</style>\n",
       "<table border=\"1\" class=\"dataframe\">\n",
       "  <thead>\n",
       "    <tr style=\"text-align: right;\">\n",
       "      <th></th>\n",
       "      <th>precision</th>\n",
       "      <th>recall</th>\n",
       "      <th>f1-score</th>\n",
       "      <th>support</th>\n",
       "    </tr>\n",
       "  </thead>\n",
       "  <tbody>\n",
       "    <tr>\n",
       "      <th>0</th>\n",
       "      <td>0.677647</td>\n",
       "      <td>0.938111</td>\n",
       "      <td>0.786885</td>\n",
       "      <td>307.000000</td>\n",
       "    </tr>\n",
       "    <tr>\n",
       "      <th>1</th>\n",
       "      <td>0.736111</td>\n",
       "      <td>0.278947</td>\n",
       "      <td>0.404580</td>\n",
       "      <td>190.000000</td>\n",
       "    </tr>\n",
       "    <tr>\n",
       "      <th>accuracy</th>\n",
       "      <td>0.686117</td>\n",
       "      <td>0.686117</td>\n",
       "      <td>0.686117</td>\n",
       "      <td>0.686117</td>\n",
       "    </tr>\n",
       "    <tr>\n",
       "      <th>macro avg</th>\n",
       "      <td>0.706879</td>\n",
       "      <td>0.608529</td>\n",
       "      <td>0.595733</td>\n",
       "      <td>497.000000</td>\n",
       "    </tr>\n",
       "    <tr>\n",
       "      <th>weighted avg</th>\n",
       "      <td>0.699998</td>\n",
       "      <td>0.686117</td>\n",
       "      <td>0.640732</td>\n",
       "      <td>497.000000</td>\n",
       "    </tr>\n",
       "  </tbody>\n",
       "</table>\n",
       "</div>"
      ],
      "text/plain": [
       "              precision    recall  f1-score     support\n",
       "0              0.677647  0.938111  0.786885  307.000000\n",
       "1              0.736111  0.278947  0.404580  190.000000\n",
       "accuracy       0.686117  0.686117  0.686117    0.686117\n",
       "macro avg      0.706879  0.608529  0.595733  497.000000\n",
       "weighted avg   0.699998  0.686117  0.640732  497.000000"
      ]
     },
     "execution_count": 344,
     "metadata": {},
     "output_type": "execute_result"
    }
   ],
   "source": [
    "df_knn_20_train_classification_report"
   ]
  },
  {
   "cell_type": "code",
   "execution_count": 345,
   "id": "fbac69ba",
   "metadata": {},
   "outputs": [],
   "source": [
    "df_knn_20_validate_classification_report = pd.DataFrame(classification_report(y_validate, y_pred_20_validate, output_dict = True)).T"
   ]
  },
  {
   "cell_type": "code",
   "execution_count": 346,
   "id": "bf6ace6a",
   "metadata": {},
   "outputs": [
    {
     "data": {
      "text/html": [
       "<div>\n",
       "<style scoped>\n",
       "    .dataframe tbody tr th:only-of-type {\n",
       "        vertical-align: middle;\n",
       "    }\n",
       "\n",
       "    .dataframe tbody tr th {\n",
       "        vertical-align: top;\n",
       "    }\n",
       "\n",
       "    .dataframe thead th {\n",
       "        text-align: right;\n",
       "    }\n",
       "</style>\n",
       "<table border=\"1\" class=\"dataframe\">\n",
       "  <thead>\n",
       "    <tr style=\"text-align: right;\">\n",
       "      <th></th>\n",
       "      <th>precision</th>\n",
       "      <th>recall</th>\n",
       "      <th>f1-score</th>\n",
       "      <th>support</th>\n",
       "    </tr>\n",
       "  </thead>\n",
       "  <tbody>\n",
       "    <tr>\n",
       "      <th>0</th>\n",
       "      <td>0.670330</td>\n",
       "      <td>0.924242</td>\n",
       "      <td>0.777070</td>\n",
       "      <td>132.000000</td>\n",
       "    </tr>\n",
       "    <tr>\n",
       "      <th>1</th>\n",
       "      <td>0.687500</td>\n",
       "      <td>0.268293</td>\n",
       "      <td>0.385965</td>\n",
       "      <td>82.000000</td>\n",
       "    </tr>\n",
       "    <tr>\n",
       "      <th>accuracy</th>\n",
       "      <td>0.672897</td>\n",
       "      <td>0.672897</td>\n",
       "      <td>0.672897</td>\n",
       "      <td>0.672897</td>\n",
       "    </tr>\n",
       "    <tr>\n",
       "      <th>macro avg</th>\n",
       "      <td>0.678915</td>\n",
       "      <td>0.596268</td>\n",
       "      <td>0.581517</td>\n",
       "      <td>214.000000</td>\n",
       "    </tr>\n",
       "    <tr>\n",
       "      <th>weighted avg</th>\n",
       "      <td>0.676909</td>\n",
       "      <td>0.672897</td>\n",
       "      <td>0.627207</td>\n",
       "      <td>214.000000</td>\n",
       "    </tr>\n",
       "  </tbody>\n",
       "</table>\n",
       "</div>"
      ],
      "text/plain": [
       "              precision    recall  f1-score     support\n",
       "0              0.670330  0.924242  0.777070  132.000000\n",
       "1              0.687500  0.268293  0.385965   82.000000\n",
       "accuracy       0.672897  0.672897  0.672897    0.672897\n",
       "macro avg      0.678915  0.596268  0.581517  214.000000\n",
       "weighted avg   0.676909  0.672897  0.627207  214.000000"
      ]
     },
     "execution_count": 346,
     "metadata": {},
     "output_type": "execute_result"
    }
   ],
   "source": [
    "df_knn_20_validate_classification_report"
   ]
  },
  {
   "cell_type": "markdown",
   "id": "bec6d984",
   "metadata": {},
   "source": [
    "## What are the differences in the evaluation metrics? Which performs better on your in-sample data? Why?"
   ]
  },
  {
   "cell_type": "code",
   "execution_count": 347,
   "id": "58fae1c8",
   "metadata": {},
   "outputs": [
    {
     "data": {
      "text/html": [
       "<div>\n",
       "<style scoped>\n",
       "    .dataframe tbody tr th:only-of-type {\n",
       "        vertical-align: middle;\n",
       "    }\n",
       "\n",
       "    .dataframe tbody tr th {\n",
       "        vertical-align: top;\n",
       "    }\n",
       "\n",
       "    .dataframe thead th {\n",
       "        text-align: right;\n",
       "    }\n",
       "</style>\n",
       "<table border=\"1\" class=\"dataframe\">\n",
       "  <thead>\n",
       "    <tr style=\"text-align: right;\">\n",
       "      <th></th>\n",
       "      <th>precision</th>\n",
       "      <th>recall</th>\n",
       "      <th>f1-score</th>\n",
       "      <th>support</th>\n",
       "    </tr>\n",
       "  </thead>\n",
       "  <tbody>\n",
       "    <tr>\n",
       "      <th>0</th>\n",
       "      <td>0.752778</td>\n",
       "      <td>0.882736</td>\n",
       "      <td>0.812594</td>\n",
       "      <td>307.000000</td>\n",
       "    </tr>\n",
       "    <tr>\n",
       "      <th>1</th>\n",
       "      <td>0.737226</td>\n",
       "      <td>0.531579</td>\n",
       "      <td>0.617737</td>\n",
       "      <td>190.000000</td>\n",
       "    </tr>\n",
       "    <tr>\n",
       "      <th>accuracy</th>\n",
       "      <td>0.748491</td>\n",
       "      <td>0.748491</td>\n",
       "      <td>0.748491</td>\n",
       "      <td>0.748491</td>\n",
       "    </tr>\n",
       "    <tr>\n",
       "      <th>macro avg</th>\n",
       "      <td>0.745002</td>\n",
       "      <td>0.707158</td>\n",
       "      <td>0.715165</td>\n",
       "      <td>497.000000</td>\n",
       "    </tr>\n",
       "    <tr>\n",
       "      <th>weighted avg</th>\n",
       "      <td>0.746833</td>\n",
       "      <td>0.748491</td>\n",
       "      <td>0.738101</td>\n",
       "      <td>497.000000</td>\n",
       "    </tr>\n",
       "  </tbody>\n",
       "</table>\n",
       "</div>"
      ],
      "text/plain": [
       "              precision    recall  f1-score     support\n",
       "0              0.752778  0.882736  0.812594  307.000000\n",
       "1              0.737226  0.531579  0.617737  190.000000\n",
       "accuracy       0.748491  0.748491  0.748491    0.748491\n",
       "macro avg      0.745002  0.707158  0.715165  497.000000\n",
       "weighted avg   0.746833  0.748491  0.738101  497.000000"
      ]
     },
     "execution_count": 347,
     "metadata": {},
     "output_type": "execute_result"
    }
   ],
   "source": [
    "df_knn_classification_report"
   ]
  },
  {
   "cell_type": "code",
   "execution_count": 348,
   "id": "f4975d1e",
   "metadata": {},
   "outputs": [
    {
     "data": {
      "text/html": [
       "<div>\n",
       "<style scoped>\n",
       "    .dataframe tbody tr th:only-of-type {\n",
       "        vertical-align: middle;\n",
       "    }\n",
       "\n",
       "    .dataframe tbody tr th {\n",
       "        vertical-align: top;\n",
       "    }\n",
       "\n",
       "    .dataframe thead th {\n",
       "        text-align: right;\n",
       "    }\n",
       "</style>\n",
       "<table border=\"1\" class=\"dataframe\">\n",
       "  <thead>\n",
       "    <tr style=\"text-align: right;\">\n",
       "      <th></th>\n",
       "      <th>precision</th>\n",
       "      <th>recall</th>\n",
       "      <th>f1-score</th>\n",
       "      <th>support</th>\n",
       "    </tr>\n",
       "  </thead>\n",
       "  <tbody>\n",
       "    <tr>\n",
       "      <th>0</th>\n",
       "      <td>0.699752</td>\n",
       "      <td>0.918567</td>\n",
       "      <td>0.794366</td>\n",
       "      <td>307.000000</td>\n",
       "    </tr>\n",
       "    <tr>\n",
       "      <th>1</th>\n",
       "      <td>0.734043</td>\n",
       "      <td>0.363158</td>\n",
       "      <td>0.485915</td>\n",
       "      <td>190.000000</td>\n",
       "    </tr>\n",
       "    <tr>\n",
       "      <th>accuracy</th>\n",
       "      <td>0.706237</td>\n",
       "      <td>0.706237</td>\n",
       "      <td>0.706237</td>\n",
       "      <td>0.706237</td>\n",
       "    </tr>\n",
       "    <tr>\n",
       "      <th>macro avg</th>\n",
       "      <td>0.716897</td>\n",
       "      <td>0.640862</td>\n",
       "      <td>0.640141</td>\n",
       "      <td>497.000000</td>\n",
       "    </tr>\n",
       "    <tr>\n",
       "      <th>weighted avg</th>\n",
       "      <td>0.712861</td>\n",
       "      <td>0.706237</td>\n",
       "      <td>0.676447</td>\n",
       "      <td>497.000000</td>\n",
       "    </tr>\n",
       "  </tbody>\n",
       "</table>\n",
       "</div>"
      ],
      "text/plain": [
       "              precision    recall  f1-score     support\n",
       "0              0.699752  0.918567  0.794366  307.000000\n",
       "1              0.734043  0.363158  0.485915  190.000000\n",
       "accuracy       0.706237  0.706237  0.706237    0.706237\n",
       "macro avg      0.716897  0.640862  0.640141  497.000000\n",
       "weighted avg   0.712861  0.706237  0.676447  497.000000"
      ]
     },
     "execution_count": 348,
     "metadata": {},
     "output_type": "execute_result"
    }
   ],
   "source": [
    "df_knn_10_train_classification_report"
   ]
  },
  {
   "cell_type": "code",
   "execution_count": 349,
   "id": "33fe95a5",
   "metadata": {},
   "outputs": [
    {
     "data": {
      "text/html": [
       "<div>\n",
       "<style scoped>\n",
       "    .dataframe tbody tr th:only-of-type {\n",
       "        vertical-align: middle;\n",
       "    }\n",
       "\n",
       "    .dataframe tbody tr th {\n",
       "        vertical-align: top;\n",
       "    }\n",
       "\n",
       "    .dataframe thead th {\n",
       "        text-align: right;\n",
       "    }\n",
       "</style>\n",
       "<table border=\"1\" class=\"dataframe\">\n",
       "  <thead>\n",
       "    <tr style=\"text-align: right;\">\n",
       "      <th></th>\n",
       "      <th>precision</th>\n",
       "      <th>recall</th>\n",
       "      <th>f1-score</th>\n",
       "      <th>support</th>\n",
       "    </tr>\n",
       "  </thead>\n",
       "  <tbody>\n",
       "    <tr>\n",
       "      <th>0</th>\n",
       "      <td>0.677647</td>\n",
       "      <td>0.938111</td>\n",
       "      <td>0.786885</td>\n",
       "      <td>307.000000</td>\n",
       "    </tr>\n",
       "    <tr>\n",
       "      <th>1</th>\n",
       "      <td>0.736111</td>\n",
       "      <td>0.278947</td>\n",
       "      <td>0.404580</td>\n",
       "      <td>190.000000</td>\n",
       "    </tr>\n",
       "    <tr>\n",
       "      <th>accuracy</th>\n",
       "      <td>0.686117</td>\n",
       "      <td>0.686117</td>\n",
       "      <td>0.686117</td>\n",
       "      <td>0.686117</td>\n",
       "    </tr>\n",
       "    <tr>\n",
       "      <th>macro avg</th>\n",
       "      <td>0.706879</td>\n",
       "      <td>0.608529</td>\n",
       "      <td>0.595733</td>\n",
       "      <td>497.000000</td>\n",
       "    </tr>\n",
       "    <tr>\n",
       "      <th>weighted avg</th>\n",
       "      <td>0.699998</td>\n",
       "      <td>0.686117</td>\n",
       "      <td>0.640732</td>\n",
       "      <td>497.000000</td>\n",
       "    </tr>\n",
       "  </tbody>\n",
       "</table>\n",
       "</div>"
      ],
      "text/plain": [
       "              precision    recall  f1-score     support\n",
       "0              0.677647  0.938111  0.786885  307.000000\n",
       "1              0.736111  0.278947  0.404580  190.000000\n",
       "accuracy       0.686117  0.686117  0.686117    0.686117\n",
       "macro avg      0.706879  0.608529  0.595733  497.000000\n",
       "weighted avg   0.699998  0.686117  0.640732  497.000000"
      ]
     },
     "execution_count": 349,
     "metadata": {},
     "output_type": "execute_result"
    }
   ],
   "source": [
    "df_knn_20_train_classification_report"
   ]
  },
  {
   "cell_type": "markdown",
   "id": "14539eba",
   "metadata": {},
   "source": [
    "On the in-training data, k=5 performs the best. K=10 performs second best, with K=20 performing the worst. \n",
    "\n",
    "The curse of dimensionality may be to blame for the difference in performance."
   ]
  },
  {
   "cell_type": "markdown",
   "id": "626e9ddf",
   "metadata": {},
   "source": [
    "## Which model performs best on our out-of-sample data from validate?"
   ]
  },
  {
   "cell_type": "code",
   "execution_count": 350,
   "id": "b6cc298d",
   "metadata": {},
   "outputs": [
    {
     "data": {
      "text/html": [
       "<div>\n",
       "<style scoped>\n",
       "    .dataframe tbody tr th:only-of-type {\n",
       "        vertical-align: middle;\n",
       "    }\n",
       "\n",
       "    .dataframe tbody tr th {\n",
       "        vertical-align: top;\n",
       "    }\n",
       "\n",
       "    .dataframe thead th {\n",
       "        text-align: right;\n",
       "    }\n",
       "</style>\n",
       "<table border=\"1\" class=\"dataframe\">\n",
       "  <thead>\n",
       "    <tr style=\"text-align: right;\">\n",
       "      <th></th>\n",
       "      <th>precision</th>\n",
       "      <th>recall</th>\n",
       "      <th>f1-score</th>\n",
       "      <th>support</th>\n",
       "    </tr>\n",
       "  </thead>\n",
       "  <tbody>\n",
       "    <tr>\n",
       "      <th>0</th>\n",
       "      <td>0.646667</td>\n",
       "      <td>0.734848</td>\n",
       "      <td>0.687943</td>\n",
       "      <td>132.000000</td>\n",
       "    </tr>\n",
       "    <tr>\n",
       "      <th>1</th>\n",
       "      <td>0.453125</td>\n",
       "      <td>0.353659</td>\n",
       "      <td>0.397260</td>\n",
       "      <td>82.000000</td>\n",
       "    </tr>\n",
       "    <tr>\n",
       "      <th>accuracy</th>\n",
       "      <td>0.588785</td>\n",
       "      <td>0.588785</td>\n",
       "      <td>0.588785</td>\n",
       "      <td>0.588785</td>\n",
       "    </tr>\n",
       "    <tr>\n",
       "      <th>macro avg</th>\n",
       "      <td>0.549896</td>\n",
       "      <td>0.544254</td>\n",
       "      <td>0.542602</td>\n",
       "      <td>214.000000</td>\n",
       "    </tr>\n",
       "    <tr>\n",
       "      <th>weighted avg</th>\n",
       "      <td>0.572506</td>\n",
       "      <td>0.588785</td>\n",
       "      <td>0.576560</td>\n",
       "      <td>214.000000</td>\n",
       "    </tr>\n",
       "  </tbody>\n",
       "</table>\n",
       "</div>"
      ],
      "text/plain": [
       "              precision    recall  f1-score     support\n",
       "0              0.646667  0.734848  0.687943  132.000000\n",
       "1              0.453125  0.353659  0.397260   82.000000\n",
       "accuracy       0.588785  0.588785  0.588785    0.588785\n",
       "macro avg      0.549896  0.544254  0.542602  214.000000\n",
       "weighted avg   0.572506  0.588785  0.576560  214.000000"
      ]
     },
     "execution_count": 350,
     "metadata": {},
     "output_type": "execute_result"
    }
   ],
   "source": [
    "df_knn_classification_report_validate"
   ]
  },
  {
   "cell_type": "code",
   "execution_count": 351,
   "id": "ab759656",
   "metadata": {},
   "outputs": [
    {
     "data": {
      "text/html": [
       "<div>\n",
       "<style scoped>\n",
       "    .dataframe tbody tr th:only-of-type {\n",
       "        vertical-align: middle;\n",
       "    }\n",
       "\n",
       "    .dataframe tbody tr th {\n",
       "        vertical-align: top;\n",
       "    }\n",
       "\n",
       "    .dataframe thead th {\n",
       "        text-align: right;\n",
       "    }\n",
       "</style>\n",
       "<table border=\"1\" class=\"dataframe\">\n",
       "  <thead>\n",
       "    <tr style=\"text-align: right;\">\n",
       "      <th></th>\n",
       "      <th>precision</th>\n",
       "      <th>recall</th>\n",
       "      <th>f1-score</th>\n",
       "      <th>support</th>\n",
       "    </tr>\n",
       "  </thead>\n",
       "  <tbody>\n",
       "    <tr>\n",
       "      <th>0</th>\n",
       "      <td>0.653179</td>\n",
       "      <td>0.856061</td>\n",
       "      <td>0.740984</td>\n",
       "      <td>132.000000</td>\n",
       "    </tr>\n",
       "    <tr>\n",
       "      <th>1</th>\n",
       "      <td>0.536585</td>\n",
       "      <td>0.268293</td>\n",
       "      <td>0.357724</td>\n",
       "      <td>82.000000</td>\n",
       "    </tr>\n",
       "    <tr>\n",
       "      <th>accuracy</th>\n",
       "      <td>0.630841</td>\n",
       "      <td>0.630841</td>\n",
       "      <td>0.630841</td>\n",
       "      <td>0.630841</td>\n",
       "    </tr>\n",
       "    <tr>\n",
       "      <th>macro avg</th>\n",
       "      <td>0.594882</td>\n",
       "      <td>0.562177</td>\n",
       "      <td>0.549354</td>\n",
       "      <td>214.000000</td>\n",
       "    </tr>\n",
       "    <tr>\n",
       "      <th>weighted avg</th>\n",
       "      <td>0.608503</td>\n",
       "      <td>0.630841</td>\n",
       "      <td>0.594127</td>\n",
       "      <td>214.000000</td>\n",
       "    </tr>\n",
       "  </tbody>\n",
       "</table>\n",
       "</div>"
      ],
      "text/plain": [
       "              precision    recall  f1-score     support\n",
       "0              0.653179  0.856061  0.740984  132.000000\n",
       "1              0.536585  0.268293  0.357724   82.000000\n",
       "accuracy       0.630841  0.630841  0.630841    0.630841\n",
       "macro avg      0.594882  0.562177  0.549354  214.000000\n",
       "weighted avg   0.608503  0.630841  0.594127  214.000000"
      ]
     },
     "execution_count": 351,
     "metadata": {},
     "output_type": "execute_result"
    }
   ],
   "source": [
    "df_knn_10_validate_classification_report"
   ]
  },
  {
   "cell_type": "code",
   "execution_count": 352,
   "id": "9e48960f",
   "metadata": {},
   "outputs": [
    {
     "data": {
      "text/html": [
       "<div>\n",
       "<style scoped>\n",
       "    .dataframe tbody tr th:only-of-type {\n",
       "        vertical-align: middle;\n",
       "    }\n",
       "\n",
       "    .dataframe tbody tr th {\n",
       "        vertical-align: top;\n",
       "    }\n",
       "\n",
       "    .dataframe thead th {\n",
       "        text-align: right;\n",
       "    }\n",
       "</style>\n",
       "<table border=\"1\" class=\"dataframe\">\n",
       "  <thead>\n",
       "    <tr style=\"text-align: right;\">\n",
       "      <th></th>\n",
       "      <th>precision</th>\n",
       "      <th>recall</th>\n",
       "      <th>f1-score</th>\n",
       "      <th>support</th>\n",
       "    </tr>\n",
       "  </thead>\n",
       "  <tbody>\n",
       "    <tr>\n",
       "      <th>0</th>\n",
       "      <td>0.670330</td>\n",
       "      <td>0.924242</td>\n",
       "      <td>0.777070</td>\n",
       "      <td>132.000000</td>\n",
       "    </tr>\n",
       "    <tr>\n",
       "      <th>1</th>\n",
       "      <td>0.687500</td>\n",
       "      <td>0.268293</td>\n",
       "      <td>0.385965</td>\n",
       "      <td>82.000000</td>\n",
       "    </tr>\n",
       "    <tr>\n",
       "      <th>accuracy</th>\n",
       "      <td>0.672897</td>\n",
       "      <td>0.672897</td>\n",
       "      <td>0.672897</td>\n",
       "      <td>0.672897</td>\n",
       "    </tr>\n",
       "    <tr>\n",
       "      <th>macro avg</th>\n",
       "      <td>0.678915</td>\n",
       "      <td>0.596268</td>\n",
       "      <td>0.581517</td>\n",
       "      <td>214.000000</td>\n",
       "    </tr>\n",
       "    <tr>\n",
       "      <th>weighted avg</th>\n",
       "      <td>0.676909</td>\n",
       "      <td>0.672897</td>\n",
       "      <td>0.627207</td>\n",
       "      <td>214.000000</td>\n",
       "    </tr>\n",
       "  </tbody>\n",
       "</table>\n",
       "</div>"
      ],
      "text/plain": [
       "              precision    recall  f1-score     support\n",
       "0              0.670330  0.924242  0.777070  132.000000\n",
       "1              0.687500  0.268293  0.385965   82.000000\n",
       "accuracy       0.672897  0.672897  0.672897    0.672897\n",
       "macro avg      0.678915  0.596268  0.581517  214.000000\n",
       "weighted avg   0.676909  0.672897  0.627207  214.000000"
      ]
     },
     "execution_count": 352,
     "metadata": {},
     "output_type": "execute_result"
    }
   ],
   "source": [
    "df_knn_20_validate_classification_report"
   ]
  },
  {
   "cell_type": "markdown",
   "id": "ba3837c1",
   "metadata": {},
   "source": [
    "For the validate dataset, K=20 is the most accurate. K=10 is the second most accurate. K=5 is the least accurate."
   ]
  },
  {
   "cell_type": "markdown",
   "id": "3d7e163d",
   "metadata": {},
   "source": [
    "# Logistic Regression"
   ]
  },
  {
   "cell_type": "code",
   "execution_count": 36,
   "id": "42e5904d",
   "metadata": {},
   "outputs": [],
   "source": [
    "from sklearn.linear_model import LogisticRegression"
   ]
  },
  {
   "cell_type": "markdown",
   "id": "a803ba21",
   "metadata": {},
   "source": [
    "First, we will obtain and clean data for logistic regression."
   ]
  },
  {
   "cell_type": "code",
   "execution_count": 153,
   "id": "32d558cc",
   "metadata": {},
   "outputs": [
    {
     "data": {
      "text/plain": [
       "((497, 15), (214, 15), (178, 15))"
      ]
     },
     "execution_count": 153,
     "metadata": {},
     "output_type": "execute_result"
    }
   ],
   "source": [
    "train, validate, test = prepare.prep_titanic(acquire.get_titanic_data())\n",
    "train.shape, validate.shape, test.shape"
   ]
  },
  {
   "cell_type": "code",
   "execution_count": 154,
   "id": "3ebefba6",
   "metadata": {},
   "outputs": [],
   "source": [
    "X_train, y_train = train.drop(columns='survived'), train.survived\n",
    "X_validate, y_validate = validate.drop(columns='survived'), validate.survived\n",
    "X_test, y_test = test.drop(columns='survived'), test.survived"
   ]
  },
  {
   "cell_type": "code",
   "execution_count": 155,
   "id": "a876cb81",
   "metadata": {},
   "outputs": [],
   "source": [
    "def clean_data(df):\n",
    "    '''\n",
    "    This function will drop any duplicate observations, \n",
    "    drop ['deck', 'embarked', 'class', 'age'], fill missing embark_town with 'Southampton'\n",
    "    and create dummy vars from sex and embark_town. \n",
    "    '''\n",
    "    df = df.drop_duplicates()\n",
    "    df = df.drop(columns=['embarked', 'class'])\n",
    "    df['embark_town'] = df.embark_town.fillna(value='Southampton')\n",
    "    dummy_df = pd.get_dummies(df[['sex', 'embark_town']], drop_first=True)\n",
    "    df = pd.concat([df, dummy_df], axis=1)\n",
    "    return df"
   ]
  },
  {
   "cell_type": "code",
   "execution_count": 156,
   "id": "ffd42038",
   "metadata": {},
   "outputs": [],
   "source": [
    "X_train = clean_data(X_train)"
   ]
  },
  {
   "cell_type": "code",
   "execution_count": 157,
   "id": "6646a00d",
   "metadata": {},
   "outputs": [],
   "source": [
    "X_validate = clean_data(X_validate)"
   ]
  },
  {
   "cell_type": "code",
   "execution_count": 130,
   "id": "fea1f000",
   "metadata": {},
   "outputs": [],
   "source": [
    "new_columns = ['age', 'fare', 'pclass']\n",
    "X_train_1 = X_train[new_columns]\n",
    "X_validate_1 = X_validate[new_columns]"
   ]
  },
  {
   "cell_type": "code",
   "execution_count": 131,
   "id": "8d24c852",
   "metadata": {},
   "outputs": [
    {
     "data": {
      "text/html": [
       "<div>\n",
       "<style scoped>\n",
       "    .dataframe tbody tr th:only-of-type {\n",
       "        vertical-align: middle;\n",
       "    }\n",
       "\n",
       "    .dataframe tbody tr th {\n",
       "        vertical-align: top;\n",
       "    }\n",
       "\n",
       "    .dataframe thead th {\n",
       "        text-align: right;\n",
       "    }\n",
       "</style>\n",
       "<table border=\"1\" class=\"dataframe\">\n",
       "  <thead>\n",
       "    <tr style=\"text-align: right;\">\n",
       "      <th></th>\n",
       "      <th>age</th>\n",
       "      <th>fare</th>\n",
       "      <th>pclass</th>\n",
       "    </tr>\n",
       "  </thead>\n",
       "  <tbody>\n",
       "    <tr>\n",
       "      <th>583</th>\n",
       "      <td>36.000000</td>\n",
       "      <td>40.1250</td>\n",
       "      <td>1</td>\n",
       "    </tr>\n",
       "    <tr>\n",
       "      <th>337</th>\n",
       "      <td>41.000000</td>\n",
       "      <td>134.5000</td>\n",
       "      <td>1</td>\n",
       "    </tr>\n",
       "    <tr>\n",
       "      <th>50</th>\n",
       "      <td>7.000000</td>\n",
       "      <td>39.6875</td>\n",
       "      <td>3</td>\n",
       "    </tr>\n",
       "    <tr>\n",
       "      <th>218</th>\n",
       "      <td>32.000000</td>\n",
       "      <td>76.2917</td>\n",
       "      <td>1</td>\n",
       "    </tr>\n",
       "    <tr>\n",
       "      <th>31</th>\n",
       "      <td>29.916875</td>\n",
       "      <td>146.5208</td>\n",
       "      <td>1</td>\n",
       "    </tr>\n",
       "  </tbody>\n",
       "</table>\n",
       "</div>"
      ],
      "text/plain": [
       "           age      fare  pclass\n",
       "583  36.000000   40.1250       1\n",
       "337  41.000000  134.5000       1\n",
       "50    7.000000   39.6875       3\n",
       "218  32.000000   76.2917       1\n",
       "31   29.916875  146.5208       1"
      ]
     },
     "execution_count": 131,
     "metadata": {},
     "output_type": "execute_result"
    }
   ],
   "source": [
    "X_train_1.head()"
   ]
  },
  {
   "cell_type": "code",
   "execution_count": 132,
   "id": "6d2413ce",
   "metadata": {},
   "outputs": [
    {
     "data": {
      "text/html": [
       "<div>\n",
       "<style scoped>\n",
       "    .dataframe tbody tr th:only-of-type {\n",
       "        vertical-align: middle;\n",
       "    }\n",
       "\n",
       "    .dataframe tbody tr th {\n",
       "        vertical-align: top;\n",
       "    }\n",
       "\n",
       "    .dataframe thead th {\n",
       "        text-align: right;\n",
       "    }\n",
       "</style>\n",
       "<table border=\"1\" class=\"dataframe\">\n",
       "  <thead>\n",
       "    <tr style=\"text-align: right;\">\n",
       "      <th></th>\n",
       "      <th>age</th>\n",
       "      <th>fare</th>\n",
       "      <th>pclass</th>\n",
       "    </tr>\n",
       "  </thead>\n",
       "  <tbody>\n",
       "    <tr>\n",
       "      <th>610</th>\n",
       "      <td>39.000000</td>\n",
       "      <td>31.2750</td>\n",
       "      <td>3</td>\n",
       "    </tr>\n",
       "    <tr>\n",
       "      <th>424</th>\n",
       "      <td>18.000000</td>\n",
       "      <td>20.2125</td>\n",
       "      <td>3</td>\n",
       "    </tr>\n",
       "    <tr>\n",
       "      <th>568</th>\n",
       "      <td>29.916875</td>\n",
       "      <td>7.2292</td>\n",
       "      <td>3</td>\n",
       "    </tr>\n",
       "    <tr>\n",
       "      <th>701</th>\n",
       "      <td>35.000000</td>\n",
       "      <td>26.2875</td>\n",
       "      <td>1</td>\n",
       "    </tr>\n",
       "    <tr>\n",
       "      <th>101</th>\n",
       "      <td>29.916875</td>\n",
       "      <td>7.8958</td>\n",
       "      <td>3</td>\n",
       "    </tr>\n",
       "  </tbody>\n",
       "</table>\n",
       "</div>"
      ],
      "text/plain": [
       "           age     fare  pclass\n",
       "610  39.000000  31.2750       3\n",
       "424  18.000000  20.2125       3\n",
       "568  29.916875   7.2292       3\n",
       "701  35.000000  26.2875       1\n",
       "101  29.916875   7.8958       3"
      ]
     },
     "execution_count": 132,
     "metadata": {},
     "output_type": "execute_result"
    }
   ],
   "source": [
    "X_validate_1.head()"
   ]
  },
  {
   "cell_type": "markdown",
   "id": "b5742a14",
   "metadata": {},
   "source": [
    "### Create a model that includes age in addition to fare and pclass. "
   ]
  },
  {
   "cell_type": "markdown",
   "id": "6cfdd822",
   "metadata": {},
   "source": [
    "#### Create the object"
   ]
  },
  {
   "cell_type": "code",
   "execution_count": 133,
   "id": "a0c9fc84",
   "metadata": {},
   "outputs": [],
   "source": [
    "logit = LogisticRegression(C=1, random_state=123)"
   ]
  },
  {
   "cell_type": "markdown",
   "id": "6a345f5c",
   "metadata": {},
   "source": [
    "#### Fit the model"
   ]
  },
  {
   "cell_type": "code",
   "execution_count": 134,
   "id": "01b3c881",
   "metadata": {},
   "outputs": [
    {
     "data": {
      "text/plain": [
       "LogisticRegression(C=1, random_state=123)"
      ]
     },
     "execution_count": 134,
     "metadata": {},
     "output_type": "execute_result"
    }
   ],
   "source": [
    "logit.fit(X_train_1, y_train)"
   ]
  },
  {
   "cell_type": "markdown",
   "id": "8cb6b185",
   "metadata": {},
   "source": [
    "#### Feature importance"
   ]
  },
  {
   "cell_type": "code",
   "execution_count": 135,
   "id": "325b66ec",
   "metadata": {},
   "outputs": [
    {
     "name": "stdout",
     "output_type": "stream",
     "text": [
      "Coefficient: \n",
      " [[-0.03051881  0.00266519 -0.97983178]]\n",
      "Intercept: \n",
      " [2.52970125]\n"
     ]
    }
   ],
   "source": [
    "print('Coefficient: \\n', logit.coef_)\n",
    "print('Intercept: \\n', logit.intercept_)"
   ]
  },
  {
   "cell_type": "markdown",
   "id": "9ced9432",
   "metadata": {},
   "source": [
    "#### Make predictions"
   ]
  },
  {
   "cell_type": "code",
   "execution_count": 136,
   "id": "ba73cb19",
   "metadata": {},
   "outputs": [],
   "source": [
    "y_pred_1_train = logit.predict(X_train_1)"
   ]
  },
  {
   "cell_type": "code",
   "execution_count": 137,
   "id": "eafd9d0f",
   "metadata": {},
   "outputs": [],
   "source": [
    "y_pred_1_validate = logit.predict(X_validate_1)"
   ]
  },
  {
   "cell_type": "markdown",
   "id": "9f6d0bb6",
   "metadata": {},
   "source": [
    "#### Estimate probability"
   ]
  },
  {
   "cell_type": "code",
   "execution_count": 138,
   "id": "6e81ad76",
   "metadata": {},
   "outputs": [
    {
     "data": {
      "text/html": [
       "<div>\n",
       "<style scoped>\n",
       "    .dataframe tbody tr th:only-of-type {\n",
       "        vertical-align: middle;\n",
       "    }\n",
       "\n",
       "    .dataframe tbody tr th {\n",
       "        vertical-align: top;\n",
       "    }\n",
       "\n",
       "    .dataframe thead th {\n",
       "        text-align: right;\n",
       "    }\n",
       "</style>\n",
       "<table border=\"1\" class=\"dataframe\">\n",
       "  <thead>\n",
       "    <tr style=\"text-align: right;\">\n",
       "      <th></th>\n",
       "      <th>survived</th>\n",
       "      <th>died</th>\n",
       "    </tr>\n",
       "  </thead>\n",
       "  <tbody>\n",
       "    <tr>\n",
       "      <th>0</th>\n",
       "      <td>0.363980</td>\n",
       "      <td>0.636020</td>\n",
       "    </tr>\n",
       "    <tr>\n",
       "      <th>1</th>\n",
       "      <td>0.341399</td>\n",
       "      <td>0.658601</td>\n",
       "    </tr>\n",
       "    <tr>\n",
       "      <th>2</th>\n",
       "      <td>0.626598</td>\n",
       "      <td>0.373402</td>\n",
       "    </tr>\n",
       "    <tr>\n",
       "      <th>3</th>\n",
       "      <td>0.315053</td>\n",
       "      <td>0.684947</td>\n",
       "    </tr>\n",
       "    <tr>\n",
       "      <th>4</th>\n",
       "      <td>0.263599</td>\n",
       "      <td>0.736401</td>\n",
       "    </tr>\n",
       "  </tbody>\n",
       "</table>\n",
       "</div>"
      ],
      "text/plain": [
       "   survived      died\n",
       "0  0.363980  0.636020\n",
       "1  0.341399  0.658601\n",
       "2  0.626598  0.373402\n",
       "3  0.315053  0.684947\n",
       "4  0.263599  0.736401"
      ]
     },
     "execution_count": 138,
     "metadata": {},
     "output_type": "execute_result"
    }
   ],
   "source": [
    "y_pred_proba_train_1 = logit.predict_proba(X_train_1)\n",
    "df_y_pred_proba_train_1 = pd.DataFrame(y_pred_proba_train_1, columns = ['survived', 'died'])\n",
    "df_y_pred_proba_train_1.head()"
   ]
  },
  {
   "cell_type": "code",
   "execution_count": 139,
   "id": "86bb02dc",
   "metadata": {},
   "outputs": [
    {
     "data": {
      "text/html": [
       "<div>\n",
       "<style scoped>\n",
       "    .dataframe tbody tr th:only-of-type {\n",
       "        vertical-align: middle;\n",
       "    }\n",
       "\n",
       "    .dataframe tbody tr th {\n",
       "        vertical-align: top;\n",
       "    }\n",
       "\n",
       "    .dataframe thead th {\n",
       "        text-align: right;\n",
       "    }\n",
       "</style>\n",
       "<table border=\"1\" class=\"dataframe\">\n",
       "  <thead>\n",
       "    <tr style=\"text-align: right;\">\n",
       "      <th></th>\n",
       "      <th>survived</th>\n",
       "      <th>died</th>\n",
       "    </tr>\n",
       "  </thead>\n",
       "  <tbody>\n",
       "    <tr>\n",
       "      <th>0</th>\n",
       "      <td>0.820048</td>\n",
       "      <td>0.179952</td>\n",
       "    </tr>\n",
       "    <tr>\n",
       "      <th>1</th>\n",
       "      <td>0.712030</td>\n",
       "      <td>0.287970</td>\n",
       "    </tr>\n",
       "    <tr>\n",
       "      <th>2</th>\n",
       "      <td>0.786433</td>\n",
       "      <td>0.213567</td>\n",
       "    </tr>\n",
       "    <tr>\n",
       "      <th>3</th>\n",
       "      <td>0.365453</td>\n",
       "      <td>0.634547</td>\n",
       "    </tr>\n",
       "    <tr>\n",
       "      <th>4</th>\n",
       "      <td>0.786134</td>\n",
       "      <td>0.213866</td>\n",
       "    </tr>\n",
       "  </tbody>\n",
       "</table>\n",
       "</div>"
      ],
      "text/plain": [
       "   survived      died\n",
       "0  0.820048  0.179952\n",
       "1  0.712030  0.287970\n",
       "2  0.786433  0.213567\n",
       "3  0.365453  0.634547\n",
       "4  0.786134  0.213866"
      ]
     },
     "execution_count": 139,
     "metadata": {},
     "output_type": "execute_result"
    }
   ],
   "source": [
    "y_pred_proba_validate_1 = logit.predict_proba(X_validate_1)\n",
    "df_y_pred_proba_validate_1 = pd.DataFrame(y_pred_proba_validate_1, columns = ['survived', 'died'])\n",
    "df_y_pred_proba_validate_1.head()"
   ]
  },
  {
   "cell_type": "markdown",
   "id": "a959b013",
   "metadata": {},
   "source": [
    "#### Classification report"
   ]
  },
  {
   "cell_type": "code",
   "execution_count": 140,
   "id": "20bb3bd0",
   "metadata": {},
   "outputs": [],
   "source": [
    "df_classification_report_train_1 = pd.DataFrame(classification_report(y_train, y_pred_1_train, output_dict = True)).T"
   ]
  },
  {
   "cell_type": "code",
   "execution_count": 141,
   "id": "f988fd21",
   "metadata": {},
   "outputs": [
    {
     "data": {
      "text/html": [
       "<div>\n",
       "<style scoped>\n",
       "    .dataframe tbody tr th:only-of-type {\n",
       "        vertical-align: middle;\n",
       "    }\n",
       "\n",
       "    .dataframe tbody tr th {\n",
       "        vertical-align: top;\n",
       "    }\n",
       "\n",
       "    .dataframe thead th {\n",
       "        text-align: right;\n",
       "    }\n",
       "</style>\n",
       "<table border=\"1\" class=\"dataframe\">\n",
       "  <thead>\n",
       "    <tr style=\"text-align: right;\">\n",
       "      <th></th>\n",
       "      <th>precision</th>\n",
       "      <th>recall</th>\n",
       "      <th>f1-score</th>\n",
       "      <th>support</th>\n",
       "    </tr>\n",
       "  </thead>\n",
       "  <tbody>\n",
       "    <tr>\n",
       "      <th>0</th>\n",
       "      <td>0.728022</td>\n",
       "      <td>0.863192</td>\n",
       "      <td>0.789866</td>\n",
       "      <td>307.000000</td>\n",
       "    </tr>\n",
       "    <tr>\n",
       "      <th>1</th>\n",
       "      <td>0.684211</td>\n",
       "      <td>0.478947</td>\n",
       "      <td>0.563467</td>\n",
       "      <td>190.000000</td>\n",
       "    </tr>\n",
       "    <tr>\n",
       "      <th>accuracy</th>\n",
       "      <td>0.716298</td>\n",
       "      <td>0.716298</td>\n",
       "      <td>0.716298</td>\n",
       "      <td>0.716298</td>\n",
       "    </tr>\n",
       "    <tr>\n",
       "      <th>macro avg</th>\n",
       "      <td>0.706116</td>\n",
       "      <td>0.671070</td>\n",
       "      <td>0.676667</td>\n",
       "      <td>497.000000</td>\n",
       "    </tr>\n",
       "    <tr>\n",
       "      <th>weighted avg</th>\n",
       "      <td>0.711273</td>\n",
       "      <td>0.716298</td>\n",
       "      <td>0.703315</td>\n",
       "      <td>497.000000</td>\n",
       "    </tr>\n",
       "  </tbody>\n",
       "</table>\n",
       "</div>"
      ],
      "text/plain": [
       "              precision    recall  f1-score     support\n",
       "0              0.728022  0.863192  0.789866  307.000000\n",
       "1              0.684211  0.478947  0.563467  190.000000\n",
       "accuracy       0.716298  0.716298  0.716298    0.716298\n",
       "macro avg      0.706116  0.671070  0.676667  497.000000\n",
       "weighted avg   0.711273  0.716298  0.703315  497.000000"
      ]
     },
     "execution_count": 141,
     "metadata": {},
     "output_type": "execute_result"
    }
   ],
   "source": [
    "df_classification_report_train_1"
   ]
  },
  {
   "cell_type": "code",
   "execution_count": 142,
   "id": "edae262c",
   "metadata": {},
   "outputs": [],
   "source": [
    "df_classification_report_validate_1 = pd.DataFrame(classification_report(y_validate, y_pred_1_validate, output_dict = True)).T"
   ]
  },
  {
   "cell_type": "code",
   "execution_count": 143,
   "id": "c2af6602",
   "metadata": {},
   "outputs": [
    {
     "data": {
      "text/html": [
       "<div>\n",
       "<style scoped>\n",
       "    .dataframe tbody tr th:only-of-type {\n",
       "        vertical-align: middle;\n",
       "    }\n",
       "\n",
       "    .dataframe tbody tr th {\n",
       "        vertical-align: top;\n",
       "    }\n",
       "\n",
       "    .dataframe thead th {\n",
       "        text-align: right;\n",
       "    }\n",
       "</style>\n",
       "<table border=\"1\" class=\"dataframe\">\n",
       "  <thead>\n",
       "    <tr style=\"text-align: right;\">\n",
       "      <th></th>\n",
       "      <th>precision</th>\n",
       "      <th>recall</th>\n",
       "      <th>f1-score</th>\n",
       "      <th>support</th>\n",
       "    </tr>\n",
       "  </thead>\n",
       "  <tbody>\n",
       "    <tr>\n",
       "      <th>0</th>\n",
       "      <td>0.734177</td>\n",
       "      <td>0.878788</td>\n",
       "      <td>0.800000</td>\n",
       "      <td>132.000000</td>\n",
       "    </tr>\n",
       "    <tr>\n",
       "      <th>1</th>\n",
       "      <td>0.714286</td>\n",
       "      <td>0.487805</td>\n",
       "      <td>0.579710</td>\n",
       "      <td>82.000000</td>\n",
       "    </tr>\n",
       "    <tr>\n",
       "      <th>accuracy</th>\n",
       "      <td>0.728972</td>\n",
       "      <td>0.728972</td>\n",
       "      <td>0.728972</td>\n",
       "      <td>0.728972</td>\n",
       "    </tr>\n",
       "    <tr>\n",
       "      <th>macro avg</th>\n",
       "      <td>0.724231</td>\n",
       "      <td>0.683296</td>\n",
       "      <td>0.689855</td>\n",
       "      <td>214.000000</td>\n",
       "    </tr>\n",
       "    <tr>\n",
       "      <th>weighted avg</th>\n",
       "      <td>0.726555</td>\n",
       "      <td>0.728972</td>\n",
       "      <td>0.715590</td>\n",
       "      <td>214.000000</td>\n",
       "    </tr>\n",
       "  </tbody>\n",
       "</table>\n",
       "</div>"
      ],
      "text/plain": [
       "              precision    recall  f1-score     support\n",
       "0              0.734177  0.878788  0.800000  132.000000\n",
       "1              0.714286  0.487805  0.579710   82.000000\n",
       "accuracy       0.728972  0.728972  0.728972    0.728972\n",
       "macro avg      0.724231  0.683296  0.689855  214.000000\n",
       "weighted avg   0.726555  0.728972  0.715590  214.000000"
      ]
     },
     "execution_count": 143,
     "metadata": {},
     "output_type": "execute_result"
    }
   ],
   "source": [
    "df_classification_report_validate_1"
   ]
  },
  {
   "cell_type": "markdown",
   "id": "0bdc0606",
   "metadata": {},
   "source": [
    "Does this model perform better than your baseline?"
   ]
  },
  {
   "cell_type": "code",
   "execution_count": 144,
   "id": "4575da85",
   "metadata": {},
   "outputs": [
    {
     "name": "stdout",
     "output_type": "stream",
     "text": [
      "Training accuracy: 0.62\n"
     ]
    }
   ],
   "source": [
    "accuracy = round(model.score(X_train, y_train), 2)\n",
    "print(f'Training accuracy: {accuracy}')"
   ]
  },
  {
   "cell_type": "markdown",
   "id": "6e51b53c",
   "metadata": {},
   "source": [
    "The training accuracy of this model is higher than the baseline training accuracy. So, yes, this model performs better than the baseline."
   ]
  },
  {
   "cell_type": "markdown",
   "id": "02aef45b",
   "metadata": {},
   "source": [
    "### Include sex in your model as well."
   ]
  },
  {
   "cell_type": "code",
   "execution_count": 145,
   "id": "e048eb27",
   "metadata": {},
   "outputs": [
    {
     "data": {
      "text/html": [
       "<div>\n",
       "<style scoped>\n",
       "    .dataframe tbody tr th:only-of-type {\n",
       "        vertical-align: middle;\n",
       "    }\n",
       "\n",
       "    .dataframe tbody tr th {\n",
       "        vertical-align: top;\n",
       "    }\n",
       "\n",
       "    .dataframe thead th {\n",
       "        text-align: right;\n",
       "    }\n",
       "</style>\n",
       "<table border=\"1\" class=\"dataframe\">\n",
       "  <thead>\n",
       "    <tr style=\"text-align: right;\">\n",
       "      <th></th>\n",
       "      <th>Unnamed: 0</th>\n",
       "      <th>passenger_id</th>\n",
       "      <th>pclass</th>\n",
       "      <th>sex</th>\n",
       "      <th>age</th>\n",
       "      <th>sibsp</th>\n",
       "      <th>parch</th>\n",
       "      <th>fare</th>\n",
       "      <th>embark_town</th>\n",
       "      <th>alone</th>\n",
       "      <th>Q</th>\n",
       "      <th>S</th>\n",
       "      <th>sex_male</th>\n",
       "      <th>embark_town_Queenstown</th>\n",
       "      <th>embark_town_Southampton</th>\n",
       "    </tr>\n",
       "  </thead>\n",
       "  <tbody>\n",
       "    <tr>\n",
       "      <th>583</th>\n",
       "      <td>583</td>\n",
       "      <td>583</td>\n",
       "      <td>1</td>\n",
       "      <td>male</td>\n",
       "      <td>36.000000</td>\n",
       "      <td>0</td>\n",
       "      <td>0</td>\n",
       "      <td>40.1250</td>\n",
       "      <td>Cherbourg</td>\n",
       "      <td>1</td>\n",
       "      <td>0</td>\n",
       "      <td>0</td>\n",
       "      <td>1</td>\n",
       "      <td>0</td>\n",
       "      <td>0</td>\n",
       "    </tr>\n",
       "    <tr>\n",
       "      <th>337</th>\n",
       "      <td>337</td>\n",
       "      <td>337</td>\n",
       "      <td>1</td>\n",
       "      <td>female</td>\n",
       "      <td>41.000000</td>\n",
       "      <td>0</td>\n",
       "      <td>0</td>\n",
       "      <td>134.5000</td>\n",
       "      <td>Cherbourg</td>\n",
       "      <td>1</td>\n",
       "      <td>0</td>\n",
       "      <td>0</td>\n",
       "      <td>0</td>\n",
       "      <td>0</td>\n",
       "      <td>0</td>\n",
       "    </tr>\n",
       "    <tr>\n",
       "      <th>50</th>\n",
       "      <td>50</td>\n",
       "      <td>50</td>\n",
       "      <td>3</td>\n",
       "      <td>male</td>\n",
       "      <td>7.000000</td>\n",
       "      <td>4</td>\n",
       "      <td>1</td>\n",
       "      <td>39.6875</td>\n",
       "      <td>Southampton</td>\n",
       "      <td>0</td>\n",
       "      <td>0</td>\n",
       "      <td>1</td>\n",
       "      <td>1</td>\n",
       "      <td>0</td>\n",
       "      <td>1</td>\n",
       "    </tr>\n",
       "    <tr>\n",
       "      <th>218</th>\n",
       "      <td>218</td>\n",
       "      <td>218</td>\n",
       "      <td>1</td>\n",
       "      <td>female</td>\n",
       "      <td>32.000000</td>\n",
       "      <td>0</td>\n",
       "      <td>0</td>\n",
       "      <td>76.2917</td>\n",
       "      <td>Cherbourg</td>\n",
       "      <td>1</td>\n",
       "      <td>0</td>\n",
       "      <td>0</td>\n",
       "      <td>0</td>\n",
       "      <td>0</td>\n",
       "      <td>0</td>\n",
       "    </tr>\n",
       "    <tr>\n",
       "      <th>31</th>\n",
       "      <td>31</td>\n",
       "      <td>31</td>\n",
       "      <td>1</td>\n",
       "      <td>female</td>\n",
       "      <td>29.916875</td>\n",
       "      <td>1</td>\n",
       "      <td>0</td>\n",
       "      <td>146.5208</td>\n",
       "      <td>Cherbourg</td>\n",
       "      <td>0</td>\n",
       "      <td>0</td>\n",
       "      <td>0</td>\n",
       "      <td>0</td>\n",
       "      <td>0</td>\n",
       "      <td>0</td>\n",
       "    </tr>\n",
       "  </tbody>\n",
       "</table>\n",
       "</div>"
      ],
      "text/plain": [
       "     Unnamed: 0  passenger_id  pclass     sex        age  sibsp  parch  \\\n",
       "583         583           583       1    male  36.000000      0      0   \n",
       "337         337           337       1  female  41.000000      0      0   \n",
       "50           50            50       3    male   7.000000      4      1   \n",
       "218         218           218       1  female  32.000000      0      0   \n",
       "31           31            31       1  female  29.916875      1      0   \n",
       "\n",
       "         fare  embark_town  alone  Q  S  sex_male  embark_town_Queenstown  \\\n",
       "583   40.1250    Cherbourg      1  0  0         1                       0   \n",
       "337  134.5000    Cherbourg      1  0  0         0                       0   \n",
       "50    39.6875  Southampton      0  0  1         1                       0   \n",
       "218   76.2917    Cherbourg      1  0  0         0                       0   \n",
       "31   146.5208    Cherbourg      0  0  0         0                       0   \n",
       "\n",
       "     embark_town_Southampton  \n",
       "583                        0  \n",
       "337                        0  \n",
       "50                         1  \n",
       "218                        0  \n",
       "31                         0  "
      ]
     },
     "execution_count": 145,
     "metadata": {},
     "output_type": "execute_result"
    }
   ],
   "source": [
    "X_train.head()"
   ]
  },
  {
   "cell_type": "code",
   "execution_count": 146,
   "id": "3e6b86ac",
   "metadata": {},
   "outputs": [],
   "source": [
    "X_train_2 = X_train.drop(columns = ['Unnamed: 0', 'passenger_id', 'sex', 'sibsp', 'parch', 'embark_town', 'alone', 'Q', 'S', 'embark_town_Queenstown', 'embark_town_Southampton'])"
   ]
  },
  {
   "cell_type": "code",
   "execution_count": 147,
   "id": "cdcb047c",
   "metadata": {},
   "outputs": [
    {
     "data": {
      "text/html": [
       "<div>\n",
       "<style scoped>\n",
       "    .dataframe tbody tr th:only-of-type {\n",
       "        vertical-align: middle;\n",
       "    }\n",
       "\n",
       "    .dataframe tbody tr th {\n",
       "        vertical-align: top;\n",
       "    }\n",
       "\n",
       "    .dataframe thead th {\n",
       "        text-align: right;\n",
       "    }\n",
       "</style>\n",
       "<table border=\"1\" class=\"dataframe\">\n",
       "  <thead>\n",
       "    <tr style=\"text-align: right;\">\n",
       "      <th></th>\n",
       "      <th>pclass</th>\n",
       "      <th>age</th>\n",
       "      <th>fare</th>\n",
       "      <th>sex_male</th>\n",
       "    </tr>\n",
       "  </thead>\n",
       "  <tbody>\n",
       "    <tr>\n",
       "      <th>583</th>\n",
       "      <td>1</td>\n",
       "      <td>36.000000</td>\n",
       "      <td>40.1250</td>\n",
       "      <td>1</td>\n",
       "    </tr>\n",
       "    <tr>\n",
       "      <th>337</th>\n",
       "      <td>1</td>\n",
       "      <td>41.000000</td>\n",
       "      <td>134.5000</td>\n",
       "      <td>0</td>\n",
       "    </tr>\n",
       "    <tr>\n",
       "      <th>50</th>\n",
       "      <td>3</td>\n",
       "      <td>7.000000</td>\n",
       "      <td>39.6875</td>\n",
       "      <td>1</td>\n",
       "    </tr>\n",
       "    <tr>\n",
       "      <th>218</th>\n",
       "      <td>1</td>\n",
       "      <td>32.000000</td>\n",
       "      <td>76.2917</td>\n",
       "      <td>0</td>\n",
       "    </tr>\n",
       "    <tr>\n",
       "      <th>31</th>\n",
       "      <td>1</td>\n",
       "      <td>29.916875</td>\n",
       "      <td>146.5208</td>\n",
       "      <td>0</td>\n",
       "    </tr>\n",
       "  </tbody>\n",
       "</table>\n",
       "</div>"
      ],
      "text/plain": [
       "     pclass        age      fare  sex_male\n",
       "583       1  36.000000   40.1250         1\n",
       "337       1  41.000000  134.5000         0\n",
       "50        3   7.000000   39.6875         1\n",
       "218       1  32.000000   76.2917         0\n",
       "31        1  29.916875  146.5208         0"
      ]
     },
     "execution_count": 147,
     "metadata": {},
     "output_type": "execute_result"
    }
   ],
   "source": [
    "X_train_2.head()"
   ]
  },
  {
   "cell_type": "code",
   "execution_count": 148,
   "id": "de8e9639",
   "metadata": {},
   "outputs": [],
   "source": [
    "X_validate_2 = X_validate.drop(columns = ['Unnamed: 0', 'passenger_id', 'sex', 'sibsp', 'parch', 'embark_town', 'alone', 'Q', 'S'])"
   ]
  },
  {
   "cell_type": "code",
   "execution_count": 150,
   "id": "15248ff2",
   "metadata": {},
   "outputs": [],
   "source": [
    "X_validate_2 = X_validate_2.drop(columns = ['embark_town_Queenstown', 'embark_town_Southampton'])"
   ]
  },
  {
   "cell_type": "code",
   "execution_count": 151,
   "id": "f4e9d99d",
   "metadata": {},
   "outputs": [
    {
     "data": {
      "text/html": [
       "<div>\n",
       "<style scoped>\n",
       "    .dataframe tbody tr th:only-of-type {\n",
       "        vertical-align: middle;\n",
       "    }\n",
       "\n",
       "    .dataframe tbody tr th {\n",
       "        vertical-align: top;\n",
       "    }\n",
       "\n",
       "    .dataframe thead th {\n",
       "        text-align: right;\n",
       "    }\n",
       "</style>\n",
       "<table border=\"1\" class=\"dataframe\">\n",
       "  <thead>\n",
       "    <tr style=\"text-align: right;\">\n",
       "      <th></th>\n",
       "      <th>pclass</th>\n",
       "      <th>age</th>\n",
       "      <th>fare</th>\n",
       "      <th>sex_male</th>\n",
       "    </tr>\n",
       "  </thead>\n",
       "  <tbody>\n",
       "    <tr>\n",
       "      <th>610</th>\n",
       "      <td>3</td>\n",
       "      <td>39.000000</td>\n",
       "      <td>31.2750</td>\n",
       "      <td>0</td>\n",
       "    </tr>\n",
       "    <tr>\n",
       "      <th>424</th>\n",
       "      <td>3</td>\n",
       "      <td>18.000000</td>\n",
       "      <td>20.2125</td>\n",
       "      <td>1</td>\n",
       "    </tr>\n",
       "    <tr>\n",
       "      <th>568</th>\n",
       "      <td>3</td>\n",
       "      <td>29.916875</td>\n",
       "      <td>7.2292</td>\n",
       "      <td>1</td>\n",
       "    </tr>\n",
       "    <tr>\n",
       "      <th>701</th>\n",
       "      <td>1</td>\n",
       "      <td>35.000000</td>\n",
       "      <td>26.2875</td>\n",
       "      <td>1</td>\n",
       "    </tr>\n",
       "    <tr>\n",
       "      <th>101</th>\n",
       "      <td>3</td>\n",
       "      <td>29.916875</td>\n",
       "      <td>7.8958</td>\n",
       "      <td>1</td>\n",
       "    </tr>\n",
       "  </tbody>\n",
       "</table>\n",
       "</div>"
      ],
      "text/plain": [
       "     pclass        age     fare  sex_male\n",
       "610       3  39.000000  31.2750         0\n",
       "424       3  18.000000  20.2125         1\n",
       "568       3  29.916875   7.2292         1\n",
       "701       1  35.000000  26.2875         1\n",
       "101       3  29.916875   7.8958         1"
      ]
     },
     "execution_count": 151,
     "metadata": {},
     "output_type": "execute_result"
    }
   ],
   "source": [
    "X_validate_2.head()"
   ]
  },
  {
   "cell_type": "markdown",
   "id": "cb83eac4",
   "metadata": {},
   "source": [
    "#### Create the object"
   ]
  },
  {
   "cell_type": "code",
   "execution_count": 158,
   "id": "eef59b94",
   "metadata": {},
   "outputs": [],
   "source": [
    "logit2 = LogisticRegression(C=1, random_state=123)"
   ]
  },
  {
   "cell_type": "markdown",
   "id": "271ac84b",
   "metadata": {},
   "source": [
    "#### Fit the model"
   ]
  },
  {
   "cell_type": "code",
   "execution_count": 159,
   "id": "9a934d21",
   "metadata": {},
   "outputs": [
    {
     "data": {
      "text/plain": [
       "LogisticRegression(C=1, random_state=123)"
      ]
     },
     "execution_count": 159,
     "metadata": {},
     "output_type": "execute_result"
    }
   ],
   "source": [
    "logit2.fit(X_train_2, y_train)"
   ]
  },
  {
   "cell_type": "markdown",
   "id": "802944d9",
   "metadata": {},
   "source": [
    "#### Feature importance"
   ]
  },
  {
   "cell_type": "code",
   "execution_count": 160,
   "id": "c0ca6529",
   "metadata": {},
   "outputs": [
    {
     "name": "stdout",
     "output_type": "stream",
     "text": [
      "Coefficient: \n",
      " [[-1.11402368e+00 -2.66594879e-02  9.02716903e-04 -2.45878213e+00]]\n",
      "Intercept: \n",
      " [4.30664987]\n"
     ]
    }
   ],
   "source": [
    "print('Coefficient: \\n', logit2.coef_)\n",
    "print('Intercept: \\n', logit2.intercept_)"
   ]
  },
  {
   "cell_type": "markdown",
   "id": "cca210ab",
   "metadata": {},
   "source": [
    "#### Make predictions"
   ]
  },
  {
   "cell_type": "code",
   "execution_count": 161,
   "id": "8160a186",
   "metadata": {},
   "outputs": [],
   "source": [
    "y_pred_train_2 = logit2.predict(X_train_2)"
   ]
  },
  {
   "cell_type": "code",
   "execution_count": 162,
   "id": "a9940a3d",
   "metadata": {},
   "outputs": [],
   "source": [
    "y_pred_validate_2 = logit2.predict(X_validate_2)"
   ]
  },
  {
   "cell_type": "markdown",
   "id": "13346344",
   "metadata": {},
   "source": [
    "#### Estimate probability"
   ]
  },
  {
   "cell_type": "code",
   "execution_count": 171,
   "id": "cea5995e",
   "metadata": {},
   "outputs": [],
   "source": [
    "y_pred_proba_train_2 = logit2.predict_proba(X_train_2)\n",
    "df_y_pred_proba_train_2 = pd.DataFrame(y_pred_proba_train_2, columns = ['survived', 'died'])"
   ]
  },
  {
   "cell_type": "code",
   "execution_count": 172,
   "id": "9434916b",
   "metadata": {},
   "outputs": [
    {
     "data": {
      "text/html": [
       "<div>\n",
       "<style scoped>\n",
       "    .dataframe tbody tr th:only-of-type {\n",
       "        vertical-align: middle;\n",
       "    }\n",
       "\n",
       "    .dataframe tbody tr th {\n",
       "        vertical-align: top;\n",
       "    }\n",
       "\n",
       "    .dataframe thead th {\n",
       "        text-align: right;\n",
       "    }\n",
       "</style>\n",
       "<table border=\"1\" class=\"dataframe\">\n",
       "  <thead>\n",
       "    <tr style=\"text-align: right;\">\n",
       "      <th></th>\n",
       "      <th>survived</th>\n",
       "      <th>died</th>\n",
       "    </tr>\n",
       "  </thead>\n",
       "  <tbody>\n",
       "    <tr>\n",
       "      <th>0</th>\n",
       "      <td>0.547277</td>\n",
       "      <td>0.452723</td>\n",
       "    </tr>\n",
       "    <tr>\n",
       "      <th>1</th>\n",
       "      <td>0.097880</td>\n",
       "      <td>0.902120</td>\n",
       "    </tr>\n",
       "    <tr>\n",
       "      <th>2</th>\n",
       "      <td>0.838213</td>\n",
       "      <td>0.161787</td>\n",
       "    </tr>\n",
       "    <tr>\n",
       "      <th>3</th>\n",
       "      <td>0.082535</td>\n",
       "      <td>0.917465</td>\n",
       "    </tr>\n",
       "    <tr>\n",
       "      <th>4</th>\n",
       "      <td>0.073965</td>\n",
       "      <td>0.926035</td>\n",
       "    </tr>\n",
       "  </tbody>\n",
       "</table>\n",
       "</div>"
      ],
      "text/plain": [
       "   survived      died\n",
       "0  0.547277  0.452723\n",
       "1  0.097880  0.902120\n",
       "2  0.838213  0.161787\n",
       "3  0.082535  0.917465\n",
       "4  0.073965  0.926035"
      ]
     },
     "execution_count": 172,
     "metadata": {},
     "output_type": "execute_result"
    }
   ],
   "source": [
    "df_y_pred_proba_train_2.head()"
   ]
  },
  {
   "cell_type": "code",
   "execution_count": 173,
   "id": "4c339078",
   "metadata": {},
   "outputs": [],
   "source": [
    "y_pred_proba_validate_2 = logit2.predict_proba(X_validate_2)\n",
    "df_y_pred_proba_validate_2 = pd.DataFrame(y_pred_proba_validate_2, columns = ['survived', 'died'])"
   ]
  },
  {
   "cell_type": "code",
   "execution_count": 174,
   "id": "7210c4d6",
   "metadata": {},
   "outputs": [
    {
     "data": {
      "text/html": [
       "<div>\n",
       "<style scoped>\n",
       "    .dataframe tbody tr th:only-of-type {\n",
       "        vertical-align: middle;\n",
       "    }\n",
       "\n",
       "    .dataframe tbody tr th {\n",
       "        vertical-align: top;\n",
       "    }\n",
       "\n",
       "    .dataframe thead th {\n",
       "        text-align: right;\n",
       "    }\n",
       "</style>\n",
       "<table border=\"1\" class=\"dataframe\">\n",
       "  <thead>\n",
       "    <tr style=\"text-align: right;\">\n",
       "      <th></th>\n",
       "      <th>survived</th>\n",
       "      <th>died</th>\n",
       "    </tr>\n",
       "  </thead>\n",
       "  <tbody>\n",
       "    <tr>\n",
       "      <th>0</th>\n",
       "      <td>0.511725</td>\n",
       "      <td>0.488275</td>\n",
       "    </tr>\n",
       "    <tr>\n",
       "      <th>1</th>\n",
       "      <td>0.876081</td>\n",
       "      <td>0.123919</td>\n",
       "    </tr>\n",
       "    <tr>\n",
       "      <th>2</th>\n",
       "      <td>0.907648</td>\n",
       "      <td>0.092352</td>\n",
       "    </tr>\n",
       "    <tr>\n",
       "      <th>3</th>\n",
       "      <td>0.543765</td>\n",
       "      <td>0.456235</td>\n",
       "    </tr>\n",
       "    <tr>\n",
       "      <th>4</th>\n",
       "      <td>0.907597</td>\n",
       "      <td>0.092403</td>\n",
       "    </tr>\n",
       "  </tbody>\n",
       "</table>\n",
       "</div>"
      ],
      "text/plain": [
       "   survived      died\n",
       "0  0.511725  0.488275\n",
       "1  0.876081  0.123919\n",
       "2  0.907648  0.092352\n",
       "3  0.543765  0.456235\n",
       "4  0.907597  0.092403"
      ]
     },
     "execution_count": 174,
     "metadata": {},
     "output_type": "execute_result"
    }
   ],
   "source": [
    "df_y_pred_proba_validate_2.head()"
   ]
  },
  {
   "cell_type": "markdown",
   "id": "ec670842",
   "metadata": {},
   "source": [
    "#### Classification report"
   ]
  },
  {
   "cell_type": "code",
   "execution_count": 176,
   "id": "0bf2b930",
   "metadata": {},
   "outputs": [],
   "source": [
    "df_classification_report_train_2 = pd.DataFrame(classification_report(y_train, y_pred_train_2, output_dict =True)).T"
   ]
  },
  {
   "cell_type": "code",
   "execution_count": 177,
   "id": "a2616433",
   "metadata": {},
   "outputs": [
    {
     "data": {
      "text/html": [
       "<div>\n",
       "<style scoped>\n",
       "    .dataframe tbody tr th:only-of-type {\n",
       "        vertical-align: middle;\n",
       "    }\n",
       "\n",
       "    .dataframe tbody tr th {\n",
       "        vertical-align: top;\n",
       "    }\n",
       "\n",
       "    .dataframe thead th {\n",
       "        text-align: right;\n",
       "    }\n",
       "</style>\n",
       "<table border=\"1\" class=\"dataframe\">\n",
       "  <thead>\n",
       "    <tr style=\"text-align: right;\">\n",
       "      <th></th>\n",
       "      <th>precision</th>\n",
       "      <th>recall</th>\n",
       "      <th>f1-score</th>\n",
       "      <th>support</th>\n",
       "    </tr>\n",
       "  </thead>\n",
       "  <tbody>\n",
       "    <tr>\n",
       "      <th>0</th>\n",
       "      <td>0.824451</td>\n",
       "      <td>0.856678</td>\n",
       "      <td>0.840256</td>\n",
       "      <td>307.000000</td>\n",
       "    </tr>\n",
       "    <tr>\n",
       "      <th>1</th>\n",
       "      <td>0.752809</td>\n",
       "      <td>0.705263</td>\n",
       "      <td>0.728261</td>\n",
       "      <td>190.000000</td>\n",
       "    </tr>\n",
       "    <tr>\n",
       "      <th>accuracy</th>\n",
       "      <td>0.798793</td>\n",
       "      <td>0.798793</td>\n",
       "      <td>0.798793</td>\n",
       "      <td>0.798793</td>\n",
       "    </tr>\n",
       "    <tr>\n",
       "      <th>macro avg</th>\n",
       "      <td>0.788630</td>\n",
       "      <td>0.780970</td>\n",
       "      <td>0.784258</td>\n",
       "      <td>497.000000</td>\n",
       "    </tr>\n",
       "    <tr>\n",
       "      <th>weighted avg</th>\n",
       "      <td>0.797063</td>\n",
       "      <td>0.798793</td>\n",
       "      <td>0.797441</td>\n",
       "      <td>497.000000</td>\n",
       "    </tr>\n",
       "  </tbody>\n",
       "</table>\n",
       "</div>"
      ],
      "text/plain": [
       "              precision    recall  f1-score     support\n",
       "0              0.824451  0.856678  0.840256  307.000000\n",
       "1              0.752809  0.705263  0.728261  190.000000\n",
       "accuracy       0.798793  0.798793  0.798793    0.798793\n",
       "macro avg      0.788630  0.780970  0.784258  497.000000\n",
       "weighted avg   0.797063  0.798793  0.797441  497.000000"
      ]
     },
     "execution_count": 177,
     "metadata": {},
     "output_type": "execute_result"
    }
   ],
   "source": [
    "df_classification_report_train_2"
   ]
  },
  {
   "cell_type": "code",
   "execution_count": 178,
   "id": "5e71149d",
   "metadata": {},
   "outputs": [],
   "source": [
    "df_classification_report_validate_2 = pd.DataFrame(classification_report(y_validate, y_pred_validate_2, output_dict =True)).T"
   ]
  },
  {
   "cell_type": "code",
   "execution_count": 179,
   "id": "1e0579f8",
   "metadata": {},
   "outputs": [
    {
     "data": {
      "text/html": [
       "<div>\n",
       "<style scoped>\n",
       "    .dataframe tbody tr th:only-of-type {\n",
       "        vertical-align: middle;\n",
       "    }\n",
       "\n",
       "    .dataframe tbody tr th {\n",
       "        vertical-align: top;\n",
       "    }\n",
       "\n",
       "    .dataframe thead th {\n",
       "        text-align: right;\n",
       "    }\n",
       "</style>\n",
       "<table border=\"1\" class=\"dataframe\">\n",
       "  <thead>\n",
       "    <tr style=\"text-align: right;\">\n",
       "      <th></th>\n",
       "      <th>precision</th>\n",
       "      <th>recall</th>\n",
       "      <th>f1-score</th>\n",
       "      <th>support</th>\n",
       "    </tr>\n",
       "  </thead>\n",
       "  <tbody>\n",
       "    <tr>\n",
       "      <th>0</th>\n",
       "      <td>0.816176</td>\n",
       "      <td>0.840909</td>\n",
       "      <td>0.828358</td>\n",
       "      <td>132.000000</td>\n",
       "    </tr>\n",
       "    <tr>\n",
       "      <th>1</th>\n",
       "      <td>0.730769</td>\n",
       "      <td>0.695122</td>\n",
       "      <td>0.712500</td>\n",
       "      <td>82.000000</td>\n",
       "    </tr>\n",
       "    <tr>\n",
       "      <th>accuracy</th>\n",
       "      <td>0.785047</td>\n",
       "      <td>0.785047</td>\n",
       "      <td>0.785047</td>\n",
       "      <td>0.785047</td>\n",
       "    </tr>\n",
       "    <tr>\n",
       "      <th>macro avg</th>\n",
       "      <td>0.773473</td>\n",
       "      <td>0.768016</td>\n",
       "      <td>0.770429</td>\n",
       "      <td>214.000000</td>\n",
       "    </tr>\n",
       "    <tr>\n",
       "      <th>weighted avg</th>\n",
       "      <td>0.783450</td>\n",
       "      <td>0.785047</td>\n",
       "      <td>0.783964</td>\n",
       "      <td>214.000000</td>\n",
       "    </tr>\n",
       "  </tbody>\n",
       "</table>\n",
       "</div>"
      ],
      "text/plain": [
       "              precision    recall  f1-score     support\n",
       "0              0.816176  0.840909  0.828358  132.000000\n",
       "1              0.730769  0.695122  0.712500   82.000000\n",
       "accuracy       0.785047  0.785047  0.785047    0.785047\n",
       "macro avg      0.773473  0.768016  0.770429  214.000000\n",
       "weighted avg   0.783450  0.785047  0.783964  214.000000"
      ]
     },
     "execution_count": 179,
     "metadata": {},
     "output_type": "execute_result"
    }
   ],
   "source": [
    "df_classification_report_validate_2"
   ]
  },
  {
   "cell_type": "markdown",
   "id": "4d4f098e",
   "metadata": {},
   "source": [
    "Including sex increases the accuracy versus omitting it. "
   ]
  },
  {
   "cell_type": "markdown",
   "id": "7f22790c",
   "metadata": {},
   "source": [
    "### Try out other combinations of features and models."
   ]
  },
  {
   "cell_type": "code",
   "execution_count": 182,
   "id": "03d87312",
   "metadata": {},
   "outputs": [],
   "source": [
    "X_train_3 = X_train.drop(columns = ['Unnamed: 0', 'passenger_id', 'sex', 'sibsp', 'parch', 'embark_town', 'Q', 'S', 'embark_town_Queenstown', 'embark_town_Southampton'])"
   ]
  },
  {
   "cell_type": "code",
   "execution_count": 183,
   "id": "48b0ca36",
   "metadata": {},
   "outputs": [],
   "source": [
    "X_validate_3 = X_validate.drop(columns = ['Unnamed: 0', 'passenger_id', 'sex', 'sibsp', 'parch', 'embark_town', 'Q', 'S', 'embark_town_Queenstown', 'embark_town_Southampton'])"
   ]
  },
  {
   "cell_type": "code",
   "execution_count": 184,
   "id": "8792dc38",
   "metadata": {},
   "outputs": [],
   "source": [
    "logit3 = LogisticRegression(C=1, random_state=123)"
   ]
  },
  {
   "cell_type": "code",
   "execution_count": 186,
   "id": "e8924f34",
   "metadata": {},
   "outputs": [
    {
     "data": {
      "text/plain": [
       "LogisticRegression(C=1, random_state=123)"
      ]
     },
     "execution_count": 186,
     "metadata": {},
     "output_type": "execute_result"
    }
   ],
   "source": [
    "logit3.fit(X_train_3, y_train)"
   ]
  },
  {
   "cell_type": "code",
   "execution_count": null,
   "id": "4318775f",
   "metadata": {},
   "outputs": [],
   "source": []
  }
 ],
 "metadata": {
  "kernelspec": {
   "display_name": "Python 3",
   "language": "python",
   "name": "python3"
  },
  "language_info": {
   "codemirror_mode": {
    "name": "ipython",
    "version": 3
   },
   "file_extension": ".py",
   "mimetype": "text/x-python",
   "name": "python",
   "nbconvert_exporter": "python",
   "pygments_lexer": "ipython3",
   "version": "3.8.8"
  }
 },
 "nbformat": 4,
 "nbformat_minor": 5
}

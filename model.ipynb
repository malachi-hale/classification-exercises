{
 "cells": [
  {
   "cell_type": "code",
   "execution_count": 2,
   "id": "5bde5f4c",
   "metadata": {},
   "outputs": [],
   "source": [
    "import pandas as pd\n",
    "from sklearn.dummy import DummyClassifier\n",
    "from sklearn.metrics import classification_report\n",
    "import acquire\n",
    "import prepare\n",
    "\n",
    "import warnings\n",
    "warnings.filterwarnings('ignore')"
   ]
  },
  {
   "cell_type": "markdown",
   "id": "85438639",
   "metadata": {},
   "source": [
    "# Decision Tree"
   ]
  },
  {
   "cell_type": "markdown",
   "id": "67ff9a14",
   "metadata": {},
   "source": [
    "## Acquire Data"
   ]
  },
  {
   "cell_type": "code",
   "execution_count": 3,
   "id": "e6aef708",
   "metadata": {},
   "outputs": [
    {
     "data": {
      "text/plain": [
       "((497, 15), (214, 15), (178, 15))"
      ]
     },
     "execution_count": 3,
     "metadata": {},
     "output_type": "execute_result"
    }
   ],
   "source": [
    "train, validate, test = prepare.prep_titanic(acquire.get_titanic_data())\n",
    "train.shape, validate.shape, test.shape"
   ]
  },
  {
   "cell_type": "code",
   "execution_count": 4,
   "id": "9ed45aa6",
   "metadata": {},
   "outputs": [],
   "source": [
    "X_train, y_train = train.drop(columns='survived'), train.survived\n",
    "X_validate, y_validate = validate.drop(columns='survived'), validate.survived\n",
    "X_test, y_test = test.drop(columns='survived'), test.survived"
   ]
  },
  {
   "cell_type": "markdown",
   "id": "72f4c50f",
   "metadata": {},
   "source": [
    "## Clean Data"
   ]
  },
  {
   "cell_type": "code",
   "execution_count": 5,
   "id": "9d512890",
   "metadata": {},
   "outputs": [
    {
     "data": {
      "text/html": [
       "<div>\n",
       "<style scoped>\n",
       "    .dataframe tbody tr th:only-of-type {\n",
       "        vertical-align: middle;\n",
       "    }\n",
       "\n",
       "    .dataframe tbody tr th {\n",
       "        vertical-align: top;\n",
       "    }\n",
       "\n",
       "    .dataframe thead th {\n",
       "        text-align: right;\n",
       "    }\n",
       "</style>\n",
       "<table border=\"1\" class=\"dataframe\">\n",
       "  <thead>\n",
       "    <tr style=\"text-align: right;\">\n",
       "      <th></th>\n",
       "      <th>Unnamed: 0</th>\n",
       "      <th>passenger_id</th>\n",
       "      <th>pclass</th>\n",
       "      <th>sex</th>\n",
       "      <th>age</th>\n",
       "      <th>sibsp</th>\n",
       "      <th>parch</th>\n",
       "      <th>fare</th>\n",
       "      <th>embarked</th>\n",
       "      <th>class</th>\n",
       "      <th>embark_town</th>\n",
       "      <th>alone</th>\n",
       "      <th>Q</th>\n",
       "      <th>S</th>\n",
       "    </tr>\n",
       "  </thead>\n",
       "  <tbody>\n",
       "    <tr>\n",
       "      <th>583</th>\n",
       "      <td>583</td>\n",
       "      <td>583</td>\n",
       "      <td>1</td>\n",
       "      <td>male</td>\n",
       "      <td>36.000000</td>\n",
       "      <td>0</td>\n",
       "      <td>0</td>\n",
       "      <td>40.1250</td>\n",
       "      <td>C</td>\n",
       "      <td>First</td>\n",
       "      <td>Cherbourg</td>\n",
       "      <td>1</td>\n",
       "      <td>0</td>\n",
       "      <td>0</td>\n",
       "    </tr>\n",
       "    <tr>\n",
       "      <th>337</th>\n",
       "      <td>337</td>\n",
       "      <td>337</td>\n",
       "      <td>1</td>\n",
       "      <td>female</td>\n",
       "      <td>41.000000</td>\n",
       "      <td>0</td>\n",
       "      <td>0</td>\n",
       "      <td>134.5000</td>\n",
       "      <td>C</td>\n",
       "      <td>First</td>\n",
       "      <td>Cherbourg</td>\n",
       "      <td>1</td>\n",
       "      <td>0</td>\n",
       "      <td>0</td>\n",
       "    </tr>\n",
       "    <tr>\n",
       "      <th>50</th>\n",
       "      <td>50</td>\n",
       "      <td>50</td>\n",
       "      <td>3</td>\n",
       "      <td>male</td>\n",
       "      <td>7.000000</td>\n",
       "      <td>4</td>\n",
       "      <td>1</td>\n",
       "      <td>39.6875</td>\n",
       "      <td>S</td>\n",
       "      <td>Third</td>\n",
       "      <td>Southampton</td>\n",
       "      <td>0</td>\n",
       "      <td>0</td>\n",
       "      <td>1</td>\n",
       "    </tr>\n",
       "    <tr>\n",
       "      <th>218</th>\n",
       "      <td>218</td>\n",
       "      <td>218</td>\n",
       "      <td>1</td>\n",
       "      <td>female</td>\n",
       "      <td>32.000000</td>\n",
       "      <td>0</td>\n",
       "      <td>0</td>\n",
       "      <td>76.2917</td>\n",
       "      <td>C</td>\n",
       "      <td>First</td>\n",
       "      <td>Cherbourg</td>\n",
       "      <td>1</td>\n",
       "      <td>0</td>\n",
       "      <td>0</td>\n",
       "    </tr>\n",
       "    <tr>\n",
       "      <th>31</th>\n",
       "      <td>31</td>\n",
       "      <td>31</td>\n",
       "      <td>1</td>\n",
       "      <td>female</td>\n",
       "      <td>29.916875</td>\n",
       "      <td>1</td>\n",
       "      <td>0</td>\n",
       "      <td>146.5208</td>\n",
       "      <td>C</td>\n",
       "      <td>First</td>\n",
       "      <td>Cherbourg</td>\n",
       "      <td>0</td>\n",
       "      <td>0</td>\n",
       "      <td>0</td>\n",
       "    </tr>\n",
       "  </tbody>\n",
       "</table>\n",
       "</div>"
      ],
      "text/plain": [
       "     Unnamed: 0  passenger_id  pclass     sex        age  sibsp  parch  \\\n",
       "583         583           583       1    male  36.000000      0      0   \n",
       "337         337           337       1  female  41.000000      0      0   \n",
       "50           50            50       3    male   7.000000      4      1   \n",
       "218         218           218       1  female  32.000000      0      0   \n",
       "31           31            31       1  female  29.916875      1      0   \n",
       "\n",
       "         fare embarked  class  embark_town  alone  Q  S  \n",
       "583   40.1250        C  First    Cherbourg      1  0  0  \n",
       "337  134.5000        C  First    Cherbourg      1  0  0  \n",
       "50    39.6875        S  Third  Southampton      0  0  1  \n",
       "218   76.2917        C  First    Cherbourg      1  0  0  \n",
       "31   146.5208        C  First    Cherbourg      0  0  0  "
      ]
     },
     "execution_count": 5,
     "metadata": {},
     "output_type": "execute_result"
    }
   ],
   "source": [
    "X_train.head()"
   ]
  },
  {
   "cell_type": "code",
   "execution_count": 6,
   "id": "7069cd59",
   "metadata": {},
   "outputs": [
    {
     "name": "stdout",
     "output_type": "stream",
     "text": [
      "<class 'pandas.core.frame.DataFrame'>\n",
      "Int64Index: 497 entries, 583 to 553\n",
      "Data columns (total 14 columns):\n",
      " #   Column        Non-Null Count  Dtype  \n",
      "---  ------        --------------  -----  \n",
      " 0   Unnamed: 0    497 non-null    int64  \n",
      " 1   passenger_id  497 non-null    int64  \n",
      " 2   pclass        497 non-null    int64  \n",
      " 3   sex           497 non-null    object \n",
      " 4   age           497 non-null    float64\n",
      " 5   sibsp         497 non-null    int64  \n",
      " 6   parch         497 non-null    int64  \n",
      " 7   fare          497 non-null    float64\n",
      " 8   embarked      497 non-null    object \n",
      " 9   class         497 non-null    object \n",
      " 10  embark_town   497 non-null    object \n",
      " 11  alone         497 non-null    int64  \n",
      " 12  Q             497 non-null    uint8  \n",
      " 13  S             497 non-null    uint8  \n",
      "dtypes: float64(2), int64(6), object(4), uint8(2)\n",
      "memory usage: 51.4+ KB\n"
     ]
    }
   ],
   "source": [
    "X_train.info()"
   ]
  },
  {
   "cell_type": "code",
   "execution_count": 7,
   "id": "68d36b4f",
   "metadata": {},
   "outputs": [],
   "source": [
    "def clean_data(df):\n",
    "    '''\n",
    "    This function will drop any duplicate observations, \n",
    "    drop ['deck', 'embarked', 'class', 'age'], fill missing embark_town with 'Southampton'\n",
    "    and create dummy vars from sex and embark_town. \n",
    "    '''\n",
    "    df = df.drop_duplicates()\n",
    "    df = df.drop(columns=['embarked', 'class', 'age'])\n",
    "    df['embark_town'] = df.embark_town.fillna(value='Southampton')\n",
    "    dummy_df = pd.get_dummies(df[['sex', 'embark_town']], drop_first=True)\n",
    "    df = pd.concat([df, dummy_df], axis=1)\n",
    "    return df"
   ]
  },
  {
   "cell_type": "code",
   "execution_count": 8,
   "id": "b7d8e96b",
   "metadata": {},
   "outputs": [],
   "source": [
    "X_train = clean_data(X_train)"
   ]
  },
  {
   "cell_type": "code",
   "execution_count": 9,
   "id": "7f8a0768",
   "metadata": {},
   "outputs": [
    {
     "data": {
      "text/html": [
       "<div>\n",
       "<style scoped>\n",
       "    .dataframe tbody tr th:only-of-type {\n",
       "        vertical-align: middle;\n",
       "    }\n",
       "\n",
       "    .dataframe tbody tr th {\n",
       "        vertical-align: top;\n",
       "    }\n",
       "\n",
       "    .dataframe thead th {\n",
       "        text-align: right;\n",
       "    }\n",
       "</style>\n",
       "<table border=\"1\" class=\"dataframe\">\n",
       "  <thead>\n",
       "    <tr style=\"text-align: right;\">\n",
       "      <th></th>\n",
       "      <th>Unnamed: 0</th>\n",
       "      <th>passenger_id</th>\n",
       "      <th>pclass</th>\n",
       "      <th>sex</th>\n",
       "      <th>sibsp</th>\n",
       "      <th>parch</th>\n",
       "      <th>fare</th>\n",
       "      <th>embark_town</th>\n",
       "      <th>alone</th>\n",
       "      <th>Q</th>\n",
       "      <th>S</th>\n",
       "      <th>sex_male</th>\n",
       "      <th>embark_town_Queenstown</th>\n",
       "      <th>embark_town_Southampton</th>\n",
       "    </tr>\n",
       "  </thead>\n",
       "  <tbody>\n",
       "    <tr>\n",
       "      <th>583</th>\n",
       "      <td>583</td>\n",
       "      <td>583</td>\n",
       "      <td>1</td>\n",
       "      <td>male</td>\n",
       "      <td>0</td>\n",
       "      <td>0</td>\n",
       "      <td>40.1250</td>\n",
       "      <td>Cherbourg</td>\n",
       "      <td>1</td>\n",
       "      <td>0</td>\n",
       "      <td>0</td>\n",
       "      <td>1</td>\n",
       "      <td>0</td>\n",
       "      <td>0</td>\n",
       "    </tr>\n",
       "    <tr>\n",
       "      <th>337</th>\n",
       "      <td>337</td>\n",
       "      <td>337</td>\n",
       "      <td>1</td>\n",
       "      <td>female</td>\n",
       "      <td>0</td>\n",
       "      <td>0</td>\n",
       "      <td>134.5000</td>\n",
       "      <td>Cherbourg</td>\n",
       "      <td>1</td>\n",
       "      <td>0</td>\n",
       "      <td>0</td>\n",
       "      <td>0</td>\n",
       "      <td>0</td>\n",
       "      <td>0</td>\n",
       "    </tr>\n",
       "    <tr>\n",
       "      <th>50</th>\n",
       "      <td>50</td>\n",
       "      <td>50</td>\n",
       "      <td>3</td>\n",
       "      <td>male</td>\n",
       "      <td>4</td>\n",
       "      <td>1</td>\n",
       "      <td>39.6875</td>\n",
       "      <td>Southampton</td>\n",
       "      <td>0</td>\n",
       "      <td>0</td>\n",
       "      <td>1</td>\n",
       "      <td>1</td>\n",
       "      <td>0</td>\n",
       "      <td>1</td>\n",
       "    </tr>\n",
       "    <tr>\n",
       "      <th>218</th>\n",
       "      <td>218</td>\n",
       "      <td>218</td>\n",
       "      <td>1</td>\n",
       "      <td>female</td>\n",
       "      <td>0</td>\n",
       "      <td>0</td>\n",
       "      <td>76.2917</td>\n",
       "      <td>Cherbourg</td>\n",
       "      <td>1</td>\n",
       "      <td>0</td>\n",
       "      <td>0</td>\n",
       "      <td>0</td>\n",
       "      <td>0</td>\n",
       "      <td>0</td>\n",
       "    </tr>\n",
       "    <tr>\n",
       "      <th>31</th>\n",
       "      <td>31</td>\n",
       "      <td>31</td>\n",
       "      <td>1</td>\n",
       "      <td>female</td>\n",
       "      <td>1</td>\n",
       "      <td>0</td>\n",
       "      <td>146.5208</td>\n",
       "      <td>Cherbourg</td>\n",
       "      <td>0</td>\n",
       "      <td>0</td>\n",
       "      <td>0</td>\n",
       "      <td>0</td>\n",
       "      <td>0</td>\n",
       "      <td>0</td>\n",
       "    </tr>\n",
       "  </tbody>\n",
       "</table>\n",
       "</div>"
      ],
      "text/plain": [
       "     Unnamed: 0  passenger_id  pclass     sex  sibsp  parch      fare  \\\n",
       "583         583           583       1    male      0      0   40.1250   \n",
       "337         337           337       1  female      0      0  134.5000   \n",
       "50           50            50       3    male      4      1   39.6875   \n",
       "218         218           218       1  female      0      0   76.2917   \n",
       "31           31            31       1  female      1      0  146.5208   \n",
       "\n",
       "     embark_town  alone  Q  S  sex_male  embark_town_Queenstown  \\\n",
       "583    Cherbourg      1  0  0         1                       0   \n",
       "337    Cherbourg      1  0  0         0                       0   \n",
       "50   Southampton      0  0  1         1                       0   \n",
       "218    Cherbourg      1  0  0         0                       0   \n",
       "31     Cherbourg      0  0  0         0                       0   \n",
       "\n",
       "     embark_town_Southampton  \n",
       "583                        0  \n",
       "337                        0  \n",
       "50                         1  \n",
       "218                        0  \n",
       "31                         0  "
      ]
     },
     "execution_count": 9,
     "metadata": {},
     "output_type": "execute_result"
    }
   ],
   "source": [
    "X_train.head()"
   ]
  },
  {
   "cell_type": "code",
   "execution_count": 10,
   "id": "00a0175a",
   "metadata": {},
   "outputs": [],
   "source": [
    "X_train = X_train.drop(['sex', 'embark_town'], axis=1)"
   ]
  },
  {
   "cell_type": "code",
   "execution_count": 11,
   "id": "7fe9249c",
   "metadata": {},
   "outputs": [
    {
     "data": {
      "text/plain": [
       "583    0\n",
       "337    1\n",
       "50     0\n",
       "218    1\n",
       "31     1\n",
       "Name: survived, dtype: int64"
      ]
     },
     "execution_count": 11,
     "metadata": {},
     "output_type": "execute_result"
    }
   ],
   "source": [
    "y_train.head()"
   ]
  },
  {
   "cell_type": "markdown",
   "id": "6a7de886",
   "metadata": {},
   "source": [
    "### What is your baseline prediction?"
   ]
  },
  {
   "cell_type": "code",
   "execution_count": 12,
   "id": "537fabe5",
   "metadata": {},
   "outputs": [
    {
     "data": {
      "text/plain": [
       "0    307\n",
       "1    190\n",
       "Name: survived, dtype: int64"
      ]
     },
     "execution_count": 12,
     "metadata": {},
     "output_type": "execute_result"
    }
   ],
   "source": [
    "train.survived.value_counts()"
   ]
  },
  {
   "cell_type": "markdown",
   "id": "614e607d",
   "metadata": {},
   "source": [
    "As we can see above, the majority of passengers died, so our baseline assumption is that all passengers died."
   ]
  },
  {
   "cell_type": "markdown",
   "id": "2c0104b7",
   "metadata": {},
   "source": [
    "### What is your baseline accuracy"
   ]
  },
  {
   "cell_type": "markdown",
   "id": "f9d7eae0",
   "metadata": {},
   "source": [
    "Create the object."
   ]
  },
  {
   "cell_type": "code",
   "execution_count": 13,
   "id": "35d52326",
   "metadata": {},
   "outputs": [],
   "source": [
    "model = DummyClassifier(strategy='constant', constant=0)"
   ]
  },
  {
   "cell_type": "markdown",
   "id": "ddbf7a36",
   "metadata": {},
   "source": [
    "Fit the object."
   ]
  },
  {
   "cell_type": "code",
   "execution_count": 14,
   "id": "d6095b38",
   "metadata": {},
   "outputs": [
    {
     "data": {
      "text/plain": [
       "DummyClassifier(constant=0, strategy='constant')"
      ]
     },
     "execution_count": 14,
     "metadata": {},
     "output_type": "execute_result"
    }
   ],
   "source": [
    "model.fit(X_train, y_train)"
   ]
  },
  {
   "cell_type": "code",
   "execution_count": 15,
   "id": "d0d9d458",
   "metadata": {
    "scrolled": true
   },
   "outputs": [
    {
     "name": "stdout",
     "output_type": "stream",
     "text": [
      "Training accuracy: 0.62\n"
     ]
    }
   ],
   "source": [
    "accuracy = round(model.score(X_train, y_train), 2)\n",
    "print(f'Training accuracy: {accuracy}')"
   ]
  },
  {
   "cell_type": "markdown",
   "id": "e7a6cafc",
   "metadata": {},
   "source": [
    "### Fit the decision tree classifier to your training sample and transform"
   ]
  },
  {
   "cell_type": "code",
   "execution_count": 16,
   "id": "0d1d7690",
   "metadata": {},
   "outputs": [],
   "source": [
    "from sklearn.model_selection import train_test_split\n",
    "from sklearn.tree import DecisionTreeClassifier\n",
    "from sklearn.tree import export_graphviz\n",
    "from sklearn.metrics import classification_report\n",
    "from sklearn.metrics import confusion_matrix\n",
    "import graphviz\n",
    "from graphviz import Graph\n",
    "from sklearn import tree\n",
    "import numpy\n",
    "from sklearn.metrics import accuracy_score\n",
    "from sklearn.metrics import precision_score\n",
    "from sklearn.metrics import recall_score\n",
    "from sklearn.metrics import f1_score"
   ]
  },
  {
   "cell_type": "code",
   "execution_count": 17,
   "id": "cf99e714",
   "metadata": {},
   "outputs": [],
   "source": [
    "clf1 = DecisionTreeClassifier(max_depth=3, random_state=123)"
   ]
  },
  {
   "cell_type": "code",
   "execution_count": 18,
   "id": "dfe95284",
   "metadata": {},
   "outputs": [],
   "source": [
    "clf1 = clf1.fit(X_train, y_train)"
   ]
  },
  {
   "cell_type": "code",
   "execution_count": 19,
   "id": "88bef5b7",
   "metadata": {},
   "outputs": [
    {
     "data": {
      "text/plain": [
       "DecisionTreeClassifier(max_depth=3, random_state=123)"
      ]
     },
     "execution_count": 19,
     "metadata": {},
     "output_type": "execute_result"
    }
   ],
   "source": [
    "clf1"
   ]
  },
  {
   "cell_type": "code",
   "execution_count": 20,
   "id": "ac01430b",
   "metadata": {},
   "outputs": [
    {
     "data": {
      "text/plain": [
       "'titanic_tree.pdf'"
      ]
     },
     "execution_count": 20,
     "metadata": {},
     "output_type": "execute_result"
    }
   ],
   "source": [
    "dot_data = export_graphviz(clf1, feature_names= X_train.columns, rounded=True, filled=True, out_file=None)\n",
    "graph = graphviz.Source(dot_data) \n",
    "\n",
    "graph.render('titanic_tree', view=True)"
   ]
  },
  {
   "cell_type": "code",
   "execution_count": 21,
   "id": "f1335f00",
   "metadata": {},
   "outputs": [],
   "source": [
    "y_pred = clf1.predict(X_train)"
   ]
  },
  {
   "cell_type": "code",
   "execution_count": 22,
   "id": "ce63ed1d",
   "metadata": {},
   "outputs": [],
   "source": [
    "y_pred_proba = clf1.predict_proba(X_train)"
   ]
  },
  {
   "cell_type": "code",
   "execution_count": 23,
   "id": "3103da33",
   "metadata": {
    "scrolled": true
   },
   "outputs": [
    {
     "data": {
      "text/html": [
       "<div>\n",
       "<style scoped>\n",
       "    .dataframe tbody tr th:only-of-type {\n",
       "        vertical-align: middle;\n",
       "    }\n",
       "\n",
       "    .dataframe tbody tr th {\n",
       "        vertical-align: top;\n",
       "    }\n",
       "\n",
       "    .dataframe thead th {\n",
       "        text-align: right;\n",
       "    }\n",
       "</style>\n",
       "<table border=\"1\" class=\"dataframe\">\n",
       "  <thead>\n",
       "    <tr style=\"text-align: right;\">\n",
       "      <th></th>\n",
       "      <th>0</th>\n",
       "      <th>1</th>\n",
       "    </tr>\n",
       "  </thead>\n",
       "  <tbody>\n",
       "    <tr>\n",
       "      <th>0</th>\n",
       "      <td>0.525424</td>\n",
       "      <td>0.474576</td>\n",
       "    </tr>\n",
       "    <tr>\n",
       "      <th>1</th>\n",
       "      <td>0.012821</td>\n",
       "      <td>0.987179</td>\n",
       "    </tr>\n",
       "    <tr>\n",
       "      <th>2</th>\n",
       "      <td>0.722222</td>\n",
       "      <td>0.277778</td>\n",
       "    </tr>\n",
       "    <tr>\n",
       "      <th>3</th>\n",
       "      <td>0.012821</td>\n",
       "      <td>0.987179</td>\n",
       "    </tr>\n",
       "    <tr>\n",
       "      <th>4</th>\n",
       "      <td>0.187500</td>\n",
       "      <td>0.812500</td>\n",
       "    </tr>\n",
       "  </tbody>\n",
       "</table>\n",
       "</div>"
      ],
      "text/plain": [
       "          0         1\n",
       "0  0.525424  0.474576\n",
       "1  0.012821  0.987179\n",
       "2  0.722222  0.277778\n",
       "3  0.012821  0.987179\n",
       "4  0.187500  0.812500"
      ]
     },
     "execution_count": 23,
     "metadata": {},
     "output_type": "execute_result"
    }
   ],
   "source": [
    "y_probability = pd.DataFrame(y_pred_proba)\n",
    "y_probability.head()"
   ]
  },
  {
   "cell_type": "markdown",
   "id": "3a1c8313",
   "metadata": {},
   "source": [
    "### Evaluate your in-sample results using the model score, confusion matrix, and classification report."
   ]
  },
  {
   "cell_type": "markdown",
   "id": "ba16c3b2",
   "metadata": {},
   "source": [
    "**Accuracy Score**"
   ]
  },
  {
   "cell_type": "code",
   "execution_count": 24,
   "id": "81c444f8",
   "metadata": {},
   "outputs": [
    {
     "name": "stdout",
     "output_type": "stream",
     "text": [
      "Accuracy of Decision Tree classifier on training set: 0.81\n"
     ]
    }
   ],
   "source": [
    "print('Accuracy of Decision Tree classifier on training set: {:.2f}'\n",
    "      .format(clf1.score(X_train, y_train)))"
   ]
  },
  {
   "cell_type": "markdown",
   "id": "dc54e77f",
   "metadata": {},
   "source": [
    "**Confusion Matrix**"
   ]
  },
  {
   "cell_type": "code",
   "execution_count": 25,
   "id": "3e6f8780",
   "metadata": {},
   "outputs": [
    {
     "data": {
      "text/plain": [
       "array([[279,  28],\n",
       "       [ 66, 124]])"
      ]
     },
     "execution_count": 25,
     "metadata": {},
     "output_type": "execute_result"
    }
   ],
   "source": [
    "confusion_matrix(y_train, y_pred)"
   ]
  },
  {
   "cell_type": "code",
   "execution_count": 26,
   "id": "4ca364c0",
   "metadata": {},
   "outputs": [
    {
     "data": {
      "text/plain": [
       "0    307\n",
       "1    190\n",
       "Name: survived, dtype: int64"
      ]
     },
     "execution_count": 26,
     "metadata": {},
     "output_type": "execute_result"
    }
   ],
   "source": [
    "y_train.value_counts()"
   ]
  },
  {
   "cell_type": "code",
   "execution_count": 27,
   "id": "7a401821",
   "metadata": {},
   "outputs": [
    {
     "data": {
      "text/html": [
       "<div>\n",
       "<style scoped>\n",
       "    .dataframe tbody tr th:only-of-type {\n",
       "        vertical-align: middle;\n",
       "    }\n",
       "\n",
       "    .dataframe tbody tr th {\n",
       "        vertical-align: top;\n",
       "    }\n",
       "\n",
       "    .dataframe thead th {\n",
       "        text-align: right;\n",
       "    }\n",
       "</style>\n",
       "<table border=\"1\" class=\"dataframe\">\n",
       "  <thead>\n",
       "    <tr style=\"text-align: right;\">\n",
       "      <th></th>\n",
       "      <th>died_predict</th>\n",
       "      <th>survived_predict</th>\n",
       "    </tr>\n",
       "  </thead>\n",
       "  <tbody>\n",
       "    <tr>\n",
       "      <th>died_actual</th>\n",
       "      <td>279</td>\n",
       "      <td>28</td>\n",
       "    </tr>\n",
       "    <tr>\n",
       "      <th>survived_actual</th>\n",
       "      <td>66</td>\n",
       "      <td>124</td>\n",
       "    </tr>\n",
       "  </tbody>\n",
       "</table>\n",
       "</div>"
      ],
      "text/plain": [
       "                 died_predict  survived_predict\n",
       "died_actual               279                28\n",
       "survived_actual            66               124"
      ]
     },
     "execution_count": 27,
     "metadata": {},
     "output_type": "execute_result"
    }
   ],
   "source": [
    "labels1 = ['died_actual', 'survived_actual']\n",
    "labels2 = ['died_predict', 'survived_predict']\n",
    "\n",
    "pd.DataFrame(confusion_matrix(y_train, y_pred), index=labels1, columns=labels2)"
   ]
  },
  {
   "cell_type": "markdown",
   "id": "dc0c06d8",
   "metadata": {},
   "source": [
    "**Classification report**"
   ]
  },
  {
   "cell_type": "code",
   "execution_count": 28,
   "id": "d5caec67",
   "metadata": {},
   "outputs": [],
   "source": [
    "report_train_depth_three = classification_report(y_train, y_pred, output_dict = True)"
   ]
  },
  {
   "cell_type": "code",
   "execution_count": 29,
   "id": "4209fa0c",
   "metadata": {},
   "outputs": [],
   "source": [
    "df_report_train_depth_three = pd.DataFrame(report_train_depth_three).T"
   ]
  },
  {
   "cell_type": "code",
   "execution_count": 30,
   "id": "ba756fe6",
   "metadata": {},
   "outputs": [
    {
     "data": {
      "text/html": [
       "<div>\n",
       "<style scoped>\n",
       "    .dataframe tbody tr th:only-of-type {\n",
       "        vertical-align: middle;\n",
       "    }\n",
       "\n",
       "    .dataframe tbody tr th {\n",
       "        vertical-align: top;\n",
       "    }\n",
       "\n",
       "    .dataframe thead th {\n",
       "        text-align: right;\n",
       "    }\n",
       "</style>\n",
       "<table border=\"1\" class=\"dataframe\">\n",
       "  <thead>\n",
       "    <tr style=\"text-align: right;\">\n",
       "      <th></th>\n",
       "      <th>precision</th>\n",
       "      <th>recall</th>\n",
       "      <th>f1-score</th>\n",
       "      <th>support</th>\n",
       "    </tr>\n",
       "  </thead>\n",
       "  <tbody>\n",
       "    <tr>\n",
       "      <th>0</th>\n",
       "      <td>0.808696</td>\n",
       "      <td>0.908795</td>\n",
       "      <td>0.855828</td>\n",
       "      <td>307.000000</td>\n",
       "    </tr>\n",
       "    <tr>\n",
       "      <th>1</th>\n",
       "      <td>0.815789</td>\n",
       "      <td>0.652632</td>\n",
       "      <td>0.725146</td>\n",
       "      <td>190.000000</td>\n",
       "    </tr>\n",
       "    <tr>\n",
       "      <th>accuracy</th>\n",
       "      <td>0.810865</td>\n",
       "      <td>0.810865</td>\n",
       "      <td>0.810865</td>\n",
       "      <td>0.810865</td>\n",
       "    </tr>\n",
       "    <tr>\n",
       "      <th>macro avg</th>\n",
       "      <td>0.812243</td>\n",
       "      <td>0.780713</td>\n",
       "      <td>0.790487</td>\n",
       "      <td>497.000000</td>\n",
       "    </tr>\n",
       "    <tr>\n",
       "      <th>weighted avg</th>\n",
       "      <td>0.811408</td>\n",
       "      <td>0.810865</td>\n",
       "      <td>0.805869</td>\n",
       "      <td>497.000000</td>\n",
       "    </tr>\n",
       "  </tbody>\n",
       "</table>\n",
       "</div>"
      ],
      "text/plain": [
       "              precision    recall  f1-score     support\n",
       "0              0.808696  0.908795  0.855828  307.000000\n",
       "1              0.815789  0.652632  0.725146  190.000000\n",
       "accuracy       0.810865  0.810865  0.810865    0.810865\n",
       "macro avg      0.812243  0.780713  0.790487  497.000000\n",
       "weighted avg   0.811408  0.810865  0.805869  497.000000"
      ]
     },
     "execution_count": 30,
     "metadata": {},
     "output_type": "execute_result"
    }
   ],
   "source": [
    "df_report_train_depth_three"
   ]
  },
  {
   "cell_type": "markdown",
   "id": "9b0b236b",
   "metadata": {},
   "source": [
    "### Now we'll take a look at the validate model."
   ]
  },
  {
   "cell_type": "markdown",
   "id": "ef5b2002",
   "metadata": {},
   "source": [
    "**Clean the data**"
   ]
  },
  {
   "cell_type": "code",
   "execution_count": 31,
   "id": "fb146511",
   "metadata": {},
   "outputs": [],
   "source": [
    "X_validate = clean_data(X_validate)"
   ]
  },
  {
   "cell_type": "code",
   "execution_count": 32,
   "id": "d1f5e84e",
   "metadata": {},
   "outputs": [],
   "source": [
    "X_validate = X_validate.drop(['sex', 'embark_town'], axis=1)"
   ]
  },
  {
   "cell_type": "markdown",
   "id": "bc60a262",
   "metadata": {},
   "source": [
    "**Accuracy Score**"
   ]
  },
  {
   "cell_type": "code",
   "execution_count": 33,
   "id": "ba101a11",
   "metadata": {},
   "outputs": [],
   "source": [
    "y_pred_validate_depth_three = clf1.predict(X_validate)"
   ]
  },
  {
   "cell_type": "code",
   "execution_count": 34,
   "id": "d38d1772",
   "metadata": {},
   "outputs": [
    {
     "name": "stdout",
     "output_type": "stream",
     "text": [
      "Accuracy of Decision Tree classifier on training set: 0.79\n"
     ]
    }
   ],
   "source": [
    "print('Accuracy of Decision Tree classifier on training set: {:.2f}'\n",
    "      .format(clf1.score(X_validate, y_validate)))"
   ]
  },
  {
   "cell_type": "markdown",
   "id": "c8ea844b",
   "metadata": {},
   "source": [
    "**Confusion Matrix**"
   ]
  },
  {
   "cell_type": "code",
   "execution_count": 35,
   "id": "34f6ef9d",
   "metadata": {},
   "outputs": [
    {
     "data": {
      "text/html": [
       "<div>\n",
       "<style scoped>\n",
       "    .dataframe tbody tr th:only-of-type {\n",
       "        vertical-align: middle;\n",
       "    }\n",
       "\n",
       "    .dataframe tbody tr th {\n",
       "        vertical-align: top;\n",
       "    }\n",
       "\n",
       "    .dataframe thead th {\n",
       "        text-align: right;\n",
       "    }\n",
       "</style>\n",
       "<table border=\"1\" class=\"dataframe\">\n",
       "  <thead>\n",
       "    <tr style=\"text-align: right;\">\n",
       "      <th></th>\n",
       "      <th>died_predict</th>\n",
       "      <th>survived_predict</th>\n",
       "    </tr>\n",
       "  </thead>\n",
       "  <tbody>\n",
       "    <tr>\n",
       "      <th>died_actual</th>\n",
       "      <td>117</td>\n",
       "      <td>15</td>\n",
       "    </tr>\n",
       "    <tr>\n",
       "      <th>survived_actual</th>\n",
       "      <td>30</td>\n",
       "      <td>52</td>\n",
       "    </tr>\n",
       "  </tbody>\n",
       "</table>\n",
       "</div>"
      ],
      "text/plain": [
       "                 died_predict  survived_predict\n",
       "died_actual               117                15\n",
       "survived_actual            30                52"
      ]
     },
     "execution_count": 35,
     "metadata": {},
     "output_type": "execute_result"
    }
   ],
   "source": [
    "labels1 = ['died_actual', 'survived_actual']\n",
    "labels2 = ['died_predict', 'survived_predict']\n",
    "\n",
    "pd.DataFrame(confusion_matrix(y_validate, y_pred_validate_depth_three), index=labels1, columns=labels2)"
   ]
  },
  {
   "cell_type": "markdown",
   "id": "dc0161e9",
   "metadata": {},
   "source": [
    "**Create a classification table**"
   ]
  },
  {
   "cell_type": "code",
   "execution_count": 36,
   "id": "82a472fa",
   "metadata": {},
   "outputs": [],
   "source": [
    "report_validate_depth_three = classification_report(y_validate, y_pred_validate_depth_three, output_dict = True)"
   ]
  },
  {
   "cell_type": "code",
   "execution_count": 37,
   "id": "c001ed66",
   "metadata": {},
   "outputs": [],
   "source": [
    "df_report_validate_depth_three = pd.DataFrame(report_validate_depth_three).T"
   ]
  },
  {
   "cell_type": "code",
   "execution_count": 38,
   "id": "646979a4",
   "metadata": {},
   "outputs": [
    {
     "data": {
      "text/html": [
       "<div>\n",
       "<style scoped>\n",
       "    .dataframe tbody tr th:only-of-type {\n",
       "        vertical-align: middle;\n",
       "    }\n",
       "\n",
       "    .dataframe tbody tr th {\n",
       "        vertical-align: top;\n",
       "    }\n",
       "\n",
       "    .dataframe thead th {\n",
       "        text-align: right;\n",
       "    }\n",
       "</style>\n",
       "<table border=\"1\" class=\"dataframe\">\n",
       "  <thead>\n",
       "    <tr style=\"text-align: right;\">\n",
       "      <th></th>\n",
       "      <th>precision</th>\n",
       "      <th>recall</th>\n",
       "      <th>f1-score</th>\n",
       "      <th>support</th>\n",
       "    </tr>\n",
       "  </thead>\n",
       "  <tbody>\n",
       "    <tr>\n",
       "      <th>0</th>\n",
       "      <td>0.795918</td>\n",
       "      <td>0.886364</td>\n",
       "      <td>0.838710</td>\n",
       "      <td>132.00000</td>\n",
       "    </tr>\n",
       "    <tr>\n",
       "      <th>1</th>\n",
       "      <td>0.776119</td>\n",
       "      <td>0.634146</td>\n",
       "      <td>0.697987</td>\n",
       "      <td>82.00000</td>\n",
       "    </tr>\n",
       "    <tr>\n",
       "      <th>accuracy</th>\n",
       "      <td>0.789720</td>\n",
       "      <td>0.789720</td>\n",
       "      <td>0.789720</td>\n",
       "      <td>0.78972</td>\n",
       "    </tr>\n",
       "    <tr>\n",
       "      <th>macro avg</th>\n",
       "      <td>0.786019</td>\n",
       "      <td>0.760255</td>\n",
       "      <td>0.768348</td>\n",
       "      <td>214.00000</td>\n",
       "    </tr>\n",
       "    <tr>\n",
       "      <th>weighted avg</th>\n",
       "      <td>0.788332</td>\n",
       "      <td>0.789720</td>\n",
       "      <td>0.784788</td>\n",
       "      <td>214.00000</td>\n",
       "    </tr>\n",
       "  </tbody>\n",
       "</table>\n",
       "</div>"
      ],
      "text/plain": [
       "              precision    recall  f1-score    support\n",
       "0              0.795918  0.886364  0.838710  132.00000\n",
       "1              0.776119  0.634146  0.697987   82.00000\n",
       "accuracy       0.789720  0.789720  0.789720    0.78972\n",
       "macro avg      0.786019  0.760255  0.768348  214.00000\n",
       "weighted avg   0.788332  0.789720  0.784788  214.00000"
      ]
     },
     "execution_count": 38,
     "metadata": {},
     "output_type": "execute_result"
    }
   ],
   "source": [
    "df_report_validate_depth_three"
   ]
  },
  {
   "cell_type": "markdown",
   "id": "540c5694",
   "metadata": {},
   "source": [
    "### Compute: Accuracy, true positive rate, false positive rate, true negative rate, false negative rate, precision, recall, f1-score, and support."
   ]
  },
  {
   "cell_type": "markdown",
   "id": "8474f115",
   "metadata": {},
   "source": [
    "**Accuracy**"
   ]
  },
  {
   "cell_type": "code",
   "execution_count": 39,
   "id": "9dd6ce8e",
   "metadata": {},
   "outputs": [
    {
     "data": {
      "text/plain": [
       "0.8108651911468813"
      ]
     },
     "execution_count": 39,
     "metadata": {},
     "output_type": "execute_result"
    }
   ],
   "source": [
    "model_accuracy = accuracy_score(y_train, y_pred)\n",
    "model_accuracy"
   ]
  },
  {
   "cell_type": "markdown",
   "id": "63c4c73f",
   "metadata": {},
   "source": [
    "**True Positive Rate**"
   ]
  },
  {
   "cell_type": "code",
   "execution_count": 40,
   "id": "42e7b2f2",
   "metadata": {},
   "outputs": [],
   "source": [
    "true_positive = 128 \n",
    "false_negative = 62\n",
    "true_negative = 279\n",
    "false_positive = 28"
   ]
  },
  {
   "cell_type": "code",
   "execution_count": 41,
   "id": "2d8963f1",
   "metadata": {},
   "outputs": [
    {
     "data": {
      "text/plain": [
       "0.6736842105263158"
      ]
     },
     "execution_count": 41,
     "metadata": {},
     "output_type": "execute_result"
    }
   ],
   "source": [
    "true_positive_rate = (true_positive)/(true_positive + false_negative)\n",
    "true_positive_rate"
   ]
  },
  {
   "cell_type": "markdown",
   "id": "7dac863d",
   "metadata": {},
   "source": [
    "**False Positive Rate**"
   ]
  },
  {
   "cell_type": "code",
   "execution_count": 42,
   "id": "b9a386db",
   "metadata": {},
   "outputs": [
    {
     "data": {
      "text/plain": [
       "0.09120521172638436"
      ]
     },
     "execution_count": 42,
     "metadata": {},
     "output_type": "execute_result"
    }
   ],
   "source": [
    "false_positive_rate = (false_positive)/(false_positive+true_negative)\n",
    "false_positive_rate"
   ]
  },
  {
   "cell_type": "markdown",
   "id": "b3bb6427",
   "metadata": {},
   "source": [
    "**True Negative Rate**"
   ]
  },
  {
   "cell_type": "code",
   "execution_count": 43,
   "id": "b47eb1b0",
   "metadata": {},
   "outputs": [
    {
     "data": {
      "text/plain": [
       "0.9087947882736156"
      ]
     },
     "execution_count": 43,
     "metadata": {},
     "output_type": "execute_result"
    }
   ],
   "source": [
    "true_negative_rate = (true_negative)/(true_negative + false_positive)\n",
    "true_negative_rate"
   ]
  },
  {
   "cell_type": "markdown",
   "id": "e6f41a61",
   "metadata": {},
   "source": [
    "**False Negative Rate**"
   ]
  },
  {
   "cell_type": "code",
   "execution_count": 44,
   "id": "f9f2e6ab",
   "metadata": {},
   "outputs": [
    {
     "data": {
      "text/plain": [
       "0.3263157894736842"
      ]
     },
     "execution_count": 44,
     "metadata": {},
     "output_type": "execute_result"
    }
   ],
   "source": [
    "false_negative_rate = (false_negative)/(false_negative + true_positive)\n",
    "false_negative_rate"
   ]
  },
  {
   "cell_type": "markdown",
   "id": "19254a41",
   "metadata": {},
   "source": [
    "**Precision**"
   ]
  },
  {
   "cell_type": "code",
   "execution_count": 45,
   "id": "95bdb070",
   "metadata": {},
   "outputs": [
    {
     "data": {
      "text/plain": [
       "0.8157894736842105"
      ]
     },
     "execution_count": 45,
     "metadata": {},
     "output_type": "execute_result"
    }
   ],
   "source": [
    "model_precision = precision_score(y_train, y_pred, pos_label= 1)\n",
    "model_precision"
   ]
  },
  {
   "cell_type": "markdown",
   "id": "97fd302b",
   "metadata": {},
   "source": [
    "**Recall**"
   ]
  },
  {
   "cell_type": "code",
   "execution_count": 46,
   "id": "a4bce48d",
   "metadata": {},
   "outputs": [
    {
     "data": {
      "text/plain": [
       "0.6526315789473685"
      ]
     },
     "execution_count": 46,
     "metadata": {},
     "output_type": "execute_result"
    }
   ],
   "source": [
    "model_recall = recall_score(y_train, y_pred, pos_label = 1)\n",
    "model_recall"
   ]
  },
  {
   "cell_type": "markdown",
   "id": "be6c2fb6",
   "metadata": {},
   "source": [
    "**f-1 score**"
   ]
  },
  {
   "cell_type": "code",
   "execution_count": 47,
   "id": "06e51ff1",
   "metadata": {},
   "outputs": [
    {
     "data": {
      "text/plain": [
       "array([0.85582822, 0.7251462 ])"
      ]
     },
     "execution_count": 47,
     "metadata": {},
     "output_type": "execute_result"
    }
   ],
   "source": [
    "model_f1_score = f1_score(y_train, y_pred, average=None)\n",
    "model_f1_score"
   ]
  },
  {
   "cell_type": "markdown",
   "id": "020b60f3",
   "metadata": {},
   "source": [
    "**Support**"
   ]
  },
  {
   "cell_type": "code",
   "execution_count": 48,
   "id": "4ef49cfd",
   "metadata": {},
   "outputs": [
    {
     "data": {
      "text/plain": [
       "0    307\n",
       "1    190\n",
       "Name: survived, dtype: int64"
      ]
     },
     "execution_count": 48,
     "metadata": {},
     "output_type": "execute_result"
    }
   ],
   "source": [
    "y_train.value_counts()"
   ]
  },
  {
   "cell_type": "code",
   "execution_count": 49,
   "id": "28da756f",
   "metadata": {},
   "outputs": [],
   "source": [
    "y_pred_df = pd.DataFrame(y_pred)"
   ]
  },
  {
   "cell_type": "code",
   "execution_count": 50,
   "id": "3fd9097f",
   "metadata": {},
   "outputs": [
    {
     "data": {
      "text/html": [
       "<div>\n",
       "<style scoped>\n",
       "    .dataframe tbody tr th:only-of-type {\n",
       "        vertical-align: middle;\n",
       "    }\n",
       "\n",
       "    .dataframe tbody tr th {\n",
       "        vertical-align: top;\n",
       "    }\n",
       "\n",
       "    .dataframe thead th {\n",
       "        text-align: right;\n",
       "    }\n",
       "</style>\n",
       "<table border=\"1\" class=\"dataframe\">\n",
       "  <thead>\n",
       "    <tr style=\"text-align: right;\">\n",
       "      <th></th>\n",
       "      <th>0</th>\n",
       "    </tr>\n",
       "  </thead>\n",
       "  <tbody>\n",
       "    <tr>\n",
       "      <th>0</th>\n",
       "      <td>0</td>\n",
       "    </tr>\n",
       "    <tr>\n",
       "      <th>1</th>\n",
       "      <td>1</td>\n",
       "    </tr>\n",
       "    <tr>\n",
       "      <th>2</th>\n",
       "      <td>0</td>\n",
       "    </tr>\n",
       "    <tr>\n",
       "      <th>3</th>\n",
       "      <td>1</td>\n",
       "    </tr>\n",
       "    <tr>\n",
       "      <th>4</th>\n",
       "      <td>1</td>\n",
       "    </tr>\n",
       "  </tbody>\n",
       "</table>\n",
       "</div>"
      ],
      "text/plain": [
       "   0\n",
       "0  0\n",
       "1  1\n",
       "2  0\n",
       "3  1\n",
       "4  1"
      ]
     },
     "execution_count": 50,
     "metadata": {},
     "output_type": "execute_result"
    }
   ],
   "source": [
    "y_pred_df.head()"
   ]
  },
  {
   "cell_type": "code",
   "execution_count": 51,
   "id": "43ffd700",
   "metadata": {},
   "outputs": [
    {
     "data": {
      "text/plain": [
       "345"
      ]
     },
     "execution_count": 51,
     "metadata": {},
     "output_type": "execute_result"
    }
   ],
   "source": [
    "y0 = y_pred_df[y_pred_df[0] == 0]\n",
    "y0.size"
   ]
  },
  {
   "cell_type": "code",
   "execution_count": 52,
   "id": "3a407cc8",
   "metadata": {},
   "outputs": [
    {
     "data": {
      "text/plain": [
       "152"
      ]
     },
     "execution_count": 52,
     "metadata": {},
     "output_type": "execute_result"
    }
   ],
   "source": [
    "y1 = y_pred_df[y_pred_df[0] == 1]\n",
    "y1.size"
   ]
  },
  {
   "cell_type": "markdown",
   "id": "cc7d74d9",
   "metadata": {},
   "source": [
    "## Run through steps 2-4 using a different max_depth value."
   ]
  },
  {
   "cell_type": "markdown",
   "id": "67457baa",
   "metadata": {},
   "source": [
    "### Training data"
   ]
  },
  {
   "cell_type": "code",
   "execution_count": 53,
   "id": "30b72810",
   "metadata": {},
   "outputs": [],
   "source": [
    "clf2 = DecisionTreeClassifier(max_depth=4, random_state=123)"
   ]
  },
  {
   "cell_type": "code",
   "execution_count": 54,
   "id": "f4cf7bcb",
   "metadata": {},
   "outputs": [],
   "source": [
    "clf2 = clf2.fit(X_train, y_train)"
   ]
  },
  {
   "cell_type": "code",
   "execution_count": 55,
   "id": "d5981a0b",
   "metadata": {},
   "outputs": [],
   "source": [
    "y_pred_train_depth_4 = clf2.predict(X_train)"
   ]
  },
  {
   "cell_type": "code",
   "execution_count": 56,
   "id": "8bb0475b",
   "metadata": {},
   "outputs": [],
   "source": [
    "y_pred_proba = clf2.predict_proba(X_train)"
   ]
  },
  {
   "cell_type": "code",
   "execution_count": 57,
   "id": "a0d2e9c9",
   "metadata": {},
   "outputs": [],
   "source": [
    "y_probability = pd.DataFrame(y_pred_proba)"
   ]
  },
  {
   "cell_type": "markdown",
   "id": "ecddb3a7",
   "metadata": {},
   "source": [
    "**Training data accuracy score**"
   ]
  },
  {
   "cell_type": "code",
   "execution_count": 58,
   "id": "930c98d6",
   "metadata": {},
   "outputs": [
    {
     "name": "stdout",
     "output_type": "stream",
     "text": [
      "Accuracy of Decision Tree classifier on training set: 0.85\n"
     ]
    }
   ],
   "source": [
    "print('Accuracy of Decision Tree classifier on training set: {:.2f}'\n",
    "      .format(clf2.score(X_train, y_train)))"
   ]
  },
  {
   "cell_type": "markdown",
   "id": "3b47c217",
   "metadata": {},
   "source": [
    "**Traininig data confusion matrix**"
   ]
  },
  {
   "cell_type": "code",
   "execution_count": 59,
   "id": "ac6eac1e",
   "metadata": {},
   "outputs": [
    {
     "data": {
      "text/plain": [
       "array([[283,  24],\n",
       "       [ 53, 137]])"
      ]
     },
     "execution_count": 59,
     "metadata": {},
     "output_type": "execute_result"
    }
   ],
   "source": [
    "confusion_matrix(y_train, y_pred_train_depth_4)"
   ]
  },
  {
   "cell_type": "code",
   "execution_count": 60,
   "id": "4fa38f70",
   "metadata": {},
   "outputs": [
    {
     "data": {
      "text/html": [
       "<div>\n",
       "<style scoped>\n",
       "    .dataframe tbody tr th:only-of-type {\n",
       "        vertical-align: middle;\n",
       "    }\n",
       "\n",
       "    .dataframe tbody tr th {\n",
       "        vertical-align: top;\n",
       "    }\n",
       "\n",
       "    .dataframe thead th {\n",
       "        text-align: right;\n",
       "    }\n",
       "</style>\n",
       "<table border=\"1\" class=\"dataframe\">\n",
       "  <thead>\n",
       "    <tr style=\"text-align: right;\">\n",
       "      <th></th>\n",
       "      <th>died_predict</th>\n",
       "      <th>survived_predict</th>\n",
       "    </tr>\n",
       "  </thead>\n",
       "  <tbody>\n",
       "    <tr>\n",
       "      <th>died_actual</th>\n",
       "      <td>283</td>\n",
       "      <td>24</td>\n",
       "    </tr>\n",
       "    <tr>\n",
       "      <th>survived_actual</th>\n",
       "      <td>53</td>\n",
       "      <td>137</td>\n",
       "    </tr>\n",
       "  </tbody>\n",
       "</table>\n",
       "</div>"
      ],
      "text/plain": [
       "                 died_predict  survived_predict\n",
       "died_actual               283                24\n",
       "survived_actual            53               137"
      ]
     },
     "execution_count": 60,
     "metadata": {},
     "output_type": "execute_result"
    }
   ],
   "source": [
    "labels1 = ['died_actual', 'survived_actual']\n",
    "labels2 = ['died_predict', 'survived_predict']\n",
    "\n",
    "pd.DataFrame(confusion_matrix(y_train, y_pred_train_depth_4), index=labels1, columns=labels2)"
   ]
  },
  {
   "cell_type": "markdown",
   "id": "388bff7e",
   "metadata": {},
   "source": [
    "**Training Data Classification Report**"
   ]
  },
  {
   "cell_type": "code",
   "execution_count": 61,
   "id": "c576d5ff",
   "metadata": {},
   "outputs": [],
   "source": [
    "classification_report_train_depth_four = classification_report(y_train, y_pred_train_depth_4, output_dict = True)"
   ]
  },
  {
   "cell_type": "code",
   "execution_count": 62,
   "id": "44c8c341",
   "metadata": {},
   "outputs": [],
   "source": [
    "df_classification_report_train_depth_four = pd.DataFrame(classification_report_train_depth_four).T"
   ]
  },
  {
   "cell_type": "code",
   "execution_count": 63,
   "id": "38bf2918",
   "metadata": {},
   "outputs": [
    {
     "data": {
      "text/html": [
       "<div>\n",
       "<style scoped>\n",
       "    .dataframe tbody tr th:only-of-type {\n",
       "        vertical-align: middle;\n",
       "    }\n",
       "\n",
       "    .dataframe tbody tr th {\n",
       "        vertical-align: top;\n",
       "    }\n",
       "\n",
       "    .dataframe thead th {\n",
       "        text-align: right;\n",
       "    }\n",
       "</style>\n",
       "<table border=\"1\" class=\"dataframe\">\n",
       "  <thead>\n",
       "    <tr style=\"text-align: right;\">\n",
       "      <th></th>\n",
       "      <th>precision</th>\n",
       "      <th>recall</th>\n",
       "      <th>f1-score</th>\n",
       "      <th>support</th>\n",
       "    </tr>\n",
       "  </thead>\n",
       "  <tbody>\n",
       "    <tr>\n",
       "      <th>0</th>\n",
       "      <td>0.842262</td>\n",
       "      <td>0.921824</td>\n",
       "      <td>0.880249</td>\n",
       "      <td>307.00000</td>\n",
       "    </tr>\n",
       "    <tr>\n",
       "      <th>1</th>\n",
       "      <td>0.850932</td>\n",
       "      <td>0.721053</td>\n",
       "      <td>0.780627</td>\n",
       "      <td>190.00000</td>\n",
       "    </tr>\n",
       "    <tr>\n",
       "      <th>accuracy</th>\n",
       "      <td>0.845070</td>\n",
       "      <td>0.845070</td>\n",
       "      <td>0.845070</td>\n",
       "      <td>0.84507</td>\n",
       "    </tr>\n",
       "    <tr>\n",
       "      <th>macro avg</th>\n",
       "      <td>0.846597</td>\n",
       "      <td>0.821438</td>\n",
       "      <td>0.830438</td>\n",
       "      <td>497.00000</td>\n",
       "    </tr>\n",
       "    <tr>\n",
       "      <th>weighted avg</th>\n",
       "      <td>0.845576</td>\n",
       "      <td>0.845070</td>\n",
       "      <td>0.842164</td>\n",
       "      <td>497.00000</td>\n",
       "    </tr>\n",
       "  </tbody>\n",
       "</table>\n",
       "</div>"
      ],
      "text/plain": [
       "              precision    recall  f1-score    support\n",
       "0              0.842262  0.921824  0.880249  307.00000\n",
       "1              0.850932  0.721053  0.780627  190.00000\n",
       "accuracy       0.845070  0.845070  0.845070    0.84507\n",
       "macro avg      0.846597  0.821438  0.830438  497.00000\n",
       "weighted avg   0.845576  0.845070  0.842164  497.00000"
      ]
     },
     "execution_count": 63,
     "metadata": {},
     "output_type": "execute_result"
    }
   ],
   "source": [
    "df_classification_report_train_depth_four"
   ]
  },
  {
   "cell_type": "markdown",
   "id": "093d65b0",
   "metadata": {},
   "source": [
    "### Validate Data"
   ]
  },
  {
   "cell_type": "code",
   "execution_count": 64,
   "id": "69c70ca7",
   "metadata": {},
   "outputs": [],
   "source": [
    "clf2 = clf2.fit(X_validate, y_validate)"
   ]
  },
  {
   "cell_type": "code",
   "execution_count": 65,
   "id": "8d41e532",
   "metadata": {},
   "outputs": [],
   "source": [
    "y_pred_validate_depth_4 = clf2.predict(X_validate)"
   ]
  },
  {
   "cell_type": "markdown",
   "id": "a3eb802c",
   "metadata": {},
   "source": [
    "**Validate accuracy**"
   ]
  },
  {
   "cell_type": "code",
   "execution_count": 66,
   "id": "a85992de",
   "metadata": {},
   "outputs": [
    {
     "name": "stdout",
     "output_type": "stream",
     "text": [
      "Accuracy of Decision Tree classifier on validate set: 0.86\n"
     ]
    }
   ],
   "source": [
    "print('Accuracy of Decision Tree classifier on validate set: {:.2f}'\n",
    "      .format(clf2.score(X_validate, y_validate)))"
   ]
  },
  {
   "cell_type": "markdown",
   "id": "a6e38c34",
   "metadata": {},
   "source": [
    "**Validate confusion matrix**"
   ]
  },
  {
   "cell_type": "code",
   "execution_count": 67,
   "id": "ab4f7417",
   "metadata": {},
   "outputs": [
    {
     "data": {
      "text/html": [
       "<div>\n",
       "<style scoped>\n",
       "    .dataframe tbody tr th:only-of-type {\n",
       "        vertical-align: middle;\n",
       "    }\n",
       "\n",
       "    .dataframe tbody tr th {\n",
       "        vertical-align: top;\n",
       "    }\n",
       "\n",
       "    .dataframe thead th {\n",
       "        text-align: right;\n",
       "    }\n",
       "</style>\n",
       "<table border=\"1\" class=\"dataframe\">\n",
       "  <thead>\n",
       "    <tr style=\"text-align: right;\">\n",
       "      <th></th>\n",
       "      <th>died_predict</th>\n",
       "      <th>survived_predict</th>\n",
       "    </tr>\n",
       "  </thead>\n",
       "  <tbody>\n",
       "    <tr>\n",
       "      <th>died_actual</th>\n",
       "      <td>125</td>\n",
       "      <td>7</td>\n",
       "    </tr>\n",
       "    <tr>\n",
       "      <th>survived_actual</th>\n",
       "      <td>24</td>\n",
       "      <td>58</td>\n",
       "    </tr>\n",
       "  </tbody>\n",
       "</table>\n",
       "</div>"
      ],
      "text/plain": [
       "                 died_predict  survived_predict\n",
       "died_actual               125                 7\n",
       "survived_actual            24                58"
      ]
     },
     "execution_count": 67,
     "metadata": {},
     "output_type": "execute_result"
    }
   ],
   "source": [
    "labels1 = ['died_actual', 'survived_actual']\n",
    "labels2 = ['died_predict', 'survived_predict']\n",
    "\n",
    "pd.DataFrame(confusion_matrix(y_validate, y_pred_validate_depth_4), index=labels1, columns=labels2)"
   ]
  },
  {
   "cell_type": "markdown",
   "id": "951bd4e8",
   "metadata": {},
   "source": [
    "**Training data classification report**"
   ]
  },
  {
   "cell_type": "code",
   "execution_count": 68,
   "id": "a926431b",
   "metadata": {},
   "outputs": [],
   "source": [
    "classification_report_validate_depth_4 = classification_report(y_validate, y_pred_validate_depth_4, output_dict = True)\n",
    "df_classification_report_validate_depth_4 = pd.DataFrame(classification_report_validate_depth_4).T"
   ]
  },
  {
   "cell_type": "code",
   "execution_count": 69,
   "id": "4b79a770",
   "metadata": {},
   "outputs": [
    {
     "data": {
      "text/html": [
       "<div>\n",
       "<style scoped>\n",
       "    .dataframe tbody tr th:only-of-type {\n",
       "        vertical-align: middle;\n",
       "    }\n",
       "\n",
       "    .dataframe tbody tr th {\n",
       "        vertical-align: top;\n",
       "    }\n",
       "\n",
       "    .dataframe thead th {\n",
       "        text-align: right;\n",
       "    }\n",
       "</style>\n",
       "<table border=\"1\" class=\"dataframe\">\n",
       "  <thead>\n",
       "    <tr style=\"text-align: right;\">\n",
       "      <th></th>\n",
       "      <th>precision</th>\n",
       "      <th>recall</th>\n",
       "      <th>f1-score</th>\n",
       "      <th>support</th>\n",
       "    </tr>\n",
       "  </thead>\n",
       "  <tbody>\n",
       "    <tr>\n",
       "      <th>0</th>\n",
       "      <td>0.838926</td>\n",
       "      <td>0.946970</td>\n",
       "      <td>0.889680</td>\n",
       "      <td>132.00000</td>\n",
       "    </tr>\n",
       "    <tr>\n",
       "      <th>1</th>\n",
       "      <td>0.892308</td>\n",
       "      <td>0.707317</td>\n",
       "      <td>0.789116</td>\n",
       "      <td>82.00000</td>\n",
       "    </tr>\n",
       "    <tr>\n",
       "      <th>accuracy</th>\n",
       "      <td>0.855140</td>\n",
       "      <td>0.855140</td>\n",
       "      <td>0.855140</td>\n",
       "      <td>0.85514</td>\n",
       "    </tr>\n",
       "    <tr>\n",
       "      <th>macro avg</th>\n",
       "      <td>0.865617</td>\n",
       "      <td>0.827143</td>\n",
       "      <td>0.839398</td>\n",
       "      <td>214.00000</td>\n",
       "    </tr>\n",
       "    <tr>\n",
       "      <th>weighted avg</th>\n",
       "      <td>0.859381</td>\n",
       "      <td>0.855140</td>\n",
       "      <td>0.851146</td>\n",
       "      <td>214.00000</td>\n",
       "    </tr>\n",
       "  </tbody>\n",
       "</table>\n",
       "</div>"
      ],
      "text/plain": [
       "              precision    recall  f1-score    support\n",
       "0              0.838926  0.946970  0.889680  132.00000\n",
       "1              0.892308  0.707317  0.789116   82.00000\n",
       "accuracy       0.855140  0.855140  0.855140    0.85514\n",
       "macro avg      0.865617  0.827143  0.839398  214.00000\n",
       "weighted avg   0.859381  0.855140  0.851146  214.00000"
      ]
     },
     "execution_count": 69,
     "metadata": {},
     "output_type": "execute_result"
    }
   ],
   "source": [
    "df_classification_report_validate_depth_4"
   ]
  },
  {
   "cell_type": "markdown",
   "id": "a2897605",
   "metadata": {},
   "source": [
    "### Which model performs better on your in-sample data?"
   ]
  },
  {
   "cell_type": "markdown",
   "id": "7322e70c",
   "metadata": {},
   "source": [
    "To answer this question, let's look at the training data classificatino reports side by side."
   ]
  },
  {
   "cell_type": "markdown",
   "id": "9fb5dd40",
   "metadata": {},
   "source": [
    "**Max depth three**"
   ]
  },
  {
   "cell_type": "code",
   "execution_count": 70,
   "id": "8c524bf6",
   "metadata": {},
   "outputs": [
    {
     "data": {
      "text/html": [
       "<div>\n",
       "<style scoped>\n",
       "    .dataframe tbody tr th:only-of-type {\n",
       "        vertical-align: middle;\n",
       "    }\n",
       "\n",
       "    .dataframe tbody tr th {\n",
       "        vertical-align: top;\n",
       "    }\n",
       "\n",
       "    .dataframe thead th {\n",
       "        text-align: right;\n",
       "    }\n",
       "</style>\n",
       "<table border=\"1\" class=\"dataframe\">\n",
       "  <thead>\n",
       "    <tr style=\"text-align: right;\">\n",
       "      <th></th>\n",
       "      <th>precision</th>\n",
       "      <th>recall</th>\n",
       "      <th>f1-score</th>\n",
       "      <th>support</th>\n",
       "    </tr>\n",
       "  </thead>\n",
       "  <tbody>\n",
       "    <tr>\n",
       "      <th>0</th>\n",
       "      <td>0.808696</td>\n",
       "      <td>0.908795</td>\n",
       "      <td>0.855828</td>\n",
       "      <td>307.000000</td>\n",
       "    </tr>\n",
       "    <tr>\n",
       "      <th>1</th>\n",
       "      <td>0.815789</td>\n",
       "      <td>0.652632</td>\n",
       "      <td>0.725146</td>\n",
       "      <td>190.000000</td>\n",
       "    </tr>\n",
       "    <tr>\n",
       "      <th>accuracy</th>\n",
       "      <td>0.810865</td>\n",
       "      <td>0.810865</td>\n",
       "      <td>0.810865</td>\n",
       "      <td>0.810865</td>\n",
       "    </tr>\n",
       "    <tr>\n",
       "      <th>macro avg</th>\n",
       "      <td>0.812243</td>\n",
       "      <td>0.780713</td>\n",
       "      <td>0.790487</td>\n",
       "      <td>497.000000</td>\n",
       "    </tr>\n",
       "    <tr>\n",
       "      <th>weighted avg</th>\n",
       "      <td>0.811408</td>\n",
       "      <td>0.810865</td>\n",
       "      <td>0.805869</td>\n",
       "      <td>497.000000</td>\n",
       "    </tr>\n",
       "  </tbody>\n",
       "</table>\n",
       "</div>"
      ],
      "text/plain": [
       "              precision    recall  f1-score     support\n",
       "0              0.808696  0.908795  0.855828  307.000000\n",
       "1              0.815789  0.652632  0.725146  190.000000\n",
       "accuracy       0.810865  0.810865  0.810865    0.810865\n",
       "macro avg      0.812243  0.780713  0.790487  497.000000\n",
       "weighted avg   0.811408  0.810865  0.805869  497.000000"
      ]
     },
     "execution_count": 70,
     "metadata": {},
     "output_type": "execute_result"
    }
   ],
   "source": [
    "df_report_train_depth_three"
   ]
  },
  {
   "cell_type": "markdown",
   "id": "f0a6243c",
   "metadata": {},
   "source": [
    "**Max depth four**"
   ]
  },
  {
   "cell_type": "code",
   "execution_count": 71,
   "id": "25068d46",
   "metadata": {},
   "outputs": [
    {
     "data": {
      "text/html": [
       "<div>\n",
       "<style scoped>\n",
       "    .dataframe tbody tr th:only-of-type {\n",
       "        vertical-align: middle;\n",
       "    }\n",
       "\n",
       "    .dataframe tbody tr th {\n",
       "        vertical-align: top;\n",
       "    }\n",
       "\n",
       "    .dataframe thead th {\n",
       "        text-align: right;\n",
       "    }\n",
       "</style>\n",
       "<table border=\"1\" class=\"dataframe\">\n",
       "  <thead>\n",
       "    <tr style=\"text-align: right;\">\n",
       "      <th></th>\n",
       "      <th>precision</th>\n",
       "      <th>recall</th>\n",
       "      <th>f1-score</th>\n",
       "      <th>support</th>\n",
       "    </tr>\n",
       "  </thead>\n",
       "  <tbody>\n",
       "    <tr>\n",
       "      <th>0</th>\n",
       "      <td>0.842262</td>\n",
       "      <td>0.921824</td>\n",
       "      <td>0.880249</td>\n",
       "      <td>307.00000</td>\n",
       "    </tr>\n",
       "    <tr>\n",
       "      <th>1</th>\n",
       "      <td>0.850932</td>\n",
       "      <td>0.721053</td>\n",
       "      <td>0.780627</td>\n",
       "      <td>190.00000</td>\n",
       "    </tr>\n",
       "    <tr>\n",
       "      <th>accuracy</th>\n",
       "      <td>0.845070</td>\n",
       "      <td>0.845070</td>\n",
       "      <td>0.845070</td>\n",
       "      <td>0.84507</td>\n",
       "    </tr>\n",
       "    <tr>\n",
       "      <th>macro avg</th>\n",
       "      <td>0.846597</td>\n",
       "      <td>0.821438</td>\n",
       "      <td>0.830438</td>\n",
       "      <td>497.00000</td>\n",
       "    </tr>\n",
       "    <tr>\n",
       "      <th>weighted avg</th>\n",
       "      <td>0.845576</td>\n",
       "      <td>0.845070</td>\n",
       "      <td>0.842164</td>\n",
       "      <td>497.00000</td>\n",
       "    </tr>\n",
       "  </tbody>\n",
       "</table>\n",
       "</div>"
      ],
      "text/plain": [
       "              precision    recall  f1-score    support\n",
       "0              0.842262  0.921824  0.880249  307.00000\n",
       "1              0.850932  0.721053  0.780627  190.00000\n",
       "accuracy       0.845070  0.845070  0.845070    0.84507\n",
       "macro avg      0.846597  0.821438  0.830438  497.00000\n",
       "weighted avg   0.845576  0.845070  0.842164  497.00000"
      ]
     },
     "execution_count": 71,
     "metadata": {},
     "output_type": "execute_result"
    }
   ],
   "source": [
    "df_classification_report_train_depth_four"
   ]
  },
  {
   "cell_type": "markdown",
   "id": "2694c1be",
   "metadata": {},
   "source": [
    "Max depth three out performs Max depth four on every observable measure."
   ]
  },
  {
   "cell_type": "markdown",
   "id": "7a75418a",
   "metadata": {},
   "source": [
    "### Which model performs best on your out-of-sample data, the validate set?"
   ]
  },
  {
   "cell_type": "markdown",
   "id": "9b19fcf5",
   "metadata": {},
   "source": [
    "**Max depth three**"
   ]
  },
  {
   "cell_type": "code",
   "execution_count": 72,
   "id": "ba1a5ff4",
   "metadata": {},
   "outputs": [
    {
     "data": {
      "text/html": [
       "<div>\n",
       "<style scoped>\n",
       "    .dataframe tbody tr th:only-of-type {\n",
       "        vertical-align: middle;\n",
       "    }\n",
       "\n",
       "    .dataframe tbody tr th {\n",
       "        vertical-align: top;\n",
       "    }\n",
       "\n",
       "    .dataframe thead th {\n",
       "        text-align: right;\n",
       "    }\n",
       "</style>\n",
       "<table border=\"1\" class=\"dataframe\">\n",
       "  <thead>\n",
       "    <tr style=\"text-align: right;\">\n",
       "      <th></th>\n",
       "      <th>precision</th>\n",
       "      <th>recall</th>\n",
       "      <th>f1-score</th>\n",
       "      <th>support</th>\n",
       "    </tr>\n",
       "  </thead>\n",
       "  <tbody>\n",
       "    <tr>\n",
       "      <th>0</th>\n",
       "      <td>0.795918</td>\n",
       "      <td>0.886364</td>\n",
       "      <td>0.838710</td>\n",
       "      <td>132.00000</td>\n",
       "    </tr>\n",
       "    <tr>\n",
       "      <th>1</th>\n",
       "      <td>0.776119</td>\n",
       "      <td>0.634146</td>\n",
       "      <td>0.697987</td>\n",
       "      <td>82.00000</td>\n",
       "    </tr>\n",
       "    <tr>\n",
       "      <th>accuracy</th>\n",
       "      <td>0.789720</td>\n",
       "      <td>0.789720</td>\n",
       "      <td>0.789720</td>\n",
       "      <td>0.78972</td>\n",
       "    </tr>\n",
       "    <tr>\n",
       "      <th>macro avg</th>\n",
       "      <td>0.786019</td>\n",
       "      <td>0.760255</td>\n",
       "      <td>0.768348</td>\n",
       "      <td>214.00000</td>\n",
       "    </tr>\n",
       "    <tr>\n",
       "      <th>weighted avg</th>\n",
       "      <td>0.788332</td>\n",
       "      <td>0.789720</td>\n",
       "      <td>0.784788</td>\n",
       "      <td>214.00000</td>\n",
       "    </tr>\n",
       "  </tbody>\n",
       "</table>\n",
       "</div>"
      ],
      "text/plain": [
       "              precision    recall  f1-score    support\n",
       "0              0.795918  0.886364  0.838710  132.00000\n",
       "1              0.776119  0.634146  0.697987   82.00000\n",
       "accuracy       0.789720  0.789720  0.789720    0.78972\n",
       "macro avg      0.786019  0.760255  0.768348  214.00000\n",
       "weighted avg   0.788332  0.789720  0.784788  214.00000"
      ]
     },
     "execution_count": 72,
     "metadata": {},
     "output_type": "execute_result"
    }
   ],
   "source": [
    "df_report_validate_depth_three"
   ]
  },
  {
   "cell_type": "markdown",
   "id": "c3b2322e",
   "metadata": {},
   "source": [
    "**Max depth four**"
   ]
  },
  {
   "cell_type": "code",
   "execution_count": 73,
   "id": "f4f69292",
   "metadata": {},
   "outputs": [
    {
     "data": {
      "text/html": [
       "<div>\n",
       "<style scoped>\n",
       "    .dataframe tbody tr th:only-of-type {\n",
       "        vertical-align: middle;\n",
       "    }\n",
       "\n",
       "    .dataframe tbody tr th {\n",
       "        vertical-align: top;\n",
       "    }\n",
       "\n",
       "    .dataframe thead th {\n",
       "        text-align: right;\n",
       "    }\n",
       "</style>\n",
       "<table border=\"1\" class=\"dataframe\">\n",
       "  <thead>\n",
       "    <tr style=\"text-align: right;\">\n",
       "      <th></th>\n",
       "      <th>precision</th>\n",
       "      <th>recall</th>\n",
       "      <th>f1-score</th>\n",
       "      <th>support</th>\n",
       "    </tr>\n",
       "  </thead>\n",
       "  <tbody>\n",
       "    <tr>\n",
       "      <th>0</th>\n",
       "      <td>0.838926</td>\n",
       "      <td>0.946970</td>\n",
       "      <td>0.889680</td>\n",
       "      <td>132.00000</td>\n",
       "    </tr>\n",
       "    <tr>\n",
       "      <th>1</th>\n",
       "      <td>0.892308</td>\n",
       "      <td>0.707317</td>\n",
       "      <td>0.789116</td>\n",
       "      <td>82.00000</td>\n",
       "    </tr>\n",
       "    <tr>\n",
       "      <th>accuracy</th>\n",
       "      <td>0.855140</td>\n",
       "      <td>0.855140</td>\n",
       "      <td>0.855140</td>\n",
       "      <td>0.85514</td>\n",
       "    </tr>\n",
       "    <tr>\n",
       "      <th>macro avg</th>\n",
       "      <td>0.865617</td>\n",
       "      <td>0.827143</td>\n",
       "      <td>0.839398</td>\n",
       "      <td>214.00000</td>\n",
       "    </tr>\n",
       "    <tr>\n",
       "      <th>weighted avg</th>\n",
       "      <td>0.859381</td>\n",
       "      <td>0.855140</td>\n",
       "      <td>0.851146</td>\n",
       "      <td>214.00000</td>\n",
       "    </tr>\n",
       "  </tbody>\n",
       "</table>\n",
       "</div>"
      ],
      "text/plain": [
       "              precision    recall  f1-score    support\n",
       "0              0.838926  0.946970  0.889680  132.00000\n",
       "1              0.892308  0.707317  0.789116   82.00000\n",
       "accuracy       0.855140  0.855140  0.855140    0.85514\n",
       "macro avg      0.865617  0.827143  0.839398  214.00000\n",
       "weighted avg   0.859381  0.855140  0.851146  214.00000"
      ]
     },
     "execution_count": 73,
     "metadata": {},
     "output_type": "execute_result"
    }
   ],
   "source": [
    "df_classification_report_validate_depth_4"
   ]
  },
  {
   "cell_type": "markdown",
   "id": "4f84afe8",
   "metadata": {},
   "source": [
    "Max depth three outperforms Max depth three for the validate data sets."
   ]
  },
  {
   "cell_type": "markdown",
   "id": "70a10521",
   "metadata": {},
   "source": [
    "# Random Forest"
   ]
  },
  {
   "cell_type": "markdown",
   "id": "fc13edc5",
   "metadata": {},
   "source": [
    "### Fit the Random Forest classifier to your training sample and transform (i.e. make predictions on the training sample) setting the random_state accordingly and setting min_samples_leaf = 1 and max_depth = 10."
   ]
  },
  {
   "cell_type": "code",
   "execution_count": 74,
   "id": "d0da26d0",
   "metadata": {},
   "outputs": [],
   "source": [
    "from sklearn.ensemble import RandomForestClassifier"
   ]
  },
  {
   "cell_type": "code",
   "execution_count": 75,
   "id": "6e2b46ae",
   "metadata": {},
   "outputs": [],
   "source": [
    "rf = RandomForestClassifier(bootstrap=True, \n",
    "                            class_weight=None, \n",
    "                            criterion='gini',\n",
    "                            min_samples_leaf=1,\n",
    "                            n_estimators=100,\n",
    "                            max_depth=10, \n",
    "                            random_state=123)"
   ]
  },
  {
   "cell_type": "markdown",
   "id": "342edb22",
   "metadata": {},
   "source": [
    "**Fit the model**"
   ]
  },
  {
   "cell_type": "code",
   "execution_count": 76,
   "id": "09693ea3",
   "metadata": {},
   "outputs": [
    {
     "data": {
      "text/plain": [
       "RandomForestClassifier(max_depth=10, random_state=123)"
      ]
     },
     "execution_count": 76,
     "metadata": {},
     "output_type": "execute_result"
    }
   ],
   "source": [
    "rf.fit(X_train, y_train)"
   ]
  },
  {
   "cell_type": "markdown",
   "id": "e919535e",
   "metadata": {},
   "source": [
    "**Feature importance**"
   ]
  },
  {
   "cell_type": "code",
   "execution_count": 77,
   "id": "84e18c79",
   "metadata": {},
   "outputs": [
    {
     "data": {
      "text/html": [
       "<div>\n",
       "<style scoped>\n",
       "    .dataframe tbody tr th:only-of-type {\n",
       "        vertical-align: middle;\n",
       "    }\n",
       "\n",
       "    .dataframe tbody tr th {\n",
       "        vertical-align: top;\n",
       "    }\n",
       "\n",
       "    .dataframe thead th {\n",
       "        text-align: right;\n",
       "    }\n",
       "</style>\n",
       "<table border=\"1\" class=\"dataframe\">\n",
       "  <thead>\n",
       "    <tr style=\"text-align: right;\">\n",
       "      <th></th>\n",
       "      <th>0</th>\n",
       "    </tr>\n",
       "  </thead>\n",
       "  <tbody>\n",
       "    <tr>\n",
       "      <th>0</th>\n",
       "      <td>0.158897</td>\n",
       "    </tr>\n",
       "    <tr>\n",
       "      <th>1</th>\n",
       "      <td>0.162192</td>\n",
       "    </tr>\n",
       "    <tr>\n",
       "      <th>2</th>\n",
       "      <td>0.099323</td>\n",
       "    </tr>\n",
       "    <tr>\n",
       "      <th>3</th>\n",
       "      <td>0.047610</td>\n",
       "    </tr>\n",
       "    <tr>\n",
       "      <th>4</th>\n",
       "      <td>0.031066</td>\n",
       "    </tr>\n",
       "    <tr>\n",
       "      <th>5</th>\n",
       "      <td>0.195731</td>\n",
       "    </tr>\n",
       "    <tr>\n",
       "      <th>6</th>\n",
       "      <td>0.029676</td>\n",
       "    </tr>\n",
       "    <tr>\n",
       "      <th>7</th>\n",
       "      <td>0.007023</td>\n",
       "    </tr>\n",
       "    <tr>\n",
       "      <th>8</th>\n",
       "      <td>0.013260</td>\n",
       "    </tr>\n",
       "    <tr>\n",
       "      <th>9</th>\n",
       "      <td>0.233667</td>\n",
       "    </tr>\n",
       "    <tr>\n",
       "      <th>10</th>\n",
       "      <td>0.006549</td>\n",
       "    </tr>\n",
       "    <tr>\n",
       "      <th>11</th>\n",
       "      <td>0.015006</td>\n",
       "    </tr>\n",
       "  </tbody>\n",
       "</table>\n",
       "</div>"
      ],
      "text/plain": [
       "           0\n",
       "0   0.158897\n",
       "1   0.162192\n",
       "2   0.099323\n",
       "3   0.047610\n",
       "4   0.031066\n",
       "5   0.195731\n",
       "6   0.029676\n",
       "7   0.007023\n",
       "8   0.013260\n",
       "9   0.233667\n",
       "10  0.006549\n",
       "11  0.015006"
      ]
     },
     "execution_count": 77,
     "metadata": {},
     "output_type": "execute_result"
    }
   ],
   "source": [
    "pd.DataFrame(rf.feature_importances_)"
   ]
  },
  {
   "cell_type": "markdown",
   "id": "197bf9f1",
   "metadata": {},
   "source": [
    "**Make predictions**"
   ]
  },
  {
   "cell_type": "code",
   "execution_count": 78,
   "id": "d5747e3b",
   "metadata": {},
   "outputs": [],
   "source": [
    "y_pred = rf.predict(X_train)"
   ]
  },
  {
   "cell_type": "code",
   "execution_count": 79,
   "id": "806b1523",
   "metadata": {},
   "outputs": [
    {
     "data": {
      "text/html": [
       "<div>\n",
       "<style scoped>\n",
       "    .dataframe tbody tr th:only-of-type {\n",
       "        vertical-align: middle;\n",
       "    }\n",
       "\n",
       "    .dataframe tbody tr th {\n",
       "        vertical-align: top;\n",
       "    }\n",
       "\n",
       "    .dataframe thead th {\n",
       "        text-align: right;\n",
       "    }\n",
       "</style>\n",
       "<table border=\"1\" class=\"dataframe\">\n",
       "  <thead>\n",
       "    <tr style=\"text-align: right;\">\n",
       "      <th></th>\n",
       "      <th>0</th>\n",
       "    </tr>\n",
       "  </thead>\n",
       "  <tbody>\n",
       "    <tr>\n",
       "      <th>0</th>\n",
       "      <td>0</td>\n",
       "    </tr>\n",
       "    <tr>\n",
       "      <th>1</th>\n",
       "      <td>1</td>\n",
       "    </tr>\n",
       "    <tr>\n",
       "      <th>2</th>\n",
       "      <td>0</td>\n",
       "    </tr>\n",
       "    <tr>\n",
       "      <th>3</th>\n",
       "      <td>1</td>\n",
       "    </tr>\n",
       "    <tr>\n",
       "      <th>4</th>\n",
       "      <td>1</td>\n",
       "    </tr>\n",
       "    <tr>\n",
       "      <th>...</th>\n",
       "      <td>...</td>\n",
       "    </tr>\n",
       "    <tr>\n",
       "      <th>492</th>\n",
       "      <td>0</td>\n",
       "    </tr>\n",
       "    <tr>\n",
       "      <th>493</th>\n",
       "      <td>0</td>\n",
       "    </tr>\n",
       "    <tr>\n",
       "      <th>494</th>\n",
       "      <td>0</td>\n",
       "    </tr>\n",
       "    <tr>\n",
       "      <th>495</th>\n",
       "      <td>0</td>\n",
       "    </tr>\n",
       "    <tr>\n",
       "      <th>496</th>\n",
       "      <td>1</td>\n",
       "    </tr>\n",
       "  </tbody>\n",
       "</table>\n",
       "<p>497 rows × 1 columns</p>\n",
       "</div>"
      ],
      "text/plain": [
       "     0\n",
       "0    0\n",
       "1    1\n",
       "2    0\n",
       "3    1\n",
       "4    1\n",
       "..  ..\n",
       "492  0\n",
       "493  0\n",
       "494  0\n",
       "495  0\n",
       "496  1\n",
       "\n",
       "[497 rows x 1 columns]"
      ]
     },
     "execution_count": 79,
     "metadata": {},
     "output_type": "execute_result"
    }
   ],
   "source": [
    "pd.DataFrame(y_pred)"
   ]
  },
  {
   "cell_type": "markdown",
   "id": "c5da035b",
   "metadata": {},
   "source": [
    "**Estimate probability**"
   ]
  },
  {
   "cell_type": "code",
   "execution_count": 80,
   "id": "a0179a81",
   "metadata": {},
   "outputs": [],
   "source": [
    "y_pred_proba = rf.predict_proba(X_train)"
   ]
  },
  {
   "cell_type": "code",
   "execution_count": 81,
   "id": "8d0a16c9",
   "metadata": {},
   "outputs": [
    {
     "data": {
      "text/html": [
       "<div>\n",
       "<style scoped>\n",
       "    .dataframe tbody tr th:only-of-type {\n",
       "        vertical-align: middle;\n",
       "    }\n",
       "\n",
       "    .dataframe tbody tr th {\n",
       "        vertical-align: top;\n",
       "    }\n",
       "\n",
       "    .dataframe thead th {\n",
       "        text-align: right;\n",
       "    }\n",
       "</style>\n",
       "<table border=\"1\" class=\"dataframe\">\n",
       "  <thead>\n",
       "    <tr style=\"text-align: right;\">\n",
       "      <th></th>\n",
       "      <th>0</th>\n",
       "      <th>1</th>\n",
       "    </tr>\n",
       "  </thead>\n",
       "  <tbody>\n",
       "    <tr>\n",
       "      <th>0</th>\n",
       "      <td>0.845507</td>\n",
       "      <td>0.154493</td>\n",
       "    </tr>\n",
       "    <tr>\n",
       "      <th>1</th>\n",
       "      <td>0.021714</td>\n",
       "      <td>0.978286</td>\n",
       "    </tr>\n",
       "    <tr>\n",
       "      <th>2</th>\n",
       "      <td>0.977273</td>\n",
       "      <td>0.022727</td>\n",
       "    </tr>\n",
       "    <tr>\n",
       "      <th>3</th>\n",
       "      <td>0.010714</td>\n",
       "      <td>0.989286</td>\n",
       "    </tr>\n",
       "    <tr>\n",
       "      <th>4</th>\n",
       "      <td>0.100000</td>\n",
       "      <td>0.900000</td>\n",
       "    </tr>\n",
       "    <tr>\n",
       "      <th>...</th>\n",
       "      <td>...</td>\n",
       "      <td>...</td>\n",
       "    </tr>\n",
       "    <tr>\n",
       "      <th>492</th>\n",
       "      <td>0.942332</td>\n",
       "      <td>0.057668</td>\n",
       "    </tr>\n",
       "    <tr>\n",
       "      <th>493</th>\n",
       "      <td>0.906272</td>\n",
       "      <td>0.093728</td>\n",
       "    </tr>\n",
       "    <tr>\n",
       "      <th>494</th>\n",
       "      <td>0.799098</td>\n",
       "      <td>0.200902</td>\n",
       "    </tr>\n",
       "    <tr>\n",
       "      <th>495</th>\n",
       "      <td>0.921866</td>\n",
       "      <td>0.078134</td>\n",
       "    </tr>\n",
       "    <tr>\n",
       "      <th>496</th>\n",
       "      <td>0.439101</td>\n",
       "      <td>0.560899</td>\n",
       "    </tr>\n",
       "  </tbody>\n",
       "</table>\n",
       "<p>497 rows × 2 columns</p>\n",
       "</div>"
      ],
      "text/plain": [
       "            0         1\n",
       "0    0.845507  0.154493\n",
       "1    0.021714  0.978286\n",
       "2    0.977273  0.022727\n",
       "3    0.010714  0.989286\n",
       "4    0.100000  0.900000\n",
       "..        ...       ...\n",
       "492  0.942332  0.057668\n",
       "493  0.906272  0.093728\n",
       "494  0.799098  0.200902\n",
       "495  0.921866  0.078134\n",
       "496  0.439101  0.560899\n",
       "\n",
       "[497 rows x 2 columns]"
      ]
     },
     "execution_count": 81,
     "metadata": {},
     "output_type": "execute_result"
    }
   ],
   "source": [
    "pd.DataFrame(y_pred_proba)"
   ]
  },
  {
   "cell_type": "markdown",
   "id": "ca51efc1",
   "metadata": {},
   "source": [
    "### Evaluate your results using the model score, confusion matrix, and classification report."
   ]
  },
  {
   "cell_type": "markdown",
   "id": "1d28239e",
   "metadata": {},
   "source": [
    "**Compute Accuracy**"
   ]
  },
  {
   "cell_type": "code",
   "execution_count": 82,
   "id": "f7fe93fa",
   "metadata": {},
   "outputs": [
    {
     "name": "stdout",
     "output_type": "stream",
     "text": [
      "Accuracy of random forest classifier on training set: 0.97\n"
     ]
    }
   ],
   "source": [
    "print('Accuracy of random forest classifier on training set: {:.2f}'\n",
    "     .format(rf.score(X_train, y_train)))"
   ]
  },
  {
   "cell_type": "markdown",
   "id": "5c795f03",
   "metadata": {},
   "source": [
    "**Create a confusion matrix**"
   ]
  },
  {
   "cell_type": "code",
   "execution_count": 83,
   "id": "53649edb",
   "metadata": {},
   "outputs": [],
   "source": [
    "labels1 = ['died_actual', 'survived_actual']\n",
    "labels2 = ['died_predicted', 'survived_predicted']\n",
    "df_confusion_matrix = pd.DataFrame(confusion_matrix(y_train, y_pred), index=labels1, columns=labels2)"
   ]
  },
  {
   "cell_type": "code",
   "execution_count": 84,
   "id": "44ab8780",
   "metadata": {},
   "outputs": [
    {
     "data": {
      "text/html": [
       "<div>\n",
       "<style scoped>\n",
       "    .dataframe tbody tr th:only-of-type {\n",
       "        vertical-align: middle;\n",
       "    }\n",
       "\n",
       "    .dataframe tbody tr th {\n",
       "        vertical-align: top;\n",
       "    }\n",
       "\n",
       "    .dataframe thead th {\n",
       "        text-align: right;\n",
       "    }\n",
       "</style>\n",
       "<table border=\"1\" class=\"dataframe\">\n",
       "  <thead>\n",
       "    <tr style=\"text-align: right;\">\n",
       "      <th></th>\n",
       "      <th>died_predicted</th>\n",
       "      <th>survived_predicted</th>\n",
       "    </tr>\n",
       "  </thead>\n",
       "  <tbody>\n",
       "    <tr>\n",
       "      <th>died_actual</th>\n",
       "      <td>307</td>\n",
       "      <td>0</td>\n",
       "    </tr>\n",
       "    <tr>\n",
       "      <th>survived_actual</th>\n",
       "      <td>16</td>\n",
       "      <td>174</td>\n",
       "    </tr>\n",
       "  </tbody>\n",
       "</table>\n",
       "</div>"
      ],
      "text/plain": [
       "                 died_predicted  survived_predicted\n",
       "died_actual                 307                   0\n",
       "survived_actual              16                 174"
      ]
     },
     "execution_count": 84,
     "metadata": {},
     "output_type": "execute_result"
    }
   ],
   "source": [
    "df_confusion_matrix"
   ]
  },
  {
   "cell_type": "markdown",
   "id": "aacbd509",
   "metadata": {},
   "source": [
    "**Create a classification report**"
   ]
  },
  {
   "cell_type": "code",
   "execution_count": 85,
   "id": "31846441",
   "metadata": {},
   "outputs": [],
   "source": [
    "classification_report = classification_report(y_train, y_pred, output_dict = True)"
   ]
  },
  {
   "cell_type": "code",
   "execution_count": 86,
   "id": "8a265f68",
   "metadata": {},
   "outputs": [],
   "source": [
    "df_classification_report = pd.DataFrame(classification_report).T"
   ]
  },
  {
   "cell_type": "code",
   "execution_count": 87,
   "id": "d897467d",
   "metadata": {},
   "outputs": [
    {
     "data": {
      "text/html": [
       "<div>\n",
       "<style scoped>\n",
       "    .dataframe tbody tr th:only-of-type {\n",
       "        vertical-align: middle;\n",
       "    }\n",
       "\n",
       "    .dataframe tbody tr th {\n",
       "        vertical-align: top;\n",
       "    }\n",
       "\n",
       "    .dataframe thead th {\n",
       "        text-align: right;\n",
       "    }\n",
       "</style>\n",
       "<table border=\"1\" class=\"dataframe\">\n",
       "  <thead>\n",
       "    <tr style=\"text-align: right;\">\n",
       "      <th></th>\n",
       "      <th>precision</th>\n",
       "      <th>recall</th>\n",
       "      <th>f1-score</th>\n",
       "      <th>support</th>\n",
       "    </tr>\n",
       "  </thead>\n",
       "  <tbody>\n",
       "    <tr>\n",
       "      <th>0</th>\n",
       "      <td>0.950464</td>\n",
       "      <td>1.000000</td>\n",
       "      <td>0.974603</td>\n",
       "      <td>307.000000</td>\n",
       "    </tr>\n",
       "    <tr>\n",
       "      <th>1</th>\n",
       "      <td>1.000000</td>\n",
       "      <td>0.915789</td>\n",
       "      <td>0.956044</td>\n",
       "      <td>190.000000</td>\n",
       "    </tr>\n",
       "    <tr>\n",
       "      <th>accuracy</th>\n",
       "      <td>0.967807</td>\n",
       "      <td>0.967807</td>\n",
       "      <td>0.967807</td>\n",
       "      <td>0.967807</td>\n",
       "    </tr>\n",
       "    <tr>\n",
       "      <th>macro avg</th>\n",
       "      <td>0.975232</td>\n",
       "      <td>0.957895</td>\n",
       "      <td>0.965324</td>\n",
       "      <td>497.000000</td>\n",
       "    </tr>\n",
       "    <tr>\n",
       "      <th>weighted avg</th>\n",
       "      <td>0.969402</td>\n",
       "      <td>0.967807</td>\n",
       "      <td>0.967508</td>\n",
       "      <td>497.000000</td>\n",
       "    </tr>\n",
       "  </tbody>\n",
       "</table>\n",
       "</div>"
      ],
      "text/plain": [
       "              precision    recall  f1-score     support\n",
       "0              0.950464  1.000000  0.974603  307.000000\n",
       "1              1.000000  0.915789  0.956044  190.000000\n",
       "accuracy       0.967807  0.967807  0.967807    0.967807\n",
       "macro avg      0.975232  0.957895  0.965324  497.000000\n",
       "weighted avg   0.969402  0.967807  0.967508  497.000000"
      ]
     },
     "execution_count": 87,
     "metadata": {},
     "output_type": "execute_result"
    }
   ],
   "source": [
    "df_classification_report"
   ]
  },
  {
   "cell_type": "markdown",
   "id": "27491801",
   "metadata": {},
   "source": [
    "### Print and clearly label the following: Accuracy, true positive rate, false positive rate, true negative rate, false negative rate, precision, recall, f1-score, and support."
   ]
  },
  {
   "cell_type": "code",
   "execution_count": 88,
   "id": "78126252",
   "metadata": {},
   "outputs": [],
   "source": [
    "true_positives = 174 \n",
    "false_positives = 0 \n",
    "true_negatives = 307\n",
    "false_negatives = 16"
   ]
  },
  {
   "cell_type": "markdown",
   "id": "13a42fb5",
   "metadata": {},
   "source": [
    "**Accuracy**"
   ]
  },
  {
   "cell_type": "code",
   "execution_count": 89,
   "id": "bb5d04ba",
   "metadata": {},
   "outputs": [
    {
     "data": {
      "text/plain": [
       "0.9678068410462777"
      ]
     },
     "execution_count": 89,
     "metadata": {},
     "output_type": "execute_result"
    }
   ],
   "source": [
    "model_accuracy = accuracy_score(y_train, y_pred)\n",
    "model_accuracy"
   ]
  },
  {
   "cell_type": "markdown",
   "id": "43c15395",
   "metadata": {},
   "source": [
    "**True positive rate**"
   ]
  },
  {
   "cell_type": "code",
   "execution_count": 90,
   "id": "8972b933",
   "metadata": {},
   "outputs": [],
   "source": [
    "true_positive_rate = (true_positives)/(true_positives + false_negatives)"
   ]
  },
  {
   "cell_type": "code",
   "execution_count": 91,
   "id": "8d500258",
   "metadata": {},
   "outputs": [
    {
     "data": {
      "text/plain": [
       "0.9157894736842105"
      ]
     },
     "execution_count": 91,
     "metadata": {},
     "output_type": "execute_result"
    }
   ],
   "source": [
    "true_positive_rate"
   ]
  },
  {
   "cell_type": "markdown",
   "id": "773483a3",
   "metadata": {},
   "source": [
    "**False negative rate**"
   ]
  },
  {
   "cell_type": "code",
   "execution_count": 92,
   "id": "034a539e",
   "metadata": {},
   "outputs": [],
   "source": [
    "false_negative_rate = (false_negatives)/(false_negatives + true_positives)"
   ]
  },
  {
   "cell_type": "code",
   "execution_count": 93,
   "id": "1522b477",
   "metadata": {},
   "outputs": [
    {
     "data": {
      "text/plain": [
       "0.08421052631578947"
      ]
     },
     "execution_count": 93,
     "metadata": {},
     "output_type": "execute_result"
    }
   ],
   "source": [
    "false_negative_rate"
   ]
  },
  {
   "cell_type": "markdown",
   "id": "fe283ff8",
   "metadata": {},
   "source": [
    "**True negative rate**"
   ]
  },
  {
   "cell_type": "code",
   "execution_count": 94,
   "id": "131e3f4a",
   "metadata": {},
   "outputs": [],
   "source": [
    "true_negative_rate = (true_negatives)/(true_negatives + false_positives)"
   ]
  },
  {
   "cell_type": "code",
   "execution_count": 95,
   "id": "660e6f15",
   "metadata": {},
   "outputs": [
    {
     "data": {
      "text/plain": [
       "1.0"
      ]
     },
     "execution_count": 95,
     "metadata": {},
     "output_type": "execute_result"
    }
   ],
   "source": [
    "true_negative_rate"
   ]
  },
  {
   "cell_type": "markdown",
   "id": "6a204aab",
   "metadata": {},
   "source": [
    "**False Posititve  rate**"
   ]
  },
  {
   "cell_type": "code",
   "execution_count": 96,
   "id": "a878070b",
   "metadata": {},
   "outputs": [],
   "source": [
    "false_positive_rate = (false_positives)/(false_positives + true_negatives)"
   ]
  },
  {
   "cell_type": "code",
   "execution_count": 97,
   "id": "4a22fd82",
   "metadata": {},
   "outputs": [
    {
     "data": {
      "text/plain": [
       "0.0"
      ]
     },
     "execution_count": 97,
     "metadata": {},
     "output_type": "execute_result"
    }
   ],
   "source": [
    "false_positive_rate"
   ]
  },
  {
   "cell_type": "markdown",
   "id": "70c964f2",
   "metadata": {},
   "source": [
    "**Precision rate**"
   ]
  },
  {
   "cell_type": "code",
   "execution_count": 98,
   "id": "8c254119",
   "metadata": {},
   "outputs": [],
   "source": [
    "precision = precision_score(y_train, y_pred)"
   ]
  },
  {
   "cell_type": "code",
   "execution_count": 99,
   "id": "b17763e5",
   "metadata": {},
   "outputs": [
    {
     "data": {
      "text/plain": [
       "1.0"
      ]
     },
     "execution_count": 99,
     "metadata": {},
     "output_type": "execute_result"
    }
   ],
   "source": [
    "precision"
   ]
  },
  {
   "cell_type": "markdown",
   "id": "f776cbd4",
   "metadata": {},
   "source": [
    "**Recall**"
   ]
  },
  {
   "cell_type": "code",
   "execution_count": 100,
   "id": "3fe86b40",
   "metadata": {},
   "outputs": [],
   "source": [
    "recall = recall_score(y_train, y_pred)"
   ]
  },
  {
   "cell_type": "code",
   "execution_count": 101,
   "id": "e14fc250",
   "metadata": {},
   "outputs": [
    {
     "data": {
      "text/plain": [
       "0.9157894736842105"
      ]
     },
     "execution_count": 101,
     "metadata": {},
     "output_type": "execute_result"
    }
   ],
   "source": [
    "recall"
   ]
  },
  {
   "cell_type": "markdown",
   "id": "e1ceeb81",
   "metadata": {},
   "source": [
    "**F-1 score**"
   ]
  },
  {
   "cell_type": "code",
   "execution_count": 102,
   "id": "aef0e07e",
   "metadata": {},
   "outputs": [],
   "source": [
    "f1 = f1_score(y_train, y_pred)"
   ]
  },
  {
   "cell_type": "code",
   "execution_count": 103,
   "id": "3d0297ec",
   "metadata": {},
   "outputs": [
    {
     "data": {
      "text/plain": [
       "0.956043956043956"
      ]
     },
     "execution_count": 103,
     "metadata": {},
     "output_type": "execute_result"
    }
   ],
   "source": [
    "f1"
   ]
  },
  {
   "cell_type": "markdown",
   "id": "666b2f39",
   "metadata": {},
   "source": [
    "**Support**"
   ]
  },
  {
   "cell_type": "code",
   "execution_count": 104,
   "id": "1d70f1f6",
   "metadata": {},
   "outputs": [],
   "source": [
    "support_1 = true_positives + false_negatives \n",
    "support_0 = false_positives + true_negatives\n",
    "support_total = true_positives + false_negatives + false_positives + true_negatives"
   ]
  },
  {
   "cell_type": "code",
   "execution_count": 105,
   "id": "a89aaeb6",
   "metadata": {},
   "outputs": [
    {
     "name": "stdout",
     "output_type": "stream",
     "text": [
      "Support 1: 190\n",
      "Support 0: 307\n",
      "Support total: 497\n"
     ]
    }
   ],
   "source": [
    "print(f'Support 1: {support_1}')\n",
    "print(f'Support 0: {support_0}')\n",
    "print(f'Support total: {support_total}')"
   ]
  },
  {
   "cell_type": "markdown",
   "id": "6716f2dc",
   "metadata": {},
   "source": [
    "### Run through steps increasing your min_samples_leaf and decreasing your max_depth."
   ]
  },
  {
   "cell_type": "markdown",
   "id": "b9116ee2",
   "metadata": {},
   "source": [
    "This time, let's set min_samples_leaf to 3, and max_depth to 6."
   ]
  },
  {
   "cell_type": "code",
   "execution_count": 106,
   "id": "64657b82",
   "metadata": {},
   "outputs": [],
   "source": [
    "rf2 = RandomForestClassifier(bootstrap=True, \n",
    "                            class_weight=None, \n",
    "                            criterion='gini',\n",
    "                            min_samples_leaf=3,\n",
    "                            n_estimators=100,\n",
    "                            max_depth=6, \n",
    "                            random_state=123)"
   ]
  },
  {
   "cell_type": "markdown",
   "id": "bef68cd8",
   "metadata": {},
   "source": [
    "**Fit the model**"
   ]
  },
  {
   "cell_type": "code",
   "execution_count": 107,
   "id": "e6ca8643",
   "metadata": {},
   "outputs": [
    {
     "data": {
      "text/plain": [
       "RandomForestClassifier(max_depth=6, min_samples_leaf=3, random_state=123)"
      ]
     },
     "execution_count": 107,
     "metadata": {},
     "output_type": "execute_result"
    }
   ],
   "source": [
    "rf2.fit(X_train, y_train)"
   ]
  },
  {
   "cell_type": "markdown",
   "id": "d2101de1",
   "metadata": {},
   "source": [
    "**Feature importance**"
   ]
  },
  {
   "cell_type": "code",
   "execution_count": 108,
   "id": "8ba3504d",
   "metadata": {},
   "outputs": [
    {
     "data": {
      "text/html": [
       "<div>\n",
       "<style scoped>\n",
       "    .dataframe tbody tr th:only-of-type {\n",
       "        vertical-align: middle;\n",
       "    }\n",
       "\n",
       "    .dataframe tbody tr th {\n",
       "        vertical-align: top;\n",
       "    }\n",
       "\n",
       "    .dataframe thead th {\n",
       "        text-align: right;\n",
       "    }\n",
       "</style>\n",
       "<table border=\"1\" class=\"dataframe\">\n",
       "  <thead>\n",
       "    <tr style=\"text-align: right;\">\n",
       "      <th></th>\n",
       "      <th>0</th>\n",
       "    </tr>\n",
       "  </thead>\n",
       "  <tbody>\n",
       "    <tr>\n",
       "      <th>0</th>\n",
       "      <td>0.095989</td>\n",
       "    </tr>\n",
       "    <tr>\n",
       "      <th>1</th>\n",
       "      <td>0.096242</td>\n",
       "    </tr>\n",
       "    <tr>\n",
       "      <th>2</th>\n",
       "      <td>0.133684</td>\n",
       "    </tr>\n",
       "    <tr>\n",
       "      <th>3</th>\n",
       "      <td>0.047151</td>\n",
       "    </tr>\n",
       "    <tr>\n",
       "      <th>4</th>\n",
       "      <td>0.026138</td>\n",
       "    </tr>\n",
       "    <tr>\n",
       "      <th>5</th>\n",
       "      <td>0.169599</td>\n",
       "    </tr>\n",
       "    <tr>\n",
       "      <th>6</th>\n",
       "      <td>0.040284</td>\n",
       "    </tr>\n",
       "    <tr>\n",
       "      <th>7</th>\n",
       "      <td>0.004780</td>\n",
       "    </tr>\n",
       "    <tr>\n",
       "      <th>8</th>\n",
       "      <td>0.013097</td>\n",
       "    </tr>\n",
       "    <tr>\n",
       "      <th>9</th>\n",
       "      <td>0.355629</td>\n",
       "    </tr>\n",
       "    <tr>\n",
       "      <th>10</th>\n",
       "      <td>0.005959</td>\n",
       "    </tr>\n",
       "    <tr>\n",
       "      <th>11</th>\n",
       "      <td>0.011448</td>\n",
       "    </tr>\n",
       "  </tbody>\n",
       "</table>\n",
       "</div>"
      ],
      "text/plain": [
       "           0\n",
       "0   0.095989\n",
       "1   0.096242\n",
       "2   0.133684\n",
       "3   0.047151\n",
       "4   0.026138\n",
       "5   0.169599\n",
       "6   0.040284\n",
       "7   0.004780\n",
       "8   0.013097\n",
       "9   0.355629\n",
       "10  0.005959\n",
       "11  0.011448"
      ]
     },
     "execution_count": 108,
     "metadata": {},
     "output_type": "execute_result"
    }
   ],
   "source": [
    "pd.DataFrame(rf2.feature_importances_)"
   ]
  },
  {
   "cell_type": "markdown",
   "id": "5cc557f9",
   "metadata": {},
   "source": [
    "**Make predictions**"
   ]
  },
  {
   "cell_type": "code",
   "execution_count": 109,
   "id": "2cd42830",
   "metadata": {},
   "outputs": [
    {
     "data": {
      "text/html": [
       "<div>\n",
       "<style scoped>\n",
       "    .dataframe tbody tr th:only-of-type {\n",
       "        vertical-align: middle;\n",
       "    }\n",
       "\n",
       "    .dataframe tbody tr th {\n",
       "        vertical-align: top;\n",
       "    }\n",
       "\n",
       "    .dataframe thead th {\n",
       "        text-align: right;\n",
       "    }\n",
       "</style>\n",
       "<table border=\"1\" class=\"dataframe\">\n",
       "  <thead>\n",
       "    <tr style=\"text-align: right;\">\n",
       "      <th></th>\n",
       "      <th>0</th>\n",
       "    </tr>\n",
       "  </thead>\n",
       "  <tbody>\n",
       "    <tr>\n",
       "      <th>0</th>\n",
       "      <td>0</td>\n",
       "    </tr>\n",
       "    <tr>\n",
       "      <th>1</th>\n",
       "      <td>1</td>\n",
       "    </tr>\n",
       "    <tr>\n",
       "      <th>2</th>\n",
       "      <td>0</td>\n",
       "    </tr>\n",
       "    <tr>\n",
       "      <th>3</th>\n",
       "      <td>1</td>\n",
       "    </tr>\n",
       "    <tr>\n",
       "      <th>4</th>\n",
       "      <td>1</td>\n",
       "    </tr>\n",
       "    <tr>\n",
       "      <th>...</th>\n",
       "      <td>...</td>\n",
       "    </tr>\n",
       "    <tr>\n",
       "      <th>492</th>\n",
       "      <td>0</td>\n",
       "    </tr>\n",
       "    <tr>\n",
       "      <th>493</th>\n",
       "      <td>0</td>\n",
       "    </tr>\n",
       "    <tr>\n",
       "      <th>494</th>\n",
       "      <td>0</td>\n",
       "    </tr>\n",
       "    <tr>\n",
       "      <th>495</th>\n",
       "      <td>0</td>\n",
       "    </tr>\n",
       "    <tr>\n",
       "      <th>496</th>\n",
       "      <td>0</td>\n",
       "    </tr>\n",
       "  </tbody>\n",
       "</table>\n",
       "<p>497 rows × 1 columns</p>\n",
       "</div>"
      ],
      "text/plain": [
       "     0\n",
       "0    0\n",
       "1    1\n",
       "2    0\n",
       "3    1\n",
       "4    1\n",
       "..  ..\n",
       "492  0\n",
       "493  0\n",
       "494  0\n",
       "495  0\n",
       "496  0\n",
       "\n",
       "[497 rows x 1 columns]"
      ]
     },
     "execution_count": 109,
     "metadata": {},
     "output_type": "execute_result"
    }
   ],
   "source": [
    "y_pred = rf2.predict(X_train)\n",
    "pd.DataFrame(y_pred)"
   ]
  },
  {
   "cell_type": "markdown",
   "id": "468ad276",
   "metadata": {},
   "source": [
    "**Estimate probability**"
   ]
  },
  {
   "cell_type": "code",
   "execution_count": 110,
   "id": "9efe9dd1",
   "metadata": {},
   "outputs": [
    {
     "data": {
      "text/html": [
       "<div>\n",
       "<style scoped>\n",
       "    .dataframe tbody tr th:only-of-type {\n",
       "        vertical-align: middle;\n",
       "    }\n",
       "\n",
       "    .dataframe tbody tr th {\n",
       "        vertical-align: top;\n",
       "    }\n",
       "\n",
       "    .dataframe thead th {\n",
       "        text-align: right;\n",
       "    }\n",
       "</style>\n",
       "<table border=\"1\" class=\"dataframe\">\n",
       "  <thead>\n",
       "    <tr style=\"text-align: right;\">\n",
       "      <th></th>\n",
       "      <th>0</th>\n",
       "      <th>1</th>\n",
       "    </tr>\n",
       "  </thead>\n",
       "  <tbody>\n",
       "    <tr>\n",
       "      <th>0</th>\n",
       "      <td>0.691080</td>\n",
       "      <td>0.308920</td>\n",
       "    </tr>\n",
       "    <tr>\n",
       "      <th>1</th>\n",
       "      <td>0.046536</td>\n",
       "      <td>0.953464</td>\n",
       "    </tr>\n",
       "    <tr>\n",
       "      <th>2</th>\n",
       "      <td>0.914865</td>\n",
       "      <td>0.085135</td>\n",
       "    </tr>\n",
       "    <tr>\n",
       "      <th>3</th>\n",
       "      <td>0.098877</td>\n",
       "      <td>0.901123</td>\n",
       "    </tr>\n",
       "    <tr>\n",
       "      <th>4</th>\n",
       "      <td>0.227153</td>\n",
       "      <td>0.772847</td>\n",
       "    </tr>\n",
       "    <tr>\n",
       "      <th>...</th>\n",
       "      <td>...</td>\n",
       "      <td>...</td>\n",
       "    </tr>\n",
       "    <tr>\n",
       "      <th>492</th>\n",
       "      <td>0.892887</td>\n",
       "      <td>0.107113</td>\n",
       "    </tr>\n",
       "    <tr>\n",
       "      <th>493</th>\n",
       "      <td>0.898224</td>\n",
       "      <td>0.101776</td>\n",
       "    </tr>\n",
       "    <tr>\n",
       "      <th>494</th>\n",
       "      <td>0.845211</td>\n",
       "      <td>0.154789</td>\n",
       "    </tr>\n",
       "    <tr>\n",
       "      <th>495</th>\n",
       "      <td>0.722290</td>\n",
       "      <td>0.277710</td>\n",
       "    </tr>\n",
       "    <tr>\n",
       "      <th>496</th>\n",
       "      <td>0.837201</td>\n",
       "      <td>0.162799</td>\n",
       "    </tr>\n",
       "  </tbody>\n",
       "</table>\n",
       "<p>497 rows × 2 columns</p>\n",
       "</div>"
      ],
      "text/plain": [
       "            0         1\n",
       "0    0.691080  0.308920\n",
       "1    0.046536  0.953464\n",
       "2    0.914865  0.085135\n",
       "3    0.098877  0.901123\n",
       "4    0.227153  0.772847\n",
       "..        ...       ...\n",
       "492  0.892887  0.107113\n",
       "493  0.898224  0.101776\n",
       "494  0.845211  0.154789\n",
       "495  0.722290  0.277710\n",
       "496  0.837201  0.162799\n",
       "\n",
       "[497 rows x 2 columns]"
      ]
     },
     "execution_count": 110,
     "metadata": {},
     "output_type": "execute_result"
    }
   ],
   "source": [
    "y_pred_proba = rf2.predict_proba(X_train)\n",
    "pd.DataFrame(y_pred_proba)"
   ]
  },
  {
   "cell_type": "markdown",
   "id": "798537cd",
   "metadata": {},
   "source": [
    "**Compute accuracy**"
   ]
  },
  {
   "cell_type": "code",
   "execution_count": 111,
   "id": "565a4531",
   "metadata": {},
   "outputs": [
    {
     "name": "stdout",
     "output_type": "stream",
     "text": [
      "Accuracy of random forest classifier on training set: 0.87\n"
     ]
    }
   ],
   "source": [
    "print('Accuracy of random forest classifier on training set: {:.2f}'\n",
    "     .format(rf2.score(X_train, y_train)))"
   ]
  },
  {
   "cell_type": "markdown",
   "id": "e5ccf05c",
   "metadata": {},
   "source": [
    "**Create a confusion matrix**"
   ]
  },
  {
   "cell_type": "code",
   "execution_count": 112,
   "id": "f5462e78",
   "metadata": {},
   "outputs": [],
   "source": [
    "labels1 = ['died_actual', 'survived_actual']\n",
    "labels2 = ['died_predicted', 'survived_predicted']\n",
    "df_confusion_matrix = pd.DataFrame(confusion_matrix(y_train, y_pred), index=labels1, columns=labels2)"
   ]
  },
  {
   "cell_type": "code",
   "execution_count": 113,
   "id": "cbdec033",
   "metadata": {},
   "outputs": [
    {
     "data": {
      "text/html": [
       "<div>\n",
       "<style scoped>\n",
       "    .dataframe tbody tr th:only-of-type {\n",
       "        vertical-align: middle;\n",
       "    }\n",
       "\n",
       "    .dataframe tbody tr th {\n",
       "        vertical-align: top;\n",
       "    }\n",
       "\n",
       "    .dataframe thead th {\n",
       "        text-align: right;\n",
       "    }\n",
       "</style>\n",
       "<table border=\"1\" class=\"dataframe\">\n",
       "  <thead>\n",
       "    <tr style=\"text-align: right;\">\n",
       "      <th></th>\n",
       "      <th>died_predicted</th>\n",
       "      <th>survived_predicted</th>\n",
       "    </tr>\n",
       "  </thead>\n",
       "  <tbody>\n",
       "    <tr>\n",
       "      <th>died_actual</th>\n",
       "      <td>295</td>\n",
       "      <td>12</td>\n",
       "    </tr>\n",
       "    <tr>\n",
       "      <th>survived_actual</th>\n",
       "      <td>51</td>\n",
       "      <td>139</td>\n",
       "    </tr>\n",
       "  </tbody>\n",
       "</table>\n",
       "</div>"
      ],
      "text/plain": [
       "                 died_predicted  survived_predicted\n",
       "died_actual                 295                  12\n",
       "survived_actual              51                 139"
      ]
     },
     "execution_count": 113,
     "metadata": {},
     "output_type": "execute_result"
    }
   ],
   "source": [
    "df_confusion_matrix"
   ]
  },
  {
   "cell_type": "markdown",
   "id": "193c6f69",
   "metadata": {},
   "source": [
    "**Create a classification report**"
   ]
  },
  {
   "cell_type": "code",
   "execution_count": 114,
   "id": "a7f5c562",
   "metadata": {},
   "outputs": [
    {
     "ename": "TypeError",
     "evalue": "'dict' object is not callable",
     "output_type": "error",
     "traceback": [
      "\u001b[0;31m---------------------------------------------------------------------------\u001b[0m",
      "\u001b[0;31mTypeError\u001b[0m                                 Traceback (most recent call last)",
      "\u001b[0;32m<ipython-input-114-4b4f31f0ddb8>\u001b[0m in \u001b[0;36m<module>\u001b[0;34m\u001b[0m\n\u001b[0;32m----> 1\u001b[0;31m \u001b[0mclassification_report_2\u001b[0m \u001b[0;34m=\u001b[0m \u001b[0mclassification_report\u001b[0m\u001b[0;34m(\u001b[0m\u001b[0my_train\u001b[0m\u001b[0;34m,\u001b[0m \u001b[0my_pred\u001b[0m\u001b[0;34m,\u001b[0m \u001b[0moutput_dict\u001b[0m \u001b[0;34m=\u001b[0m \u001b[0;32mTrue\u001b[0m\u001b[0;34m)\u001b[0m\u001b[0;34m\u001b[0m\u001b[0;34m\u001b[0m\u001b[0m\n\u001b[0m",
      "\u001b[0;31mTypeError\u001b[0m: 'dict' object is not callable"
     ]
    }
   ],
   "source": [
    "classification_report_2 = classification_report(y_train, y_pred, output_dict = True)"
   ]
  },
  {
   "cell_type": "code",
   "execution_count": null,
   "id": "d408dd57",
   "metadata": {},
   "outputs": [],
   "source": [
    "df_classification_report_2 = pd.DataFrame(classification_report_2).T"
   ]
  },
  {
   "cell_type": "code",
   "execution_count": null,
   "id": "2e481a01",
   "metadata": {},
   "outputs": [],
   "source": [
    "df_classification_report_2"
   ]
  },
  {
   "cell_type": "markdown",
   "id": "25ce78b2",
   "metadata": {},
   "source": [
    "### What are the differences in the evaluation metrics? Which performs better on your in-sample data? Why?"
   ]
  },
  {
   "cell_type": "markdown",
   "id": "19ce4321",
   "metadata": {},
   "source": [
    "Let's compare the two classification reports for the evaluation metrics."
   ]
  },
  {
   "cell_type": "code",
   "execution_count": null,
   "id": "acfdfbae",
   "metadata": {},
   "outputs": [],
   "source": [
    "df_classification_report"
   ]
  },
  {
   "cell_type": "code",
   "execution_count": null,
   "id": "115a4eea",
   "metadata": {},
   "outputs": [],
   "source": [
    "df_classification_report_2"
   ]
  },
  {
   "cell_type": "markdown",
   "id": "dd8de0d2",
   "metadata": {},
   "source": [
    "The first sample with min_samples_leaf = 1 and max_depth = 10 performs better than the second sample. This is likely because we are using a higher max depth."
   ]
  },
  {
   "cell_type": "markdown",
   "id": "4f0b449d",
   "metadata": {},
   "source": [
    "# K-Nearest Neighbor"
   ]
  },
  {
   "cell_type": "code",
   "execution_count": 141,
   "id": "1c5fe5c8",
   "metadata": {},
   "outputs": [],
   "source": [
    "# ignore warnings\n",
    "import warnings\n",
    "warnings.filterwarnings(\"ignore\")\n",
    "\n",
    "import pandas as pd\n",
    "import numpy as np\n",
    "\n",
    "%matplotlib inline\n",
    "import matplotlib.pyplot as plt\n",
    "import seaborn as sns\n",
    "\n",
    "from sklearn.model_selection import train_test_split\n",
    "from sklearn.neighbors import KNeighborsClassifier\n",
    "from sklearn.metrics import classification_report\n",
    "from sklearn.metrics import confusion_matrix\n",
    "\n",
    "from pydataset import data"
   ]
  },
  {
   "cell_type": "markdown",
   "id": "a7edbbd1",
   "metadata": {},
   "source": [
    "## Fit a K-Nearest Neighbors classifier to your training sample and transform (i.e. make predictions on the training sample)."
   ]
  },
  {
   "cell_type": "markdown",
   "id": "f5c572fa",
   "metadata": {},
   "source": [
    "#### Create a KNN Object"
   ]
  },
  {
   "cell_type": "code",
   "execution_count": null,
   "id": "e87c1a00",
   "metadata": {},
   "outputs": [],
   "source": [
    "knn = KNeighborsClassifier(n_neighbors=5, weights='uniform')"
   ]
  },
  {
   "cell_type": "markdown",
   "id": "aa4c8c25",
   "metadata": {},
   "source": [
    "#### Fit the model to the training data"
   ]
  },
  {
   "cell_type": "code",
   "execution_count": null,
   "id": "cb54a659",
   "metadata": {},
   "outputs": [],
   "source": [
    "knn.fit(X_train, y_train)"
   ]
  },
  {
   "cell_type": "markdown",
   "id": "b91b0a6d",
   "metadata": {},
   "source": [
    "#### Make predictions"
   ]
  },
  {
   "cell_type": "code",
   "execution_count": null,
   "id": "f27d8f8a",
   "metadata": {},
   "outputs": [],
   "source": [
    "y_pred = knn.predict(X_train)"
   ]
  },
  {
   "cell_type": "code",
   "execution_count": null,
   "id": "8c581997",
   "metadata": {},
   "outputs": [],
   "source": [
    "y_pred2 = knn.predict(X_validate)"
   ]
  },
  {
   "cell_type": "markdown",
   "id": "a68ef81e",
   "metadata": {},
   "source": [
    "#### Estimate probability"
   ]
  },
  {
   "cell_type": "code",
   "execution_count": null,
   "id": "a8bccf06",
   "metadata": {},
   "outputs": [],
   "source": [
    "y_pred_proba = knn.predict_proba(X_train)"
   ]
  },
  {
   "cell_type": "code",
   "execution_count": null,
   "id": "ec8f0161",
   "metadata": {},
   "outputs": [],
   "source": [
    "df_probability = pd.DataFrame(y_pred_proba)"
   ]
  },
  {
   "cell_type": "code",
   "execution_count": null,
   "id": "863d65f9",
   "metadata": {},
   "outputs": [],
   "source": [
    "df_probability"
   ]
  },
  {
   "cell_type": "code",
   "execution_count": null,
   "id": "8f0ebc5b",
   "metadata": {},
   "outputs": [],
   "source": [
    "y_pred_proba2 = knn.predict_proba(X_validate)"
   ]
  },
  {
   "cell_type": "code",
   "execution_count": null,
   "id": "916957f6",
   "metadata": {},
   "outputs": [],
   "source": [
    "df_probability2 = pd.DataFrame(y_pred_proba2)"
   ]
  },
  {
   "cell_type": "code",
   "execution_count": null,
   "id": "446e25fe",
   "metadata": {},
   "outputs": [],
   "source": [
    "df_probability2"
   ]
  },
  {
   "cell_type": "markdown",
   "id": "ee25f159",
   "metadata": {},
   "source": [
    "## Evaluate your results using the model score, confusion matrix, and classification report."
   ]
  },
  {
   "cell_type": "markdown",
   "id": "0b172fd3",
   "metadata": {},
   "source": [
    "#### Model score"
   ]
  },
  {
   "cell_type": "code",
   "execution_count": null,
   "id": "73ca9f41",
   "metadata": {},
   "outputs": [],
   "source": [
    "print('Accuracy of KNN classifier on training set: {:.2f}'\n",
    "     .format(knn.score(X_train, y_train)))"
   ]
  },
  {
   "cell_type": "code",
   "execution_count": null,
   "id": "57566404",
   "metadata": {},
   "outputs": [],
   "source": [
    "print('Accuracy of KNN classifier on validate set: {:.2f}'\n",
    "     .format(knn.score(X_validate, y_validate)))"
   ]
  },
  {
   "cell_type": "markdown",
   "id": "027e2632",
   "metadata": {},
   "source": [
    "#### Confusion matrix"
   ]
  },
  {
   "cell_type": "code",
   "execution_count": null,
   "id": "4d6f1332",
   "metadata": {},
   "outputs": [],
   "source": [
    "labels1 = ['died_actual', 'survived_actual']\n",
    "labels2 = ['died_predict', 'survived_predict']\n",
    "df_knn_confusion_matrix = pd.DataFrame(confusion_matrix(y_train, y_pred), index = labels1, columns= labels2)"
   ]
  },
  {
   "cell_type": "code",
   "execution_count": null,
   "id": "21064357",
   "metadata": {},
   "outputs": [],
   "source": [
    "df_knn_confusion_matrix"
   ]
  },
  {
   "cell_type": "code",
   "execution_count": null,
   "id": "6abc702c",
   "metadata": {},
   "outputs": [],
   "source": [
    "df_knn_confusion_matrix_validate = pd.DataFrame(confusion_matrix(y_validate, y_pred2), index = labels1, columns= labels2)"
   ]
  },
  {
   "cell_type": "code",
   "execution_count": null,
   "id": "07caae96",
   "metadata": {},
   "outputs": [],
   "source": [
    "df_knn_confusion_matrix_validate"
   ]
  },
  {
   "cell_type": "markdown",
   "id": "dd0b4101",
   "metadata": {},
   "source": [
    "#### Classification report"
   ]
  },
  {
   "cell_type": "code",
   "execution_count": null,
   "id": "79c4f797",
   "metadata": {},
   "outputs": [],
   "source": [
    "df_knn_classification_report = pd.DataFrame(classification_report(y_train, y_pred, output_dict = True)).T"
   ]
  },
  {
   "cell_type": "code",
   "execution_count": null,
   "id": "a0857787",
   "metadata": {},
   "outputs": [],
   "source": [
    "df_knn_classification_report"
   ]
  },
  {
   "cell_type": "code",
   "execution_count": null,
   "id": "5bffeecc",
   "metadata": {},
   "outputs": [],
   "source": [
    "df_knn_classification_report_validate = pd.DataFrame(classification_report(y_validate, y_pred2, output_dict = True)).T"
   ]
  },
  {
   "cell_type": "code",
   "execution_count": null,
   "id": "9549115c",
   "metadata": {},
   "outputs": [],
   "source": [
    "df_knn_classification_report_validate"
   ]
  },
  {
   "cell_type": "markdown",
   "id": "f751ea7a",
   "metadata": {},
   "source": [
    "## Print and clearly label the following: Accuracy, true positive rate, false positive rate, true negative rate, false negative rate, precision, recall, f1-score, and support."
   ]
  },
  {
   "cell_type": "code",
   "execution_count": 140,
   "id": "cf2ba1b4",
   "metadata": {},
   "outputs": [],
   "source": [
    "from sklearn.metrics import accuracy_score\n",
    "from sklearn.metrics import precision_score\n",
    "from sklearn.metrics import recall_score\n",
    "from sklearn.metrics import f1_score"
   ]
  },
  {
   "cell_type": "code",
   "execution_count": null,
   "id": "45033c35",
   "metadata": {},
   "outputs": [],
   "source": [
    "true_positives = 101 \n",
    "false_positives = 36 \n",
    "true_negatives = 271\n",
    "false_negatives = 89"
   ]
  },
  {
   "cell_type": "markdown",
   "id": "667a5c8e",
   "metadata": {},
   "source": [
    "#### Accuracy"
   ]
  },
  {
   "cell_type": "code",
   "execution_count": null,
   "id": "41815e06",
   "metadata": {},
   "outputs": [],
   "source": [
    "model_accuracy = accuracy_score(y_train, y_pred)\n",
    "model_accuracy"
   ]
  },
  {
   "cell_type": "markdown",
   "id": "a9b33228",
   "metadata": {},
   "source": [
    "#### True positive rate"
   ]
  },
  {
   "cell_type": "code",
   "execution_count": null,
   "id": "c4d3944b",
   "metadata": {},
   "outputs": [],
   "source": [
    "true_positive_rate = (true_positives)/(true_positives + false_negatives)\n",
    "true_positive_rate"
   ]
  },
  {
   "cell_type": "markdown",
   "id": "bebdb349",
   "metadata": {},
   "source": [
    "#### False positive rate"
   ]
  },
  {
   "cell_type": "code",
   "execution_count": null,
   "id": "d28ff9e6",
   "metadata": {},
   "outputs": [],
   "source": [
    "false_positive_rate = (false_positives)/(false_positives + true_negatives)\n",
    "false_positive_rate"
   ]
  },
  {
   "cell_type": "markdown",
   "id": "7f377cbb",
   "metadata": {},
   "source": [
    "#### True negative rate"
   ]
  },
  {
   "cell_type": "code",
   "execution_count": null,
   "id": "efedcc40",
   "metadata": {},
   "outputs": [],
   "source": [
    "true_negative_rate = (true_negatives)/(false_positives + true_negatives)\n",
    "true_negative_rate"
   ]
  },
  {
   "cell_type": "markdown",
   "id": "b65edb92",
   "metadata": {},
   "source": [
    "#### False negative rate"
   ]
  },
  {
   "cell_type": "code",
   "execution_count": null,
   "id": "85f13c7f",
   "metadata": {},
   "outputs": [],
   "source": [
    "false_negative_rate = (false_negatives)/(true_positives + false_negatives)\n",
    "false_negative_rate"
   ]
  },
  {
   "cell_type": "markdown",
   "id": "694ef482",
   "metadata": {},
   "source": [
    "#### Precision score"
   ]
  },
  {
   "cell_type": "code",
   "execution_count": null,
   "id": "63f3821c",
   "metadata": {},
   "outputs": [],
   "source": [
    "precision = precision_score(y_train, y_pred)\n",
    "precision"
   ]
  },
  {
   "cell_type": "markdown",
   "id": "7675f4bd",
   "metadata": {},
   "source": [
    "#### Recall score"
   ]
  },
  {
   "cell_type": "code",
   "execution_count": null,
   "id": "32477638",
   "metadata": {},
   "outputs": [],
   "source": [
    "recall = recall_score(y_train, y_pred)\n",
    "recall"
   ]
  },
  {
   "cell_type": "markdown",
   "id": "476741b7",
   "metadata": {},
   "source": [
    "#### f1 score"
   ]
  },
  {
   "cell_type": "code",
   "execution_count": null,
   "id": "24b189b2",
   "metadata": {},
   "outputs": [],
   "source": [
    "f1 = f1_score(y_train, y_pred)\n",
    "f1"
   ]
  },
  {
   "cell_type": "markdown",
   "id": "551acd2e",
   "metadata": {},
   "source": [
    "#### Support"
   ]
  },
  {
   "cell_type": "code",
   "execution_count": null,
   "id": "88a967c1",
   "metadata": {},
   "outputs": [],
   "source": [
    "support_1 = true_positives + false_negatives \n",
    "support_0 = false_positives + true_negatives\n",
    "support_total = true_positives + false_negatives + false_positives + true_negatives"
   ]
  },
  {
   "cell_type": "code",
   "execution_count": null,
   "id": "05609976",
   "metadata": {},
   "outputs": [],
   "source": [
    "print(f'Support 1: {support_1}')\n",
    "print(f'Support 0: {support_0}')\n",
    "print(f'Support total: {support_total}')"
   ]
  },
  {
   "cell_type": "markdown",
   "id": "0dff35b7",
   "metadata": {},
   "source": [
    "## Run through steps 2-4 setting k to 10"
   ]
  },
  {
   "cell_type": "markdown",
   "id": "2c5f8a1c",
   "metadata": {},
   "source": [
    "#### Create a KNN object"
   ]
  },
  {
   "cell_type": "code",
   "execution_count": null,
   "id": "420e670a",
   "metadata": {},
   "outputs": [],
   "source": [
    "knn_10 = KNeighborsClassifier(n_neighbors=10, weights='uniform')"
   ]
  },
  {
   "cell_type": "markdown",
   "id": "461e404a",
   "metadata": {},
   "source": [
    "#### Fit the model to the training  data"
   ]
  },
  {
   "cell_type": "code",
   "execution_count": null,
   "id": "86fb58bc",
   "metadata": {},
   "outputs": [],
   "source": [
    "knn_10.fit(X_train, y_train)"
   ]
  },
  {
   "cell_type": "markdown",
   "id": "083147da",
   "metadata": {},
   "source": [
    "#### Make predictions"
   ]
  },
  {
   "cell_type": "code",
   "execution_count": null,
   "id": "d88e6e80",
   "metadata": {},
   "outputs": [],
   "source": [
    "y_pred_10_train = knn_10.predict(X_train)"
   ]
  },
  {
   "cell_type": "code",
   "execution_count": null,
   "id": "a145ecd3",
   "metadata": {},
   "outputs": [],
   "source": [
    "y_pred_10_validate = knn_10.predict(X_validate)"
   ]
  },
  {
   "cell_type": "markdown",
   "id": "a4f214f3",
   "metadata": {},
   "source": [
    "#### Estimate probability "
   ]
  },
  {
   "cell_type": "code",
   "execution_count": null,
   "id": "aeb6e180",
   "metadata": {},
   "outputs": [],
   "source": [
    "y_pred_proba_10_train = knn_10.predict_proba(X_train)\n",
    "df_prob_10_train = pd.DataFrame(y_pred_proba_10_train)\n",
    "df_prob_10_train.head()"
   ]
  },
  {
   "cell_type": "code",
   "execution_count": null,
   "id": "8959e1cd",
   "metadata": {},
   "outputs": [],
   "source": [
    "y_pred_proba_10_validate = knn_10.predict_proba(X_validate)\n",
    "df_prob_10_validate = pd.DataFrame(y_pred_proba_10_validate)\n",
    "df_prob_10_validate.head()"
   ]
  },
  {
   "cell_type": "markdown",
   "id": "026ad103",
   "metadata": {},
   "source": [
    "#### Model score"
   ]
  },
  {
   "cell_type": "code",
   "execution_count": null,
   "id": "6239d33d",
   "metadata": {},
   "outputs": [],
   "source": [
    "print('Accuracy of KNN classifier on training set: {:.2f}'\n",
    "     .format(knn_10.score(X_train, y_train)))"
   ]
  },
  {
   "cell_type": "code",
   "execution_count": null,
   "id": "37ddc464",
   "metadata": {},
   "outputs": [],
   "source": [
    "print('Accuracy of KNN classifier on training set: {:.2f}'\n",
    "     .format(knn_10.score(X_validate, y_validate)))"
   ]
  },
  {
   "cell_type": "markdown",
   "id": "19a2de4f",
   "metadata": {},
   "source": [
    "#### Confusion matrix"
   ]
  },
  {
   "cell_type": "code",
   "execution_count": null,
   "id": "6329b74b",
   "metadata": {},
   "outputs": [],
   "source": [
    "labels1 = ['died_actual', 'survived_actual']\n",
    "labels2 = ['died_predict', 'survived_predict']\n",
    "df_knn_10_confusion_matrix = pd.DataFrame(confusion_matrix(y_train, y_pred_10_train), index = labels1, columns= labels2)"
   ]
  },
  {
   "cell_type": "code",
   "execution_count": null,
   "id": "6b736159",
   "metadata": {},
   "outputs": [],
   "source": [
    "df_knn_10_confusion_matrix"
   ]
  },
  {
   "cell_type": "code",
   "execution_count": null,
   "id": "59c5b602",
   "metadata": {},
   "outputs": [],
   "source": [
    "df_knn_10_confusion_matrix_validate = pd.DataFrame(confusion_matrix(y_validate, y_pred_10_validate), index = labels1, columns= labels2)"
   ]
  },
  {
   "cell_type": "code",
   "execution_count": null,
   "id": "76e1634f",
   "metadata": {},
   "outputs": [],
   "source": [
    "df_knn_10_confusion_matrix_validate"
   ]
  },
  {
   "cell_type": "markdown",
   "id": "acf3d95e",
   "metadata": {},
   "source": [
    "#### Classification report"
   ]
  },
  {
   "cell_type": "code",
   "execution_count": null,
   "id": "3a2c0d88",
   "metadata": {},
   "outputs": [],
   "source": [
    "df_knn_10_train_classification_report = pd.DataFrame(classification_report(y_train, y_pred_10_train, output_dict = True)).T"
   ]
  },
  {
   "cell_type": "code",
   "execution_count": null,
   "id": "2ecd1148",
   "metadata": {},
   "outputs": [],
   "source": [
    "df_knn_10_train_classification_report"
   ]
  },
  {
   "cell_type": "code",
   "execution_count": null,
   "id": "476bf910",
   "metadata": {},
   "outputs": [],
   "source": [
    "df_knn_10_validate_classification_report = pd.DataFrame(classification_report(y_validate, y_pred_10_validate, output_dict = True)).T"
   ]
  },
  {
   "cell_type": "code",
   "execution_count": null,
   "id": "4a891c5c",
   "metadata": {},
   "outputs": [],
   "source": [
    "df_knn_10_validate_classification_report"
   ]
  },
  {
   "cell_type": "markdown",
   "id": "9564dd8a",
   "metadata": {},
   "source": [
    "## Run through setps 2-4 setting k to 20"
   ]
  },
  {
   "cell_type": "markdown",
   "id": "b7ff4e59",
   "metadata": {},
   "source": [
    "#### Create a KNN object"
   ]
  },
  {
   "cell_type": "code",
   "execution_count": null,
   "id": "88708641",
   "metadata": {},
   "outputs": [],
   "source": [
    "knn_20 = KNeighborsClassifier(n_neighbors=20, weights='uniform')"
   ]
  },
  {
   "cell_type": "markdown",
   "id": "0a086957",
   "metadata": {},
   "source": [
    "#### Fit the model to the training data"
   ]
  },
  {
   "cell_type": "code",
   "execution_count": null,
   "id": "d41a0df3",
   "metadata": {},
   "outputs": [],
   "source": [
    "knn_20.fit(X_train, y_train)"
   ]
  },
  {
   "cell_type": "markdown",
   "id": "1314d7e1",
   "metadata": {},
   "source": [
    "#### Make predictions"
   ]
  },
  {
   "cell_type": "code",
   "execution_count": null,
   "id": "114df46e",
   "metadata": {},
   "outputs": [],
   "source": [
    "y_pred_20_train = knn_20.predict(X_train)"
   ]
  },
  {
   "cell_type": "code",
   "execution_count": null,
   "id": "f2332d7b",
   "metadata": {},
   "outputs": [],
   "source": [
    "y_pred_20_validate = knn_20.predict(X_validate)"
   ]
  },
  {
   "cell_type": "markdown",
   "id": "e02d29c6",
   "metadata": {},
   "source": [
    "#### Estimate probability"
   ]
  },
  {
   "cell_type": "code",
   "execution_count": null,
   "id": "245dae3a",
   "metadata": {},
   "outputs": [],
   "source": [
    "y_pred_proba_20_train = knn_20.predict_proba(X_train)\n",
    "df_prob_20_train = pd.DataFrame(y_pred_proba_20_train)\n",
    "df_prob_20_train.head()"
   ]
  },
  {
   "cell_type": "code",
   "execution_count": null,
   "id": "bd95ff88",
   "metadata": {},
   "outputs": [],
   "source": [
    "y_pred_proba_20_validate = knn_20.predict_proba(X_validate)\n",
    "df_prob_20_validate = pd.DataFrame(y_pred_proba_20_validate)\n",
    "df_prob_20_validate.head()"
   ]
  },
  {
   "cell_type": "markdown",
   "id": "8debaeb0",
   "metadata": {},
   "source": [
    "#### Model score"
   ]
  },
  {
   "cell_type": "code",
   "execution_count": null,
   "id": "2ce7bdd5",
   "metadata": {},
   "outputs": [],
   "source": [
    "print('Accuracy of KNN classifier on training set: {:.2f}'\n",
    "     .format(knn_20.score(X_train, y_train)))"
   ]
  },
  {
   "cell_type": "code",
   "execution_count": null,
   "id": "de4015ed",
   "metadata": {},
   "outputs": [],
   "source": [
    "print('Accuracy of KNN classifier on validate set: {:.2f}'\n",
    "     .format(knn_20.score(X_validate, y_validate)))"
   ]
  },
  {
   "cell_type": "markdown",
   "id": "c96e39a0",
   "metadata": {},
   "source": [
    "#### Confusion matrix"
   ]
  },
  {
   "cell_type": "code",
   "execution_count": null,
   "id": "6fd1d7aa",
   "metadata": {},
   "outputs": [],
   "source": [
    "labels1 = ['died_actual', 'survived_actual']\n",
    "labels2 = ['died_predict', 'survived_predict']\n",
    "df_knn_20_train_confusion_matrix = pd.DataFrame(confusion_matrix(y_train, y_pred_20_train), index = labels1, columns= labels2)"
   ]
  },
  {
   "cell_type": "code",
   "execution_count": null,
   "id": "3a35cb5f",
   "metadata": {},
   "outputs": [],
   "source": [
    "df_knn_20_train_confusion_matrix"
   ]
  },
  {
   "cell_type": "code",
   "execution_count": null,
   "id": "1e1ee048",
   "metadata": {},
   "outputs": [],
   "source": [
    "df_knn_20_validate_confusion_matrix = pd.DataFrame(confusion_matrix(y_validate, y_pred_20_validate), index = labels1, columns= labels2)"
   ]
  },
  {
   "cell_type": "code",
   "execution_count": null,
   "id": "b3aa1ca3",
   "metadata": {},
   "outputs": [],
   "source": [
    "df_knn_20_validate_confusion_matrix"
   ]
  },
  {
   "cell_type": "markdown",
   "id": "89cc50ad",
   "metadata": {},
   "source": [
    "#### Classification report"
   ]
  },
  {
   "cell_type": "code",
   "execution_count": null,
   "id": "d833b9fa",
   "metadata": {},
   "outputs": [],
   "source": [
    "df_knn_20_train_classification_report = pd.DataFrame(classification_report(y_train, y_pred_20_train, output_dict = True)).T"
   ]
  },
  {
   "cell_type": "code",
   "execution_count": null,
   "id": "cb570365",
   "metadata": {},
   "outputs": [],
   "source": [
    "df_knn_20_train_classification_report"
   ]
  },
  {
   "cell_type": "code",
   "execution_count": null,
   "id": "fbac69ba",
   "metadata": {},
   "outputs": [],
   "source": [
    "df_knn_20_validate_classification_report = pd.DataFrame(classification_report(y_validate, y_pred_20_validate, output_dict = True)).T"
   ]
  },
  {
   "cell_type": "code",
   "execution_count": null,
   "id": "bf6ace6a",
   "metadata": {},
   "outputs": [],
   "source": [
    "df_knn_20_validate_classification_report"
   ]
  },
  {
   "cell_type": "markdown",
   "id": "bec6d984",
   "metadata": {},
   "source": [
    "## What are the differences in the evaluation metrics? Which performs better on your in-sample data? Why?"
   ]
  },
  {
   "cell_type": "code",
   "execution_count": null,
   "id": "58fae1c8",
   "metadata": {},
   "outputs": [],
   "source": [
    "df_knn_classification_report"
   ]
  },
  {
   "cell_type": "code",
   "execution_count": null,
   "id": "f4975d1e",
   "metadata": {},
   "outputs": [],
   "source": [
    "df_knn_10_train_classification_report"
   ]
  },
  {
   "cell_type": "code",
   "execution_count": null,
   "id": "33fe95a5",
   "metadata": {},
   "outputs": [],
   "source": [
    "df_knn_20_train_classification_report"
   ]
  },
  {
   "cell_type": "markdown",
   "id": "14539eba",
   "metadata": {},
   "source": [
    "On the in-training data, k=5 performs the best. K=10 performs second best, with K=20 performing the worst. \n",
    "\n",
    "The curse of dimensionality may be to blame for the difference in performance."
   ]
  },
  {
   "cell_type": "markdown",
   "id": "626e9ddf",
   "metadata": {},
   "source": [
    "## Which model performs best on our out-of-sample data from validate?"
   ]
  },
  {
   "cell_type": "code",
   "execution_count": null,
   "id": "b6cc298d",
   "metadata": {},
   "outputs": [],
   "source": [
    "df_knn_classification_report_validate"
   ]
  },
  {
   "cell_type": "code",
   "execution_count": null,
   "id": "ab759656",
   "metadata": {},
   "outputs": [],
   "source": [
    "df_knn_10_validate_classification_report"
   ]
  },
  {
   "cell_type": "code",
   "execution_count": null,
   "id": "9e48960f",
   "metadata": {},
   "outputs": [],
   "source": [
    "df_knn_20_validate_classification_report"
   ]
  },
  {
   "cell_type": "markdown",
   "id": "ba3837c1",
   "metadata": {},
   "source": [
    "For the validate dataset, K=20 is the most accurate. K=10 is the second most accurate. K=5 is the least accurate."
   ]
  },
  {
   "cell_type": "markdown",
   "id": "3d7e163d",
   "metadata": {},
   "source": [
    "# Logistic Regression"
   ]
  },
  {
   "cell_type": "code",
   "execution_count": 333,
   "id": "42e5904d",
   "metadata": {},
   "outputs": [],
   "source": [
    "from sklearn.linear_model import LogisticRegression"
   ]
  },
  {
   "cell_type": "markdown",
   "id": "a803ba21",
   "metadata": {},
   "source": [
    "First, we will obtain and clean data for logistic regression."
   ]
  },
  {
   "cell_type": "code",
   "execution_count": 334,
   "id": "32d558cc",
   "metadata": {},
   "outputs": [
    {
     "data": {
      "text/plain": [
       "((497, 15), (214, 15), (178, 15))"
      ]
     },
     "execution_count": 334,
     "metadata": {},
     "output_type": "execute_result"
    }
   ],
   "source": [
    "train, validate, test = prepare.prep_titanic(acquire.get_titanic_data())\n",
    "train.shape, validate.shape, test.shape"
   ]
  },
  {
   "cell_type": "code",
   "execution_count": 335,
   "id": "3ebefba6",
   "metadata": {},
   "outputs": [],
   "source": [
    "X_train, y_train = train.drop(columns='survived'), train.survived\n",
    "X_validate, y_validate = validate.drop(columns='survived'), validate.survived\n",
    "X_test, y_test = test.drop(columns='survived'), test.survived"
   ]
  },
  {
   "cell_type": "code",
   "execution_count": 336,
   "id": "a876cb81",
   "metadata": {},
   "outputs": [],
   "source": [
    "def clean_data(df):\n",
    "    '''\n",
    "    This function will drop any duplicate observations, \n",
    "    drop ['deck', 'embarked', 'class', 'age'], fill missing embark_town with 'Southampton'\n",
    "    and create dummy vars from sex and embark_town. \n",
    "    '''\n",
    "    df = df.drop_duplicates()\n",
    "    df = df.drop(columns=['embarked', 'class'])\n",
    "    df['embark_town'] = df.embark_town.fillna(value='Southampton')\n",
    "    dummy_df = pd.get_dummies(df[['sex', 'embark_town']], drop_first=True)\n",
    "    df = pd.concat([df, dummy_df], axis=1)\n",
    "    return df"
   ]
  },
  {
   "cell_type": "code",
   "execution_count": 337,
   "id": "ffd42038",
   "metadata": {},
   "outputs": [],
   "source": [
    "X_train = clean_data(X_train)"
   ]
  },
  {
   "cell_type": "code",
   "execution_count": 338,
   "id": "6646a00d",
   "metadata": {},
   "outputs": [],
   "source": [
    "X_validate = clean_data(X_validate)"
   ]
  },
  {
   "cell_type": "code",
   "execution_count": 339,
   "id": "fea1f000",
   "metadata": {},
   "outputs": [],
   "source": [
    "new_columns = ['age', 'fare', 'pclass']\n",
    "X_train_1 = X_train[new_columns]\n",
    "X_validate_1 = X_validate[new_columns]"
   ]
  },
  {
   "cell_type": "code",
   "execution_count": 340,
   "id": "8d24c852",
   "metadata": {},
   "outputs": [
    {
     "data": {
      "text/html": [
       "<div>\n",
       "<style scoped>\n",
       "    .dataframe tbody tr th:only-of-type {\n",
       "        vertical-align: middle;\n",
       "    }\n",
       "\n",
       "    .dataframe tbody tr th {\n",
       "        vertical-align: top;\n",
       "    }\n",
       "\n",
       "    .dataframe thead th {\n",
       "        text-align: right;\n",
       "    }\n",
       "</style>\n",
       "<table border=\"1\" class=\"dataframe\">\n",
       "  <thead>\n",
       "    <tr style=\"text-align: right;\">\n",
       "      <th></th>\n",
       "      <th>age</th>\n",
       "      <th>fare</th>\n",
       "      <th>pclass</th>\n",
       "    </tr>\n",
       "  </thead>\n",
       "  <tbody>\n",
       "    <tr>\n",
       "      <th>583</th>\n",
       "      <td>36.000000</td>\n",
       "      <td>40.1250</td>\n",
       "      <td>1</td>\n",
       "    </tr>\n",
       "    <tr>\n",
       "      <th>337</th>\n",
       "      <td>41.000000</td>\n",
       "      <td>134.5000</td>\n",
       "      <td>1</td>\n",
       "    </tr>\n",
       "    <tr>\n",
       "      <th>50</th>\n",
       "      <td>7.000000</td>\n",
       "      <td>39.6875</td>\n",
       "      <td>3</td>\n",
       "    </tr>\n",
       "    <tr>\n",
       "      <th>218</th>\n",
       "      <td>32.000000</td>\n",
       "      <td>76.2917</td>\n",
       "      <td>1</td>\n",
       "    </tr>\n",
       "    <tr>\n",
       "      <th>31</th>\n",
       "      <td>29.916875</td>\n",
       "      <td>146.5208</td>\n",
       "      <td>1</td>\n",
       "    </tr>\n",
       "  </tbody>\n",
       "</table>\n",
       "</div>"
      ],
      "text/plain": [
       "           age      fare  pclass\n",
       "583  36.000000   40.1250       1\n",
       "337  41.000000  134.5000       1\n",
       "50    7.000000   39.6875       3\n",
       "218  32.000000   76.2917       1\n",
       "31   29.916875  146.5208       1"
      ]
     },
     "execution_count": 340,
     "metadata": {},
     "output_type": "execute_result"
    }
   ],
   "source": [
    "X_train_1.head()"
   ]
  },
  {
   "cell_type": "code",
   "execution_count": 341,
   "id": "6d2413ce",
   "metadata": {},
   "outputs": [
    {
     "data": {
      "text/html": [
       "<div>\n",
       "<style scoped>\n",
       "    .dataframe tbody tr th:only-of-type {\n",
       "        vertical-align: middle;\n",
       "    }\n",
       "\n",
       "    .dataframe tbody tr th {\n",
       "        vertical-align: top;\n",
       "    }\n",
       "\n",
       "    .dataframe thead th {\n",
       "        text-align: right;\n",
       "    }\n",
       "</style>\n",
       "<table border=\"1\" class=\"dataframe\">\n",
       "  <thead>\n",
       "    <tr style=\"text-align: right;\">\n",
       "      <th></th>\n",
       "      <th>age</th>\n",
       "      <th>fare</th>\n",
       "      <th>pclass</th>\n",
       "    </tr>\n",
       "  </thead>\n",
       "  <tbody>\n",
       "    <tr>\n",
       "      <th>610</th>\n",
       "      <td>39.000000</td>\n",
       "      <td>31.2750</td>\n",
       "      <td>3</td>\n",
       "    </tr>\n",
       "    <tr>\n",
       "      <th>424</th>\n",
       "      <td>18.000000</td>\n",
       "      <td>20.2125</td>\n",
       "      <td>3</td>\n",
       "    </tr>\n",
       "    <tr>\n",
       "      <th>568</th>\n",
       "      <td>29.916875</td>\n",
       "      <td>7.2292</td>\n",
       "      <td>3</td>\n",
       "    </tr>\n",
       "    <tr>\n",
       "      <th>701</th>\n",
       "      <td>35.000000</td>\n",
       "      <td>26.2875</td>\n",
       "      <td>1</td>\n",
       "    </tr>\n",
       "    <tr>\n",
       "      <th>101</th>\n",
       "      <td>29.916875</td>\n",
       "      <td>7.8958</td>\n",
       "      <td>3</td>\n",
       "    </tr>\n",
       "  </tbody>\n",
       "</table>\n",
       "</div>"
      ],
      "text/plain": [
       "           age     fare  pclass\n",
       "610  39.000000  31.2750       3\n",
       "424  18.000000  20.2125       3\n",
       "568  29.916875   7.2292       3\n",
       "701  35.000000  26.2875       1\n",
       "101  29.916875   7.8958       3"
      ]
     },
     "execution_count": 341,
     "metadata": {},
     "output_type": "execute_result"
    }
   ],
   "source": [
    "X_validate_1.head()"
   ]
  },
  {
   "cell_type": "markdown",
   "id": "b5742a14",
   "metadata": {},
   "source": [
    "### Create a model that includes age in addition to fare and pclass. "
   ]
  },
  {
   "cell_type": "markdown",
   "id": "6cfdd822",
   "metadata": {},
   "source": [
    "#### Create the object"
   ]
  },
  {
   "cell_type": "code",
   "execution_count": 342,
   "id": "a0c9fc84",
   "metadata": {},
   "outputs": [],
   "source": [
    "logit = LogisticRegression(C=1, random_state=123)"
   ]
  },
  {
   "cell_type": "markdown",
   "id": "6a345f5c",
   "metadata": {},
   "source": [
    "#### Fit the model"
   ]
  },
  {
   "cell_type": "code",
   "execution_count": 343,
   "id": "01b3c881",
   "metadata": {},
   "outputs": [
    {
     "data": {
      "text/plain": [
       "LogisticRegression(C=1, random_state=123)"
      ]
     },
     "execution_count": 343,
     "metadata": {},
     "output_type": "execute_result"
    }
   ],
   "source": [
    "logit.fit(X_train_1, y_train)"
   ]
  },
  {
   "cell_type": "markdown",
   "id": "8cb6b185",
   "metadata": {},
   "source": [
    "#### Feature importance"
   ]
  },
  {
   "cell_type": "code",
   "execution_count": 344,
   "id": "325b66ec",
   "metadata": {},
   "outputs": [
    {
     "name": "stdout",
     "output_type": "stream",
     "text": [
      "Coefficient: \n",
      " [[-0.03051881  0.00266519 -0.97983178]]\n",
      "Intercept: \n",
      " [2.52970125]\n"
     ]
    }
   ],
   "source": [
    "print('Coefficient: \\n', logit.coef_)\n",
    "print('Intercept: \\n', logit.intercept_)"
   ]
  },
  {
   "cell_type": "markdown",
   "id": "9ced9432",
   "metadata": {},
   "source": [
    "#### Make predictions"
   ]
  },
  {
   "cell_type": "code",
   "execution_count": 345,
   "id": "ba73cb19",
   "metadata": {},
   "outputs": [],
   "source": [
    "y_pred_1_train = logit.predict(X_train_1)"
   ]
  },
  {
   "cell_type": "code",
   "execution_count": 346,
   "id": "eafd9d0f",
   "metadata": {},
   "outputs": [],
   "source": [
    "y_pred_1_validate = logit.predict(X_validate_1)"
   ]
  },
  {
   "cell_type": "markdown",
   "id": "9f6d0bb6",
   "metadata": {},
   "source": [
    "#### Estimate probability"
   ]
  },
  {
   "cell_type": "code",
   "execution_count": 347,
   "id": "6e81ad76",
   "metadata": {},
   "outputs": [
    {
     "data": {
      "text/html": [
       "<div>\n",
       "<style scoped>\n",
       "    .dataframe tbody tr th:only-of-type {\n",
       "        vertical-align: middle;\n",
       "    }\n",
       "\n",
       "    .dataframe tbody tr th {\n",
       "        vertical-align: top;\n",
       "    }\n",
       "\n",
       "    .dataframe thead th {\n",
       "        text-align: right;\n",
       "    }\n",
       "</style>\n",
       "<table border=\"1\" class=\"dataframe\">\n",
       "  <thead>\n",
       "    <tr style=\"text-align: right;\">\n",
       "      <th></th>\n",
       "      <th>survived</th>\n",
       "      <th>died</th>\n",
       "    </tr>\n",
       "  </thead>\n",
       "  <tbody>\n",
       "    <tr>\n",
       "      <th>0</th>\n",
       "      <td>0.363980</td>\n",
       "      <td>0.636020</td>\n",
       "    </tr>\n",
       "    <tr>\n",
       "      <th>1</th>\n",
       "      <td>0.341399</td>\n",
       "      <td>0.658601</td>\n",
       "    </tr>\n",
       "    <tr>\n",
       "      <th>2</th>\n",
       "      <td>0.626598</td>\n",
       "      <td>0.373402</td>\n",
       "    </tr>\n",
       "    <tr>\n",
       "      <th>3</th>\n",
       "      <td>0.315053</td>\n",
       "      <td>0.684947</td>\n",
       "    </tr>\n",
       "    <tr>\n",
       "      <th>4</th>\n",
       "      <td>0.263599</td>\n",
       "      <td>0.736401</td>\n",
       "    </tr>\n",
       "  </tbody>\n",
       "</table>\n",
       "</div>"
      ],
      "text/plain": [
       "   survived      died\n",
       "0  0.363980  0.636020\n",
       "1  0.341399  0.658601\n",
       "2  0.626598  0.373402\n",
       "3  0.315053  0.684947\n",
       "4  0.263599  0.736401"
      ]
     },
     "execution_count": 347,
     "metadata": {},
     "output_type": "execute_result"
    }
   ],
   "source": [
    "y_pred_proba_train_1 = logit.predict_proba(X_train_1)\n",
    "df_y_pred_proba_train_1 = pd.DataFrame(y_pred_proba_train_1, columns = ['survived', 'died'])\n",
    "df_y_pred_proba_train_1.head()"
   ]
  },
  {
   "cell_type": "code",
   "execution_count": 348,
   "id": "86bb02dc",
   "metadata": {},
   "outputs": [
    {
     "data": {
      "text/html": [
       "<div>\n",
       "<style scoped>\n",
       "    .dataframe tbody tr th:only-of-type {\n",
       "        vertical-align: middle;\n",
       "    }\n",
       "\n",
       "    .dataframe tbody tr th {\n",
       "        vertical-align: top;\n",
       "    }\n",
       "\n",
       "    .dataframe thead th {\n",
       "        text-align: right;\n",
       "    }\n",
       "</style>\n",
       "<table border=\"1\" class=\"dataframe\">\n",
       "  <thead>\n",
       "    <tr style=\"text-align: right;\">\n",
       "      <th></th>\n",
       "      <th>survived</th>\n",
       "      <th>died</th>\n",
       "    </tr>\n",
       "  </thead>\n",
       "  <tbody>\n",
       "    <tr>\n",
       "      <th>0</th>\n",
       "      <td>0.820048</td>\n",
       "      <td>0.179952</td>\n",
       "    </tr>\n",
       "    <tr>\n",
       "      <th>1</th>\n",
       "      <td>0.712030</td>\n",
       "      <td>0.287970</td>\n",
       "    </tr>\n",
       "    <tr>\n",
       "      <th>2</th>\n",
       "      <td>0.786433</td>\n",
       "      <td>0.213567</td>\n",
       "    </tr>\n",
       "    <tr>\n",
       "      <th>3</th>\n",
       "      <td>0.365453</td>\n",
       "      <td>0.634547</td>\n",
       "    </tr>\n",
       "    <tr>\n",
       "      <th>4</th>\n",
       "      <td>0.786134</td>\n",
       "      <td>0.213866</td>\n",
       "    </tr>\n",
       "  </tbody>\n",
       "</table>\n",
       "</div>"
      ],
      "text/plain": [
       "   survived      died\n",
       "0  0.820048  0.179952\n",
       "1  0.712030  0.287970\n",
       "2  0.786433  0.213567\n",
       "3  0.365453  0.634547\n",
       "4  0.786134  0.213866"
      ]
     },
     "execution_count": 348,
     "metadata": {},
     "output_type": "execute_result"
    }
   ],
   "source": [
    "y_pred_proba_validate_1 = logit.predict_proba(X_validate_1)\n",
    "df_y_pred_proba_validate_1 = pd.DataFrame(y_pred_proba_validate_1, columns = ['survived', 'died'])\n",
    "df_y_pred_proba_validate_1.head()"
   ]
  },
  {
   "cell_type": "markdown",
   "id": "a959b013",
   "metadata": {},
   "source": [
    "#### Classification report"
   ]
  },
  {
   "cell_type": "code",
   "execution_count": 349,
   "id": "20bb3bd0",
   "metadata": {},
   "outputs": [],
   "source": [
    "df_classification_report_train_1 = pd.DataFrame(classification_report(y_train, y_pred_1_train, output_dict = True)).T"
   ]
  },
  {
   "cell_type": "code",
   "execution_count": 350,
   "id": "f988fd21",
   "metadata": {},
   "outputs": [
    {
     "data": {
      "text/html": [
       "<div>\n",
       "<style scoped>\n",
       "    .dataframe tbody tr th:only-of-type {\n",
       "        vertical-align: middle;\n",
       "    }\n",
       "\n",
       "    .dataframe tbody tr th {\n",
       "        vertical-align: top;\n",
       "    }\n",
       "\n",
       "    .dataframe thead th {\n",
       "        text-align: right;\n",
       "    }\n",
       "</style>\n",
       "<table border=\"1\" class=\"dataframe\">\n",
       "  <thead>\n",
       "    <tr style=\"text-align: right;\">\n",
       "      <th></th>\n",
       "      <th>precision</th>\n",
       "      <th>recall</th>\n",
       "      <th>f1-score</th>\n",
       "      <th>support</th>\n",
       "    </tr>\n",
       "  </thead>\n",
       "  <tbody>\n",
       "    <tr>\n",
       "      <th>0</th>\n",
       "      <td>0.728022</td>\n",
       "      <td>0.863192</td>\n",
       "      <td>0.789866</td>\n",
       "      <td>307.000000</td>\n",
       "    </tr>\n",
       "    <tr>\n",
       "      <th>1</th>\n",
       "      <td>0.684211</td>\n",
       "      <td>0.478947</td>\n",
       "      <td>0.563467</td>\n",
       "      <td>190.000000</td>\n",
       "    </tr>\n",
       "    <tr>\n",
       "      <th>accuracy</th>\n",
       "      <td>0.716298</td>\n",
       "      <td>0.716298</td>\n",
       "      <td>0.716298</td>\n",
       "      <td>0.716298</td>\n",
       "    </tr>\n",
       "    <tr>\n",
       "      <th>macro avg</th>\n",
       "      <td>0.706116</td>\n",
       "      <td>0.671070</td>\n",
       "      <td>0.676667</td>\n",
       "      <td>497.000000</td>\n",
       "    </tr>\n",
       "    <tr>\n",
       "      <th>weighted avg</th>\n",
       "      <td>0.711273</td>\n",
       "      <td>0.716298</td>\n",
       "      <td>0.703315</td>\n",
       "      <td>497.000000</td>\n",
       "    </tr>\n",
       "  </tbody>\n",
       "</table>\n",
       "</div>"
      ],
      "text/plain": [
       "              precision    recall  f1-score     support\n",
       "0              0.728022  0.863192  0.789866  307.000000\n",
       "1              0.684211  0.478947  0.563467  190.000000\n",
       "accuracy       0.716298  0.716298  0.716298    0.716298\n",
       "macro avg      0.706116  0.671070  0.676667  497.000000\n",
       "weighted avg   0.711273  0.716298  0.703315  497.000000"
      ]
     },
     "execution_count": 350,
     "metadata": {},
     "output_type": "execute_result"
    }
   ],
   "source": [
    "df_classification_report_train_1"
   ]
  },
  {
   "cell_type": "code",
   "execution_count": 351,
   "id": "edae262c",
   "metadata": {},
   "outputs": [],
   "source": [
    "df_classification_report_validate_1 = pd.DataFrame(classification_report(y_validate, y_pred_1_validate, output_dict = True)).T"
   ]
  },
  {
   "cell_type": "code",
   "execution_count": 352,
   "id": "c2af6602",
   "metadata": {},
   "outputs": [
    {
     "data": {
      "text/html": [
       "<div>\n",
       "<style scoped>\n",
       "    .dataframe tbody tr th:only-of-type {\n",
       "        vertical-align: middle;\n",
       "    }\n",
       "\n",
       "    .dataframe tbody tr th {\n",
       "        vertical-align: top;\n",
       "    }\n",
       "\n",
       "    .dataframe thead th {\n",
       "        text-align: right;\n",
       "    }\n",
       "</style>\n",
       "<table border=\"1\" class=\"dataframe\">\n",
       "  <thead>\n",
       "    <tr style=\"text-align: right;\">\n",
       "      <th></th>\n",
       "      <th>precision</th>\n",
       "      <th>recall</th>\n",
       "      <th>f1-score</th>\n",
       "      <th>support</th>\n",
       "    </tr>\n",
       "  </thead>\n",
       "  <tbody>\n",
       "    <tr>\n",
       "      <th>0</th>\n",
       "      <td>0.734177</td>\n",
       "      <td>0.878788</td>\n",
       "      <td>0.800000</td>\n",
       "      <td>132.000000</td>\n",
       "    </tr>\n",
       "    <tr>\n",
       "      <th>1</th>\n",
       "      <td>0.714286</td>\n",
       "      <td>0.487805</td>\n",
       "      <td>0.579710</td>\n",
       "      <td>82.000000</td>\n",
       "    </tr>\n",
       "    <tr>\n",
       "      <th>accuracy</th>\n",
       "      <td>0.728972</td>\n",
       "      <td>0.728972</td>\n",
       "      <td>0.728972</td>\n",
       "      <td>0.728972</td>\n",
       "    </tr>\n",
       "    <tr>\n",
       "      <th>macro avg</th>\n",
       "      <td>0.724231</td>\n",
       "      <td>0.683296</td>\n",
       "      <td>0.689855</td>\n",
       "      <td>214.000000</td>\n",
       "    </tr>\n",
       "    <tr>\n",
       "      <th>weighted avg</th>\n",
       "      <td>0.726555</td>\n",
       "      <td>0.728972</td>\n",
       "      <td>0.715590</td>\n",
       "      <td>214.000000</td>\n",
       "    </tr>\n",
       "  </tbody>\n",
       "</table>\n",
       "</div>"
      ],
      "text/plain": [
       "              precision    recall  f1-score     support\n",
       "0              0.734177  0.878788  0.800000  132.000000\n",
       "1              0.714286  0.487805  0.579710   82.000000\n",
       "accuracy       0.728972  0.728972  0.728972    0.728972\n",
       "macro avg      0.724231  0.683296  0.689855  214.000000\n",
       "weighted avg   0.726555  0.728972  0.715590  214.000000"
      ]
     },
     "execution_count": 352,
     "metadata": {},
     "output_type": "execute_result"
    }
   ],
   "source": [
    "df_classification_report_validate_1"
   ]
  },
  {
   "cell_type": "markdown",
   "id": "0bdc0606",
   "metadata": {},
   "source": [
    "Does this model perform better than your baseline?"
   ]
  },
  {
   "cell_type": "code",
   "execution_count": 353,
   "id": "4575da85",
   "metadata": {},
   "outputs": [
    {
     "name": "stdout",
     "output_type": "stream",
     "text": [
      "Training accuracy: 0.62\n"
     ]
    }
   ],
   "source": [
    "accuracy = round(model.score(X_train, y_train), 2)\n",
    "print(f'Training accuracy: {accuracy}')"
   ]
  },
  {
   "cell_type": "markdown",
   "id": "6e51b53c",
   "metadata": {},
   "source": [
    "The training accuracy of this model is higher than the baseline training accuracy. So, yes, this model performs better than the baseline."
   ]
  },
  {
   "cell_type": "markdown",
   "id": "02aef45b",
   "metadata": {},
   "source": [
    "### Include sex in your model as well."
   ]
  },
  {
   "cell_type": "code",
   "execution_count": 354,
   "id": "e048eb27",
   "metadata": {},
   "outputs": [
    {
     "data": {
      "text/html": [
       "<div>\n",
       "<style scoped>\n",
       "    .dataframe tbody tr th:only-of-type {\n",
       "        vertical-align: middle;\n",
       "    }\n",
       "\n",
       "    .dataframe tbody tr th {\n",
       "        vertical-align: top;\n",
       "    }\n",
       "\n",
       "    .dataframe thead th {\n",
       "        text-align: right;\n",
       "    }\n",
       "</style>\n",
       "<table border=\"1\" class=\"dataframe\">\n",
       "  <thead>\n",
       "    <tr style=\"text-align: right;\">\n",
       "      <th></th>\n",
       "      <th>Unnamed: 0</th>\n",
       "      <th>passenger_id</th>\n",
       "      <th>pclass</th>\n",
       "      <th>sex</th>\n",
       "      <th>age</th>\n",
       "      <th>sibsp</th>\n",
       "      <th>parch</th>\n",
       "      <th>fare</th>\n",
       "      <th>embark_town</th>\n",
       "      <th>alone</th>\n",
       "      <th>Q</th>\n",
       "      <th>S</th>\n",
       "      <th>sex_male</th>\n",
       "      <th>embark_town_Queenstown</th>\n",
       "      <th>embark_town_Southampton</th>\n",
       "    </tr>\n",
       "  </thead>\n",
       "  <tbody>\n",
       "    <tr>\n",
       "      <th>583</th>\n",
       "      <td>583</td>\n",
       "      <td>583</td>\n",
       "      <td>1</td>\n",
       "      <td>male</td>\n",
       "      <td>36.000000</td>\n",
       "      <td>0</td>\n",
       "      <td>0</td>\n",
       "      <td>40.1250</td>\n",
       "      <td>Cherbourg</td>\n",
       "      <td>1</td>\n",
       "      <td>0</td>\n",
       "      <td>0</td>\n",
       "      <td>1</td>\n",
       "      <td>0</td>\n",
       "      <td>0</td>\n",
       "    </tr>\n",
       "    <tr>\n",
       "      <th>337</th>\n",
       "      <td>337</td>\n",
       "      <td>337</td>\n",
       "      <td>1</td>\n",
       "      <td>female</td>\n",
       "      <td>41.000000</td>\n",
       "      <td>0</td>\n",
       "      <td>0</td>\n",
       "      <td>134.5000</td>\n",
       "      <td>Cherbourg</td>\n",
       "      <td>1</td>\n",
       "      <td>0</td>\n",
       "      <td>0</td>\n",
       "      <td>0</td>\n",
       "      <td>0</td>\n",
       "      <td>0</td>\n",
       "    </tr>\n",
       "    <tr>\n",
       "      <th>50</th>\n",
       "      <td>50</td>\n",
       "      <td>50</td>\n",
       "      <td>3</td>\n",
       "      <td>male</td>\n",
       "      <td>7.000000</td>\n",
       "      <td>4</td>\n",
       "      <td>1</td>\n",
       "      <td>39.6875</td>\n",
       "      <td>Southampton</td>\n",
       "      <td>0</td>\n",
       "      <td>0</td>\n",
       "      <td>1</td>\n",
       "      <td>1</td>\n",
       "      <td>0</td>\n",
       "      <td>1</td>\n",
       "    </tr>\n",
       "    <tr>\n",
       "      <th>218</th>\n",
       "      <td>218</td>\n",
       "      <td>218</td>\n",
       "      <td>1</td>\n",
       "      <td>female</td>\n",
       "      <td>32.000000</td>\n",
       "      <td>0</td>\n",
       "      <td>0</td>\n",
       "      <td>76.2917</td>\n",
       "      <td>Cherbourg</td>\n",
       "      <td>1</td>\n",
       "      <td>0</td>\n",
       "      <td>0</td>\n",
       "      <td>0</td>\n",
       "      <td>0</td>\n",
       "      <td>0</td>\n",
       "    </tr>\n",
       "    <tr>\n",
       "      <th>31</th>\n",
       "      <td>31</td>\n",
       "      <td>31</td>\n",
       "      <td>1</td>\n",
       "      <td>female</td>\n",
       "      <td>29.916875</td>\n",
       "      <td>1</td>\n",
       "      <td>0</td>\n",
       "      <td>146.5208</td>\n",
       "      <td>Cherbourg</td>\n",
       "      <td>0</td>\n",
       "      <td>0</td>\n",
       "      <td>0</td>\n",
       "      <td>0</td>\n",
       "      <td>0</td>\n",
       "      <td>0</td>\n",
       "    </tr>\n",
       "  </tbody>\n",
       "</table>\n",
       "</div>"
      ],
      "text/plain": [
       "     Unnamed: 0  passenger_id  pclass     sex        age  sibsp  parch  \\\n",
       "583         583           583       1    male  36.000000      0      0   \n",
       "337         337           337       1  female  41.000000      0      0   \n",
       "50           50            50       3    male   7.000000      4      1   \n",
       "218         218           218       1  female  32.000000      0      0   \n",
       "31           31            31       1  female  29.916875      1      0   \n",
       "\n",
       "         fare  embark_town  alone  Q  S  sex_male  embark_town_Queenstown  \\\n",
       "583   40.1250    Cherbourg      1  0  0         1                       0   \n",
       "337  134.5000    Cherbourg      1  0  0         0                       0   \n",
       "50    39.6875  Southampton      0  0  1         1                       0   \n",
       "218   76.2917    Cherbourg      1  0  0         0                       0   \n",
       "31   146.5208    Cherbourg      0  0  0         0                       0   \n",
       "\n",
       "     embark_town_Southampton  \n",
       "583                        0  \n",
       "337                        0  \n",
       "50                         1  \n",
       "218                        0  \n",
       "31                         0  "
      ]
     },
     "execution_count": 354,
     "metadata": {},
     "output_type": "execute_result"
    }
   ],
   "source": [
    "X_train.head()"
   ]
  },
  {
   "cell_type": "code",
   "execution_count": 355,
   "id": "3e6b86ac",
   "metadata": {},
   "outputs": [],
   "source": [
    "X_train_2 = X_train.drop(columns = ['Unnamed: 0', 'passenger_id', 'sex', 'sibsp', 'parch', 'embark_town', 'alone', 'Q', 'S', 'embark_town_Queenstown', 'embark_town_Southampton'])"
   ]
  },
  {
   "cell_type": "code",
   "execution_count": 356,
   "id": "cdcb047c",
   "metadata": {},
   "outputs": [
    {
     "data": {
      "text/html": [
       "<div>\n",
       "<style scoped>\n",
       "    .dataframe tbody tr th:only-of-type {\n",
       "        vertical-align: middle;\n",
       "    }\n",
       "\n",
       "    .dataframe tbody tr th {\n",
       "        vertical-align: top;\n",
       "    }\n",
       "\n",
       "    .dataframe thead th {\n",
       "        text-align: right;\n",
       "    }\n",
       "</style>\n",
       "<table border=\"1\" class=\"dataframe\">\n",
       "  <thead>\n",
       "    <tr style=\"text-align: right;\">\n",
       "      <th></th>\n",
       "      <th>pclass</th>\n",
       "      <th>age</th>\n",
       "      <th>fare</th>\n",
       "      <th>sex_male</th>\n",
       "    </tr>\n",
       "  </thead>\n",
       "  <tbody>\n",
       "    <tr>\n",
       "      <th>583</th>\n",
       "      <td>1</td>\n",
       "      <td>36.000000</td>\n",
       "      <td>40.1250</td>\n",
       "      <td>1</td>\n",
       "    </tr>\n",
       "    <tr>\n",
       "      <th>337</th>\n",
       "      <td>1</td>\n",
       "      <td>41.000000</td>\n",
       "      <td>134.5000</td>\n",
       "      <td>0</td>\n",
       "    </tr>\n",
       "    <tr>\n",
       "      <th>50</th>\n",
       "      <td>3</td>\n",
       "      <td>7.000000</td>\n",
       "      <td>39.6875</td>\n",
       "      <td>1</td>\n",
       "    </tr>\n",
       "    <tr>\n",
       "      <th>218</th>\n",
       "      <td>1</td>\n",
       "      <td>32.000000</td>\n",
       "      <td>76.2917</td>\n",
       "      <td>0</td>\n",
       "    </tr>\n",
       "    <tr>\n",
       "      <th>31</th>\n",
       "      <td>1</td>\n",
       "      <td>29.916875</td>\n",
       "      <td>146.5208</td>\n",
       "      <td>0</td>\n",
       "    </tr>\n",
       "  </tbody>\n",
       "</table>\n",
       "</div>"
      ],
      "text/plain": [
       "     pclass        age      fare  sex_male\n",
       "583       1  36.000000   40.1250         1\n",
       "337       1  41.000000  134.5000         0\n",
       "50        3   7.000000   39.6875         1\n",
       "218       1  32.000000   76.2917         0\n",
       "31        1  29.916875  146.5208         0"
      ]
     },
     "execution_count": 356,
     "metadata": {},
     "output_type": "execute_result"
    }
   ],
   "source": [
    "X_train_2.head()"
   ]
  },
  {
   "cell_type": "code",
   "execution_count": 357,
   "id": "de8e9639",
   "metadata": {},
   "outputs": [],
   "source": [
    "X_validate_2 = X_validate.drop(columns = ['Unnamed: 0', 'passenger_id', 'sex', 'sibsp', 'parch', 'embark_town', 'alone', 'Q', 'S'])"
   ]
  },
  {
   "cell_type": "code",
   "execution_count": 358,
   "id": "15248ff2",
   "metadata": {},
   "outputs": [],
   "source": [
    "X_validate_2 = X_validate_2.drop(columns = ['embark_town_Queenstown', 'embark_town_Southampton'])"
   ]
  },
  {
   "cell_type": "code",
   "execution_count": 359,
   "id": "f4e9d99d",
   "metadata": {},
   "outputs": [
    {
     "data": {
      "text/html": [
       "<div>\n",
       "<style scoped>\n",
       "    .dataframe tbody tr th:only-of-type {\n",
       "        vertical-align: middle;\n",
       "    }\n",
       "\n",
       "    .dataframe tbody tr th {\n",
       "        vertical-align: top;\n",
       "    }\n",
       "\n",
       "    .dataframe thead th {\n",
       "        text-align: right;\n",
       "    }\n",
       "</style>\n",
       "<table border=\"1\" class=\"dataframe\">\n",
       "  <thead>\n",
       "    <tr style=\"text-align: right;\">\n",
       "      <th></th>\n",
       "      <th>pclass</th>\n",
       "      <th>age</th>\n",
       "      <th>fare</th>\n",
       "      <th>sex_male</th>\n",
       "    </tr>\n",
       "  </thead>\n",
       "  <tbody>\n",
       "    <tr>\n",
       "      <th>610</th>\n",
       "      <td>3</td>\n",
       "      <td>39.000000</td>\n",
       "      <td>31.2750</td>\n",
       "      <td>0</td>\n",
       "    </tr>\n",
       "    <tr>\n",
       "      <th>424</th>\n",
       "      <td>3</td>\n",
       "      <td>18.000000</td>\n",
       "      <td>20.2125</td>\n",
       "      <td>1</td>\n",
       "    </tr>\n",
       "    <tr>\n",
       "      <th>568</th>\n",
       "      <td>3</td>\n",
       "      <td>29.916875</td>\n",
       "      <td>7.2292</td>\n",
       "      <td>1</td>\n",
       "    </tr>\n",
       "    <tr>\n",
       "      <th>701</th>\n",
       "      <td>1</td>\n",
       "      <td>35.000000</td>\n",
       "      <td>26.2875</td>\n",
       "      <td>1</td>\n",
       "    </tr>\n",
       "    <tr>\n",
       "      <th>101</th>\n",
       "      <td>3</td>\n",
       "      <td>29.916875</td>\n",
       "      <td>7.8958</td>\n",
       "      <td>1</td>\n",
       "    </tr>\n",
       "  </tbody>\n",
       "</table>\n",
       "</div>"
      ],
      "text/plain": [
       "     pclass        age     fare  sex_male\n",
       "610       3  39.000000  31.2750         0\n",
       "424       3  18.000000  20.2125         1\n",
       "568       3  29.916875   7.2292         1\n",
       "701       1  35.000000  26.2875         1\n",
       "101       3  29.916875   7.8958         1"
      ]
     },
     "execution_count": 359,
     "metadata": {},
     "output_type": "execute_result"
    }
   ],
   "source": [
    "X_validate_2.head()"
   ]
  },
  {
   "cell_type": "markdown",
   "id": "cb83eac4",
   "metadata": {},
   "source": [
    "#### Create the object"
   ]
  },
  {
   "cell_type": "code",
   "execution_count": 360,
   "id": "eef59b94",
   "metadata": {},
   "outputs": [],
   "source": [
    "logit2 = LogisticRegression(C=1, random_state=123)"
   ]
  },
  {
   "cell_type": "markdown",
   "id": "271ac84b",
   "metadata": {},
   "source": [
    "#### Fit the model"
   ]
  },
  {
   "cell_type": "code",
   "execution_count": 361,
   "id": "9a934d21",
   "metadata": {},
   "outputs": [
    {
     "data": {
      "text/plain": [
       "LogisticRegression(C=1, random_state=123)"
      ]
     },
     "execution_count": 361,
     "metadata": {},
     "output_type": "execute_result"
    }
   ],
   "source": [
    "logit2.fit(X_train_2, y_train)"
   ]
  },
  {
   "cell_type": "markdown",
   "id": "802944d9",
   "metadata": {},
   "source": [
    "#### Feature importance"
   ]
  },
  {
   "cell_type": "code",
   "execution_count": 362,
   "id": "c0ca6529",
   "metadata": {},
   "outputs": [
    {
     "name": "stdout",
     "output_type": "stream",
     "text": [
      "Coefficient: \n",
      " [[-1.11402368e+00 -2.66594879e-02  9.02716903e-04 -2.45878213e+00]]\n",
      "Intercept: \n",
      " [4.30664987]\n"
     ]
    }
   ],
   "source": [
    "print('Coefficient: \\n', logit2.coef_)\n",
    "print('Intercept: \\n', logit2.intercept_)"
   ]
  },
  {
   "cell_type": "markdown",
   "id": "cca210ab",
   "metadata": {},
   "source": [
    "#### Make predictions"
   ]
  },
  {
   "cell_type": "code",
   "execution_count": 363,
   "id": "8160a186",
   "metadata": {},
   "outputs": [],
   "source": [
    "y_pred_train_2 = logit2.predict(X_train_2)"
   ]
  },
  {
   "cell_type": "code",
   "execution_count": 364,
   "id": "a9940a3d",
   "metadata": {},
   "outputs": [],
   "source": [
    "y_pred_validate_2 = logit2.predict(X_validate_2)"
   ]
  },
  {
   "cell_type": "markdown",
   "id": "13346344",
   "metadata": {},
   "source": [
    "#### Estimate probability"
   ]
  },
  {
   "cell_type": "code",
   "execution_count": 365,
   "id": "cea5995e",
   "metadata": {},
   "outputs": [],
   "source": [
    "y_pred_proba_train_2 = logit2.predict_proba(X_train_2)\n",
    "df_y_pred_proba_train_2 = pd.DataFrame(y_pred_proba_train_2, columns = ['survived', 'died'])"
   ]
  },
  {
   "cell_type": "code",
   "execution_count": 366,
   "id": "9434916b",
   "metadata": {},
   "outputs": [
    {
     "data": {
      "text/html": [
       "<div>\n",
       "<style scoped>\n",
       "    .dataframe tbody tr th:only-of-type {\n",
       "        vertical-align: middle;\n",
       "    }\n",
       "\n",
       "    .dataframe tbody tr th {\n",
       "        vertical-align: top;\n",
       "    }\n",
       "\n",
       "    .dataframe thead th {\n",
       "        text-align: right;\n",
       "    }\n",
       "</style>\n",
       "<table border=\"1\" class=\"dataframe\">\n",
       "  <thead>\n",
       "    <tr style=\"text-align: right;\">\n",
       "      <th></th>\n",
       "      <th>survived</th>\n",
       "      <th>died</th>\n",
       "    </tr>\n",
       "  </thead>\n",
       "  <tbody>\n",
       "    <tr>\n",
       "      <th>0</th>\n",
       "      <td>0.547277</td>\n",
       "      <td>0.452723</td>\n",
       "    </tr>\n",
       "    <tr>\n",
       "      <th>1</th>\n",
       "      <td>0.097880</td>\n",
       "      <td>0.902120</td>\n",
       "    </tr>\n",
       "    <tr>\n",
       "      <th>2</th>\n",
       "      <td>0.838213</td>\n",
       "      <td>0.161787</td>\n",
       "    </tr>\n",
       "    <tr>\n",
       "      <th>3</th>\n",
       "      <td>0.082535</td>\n",
       "      <td>0.917465</td>\n",
       "    </tr>\n",
       "    <tr>\n",
       "      <th>4</th>\n",
       "      <td>0.073965</td>\n",
       "      <td>0.926035</td>\n",
       "    </tr>\n",
       "  </tbody>\n",
       "</table>\n",
       "</div>"
      ],
      "text/plain": [
       "   survived      died\n",
       "0  0.547277  0.452723\n",
       "1  0.097880  0.902120\n",
       "2  0.838213  0.161787\n",
       "3  0.082535  0.917465\n",
       "4  0.073965  0.926035"
      ]
     },
     "execution_count": 366,
     "metadata": {},
     "output_type": "execute_result"
    }
   ],
   "source": [
    "df_y_pred_proba_train_2.head()"
   ]
  },
  {
   "cell_type": "code",
   "execution_count": 367,
   "id": "4c339078",
   "metadata": {},
   "outputs": [],
   "source": [
    "y_pred_proba_validate_2 = logit2.predict_proba(X_validate_2)\n",
    "df_y_pred_proba_validate_2 = pd.DataFrame(y_pred_proba_validate_2, columns = ['survived', 'died'])"
   ]
  },
  {
   "cell_type": "code",
   "execution_count": 368,
   "id": "7210c4d6",
   "metadata": {},
   "outputs": [
    {
     "data": {
      "text/html": [
       "<div>\n",
       "<style scoped>\n",
       "    .dataframe tbody tr th:only-of-type {\n",
       "        vertical-align: middle;\n",
       "    }\n",
       "\n",
       "    .dataframe tbody tr th {\n",
       "        vertical-align: top;\n",
       "    }\n",
       "\n",
       "    .dataframe thead th {\n",
       "        text-align: right;\n",
       "    }\n",
       "</style>\n",
       "<table border=\"1\" class=\"dataframe\">\n",
       "  <thead>\n",
       "    <tr style=\"text-align: right;\">\n",
       "      <th></th>\n",
       "      <th>survived</th>\n",
       "      <th>died</th>\n",
       "    </tr>\n",
       "  </thead>\n",
       "  <tbody>\n",
       "    <tr>\n",
       "      <th>0</th>\n",
       "      <td>0.511725</td>\n",
       "      <td>0.488275</td>\n",
       "    </tr>\n",
       "    <tr>\n",
       "      <th>1</th>\n",
       "      <td>0.876081</td>\n",
       "      <td>0.123919</td>\n",
       "    </tr>\n",
       "    <tr>\n",
       "      <th>2</th>\n",
       "      <td>0.907648</td>\n",
       "      <td>0.092352</td>\n",
       "    </tr>\n",
       "    <tr>\n",
       "      <th>3</th>\n",
       "      <td>0.543765</td>\n",
       "      <td>0.456235</td>\n",
       "    </tr>\n",
       "    <tr>\n",
       "      <th>4</th>\n",
       "      <td>0.907597</td>\n",
       "      <td>0.092403</td>\n",
       "    </tr>\n",
       "  </tbody>\n",
       "</table>\n",
       "</div>"
      ],
      "text/plain": [
       "   survived      died\n",
       "0  0.511725  0.488275\n",
       "1  0.876081  0.123919\n",
       "2  0.907648  0.092352\n",
       "3  0.543765  0.456235\n",
       "4  0.907597  0.092403"
      ]
     },
     "execution_count": 368,
     "metadata": {},
     "output_type": "execute_result"
    }
   ],
   "source": [
    "df_y_pred_proba_validate_2.head()"
   ]
  },
  {
   "cell_type": "markdown",
   "id": "ec670842",
   "metadata": {},
   "source": [
    "#### Classification report"
   ]
  },
  {
   "cell_type": "code",
   "execution_count": 369,
   "id": "0bf2b930",
   "metadata": {},
   "outputs": [],
   "source": [
    "df_classification_report_train_2 = pd.DataFrame(classification_report(y_train, y_pred_train_2, output_dict =True)).T"
   ]
  },
  {
   "cell_type": "code",
   "execution_count": 370,
   "id": "a2616433",
   "metadata": {},
   "outputs": [
    {
     "data": {
      "text/html": [
       "<div>\n",
       "<style scoped>\n",
       "    .dataframe tbody tr th:only-of-type {\n",
       "        vertical-align: middle;\n",
       "    }\n",
       "\n",
       "    .dataframe tbody tr th {\n",
       "        vertical-align: top;\n",
       "    }\n",
       "\n",
       "    .dataframe thead th {\n",
       "        text-align: right;\n",
       "    }\n",
       "</style>\n",
       "<table border=\"1\" class=\"dataframe\">\n",
       "  <thead>\n",
       "    <tr style=\"text-align: right;\">\n",
       "      <th></th>\n",
       "      <th>precision</th>\n",
       "      <th>recall</th>\n",
       "      <th>f1-score</th>\n",
       "      <th>support</th>\n",
       "    </tr>\n",
       "  </thead>\n",
       "  <tbody>\n",
       "    <tr>\n",
       "      <th>0</th>\n",
       "      <td>0.824451</td>\n",
       "      <td>0.856678</td>\n",
       "      <td>0.840256</td>\n",
       "      <td>307.000000</td>\n",
       "    </tr>\n",
       "    <tr>\n",
       "      <th>1</th>\n",
       "      <td>0.752809</td>\n",
       "      <td>0.705263</td>\n",
       "      <td>0.728261</td>\n",
       "      <td>190.000000</td>\n",
       "    </tr>\n",
       "    <tr>\n",
       "      <th>accuracy</th>\n",
       "      <td>0.798793</td>\n",
       "      <td>0.798793</td>\n",
       "      <td>0.798793</td>\n",
       "      <td>0.798793</td>\n",
       "    </tr>\n",
       "    <tr>\n",
       "      <th>macro avg</th>\n",
       "      <td>0.788630</td>\n",
       "      <td>0.780970</td>\n",
       "      <td>0.784258</td>\n",
       "      <td>497.000000</td>\n",
       "    </tr>\n",
       "    <tr>\n",
       "      <th>weighted avg</th>\n",
       "      <td>0.797063</td>\n",
       "      <td>0.798793</td>\n",
       "      <td>0.797441</td>\n",
       "      <td>497.000000</td>\n",
       "    </tr>\n",
       "  </tbody>\n",
       "</table>\n",
       "</div>"
      ],
      "text/plain": [
       "              precision    recall  f1-score     support\n",
       "0              0.824451  0.856678  0.840256  307.000000\n",
       "1              0.752809  0.705263  0.728261  190.000000\n",
       "accuracy       0.798793  0.798793  0.798793    0.798793\n",
       "macro avg      0.788630  0.780970  0.784258  497.000000\n",
       "weighted avg   0.797063  0.798793  0.797441  497.000000"
      ]
     },
     "execution_count": 370,
     "metadata": {},
     "output_type": "execute_result"
    }
   ],
   "source": [
    "df_classification_report_train_2"
   ]
  },
  {
   "cell_type": "code",
   "execution_count": 371,
   "id": "5e71149d",
   "metadata": {},
   "outputs": [],
   "source": [
    "df_classification_report_validate_2 = pd.DataFrame(classification_report(y_validate, y_pred_validate_2, output_dict =True)).T"
   ]
  },
  {
   "cell_type": "code",
   "execution_count": 372,
   "id": "1e0579f8",
   "metadata": {},
   "outputs": [
    {
     "data": {
      "text/html": [
       "<div>\n",
       "<style scoped>\n",
       "    .dataframe tbody tr th:only-of-type {\n",
       "        vertical-align: middle;\n",
       "    }\n",
       "\n",
       "    .dataframe tbody tr th {\n",
       "        vertical-align: top;\n",
       "    }\n",
       "\n",
       "    .dataframe thead th {\n",
       "        text-align: right;\n",
       "    }\n",
       "</style>\n",
       "<table border=\"1\" class=\"dataframe\">\n",
       "  <thead>\n",
       "    <tr style=\"text-align: right;\">\n",
       "      <th></th>\n",
       "      <th>precision</th>\n",
       "      <th>recall</th>\n",
       "      <th>f1-score</th>\n",
       "      <th>support</th>\n",
       "    </tr>\n",
       "  </thead>\n",
       "  <tbody>\n",
       "    <tr>\n",
       "      <th>0</th>\n",
       "      <td>0.816176</td>\n",
       "      <td>0.840909</td>\n",
       "      <td>0.828358</td>\n",
       "      <td>132.000000</td>\n",
       "    </tr>\n",
       "    <tr>\n",
       "      <th>1</th>\n",
       "      <td>0.730769</td>\n",
       "      <td>0.695122</td>\n",
       "      <td>0.712500</td>\n",
       "      <td>82.000000</td>\n",
       "    </tr>\n",
       "    <tr>\n",
       "      <th>accuracy</th>\n",
       "      <td>0.785047</td>\n",
       "      <td>0.785047</td>\n",
       "      <td>0.785047</td>\n",
       "      <td>0.785047</td>\n",
       "    </tr>\n",
       "    <tr>\n",
       "      <th>macro avg</th>\n",
       "      <td>0.773473</td>\n",
       "      <td>0.768016</td>\n",
       "      <td>0.770429</td>\n",
       "      <td>214.000000</td>\n",
       "    </tr>\n",
       "    <tr>\n",
       "      <th>weighted avg</th>\n",
       "      <td>0.783450</td>\n",
       "      <td>0.785047</td>\n",
       "      <td>0.783964</td>\n",
       "      <td>214.000000</td>\n",
       "    </tr>\n",
       "  </tbody>\n",
       "</table>\n",
       "</div>"
      ],
      "text/plain": [
       "              precision    recall  f1-score     support\n",
       "0              0.816176  0.840909  0.828358  132.000000\n",
       "1              0.730769  0.695122  0.712500   82.000000\n",
       "accuracy       0.785047  0.785047  0.785047    0.785047\n",
       "macro avg      0.773473  0.768016  0.770429  214.000000\n",
       "weighted avg   0.783450  0.785047  0.783964  214.000000"
      ]
     },
     "execution_count": 372,
     "metadata": {},
     "output_type": "execute_result"
    }
   ],
   "source": [
    "df_classification_report_validate_2"
   ]
  },
  {
   "cell_type": "markdown",
   "id": "4d4f098e",
   "metadata": {},
   "source": [
    "Including sex increases the accuracy versus omitting it. "
   ]
  },
  {
   "cell_type": "markdown",
   "id": "7f22790c",
   "metadata": {},
   "source": [
    "### Try out other combinations of features and models."
   ]
  },
  {
   "cell_type": "code",
   "execution_count": 373,
   "id": "03d87312",
   "metadata": {},
   "outputs": [],
   "source": [
    "X_train_3 = X_train.drop(columns = ['Unnamed: 0', 'passenger_id', 'sex', 'sibsp', 'parch', 'embark_town', 'Q', 'S', 'embark_town_Queenstown', 'embark_town_Southampton'])"
   ]
  },
  {
   "cell_type": "code",
   "execution_count": 374,
   "id": "48b0ca36",
   "metadata": {},
   "outputs": [],
   "source": [
    "X_validate_3 = X_validate.drop(columns = ['Unnamed: 0', 'passenger_id', 'sex', 'sibsp', 'parch', 'embark_town', 'Q', 'S', 'embark_town_Queenstown', 'embark_town_Southampton'])"
   ]
  },
  {
   "cell_type": "code",
   "execution_count": 375,
   "id": "8792dc38",
   "metadata": {},
   "outputs": [],
   "source": [
    "logit3 = LogisticRegression(C=1, random_state=123)"
   ]
  },
  {
   "cell_type": "code",
   "execution_count": 376,
   "id": "e8924f34",
   "metadata": {},
   "outputs": [
    {
     "data": {
      "text/plain": [
       "LogisticRegression(C=1, random_state=123)"
      ]
     },
     "execution_count": 376,
     "metadata": {},
     "output_type": "execute_result"
    }
   ],
   "source": [
    "logit3.fit(X_train_3, y_train)"
   ]
  },
  {
   "cell_type": "code",
   "execution_count": 396,
   "id": "4318775f",
   "metadata": {},
   "outputs": [
    {
     "name": "stdout",
     "output_type": "stream",
     "text": [
      "Coefficient: \n",
      " [[-1.10859199e+00 -2.55633270e-02  5.53491876e-04 -1.58214588e-01\n",
      "  -2.41546062e+00]]\n",
      "Intercept: \n",
      " [4.33705386]\n"
     ]
    }
   ],
   "source": [
    "print('Coefficient: \\n', logit3.coef_)\n",
    "print('Intercept: \\n', logit3.intercept_)"
   ]
  },
  {
   "cell_type": "code",
   "execution_count": 378,
   "id": "df4b5b91",
   "metadata": {},
   "outputs": [],
   "source": [
    "y_pred_train_3 = logit3.predict(X_train_3)"
   ]
  },
  {
   "cell_type": "code",
   "execution_count": 379,
   "id": "e8d9eb41",
   "metadata": {},
   "outputs": [],
   "source": [
    "y_pred_validate_3 = logit3.predict(X_validate_3)"
   ]
  },
  {
   "cell_type": "code",
   "execution_count": 380,
   "id": "6a31f2c7",
   "metadata": {},
   "outputs": [],
   "source": [
    "y_pred_proba_train_3 = logit3.predict_proba(X_train_3)"
   ]
  },
  {
   "cell_type": "code",
   "execution_count": 381,
   "id": "6fcf9eb7",
   "metadata": {},
   "outputs": [],
   "source": [
    "y_pred_proba_validate_3 = logit3.predict_proba(X_validate_3)"
   ]
  },
  {
   "cell_type": "code",
   "execution_count": 382,
   "id": "a2c1bf52",
   "metadata": {},
   "outputs": [
    {
     "name": "stdout",
     "output_type": "stream",
     "text": [
      "Accuracy of Logistic Regression classifier on training set: 0.80\n"
     ]
    }
   ],
   "source": [
    "print('Accuracy of Logistic Regression classifier on training set: {:.2f}'\n",
    "     .format(logit3.score(X_train_3, y_train)))"
   ]
  },
  {
   "cell_type": "code",
   "execution_count": 383,
   "id": "171040a2",
   "metadata": {},
   "outputs": [],
   "source": [
    "labels1 = ['died_actual', 'survived_actual']\n",
    "labels2 = ['died_predict', 'survived_predict']\n",
    "df_confusion_matrix_3 = pd.DataFrame(confusion_matrix(y_train, y_pred_train_3), index=labels1, columns = labels2)"
   ]
  },
  {
   "cell_type": "code",
   "execution_count": 384,
   "id": "b75e43ec",
   "metadata": {},
   "outputs": [
    {
     "data": {
      "text/html": [
       "<div>\n",
       "<style scoped>\n",
       "    .dataframe tbody tr th:only-of-type {\n",
       "        vertical-align: middle;\n",
       "    }\n",
       "\n",
       "    .dataframe tbody tr th {\n",
       "        vertical-align: top;\n",
       "    }\n",
       "\n",
       "    .dataframe thead th {\n",
       "        text-align: right;\n",
       "    }\n",
       "</style>\n",
       "<table border=\"1\" class=\"dataframe\">\n",
       "  <thead>\n",
       "    <tr style=\"text-align: right;\">\n",
       "      <th></th>\n",
       "      <th>died_predict</th>\n",
       "      <th>survived_predict</th>\n",
       "    </tr>\n",
       "  </thead>\n",
       "  <tbody>\n",
       "    <tr>\n",
       "      <th>died_actual</th>\n",
       "      <td>263</td>\n",
       "      <td>44</td>\n",
       "    </tr>\n",
       "    <tr>\n",
       "      <th>survived_actual</th>\n",
       "      <td>57</td>\n",
       "      <td>133</td>\n",
       "    </tr>\n",
       "  </tbody>\n",
       "</table>\n",
       "</div>"
      ],
      "text/plain": [
       "                 died_predict  survived_predict\n",
       "died_actual               263                44\n",
       "survived_actual            57               133"
      ]
     },
     "execution_count": 384,
     "metadata": {},
     "output_type": "execute_result"
    }
   ],
   "source": [
    "df_confusion_matrix_3"
   ]
  },
  {
   "cell_type": "code",
   "execution_count": 385,
   "id": "65036536",
   "metadata": {},
   "outputs": [],
   "source": [
    "df_classification_report_train_3 = pd.DataFrame(classification_report(y_train, y_pred_train_3, output_dict = True)).T"
   ]
  },
  {
   "cell_type": "code",
   "execution_count": 386,
   "id": "f16a7982",
   "metadata": {},
   "outputs": [
    {
     "data": {
      "text/html": [
       "<div>\n",
       "<style scoped>\n",
       "    .dataframe tbody tr th:only-of-type {\n",
       "        vertical-align: middle;\n",
       "    }\n",
       "\n",
       "    .dataframe tbody tr th {\n",
       "        vertical-align: top;\n",
       "    }\n",
       "\n",
       "    .dataframe thead th {\n",
       "        text-align: right;\n",
       "    }\n",
       "</style>\n",
       "<table border=\"1\" class=\"dataframe\">\n",
       "  <thead>\n",
       "    <tr style=\"text-align: right;\">\n",
       "      <th></th>\n",
       "      <th>precision</th>\n",
       "      <th>recall</th>\n",
       "      <th>f1-score</th>\n",
       "      <th>support</th>\n",
       "    </tr>\n",
       "  </thead>\n",
       "  <tbody>\n",
       "    <tr>\n",
       "      <th>0</th>\n",
       "      <td>0.821875</td>\n",
       "      <td>0.856678</td>\n",
       "      <td>0.838915</td>\n",
       "      <td>307.000000</td>\n",
       "    </tr>\n",
       "    <tr>\n",
       "      <th>1</th>\n",
       "      <td>0.751412</td>\n",
       "      <td>0.700000</td>\n",
       "      <td>0.724796</td>\n",
       "      <td>190.000000</td>\n",
       "    </tr>\n",
       "    <tr>\n",
       "      <th>accuracy</th>\n",
       "      <td>0.796781</td>\n",
       "      <td>0.796781</td>\n",
       "      <td>0.796781</td>\n",
       "      <td>0.796781</td>\n",
       "    </tr>\n",
       "    <tr>\n",
       "      <th>macro avg</th>\n",
       "      <td>0.786644</td>\n",
       "      <td>0.778339</td>\n",
       "      <td>0.781856</td>\n",
       "      <td>497.000000</td>\n",
       "    </tr>\n",
       "    <tr>\n",
       "      <th>weighted avg</th>\n",
       "      <td>0.794938</td>\n",
       "      <td>0.796781</td>\n",
       "      <td>0.795288</td>\n",
       "      <td>497.000000</td>\n",
       "    </tr>\n",
       "  </tbody>\n",
       "</table>\n",
       "</div>"
      ],
      "text/plain": [
       "              precision    recall  f1-score     support\n",
       "0              0.821875  0.856678  0.838915  307.000000\n",
       "1              0.751412  0.700000  0.724796  190.000000\n",
       "accuracy       0.796781  0.796781  0.796781    0.796781\n",
       "macro avg      0.786644  0.778339  0.781856  497.000000\n",
       "weighted avg   0.794938  0.796781  0.795288  497.000000"
      ]
     },
     "execution_count": 386,
     "metadata": {},
     "output_type": "execute_result"
    }
   ],
   "source": [
    "df_classification_report_train_3"
   ]
  },
  {
   "cell_type": "code",
   "execution_count": 387,
   "id": "101339c8",
   "metadata": {},
   "outputs": [],
   "source": [
    "df_classification_report_validate_3 = pd.DataFrame(classification_report(y_validate, y_pred_validate_3, output_dict = True)).T"
   ]
  },
  {
   "cell_type": "code",
   "execution_count": 388,
   "id": "f1f4c2a5",
   "metadata": {},
   "outputs": [
    {
     "data": {
      "text/html": [
       "<div>\n",
       "<style scoped>\n",
       "    .dataframe tbody tr th:only-of-type {\n",
       "        vertical-align: middle;\n",
       "    }\n",
       "\n",
       "    .dataframe tbody tr th {\n",
       "        vertical-align: top;\n",
       "    }\n",
       "\n",
       "    .dataframe thead th {\n",
       "        text-align: right;\n",
       "    }\n",
       "</style>\n",
       "<table border=\"1\" class=\"dataframe\">\n",
       "  <thead>\n",
       "    <tr style=\"text-align: right;\">\n",
       "      <th></th>\n",
       "      <th>precision</th>\n",
       "      <th>recall</th>\n",
       "      <th>f1-score</th>\n",
       "      <th>support</th>\n",
       "    </tr>\n",
       "  </thead>\n",
       "  <tbody>\n",
       "    <tr>\n",
       "      <th>0</th>\n",
       "      <td>0.820896</td>\n",
       "      <td>0.833333</td>\n",
       "      <td>0.827068</td>\n",
       "      <td>132.000000</td>\n",
       "    </tr>\n",
       "    <tr>\n",
       "      <th>1</th>\n",
       "      <td>0.725000</td>\n",
       "      <td>0.707317</td>\n",
       "      <td>0.716049</td>\n",
       "      <td>82.000000</td>\n",
       "    </tr>\n",
       "    <tr>\n",
       "      <th>accuracy</th>\n",
       "      <td>0.785047</td>\n",
       "      <td>0.785047</td>\n",
       "      <td>0.785047</td>\n",
       "      <td>0.785047</td>\n",
       "    </tr>\n",
       "    <tr>\n",
       "      <th>macro avg</th>\n",
       "      <td>0.772948</td>\n",
       "      <td>0.770325</td>\n",
       "      <td>0.771559</td>\n",
       "      <td>214.000000</td>\n",
       "    </tr>\n",
       "    <tr>\n",
       "      <th>weighted avg</th>\n",
       "      <td>0.784151</td>\n",
       "      <td>0.785047</td>\n",
       "      <td>0.784528</td>\n",
       "      <td>214.000000</td>\n",
       "    </tr>\n",
       "  </tbody>\n",
       "</table>\n",
       "</div>"
      ],
      "text/plain": [
       "              precision    recall  f1-score     support\n",
       "0              0.820896  0.833333  0.827068  132.000000\n",
       "1              0.725000  0.707317  0.716049   82.000000\n",
       "accuracy       0.785047  0.785047  0.785047    0.785047\n",
       "macro avg      0.772948  0.770325  0.771559  214.000000\n",
       "weighted avg   0.784151  0.785047  0.784528  214.000000"
      ]
     },
     "execution_count": 388,
     "metadata": {},
     "output_type": "execute_result"
    }
   ],
   "source": [
    "df_classification_report_validate_3"
   ]
  },
  {
   "cell_type": "markdown",
   "id": "a82bf7c9",
   "metadata": {},
   "source": [
    "### Use you best 3 models to predict and evaluate on your validate sample."
   ]
  },
  {
   "cell_type": "code",
   "execution_count": 389,
   "id": "165767c3",
   "metadata": {},
   "outputs": [
    {
     "data": {
      "text/html": [
       "<div>\n",
       "<style scoped>\n",
       "    .dataframe tbody tr th:only-of-type {\n",
       "        vertical-align: middle;\n",
       "    }\n",
       "\n",
       "    .dataframe tbody tr th {\n",
       "        vertical-align: top;\n",
       "    }\n",
       "\n",
       "    .dataframe thead th {\n",
       "        text-align: right;\n",
       "    }\n",
       "</style>\n",
       "<table border=\"1\" class=\"dataframe\">\n",
       "  <thead>\n",
       "    <tr style=\"text-align: right;\">\n",
       "      <th></th>\n",
       "      <th>precision</th>\n",
       "      <th>recall</th>\n",
       "      <th>f1-score</th>\n",
       "      <th>support</th>\n",
       "    </tr>\n",
       "  </thead>\n",
       "  <tbody>\n",
       "    <tr>\n",
       "      <th>0</th>\n",
       "      <td>0.734177</td>\n",
       "      <td>0.878788</td>\n",
       "      <td>0.800000</td>\n",
       "      <td>132.000000</td>\n",
       "    </tr>\n",
       "    <tr>\n",
       "      <th>1</th>\n",
       "      <td>0.714286</td>\n",
       "      <td>0.487805</td>\n",
       "      <td>0.579710</td>\n",
       "      <td>82.000000</td>\n",
       "    </tr>\n",
       "    <tr>\n",
       "      <th>accuracy</th>\n",
       "      <td>0.728972</td>\n",
       "      <td>0.728972</td>\n",
       "      <td>0.728972</td>\n",
       "      <td>0.728972</td>\n",
       "    </tr>\n",
       "    <tr>\n",
       "      <th>macro avg</th>\n",
       "      <td>0.724231</td>\n",
       "      <td>0.683296</td>\n",
       "      <td>0.689855</td>\n",
       "      <td>214.000000</td>\n",
       "    </tr>\n",
       "    <tr>\n",
       "      <th>weighted avg</th>\n",
       "      <td>0.726555</td>\n",
       "      <td>0.728972</td>\n",
       "      <td>0.715590</td>\n",
       "      <td>214.000000</td>\n",
       "    </tr>\n",
       "  </tbody>\n",
       "</table>\n",
       "</div>"
      ],
      "text/plain": [
       "              precision    recall  f1-score     support\n",
       "0              0.734177  0.878788  0.800000  132.000000\n",
       "1              0.714286  0.487805  0.579710   82.000000\n",
       "accuracy       0.728972  0.728972  0.728972    0.728972\n",
       "macro avg      0.724231  0.683296  0.689855  214.000000\n",
       "weighted avg   0.726555  0.728972  0.715590  214.000000"
      ]
     },
     "execution_count": 389,
     "metadata": {},
     "output_type": "execute_result"
    }
   ],
   "source": [
    "df_classification_report_validate_1"
   ]
  },
  {
   "cell_type": "code",
   "execution_count": 390,
   "id": "11c0175a",
   "metadata": {},
   "outputs": [
    {
     "data": {
      "text/html": [
       "<div>\n",
       "<style scoped>\n",
       "    .dataframe tbody tr th:only-of-type {\n",
       "        vertical-align: middle;\n",
       "    }\n",
       "\n",
       "    .dataframe tbody tr th {\n",
       "        vertical-align: top;\n",
       "    }\n",
       "\n",
       "    .dataframe thead th {\n",
       "        text-align: right;\n",
       "    }\n",
       "</style>\n",
       "<table border=\"1\" class=\"dataframe\">\n",
       "  <thead>\n",
       "    <tr style=\"text-align: right;\">\n",
       "      <th></th>\n",
       "      <th>precision</th>\n",
       "      <th>recall</th>\n",
       "      <th>f1-score</th>\n",
       "      <th>support</th>\n",
       "    </tr>\n",
       "  </thead>\n",
       "  <tbody>\n",
       "    <tr>\n",
       "      <th>0</th>\n",
       "      <td>0.816176</td>\n",
       "      <td>0.840909</td>\n",
       "      <td>0.828358</td>\n",
       "      <td>132.000000</td>\n",
       "    </tr>\n",
       "    <tr>\n",
       "      <th>1</th>\n",
       "      <td>0.730769</td>\n",
       "      <td>0.695122</td>\n",
       "      <td>0.712500</td>\n",
       "      <td>82.000000</td>\n",
       "    </tr>\n",
       "    <tr>\n",
       "      <th>accuracy</th>\n",
       "      <td>0.785047</td>\n",
       "      <td>0.785047</td>\n",
       "      <td>0.785047</td>\n",
       "      <td>0.785047</td>\n",
       "    </tr>\n",
       "    <tr>\n",
       "      <th>macro avg</th>\n",
       "      <td>0.773473</td>\n",
       "      <td>0.768016</td>\n",
       "      <td>0.770429</td>\n",
       "      <td>214.000000</td>\n",
       "    </tr>\n",
       "    <tr>\n",
       "      <th>weighted avg</th>\n",
       "      <td>0.783450</td>\n",
       "      <td>0.785047</td>\n",
       "      <td>0.783964</td>\n",
       "      <td>214.000000</td>\n",
       "    </tr>\n",
       "  </tbody>\n",
       "</table>\n",
       "</div>"
      ],
      "text/plain": [
       "              precision    recall  f1-score     support\n",
       "0              0.816176  0.840909  0.828358  132.000000\n",
       "1              0.730769  0.695122  0.712500   82.000000\n",
       "accuracy       0.785047  0.785047  0.785047    0.785047\n",
       "macro avg      0.773473  0.768016  0.770429  214.000000\n",
       "weighted avg   0.783450  0.785047  0.783964  214.000000"
      ]
     },
     "execution_count": 390,
     "metadata": {},
     "output_type": "execute_result"
    }
   ],
   "source": [
    "df_classification_report_validate_2"
   ]
  },
  {
   "cell_type": "code",
   "execution_count": 391,
   "id": "664ff6ff",
   "metadata": {},
   "outputs": [
    {
     "data": {
      "text/html": [
       "<div>\n",
       "<style scoped>\n",
       "    .dataframe tbody tr th:only-of-type {\n",
       "        vertical-align: middle;\n",
       "    }\n",
       "\n",
       "    .dataframe tbody tr th {\n",
       "        vertical-align: top;\n",
       "    }\n",
       "\n",
       "    .dataframe thead th {\n",
       "        text-align: right;\n",
       "    }\n",
       "</style>\n",
       "<table border=\"1\" class=\"dataframe\">\n",
       "  <thead>\n",
       "    <tr style=\"text-align: right;\">\n",
       "      <th></th>\n",
       "      <th>precision</th>\n",
       "      <th>recall</th>\n",
       "      <th>f1-score</th>\n",
       "      <th>support</th>\n",
       "    </tr>\n",
       "  </thead>\n",
       "  <tbody>\n",
       "    <tr>\n",
       "      <th>0</th>\n",
       "      <td>0.820896</td>\n",
       "      <td>0.833333</td>\n",
       "      <td>0.827068</td>\n",
       "      <td>132.000000</td>\n",
       "    </tr>\n",
       "    <tr>\n",
       "      <th>1</th>\n",
       "      <td>0.725000</td>\n",
       "      <td>0.707317</td>\n",
       "      <td>0.716049</td>\n",
       "      <td>82.000000</td>\n",
       "    </tr>\n",
       "    <tr>\n",
       "      <th>accuracy</th>\n",
       "      <td>0.785047</td>\n",
       "      <td>0.785047</td>\n",
       "      <td>0.785047</td>\n",
       "      <td>0.785047</td>\n",
       "    </tr>\n",
       "    <tr>\n",
       "      <th>macro avg</th>\n",
       "      <td>0.772948</td>\n",
       "      <td>0.770325</td>\n",
       "      <td>0.771559</td>\n",
       "      <td>214.000000</td>\n",
       "    </tr>\n",
       "    <tr>\n",
       "      <th>weighted avg</th>\n",
       "      <td>0.784151</td>\n",
       "      <td>0.785047</td>\n",
       "      <td>0.784528</td>\n",
       "      <td>214.000000</td>\n",
       "    </tr>\n",
       "  </tbody>\n",
       "</table>\n",
       "</div>"
      ],
      "text/plain": [
       "              precision    recall  f1-score     support\n",
       "0              0.820896  0.833333  0.827068  132.000000\n",
       "1              0.725000  0.707317  0.716049   82.000000\n",
       "accuracy       0.785047  0.785047  0.785047    0.785047\n",
       "macro avg      0.772948  0.770325  0.771559  214.000000\n",
       "weighted avg   0.784151  0.785047  0.784528  214.000000"
      ]
     },
     "execution_count": 391,
     "metadata": {},
     "output_type": "execute_result"
    }
   ],
   "source": [
    "df_classification_report_validate_3"
   ]
  },
  {
   "cell_type": "markdown",
   "id": "494a83cd",
   "metadata": {},
   "source": [
    "The third model is the most accurate model on the validate dataset. "
   ]
  },
  {
   "cell_type": "markdown",
   "id": "bd315506",
   "metadata": {},
   "source": [
    "### Choose you best model from the validation performation, and evaluate it on the test dataset. How do the performance metrics compare to validate? to train?"
   ]
  },
  {
   "cell_type": "code",
   "execution_count": 393,
   "id": "6fe01d16",
   "metadata": {},
   "outputs": [],
   "source": [
    "X_test_3 = clean_data(X_test)"
   ]
  },
  {
   "cell_type": "code",
   "execution_count": 394,
   "id": "c2c791f2",
   "metadata": {},
   "outputs": [],
   "source": [
    "X_test_3 = X_test_3.drop(columns = ['Unnamed: 0', 'passenger_id', 'sex', 'sibsp', 'parch', 'embark_town', 'Q', 'S', 'embark_town_Queenstown', 'embark_town_Southampton'])"
   ]
  },
  {
   "cell_type": "code",
   "execution_count": 395,
   "id": "80dff0b1",
   "metadata": {},
   "outputs": [
    {
     "data": {
      "text/html": [
       "<div>\n",
       "<style scoped>\n",
       "    .dataframe tbody tr th:only-of-type {\n",
       "        vertical-align: middle;\n",
       "    }\n",
       "\n",
       "    .dataframe tbody tr th {\n",
       "        vertical-align: top;\n",
       "    }\n",
       "\n",
       "    .dataframe thead th {\n",
       "        text-align: right;\n",
       "    }\n",
       "</style>\n",
       "<table border=\"1\" class=\"dataframe\">\n",
       "  <thead>\n",
       "    <tr style=\"text-align: right;\">\n",
       "      <th></th>\n",
       "      <th>pclass</th>\n",
       "      <th>age</th>\n",
       "      <th>fare</th>\n",
       "      <th>alone</th>\n",
       "      <th>sex_male</th>\n",
       "    </tr>\n",
       "  </thead>\n",
       "  <tbody>\n",
       "    <tr>\n",
       "      <th>561</th>\n",
       "      <td>3</td>\n",
       "      <td>40.000000</td>\n",
       "      <td>7.8958</td>\n",
       "      <td>1</td>\n",
       "      <td>1</td>\n",
       "    </tr>\n",
       "    <tr>\n",
       "      <th>328</th>\n",
       "      <td>3</td>\n",
       "      <td>31.000000</td>\n",
       "      <td>20.5250</td>\n",
       "      <td>0</td>\n",
       "      <td>0</td>\n",
       "    </tr>\n",
       "    <tr>\n",
       "      <th>643</th>\n",
       "      <td>3</td>\n",
       "      <td>29.916875</td>\n",
       "      <td>56.4958</td>\n",
       "      <td>1</td>\n",
       "      <td>1</td>\n",
       "    </tr>\n",
       "    <tr>\n",
       "      <th>498</th>\n",
       "      <td>1</td>\n",
       "      <td>25.000000</td>\n",
       "      <td>151.5500</td>\n",
       "      <td>0</td>\n",
       "      <td>0</td>\n",
       "    </tr>\n",
       "    <tr>\n",
       "      <th>875</th>\n",
       "      <td>3</td>\n",
       "      <td>15.000000</td>\n",
       "      <td>7.2250</td>\n",
       "      <td>1</td>\n",
       "      <td>0</td>\n",
       "    </tr>\n",
       "  </tbody>\n",
       "</table>\n",
       "</div>"
      ],
      "text/plain": [
       "     pclass        age      fare  alone  sex_male\n",
       "561       3  40.000000    7.8958      1         1\n",
       "328       3  31.000000   20.5250      0         0\n",
       "643       3  29.916875   56.4958      1         1\n",
       "498       1  25.000000  151.5500      0         0\n",
       "875       3  15.000000    7.2250      1         0"
      ]
     },
     "execution_count": 395,
     "metadata": {},
     "output_type": "execute_result"
    }
   ],
   "source": [
    "X_test_3.head()"
   ]
  },
  {
   "cell_type": "code",
   "execution_count": 398,
   "id": "a3ae2329",
   "metadata": {},
   "outputs": [],
   "source": [
    "y_pred_proba_test_3 = logit3.predict_proba(X_test_3)"
   ]
  },
  {
   "cell_type": "code",
   "execution_count": 399,
   "id": "d68dd210",
   "metadata": {},
   "outputs": [],
   "source": [
    "df_classification_report_test_3 = pd.DataFrame(classification_report(y_test, y_pred_test_3, output_dict = True)).T"
   ]
  },
  {
   "cell_type": "code",
   "execution_count": 400,
   "id": "88cd4a88",
   "metadata": {},
   "outputs": [
    {
     "data": {
      "text/html": [
       "<div>\n",
       "<style scoped>\n",
       "    .dataframe tbody tr th:only-of-type {\n",
       "        vertical-align: middle;\n",
       "    }\n",
       "\n",
       "    .dataframe tbody tr th {\n",
       "        vertical-align: top;\n",
       "    }\n",
       "\n",
       "    .dataframe thead th {\n",
       "        text-align: right;\n",
       "    }\n",
       "</style>\n",
       "<table border=\"1\" class=\"dataframe\">\n",
       "  <thead>\n",
       "    <tr style=\"text-align: right;\">\n",
       "      <th></th>\n",
       "      <th>precision</th>\n",
       "      <th>recall</th>\n",
       "      <th>f1-score</th>\n",
       "      <th>support</th>\n",
       "    </tr>\n",
       "  </thead>\n",
       "  <tbody>\n",
       "    <tr>\n",
       "      <th>0</th>\n",
       "      <td>0.851852</td>\n",
       "      <td>0.836364</td>\n",
       "      <td>0.844037</td>\n",
       "      <td>110.000000</td>\n",
       "    </tr>\n",
       "    <tr>\n",
       "      <th>1</th>\n",
       "      <td>0.742857</td>\n",
       "      <td>0.764706</td>\n",
       "      <td>0.753623</td>\n",
       "      <td>68.000000</td>\n",
       "    </tr>\n",
       "    <tr>\n",
       "      <th>accuracy</th>\n",
       "      <td>0.808989</td>\n",
       "      <td>0.808989</td>\n",
       "      <td>0.808989</td>\n",
       "      <td>0.808989</td>\n",
       "    </tr>\n",
       "    <tr>\n",
       "      <th>macro avg</th>\n",
       "      <td>0.797354</td>\n",
       "      <td>0.800535</td>\n",
       "      <td>0.798830</td>\n",
       "      <td>178.000000</td>\n",
       "    </tr>\n",
       "    <tr>\n",
       "      <th>weighted avg</th>\n",
       "      <td>0.810213</td>\n",
       "      <td>0.808989</td>\n",
       "      <td>0.809497</td>\n",
       "      <td>178.000000</td>\n",
       "    </tr>\n",
       "  </tbody>\n",
       "</table>\n",
       "</div>"
      ],
      "text/plain": [
       "              precision    recall  f1-score     support\n",
       "0              0.851852  0.836364  0.844037  110.000000\n",
       "1              0.742857  0.764706  0.753623   68.000000\n",
       "accuracy       0.808989  0.808989  0.808989    0.808989\n",
       "macro avg      0.797354  0.800535  0.798830  178.000000\n",
       "weighted avg   0.810213  0.808989  0.809497  178.000000"
      ]
     },
     "execution_count": 400,
     "metadata": {},
     "output_type": "execute_result"
    }
   ],
   "source": [
    "df_classification_report_test_3"
   ]
  },
  {
   "cell_type": "markdown",
   "id": "544a60a1",
   "metadata": {},
   "source": [
    "This model performs even better on test than on train and validate."
   ]
  }
 ],
 "metadata": {
  "kernelspec": {
   "display_name": "Python 3",
   "language": "python",
   "name": "python3"
  },
  "language_info": {
   "codemirror_mode": {
    "name": "ipython",
    "version": 3
   },
   "file_extension": ".py",
   "mimetype": "text/x-python",
   "name": "python",
   "nbconvert_exporter": "python",
   "pygments_lexer": "ipython3",
   "version": "3.8.8"
  }
 },
 "nbformat": 4,
 "nbformat_minor": 5
}

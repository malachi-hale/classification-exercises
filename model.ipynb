{
 "cells": [
  {
   "cell_type": "code",
   "execution_count": 23,
   "id": "5bde5f4c",
   "metadata": {},
   "outputs": [],
   "source": [
    "import pandas as pd\n",
    "from sklearn.dummy import DummyClassifier\n",
    "from sklearn.metrics import classification_report\n",
    "import acquire\n",
    "import prepare\n",
    "\n",
    "import warnings\n",
    "warnings.filterwarnings('ignore')"
   ]
  },
  {
   "cell_type": "markdown",
   "id": "67ff9a14",
   "metadata": {},
   "source": [
    "## Acquire Data"
   ]
  },
  {
   "cell_type": "code",
   "execution_count": 39,
   "id": "e6aef708",
   "metadata": {},
   "outputs": [
    {
     "data": {
      "text/plain": [
       "((497, 15), (214, 15), (178, 15))"
      ]
     },
     "execution_count": 39,
     "metadata": {},
     "output_type": "execute_result"
    }
   ],
   "source": [
    "train, validate, test = prepare.prep_titanic(acquire.get_titanic_data())\n",
    "train.shape, validate.shape, test.shape"
   ]
  },
  {
   "cell_type": "code",
   "execution_count": 40,
   "id": "9ed45aa6",
   "metadata": {},
   "outputs": [],
   "source": [
    "X_train, y_train = train.drop(columns='survived'), train.survived\n",
    "X_validate, y_validate = validate.drop(columns='survived'), validate.survived\n",
    "X_test, y_test = test.drop(columns='survived'), test.survived"
   ]
  },
  {
   "cell_type": "markdown",
   "id": "6a7de886",
   "metadata": {},
   "source": [
    "### What is your baseline prediction?"
   ]
  },
  {
   "cell_type": "code",
   "execution_count": 41,
   "id": "537fabe5",
   "metadata": {},
   "outputs": [
    {
     "data": {
      "text/plain": [
       "0    307\n",
       "1    190\n",
       "Name: survived, dtype: int64"
      ]
     },
     "execution_count": 41,
     "metadata": {},
     "output_type": "execute_result"
    }
   ],
   "source": [
    "train.survived.value_counts()"
   ]
  },
  {
   "cell_type": "markdown",
   "id": "614e607d",
   "metadata": {},
   "source": [
    "As we can see above, the majority of passengers died, so our baseline assumption is that all passengers died."
   ]
  },
  {
   "cell_type": "markdown",
   "id": "2c0104b7",
   "metadata": {},
   "source": [
    "### What is your baseline accuracy"
   ]
  },
  {
   "cell_type": "markdown",
   "id": "f9d7eae0",
   "metadata": {},
   "source": [
    "Create the object."
   ]
  },
  {
   "cell_type": "code",
   "execution_count": 42,
   "id": "35d52326",
   "metadata": {},
   "outputs": [],
   "source": [
    "model = DummyClassifier(strategy='constant', constant=0)"
   ]
  },
  {
   "cell_type": "markdown",
   "id": "ddbf7a36",
   "metadata": {},
   "source": [
    "Fit the object."
   ]
  },
  {
   "cell_type": "code",
   "execution_count": 43,
   "id": "d6095b38",
   "metadata": {},
   "outputs": [
    {
     "data": {
      "text/plain": [
       "DummyClassifier(constant=0, strategy='constant')"
      ]
     },
     "execution_count": 43,
     "metadata": {},
     "output_type": "execute_result"
    }
   ],
   "source": [
    "model.fit(X_train, y_train)"
   ]
  },
  {
   "cell_type": "code",
   "execution_count": 44,
   "id": "d0d9d458",
   "metadata": {
    "scrolled": true
   },
   "outputs": [
    {
     "name": "stdout",
     "output_type": "stream",
     "text": [
      "Training accuracy: 0.62\n"
     ]
    }
   ],
   "source": [
    "accuracy = round(model.score(X_train, y_train), 2)\n",
    "print(f'Training accuracy: {accuracy}')"
   ]
  },
  {
   "cell_type": "markdown",
   "id": "e7a6cafc",
   "metadata": {},
   "source": [
    "### Fit the decision tree classifier to your training sample and transform"
   ]
  },
  {
   "cell_type": "code",
   "execution_count": 52,
   "id": "0d1d7690",
   "metadata": {},
   "outputs": [],
   "source": [
    "from sklearn.model_selection import train_test_split\n",
    "from sklearn.tree import DecisionTreeClassifier\n",
    "from sklearn.tree import export_graphviz\n",
    "from sklearn.metrics import classification_report\n",
    "from sklearn.metrics import confusion_matrix"
   ]
  },
  {
   "cell_type": "code",
   "execution_count": 46,
   "id": "cf99e714",
   "metadata": {},
   "outputs": [],
   "source": [
    "clf = DecisionTreeClassifier(max_depth=3, random_state=123)"
   ]
  },
  {
   "cell_type": "code",
   "execution_count": null,
   "id": "dfe95284",
   "metadata": {},
   "outputs": [],
   "source": []
  }
 ],
 "metadata": {
  "kernelspec": {
   "display_name": "Python 3",
   "language": "python",
   "name": "python3"
  },
  "language_info": {
   "codemirror_mode": {
    "name": "ipython",
    "version": 3
   },
   "file_extension": ".py",
   "mimetype": "text/x-python",
   "name": "python",
   "nbconvert_exporter": "python",
   "pygments_lexer": "ipython3",
   "version": "3.8.8"
  }
 },
 "nbformat": 4,
 "nbformat_minor": 5
}

{
 "cells": [
  {
   "cell_type": "code",
   "execution_count": null,
   "id": "5bde5f4c",
   "metadata": {},
   "outputs": [],
   "source": [
    "import pandas as pd\n",
    "from sklearn.dummy import DummyClassifier\n",
    "from sklearn.metrics import classification_report\n",
    "import acquire\n",
    "import prepare\n",
    "\n",
    "import warnings\n",
    "warnings.filterwarnings('ignore')"
   ]
  },
  {
   "cell_type": "markdown",
   "id": "85438639",
   "metadata": {},
   "source": [
    "# Decision Tree"
   ]
  },
  {
   "cell_type": "markdown",
   "id": "67ff9a14",
   "metadata": {},
   "source": [
    "## Acquire Data"
   ]
  },
  {
   "cell_type": "code",
   "execution_count": null,
   "id": "e6aef708",
   "metadata": {},
   "outputs": [],
   "source": [
    "train, validate, test = prepare.prep_titanic(acquire.get_titanic_data())\n",
    "train.shape, validate.shape, test.shape"
   ]
  },
  {
   "cell_type": "code",
   "execution_count": null,
   "id": "9ed45aa6",
   "metadata": {},
   "outputs": [],
   "source": [
    "X_train, y_train = train.drop(columns='survived'), train.survived\n",
    "X_validate, y_validate = validate.drop(columns='survived'), validate.survived\n",
    "X_test, y_test = test.drop(columns='survived'), test.survived"
   ]
  },
  {
   "cell_type": "markdown",
   "id": "72f4c50f",
   "metadata": {},
   "source": [
    "## Clean Data"
   ]
  },
  {
   "cell_type": "code",
   "execution_count": null,
   "id": "9d512890",
   "metadata": {},
   "outputs": [],
   "source": [
    "X_train.head()"
   ]
  },
  {
   "cell_type": "code",
   "execution_count": null,
   "id": "7069cd59",
   "metadata": {},
   "outputs": [],
   "source": [
    "X_train.info()"
   ]
  },
  {
   "cell_type": "code",
   "execution_count": null,
   "id": "68d36b4f",
   "metadata": {},
   "outputs": [],
   "source": [
    "def clean_data(df):\n",
    "    '''\n",
    "    This function will drop any duplicate observations, \n",
    "    drop ['deck', 'embarked', 'class', 'age'], fill missing embark_town with 'Southampton'\n",
    "    and create dummy vars from sex and embark_town. \n",
    "    '''\n",
    "    df = df.drop_duplicates()\n",
    "    df = df.drop(columns=['embarked', 'class', 'age'])\n",
    "    df['embark_town'] = df.embark_town.fillna(value='Southampton')\n",
    "    dummy_df = pd.get_dummies(df[['sex', 'embark_town']], drop_first=True)\n",
    "    df = pd.concat([df, dummy_df], axis=1)\n",
    "    return df"
   ]
  },
  {
   "cell_type": "code",
   "execution_count": null,
   "id": "b7d8e96b",
   "metadata": {},
   "outputs": [],
   "source": [
    "X_train = clean_data(X_train)"
   ]
  },
  {
   "cell_type": "code",
   "execution_count": null,
   "id": "7f8a0768",
   "metadata": {},
   "outputs": [],
   "source": [
    "X_train.head()"
   ]
  },
  {
   "cell_type": "code",
   "execution_count": null,
   "id": "00a0175a",
   "metadata": {},
   "outputs": [],
   "source": [
    "X_train = X_train.drop(['sex', 'embark_town'], axis=1)"
   ]
  },
  {
   "cell_type": "code",
   "execution_count": null,
   "id": "7fe9249c",
   "metadata": {},
   "outputs": [],
   "source": [
    "y_train.head()"
   ]
  },
  {
   "cell_type": "markdown",
   "id": "6a7de886",
   "metadata": {},
   "source": [
    "### What is your baseline prediction?"
   ]
  },
  {
   "cell_type": "code",
   "execution_count": null,
   "id": "537fabe5",
   "metadata": {},
   "outputs": [],
   "source": [
    "train.survived.value_counts()"
   ]
  },
  {
   "cell_type": "markdown",
   "id": "614e607d",
   "metadata": {},
   "source": [
    "As we can see above, the majority of passengers died, so our baseline assumption is that all passengers died."
   ]
  },
  {
   "cell_type": "markdown",
   "id": "2c0104b7",
   "metadata": {},
   "source": [
    "### What is your baseline accuracy"
   ]
  },
  {
   "cell_type": "markdown",
   "id": "f9d7eae0",
   "metadata": {},
   "source": [
    "Create the object."
   ]
  },
  {
   "cell_type": "code",
   "execution_count": null,
   "id": "35d52326",
   "metadata": {},
   "outputs": [],
   "source": [
    "model = DummyClassifier(strategy='constant', constant=0)"
   ]
  },
  {
   "cell_type": "markdown",
   "id": "ddbf7a36",
   "metadata": {},
   "source": [
    "Fit the object."
   ]
  },
  {
   "cell_type": "code",
   "execution_count": null,
   "id": "d6095b38",
   "metadata": {},
   "outputs": [],
   "source": [
    "model.fit(X_train, y_train)"
   ]
  },
  {
   "cell_type": "code",
   "execution_count": null,
   "id": "d0d9d458",
   "metadata": {
    "scrolled": true
   },
   "outputs": [],
   "source": [
    "accuracy = round(model.score(X_train, y_train), 2)\n",
    "print(f'Training accuracy: {accuracy}')"
   ]
  },
  {
   "cell_type": "markdown",
   "id": "e7a6cafc",
   "metadata": {},
   "source": [
    "### Fit the decision tree classifier to your training sample and transform"
   ]
  },
  {
   "cell_type": "code",
   "execution_count": 195,
   "id": "0d1d7690",
   "metadata": {},
   "outputs": [],
   "source": [
    "from sklearn.model_selection import train_test_split\n",
    "from sklearn.tree import DecisionTreeClassifier\n",
    "from sklearn.tree import export_graphviz\n",
    "from sklearn.metrics import classification_report\n",
    "from sklearn.metrics import confusion_matrix\n",
    "import graphviz\n",
    "from graphviz import Graph\n",
    "from sklearn import tree\n",
    "import numpy\n",
    "from sklearn.metrics import accuracy_score\n",
    "from sklearn.metrics import precision_score\n",
    "from sklearn.metrics import recall_score\n",
    "from sklearn.metrics import f1_score"
   ]
  },
  {
   "cell_type": "code",
   "execution_count": null,
   "id": "cf99e714",
   "metadata": {},
   "outputs": [],
   "source": [
    "clf1 = DecisionTreeClassifier(max_depth=3, random_state=123)"
   ]
  },
  {
   "cell_type": "code",
   "execution_count": null,
   "id": "dfe95284",
   "metadata": {},
   "outputs": [],
   "source": [
    "clf1 = clf1.fit(X_train, y_train)"
   ]
  },
  {
   "cell_type": "code",
   "execution_count": null,
   "id": "88bef5b7",
   "metadata": {},
   "outputs": [],
   "source": [
    "clf1"
   ]
  },
  {
   "cell_type": "code",
   "execution_count": null,
   "id": "ac01430b",
   "metadata": {},
   "outputs": [],
   "source": [
    "dot_data = export_graphviz(clf1, feature_names= X_train.columns, rounded=True, filled=True, out_file=None)\n",
    "graph = graphviz.Source(dot_data) \n",
    "\n",
    "graph.render('titanic_tree', view=True)"
   ]
  },
  {
   "cell_type": "code",
   "execution_count": null,
   "id": "f1335f00",
   "metadata": {},
   "outputs": [],
   "source": [
    "y_pred = clf1.predict(X_train)"
   ]
  },
  {
   "cell_type": "code",
   "execution_count": null,
   "id": "ce63ed1d",
   "metadata": {},
   "outputs": [],
   "source": [
    "y_pred_proba = clf1.predict_proba(X_train)"
   ]
  },
  {
   "cell_type": "code",
   "execution_count": null,
   "id": "3103da33",
   "metadata": {},
   "outputs": [],
   "source": [
    "y_probability = pd.DataFrame(y_pred_proba)\n",
    "y_probability.head()"
   ]
  },
  {
   "cell_type": "markdown",
   "id": "3a1c8313",
   "metadata": {},
   "source": [
    "### Evaluate your in-sample results using the model score, confusion matrix, and classification report."
   ]
  },
  {
   "cell_type": "markdown",
   "id": "ba16c3b2",
   "metadata": {},
   "source": [
    "**Accuracy Score**"
   ]
  },
  {
   "cell_type": "code",
   "execution_count": null,
   "id": "81c444f8",
   "metadata": {},
   "outputs": [],
   "source": [
    "print('Accuracy of Decision Tree classifier on training set: {:.2f}'\n",
    "      .format(clf1.score(X_train, y_train)))"
   ]
  },
  {
   "cell_type": "markdown",
   "id": "dc54e77f",
   "metadata": {},
   "source": [
    "**Confusion Matrix**"
   ]
  },
  {
   "cell_type": "code",
   "execution_count": null,
   "id": "3e6f8780",
   "metadata": {},
   "outputs": [],
   "source": [
    "confusion_matrix(y_train, y_pred)"
   ]
  },
  {
   "cell_type": "code",
   "execution_count": null,
   "id": "4ca364c0",
   "metadata": {},
   "outputs": [],
   "source": [
    "y_train.value_counts()"
   ]
  },
  {
   "cell_type": "code",
   "execution_count": 110,
   "id": "7a401821",
   "metadata": {},
   "outputs": [
    {
     "data": {
      "text/html": [
       "<div>\n",
       "<style scoped>\n",
       "    .dataframe tbody tr th:only-of-type {\n",
       "        vertical-align: middle;\n",
       "    }\n",
       "\n",
       "    .dataframe tbody tr th {\n",
       "        vertical-align: top;\n",
       "    }\n",
       "\n",
       "    .dataframe thead th {\n",
       "        text-align: right;\n",
       "    }\n",
       "</style>\n",
       "<table border=\"1\" class=\"dataframe\">\n",
       "  <thead>\n",
       "    <tr style=\"text-align: right;\">\n",
       "      <th></th>\n",
       "      <th>died_predict</th>\n",
       "      <th>survived_predict</th>\n",
       "    </tr>\n",
       "  </thead>\n",
       "  <tbody>\n",
       "    <tr>\n",
       "      <th>died_actual</th>\n",
       "      <td>307</td>\n",
       "      <td>0</td>\n",
       "    </tr>\n",
       "    <tr>\n",
       "      <th>survived_actual</th>\n",
       "      <td>16</td>\n",
       "      <td>174</td>\n",
       "    </tr>\n",
       "  </tbody>\n",
       "</table>\n",
       "</div>"
      ],
      "text/plain": [
       "                 died_predict  survived_predict\n",
       "died_actual               307                 0\n",
       "survived_actual            16               174"
      ]
     },
     "execution_count": 110,
     "metadata": {},
     "output_type": "execute_result"
    }
   ],
   "source": [
    "labels1 = ['died_actual', 'survived_actual']\n",
    "labels2 = ['died_predict', 'survived_predict']\n",
    "\n",
    "pd.DataFrame(confusion_matrix(y_train, y_pred), index=labels1, columns=labels2)"
   ]
  },
  {
   "cell_type": "markdown",
   "id": "dc0c06d8",
   "metadata": {},
   "source": [
    "**Classification report**"
   ]
  },
  {
   "cell_type": "code",
   "execution_count": null,
   "id": "d5caec67",
   "metadata": {},
   "outputs": [],
   "source": [
    "report_train_depth_three = classification_report(y_train, y_pred, output_dict = True)"
   ]
  },
  {
   "cell_type": "code",
   "execution_count": null,
   "id": "4209fa0c",
   "metadata": {},
   "outputs": [],
   "source": [
    "df_report_train_depth_three = pd.DataFrame(report_train_depth_three).T"
   ]
  },
  {
   "cell_type": "code",
   "execution_count": null,
   "id": "ba756fe6",
   "metadata": {},
   "outputs": [],
   "source": [
    "df_report_train_depth_three"
   ]
  },
  {
   "cell_type": "markdown",
   "id": "9b0b236b",
   "metadata": {},
   "source": [
    "### Now we'll take a look at the validate model."
   ]
  },
  {
   "cell_type": "markdown",
   "id": "ef5b2002",
   "metadata": {},
   "source": [
    "**Clean the data**"
   ]
  },
  {
   "cell_type": "code",
   "execution_count": null,
   "id": "fb146511",
   "metadata": {},
   "outputs": [],
   "source": [
    "X_validate = clean_data(X_validate)"
   ]
  },
  {
   "cell_type": "code",
   "execution_count": null,
   "id": "d1f5e84e",
   "metadata": {},
   "outputs": [],
   "source": [
    "X_validate = X_validate.drop(['sex', 'embark_town'], axis=1)"
   ]
  },
  {
   "cell_type": "markdown",
   "id": "bc60a262",
   "metadata": {},
   "source": [
    "**Accuracy Score**"
   ]
  },
  {
   "cell_type": "code",
   "execution_count": 49,
   "id": "ba101a11",
   "metadata": {},
   "outputs": [],
   "source": [
    "y_pred_validate_depth_three = clf1.predict(X_validate)"
   ]
  },
  {
   "cell_type": "code",
   "execution_count": 51,
   "id": "d38d1772",
   "metadata": {},
   "outputs": [
    {
     "name": "stdout",
     "output_type": "stream",
     "text": [
      "Accuracy of Decision Tree classifier on training set: 0.79\n"
     ]
    }
   ],
   "source": [
    "print('Accuracy of Decision Tree classifier on training set: {:.2f}'\n",
    "      .format(clf1.score(X_validate, y_validate)))"
   ]
  },
  {
   "cell_type": "markdown",
   "id": "c8ea844b",
   "metadata": {},
   "source": [
    "**Confusion Matrix**"
   ]
  },
  {
   "cell_type": "code",
   "execution_count": 52,
   "id": "34f6ef9d",
   "metadata": {},
   "outputs": [
    {
     "data": {
      "text/html": [
       "<div>\n",
       "<style scoped>\n",
       "    .dataframe tbody tr th:only-of-type {\n",
       "        vertical-align: middle;\n",
       "    }\n",
       "\n",
       "    .dataframe tbody tr th {\n",
       "        vertical-align: top;\n",
       "    }\n",
       "\n",
       "    .dataframe thead th {\n",
       "        text-align: right;\n",
       "    }\n",
       "</style>\n",
       "<table border=\"1\" class=\"dataframe\">\n",
       "  <thead>\n",
       "    <tr style=\"text-align: right;\">\n",
       "      <th></th>\n",
       "      <th>died_predict</th>\n",
       "      <th>survived_predict</th>\n",
       "    </tr>\n",
       "  </thead>\n",
       "  <tbody>\n",
       "    <tr>\n",
       "      <th>died_actual</th>\n",
       "      <td>117</td>\n",
       "      <td>15</td>\n",
       "    </tr>\n",
       "    <tr>\n",
       "      <th>survived_actual</th>\n",
       "      <td>30</td>\n",
       "      <td>52</td>\n",
       "    </tr>\n",
       "  </tbody>\n",
       "</table>\n",
       "</div>"
      ],
      "text/plain": [
       "                 died_predict  survived_predict\n",
       "died_actual               117                15\n",
       "survived_actual            30                52"
      ]
     },
     "execution_count": 52,
     "metadata": {},
     "output_type": "execute_result"
    }
   ],
   "source": [
    "labels1 = ['died_actual', 'survived_actual']\n",
    "labels2 = ['died_predict', 'survived_predict']\n",
    "\n",
    "pd.DataFrame(confusion_matrix(y_validate, y_pred_validate_depth_three), index=labels1, columns=labels2)"
   ]
  },
  {
   "cell_type": "markdown",
   "id": "dc0161e9",
   "metadata": {},
   "source": [
    "**Create a classification table**"
   ]
  },
  {
   "cell_type": "code",
   "execution_count": 53,
   "id": "82a472fa",
   "metadata": {},
   "outputs": [],
   "source": [
    "report_validate_depth_three = classification_report(y_validate, y_pred_validate_depth_three, output_dict = True)"
   ]
  },
  {
   "cell_type": "code",
   "execution_count": 54,
   "id": "c001ed66",
   "metadata": {},
   "outputs": [],
   "source": [
    "df_report_validate_depth_three = pd.DataFrame(report_validate_depth_three).T"
   ]
  },
  {
   "cell_type": "code",
   "execution_count": 55,
   "id": "646979a4",
   "metadata": {},
   "outputs": [
    {
     "data": {
      "text/html": [
       "<div>\n",
       "<style scoped>\n",
       "    .dataframe tbody tr th:only-of-type {\n",
       "        vertical-align: middle;\n",
       "    }\n",
       "\n",
       "    .dataframe tbody tr th {\n",
       "        vertical-align: top;\n",
       "    }\n",
       "\n",
       "    .dataframe thead th {\n",
       "        text-align: right;\n",
       "    }\n",
       "</style>\n",
       "<table border=\"1\" class=\"dataframe\">\n",
       "  <thead>\n",
       "    <tr style=\"text-align: right;\">\n",
       "      <th></th>\n",
       "      <th>precision</th>\n",
       "      <th>recall</th>\n",
       "      <th>f1-score</th>\n",
       "      <th>support</th>\n",
       "    </tr>\n",
       "  </thead>\n",
       "  <tbody>\n",
       "    <tr>\n",
       "      <th>0</th>\n",
       "      <td>0.795918</td>\n",
       "      <td>0.886364</td>\n",
       "      <td>0.838710</td>\n",
       "      <td>132.00000</td>\n",
       "    </tr>\n",
       "    <tr>\n",
       "      <th>1</th>\n",
       "      <td>0.776119</td>\n",
       "      <td>0.634146</td>\n",
       "      <td>0.697987</td>\n",
       "      <td>82.00000</td>\n",
       "    </tr>\n",
       "    <tr>\n",
       "      <th>accuracy</th>\n",
       "      <td>0.789720</td>\n",
       "      <td>0.789720</td>\n",
       "      <td>0.789720</td>\n",
       "      <td>0.78972</td>\n",
       "    </tr>\n",
       "    <tr>\n",
       "      <th>macro avg</th>\n",
       "      <td>0.786019</td>\n",
       "      <td>0.760255</td>\n",
       "      <td>0.768348</td>\n",
       "      <td>214.00000</td>\n",
       "    </tr>\n",
       "    <tr>\n",
       "      <th>weighted avg</th>\n",
       "      <td>0.788332</td>\n",
       "      <td>0.789720</td>\n",
       "      <td>0.784788</td>\n",
       "      <td>214.00000</td>\n",
       "    </tr>\n",
       "  </tbody>\n",
       "</table>\n",
       "</div>"
      ],
      "text/plain": [
       "              precision    recall  f1-score    support\n",
       "0              0.795918  0.886364  0.838710  132.00000\n",
       "1              0.776119  0.634146  0.697987   82.00000\n",
       "accuracy       0.789720  0.789720  0.789720    0.78972\n",
       "macro avg      0.786019  0.760255  0.768348  214.00000\n",
       "weighted avg   0.788332  0.789720  0.784788  214.00000"
      ]
     },
     "execution_count": 55,
     "metadata": {},
     "output_type": "execute_result"
    }
   ],
   "source": [
    "df_report_validate_depth_three"
   ]
  },
  {
   "cell_type": "markdown",
   "id": "540c5694",
   "metadata": {},
   "source": [
    "### Compute: Accuracy, true positive rate, false positive rate, true negative rate, false negative rate, precision, recall, f1-score, and support."
   ]
  },
  {
   "cell_type": "markdown",
   "id": "8474f115",
   "metadata": {},
   "source": [
    "**Accuracy**"
   ]
  },
  {
   "cell_type": "code",
   "execution_count": 56,
   "id": "9dd6ce8e",
   "metadata": {},
   "outputs": [
    {
     "data": {
      "text/plain": [
       "0.8108651911468813"
      ]
     },
     "execution_count": 56,
     "metadata": {},
     "output_type": "execute_result"
    }
   ],
   "source": [
    "model_accuracy = accuracy_score(y_train, y_pred)\n",
    "model_accuracy"
   ]
  },
  {
   "cell_type": "markdown",
   "id": "63c4c73f",
   "metadata": {},
   "source": [
    "**True Positive Rate**"
   ]
  },
  {
   "cell_type": "code",
   "execution_count": 57,
   "id": "42e7b2f2",
   "metadata": {},
   "outputs": [],
   "source": [
    "true_positive = 128 \n",
    "false_negative = 62\n",
    "true_negative = 279\n",
    "false_positive = 28"
   ]
  },
  {
   "cell_type": "code",
   "execution_count": 58,
   "id": "2d8963f1",
   "metadata": {},
   "outputs": [
    {
     "data": {
      "text/plain": [
       "0.6736842105263158"
      ]
     },
     "execution_count": 58,
     "metadata": {},
     "output_type": "execute_result"
    }
   ],
   "source": [
    "true_positive_rate = (true_positive)/(true_positive + false_negative)\n",
    "true_positive_rate"
   ]
  },
  {
   "cell_type": "markdown",
   "id": "7dac863d",
   "metadata": {},
   "source": [
    "**False Positive Rate**"
   ]
  },
  {
   "cell_type": "code",
   "execution_count": 59,
   "id": "b9a386db",
   "metadata": {},
   "outputs": [
    {
     "data": {
      "text/plain": [
       "0.09120521172638436"
      ]
     },
     "execution_count": 59,
     "metadata": {},
     "output_type": "execute_result"
    }
   ],
   "source": [
    "false_positive_rate = (false_positive)/(false_positive+true_negative)\n",
    "false_positive_rate"
   ]
  },
  {
   "cell_type": "markdown",
   "id": "b3bb6427",
   "metadata": {},
   "source": [
    "**True Negative Rate**"
   ]
  },
  {
   "cell_type": "code",
   "execution_count": 60,
   "id": "b47eb1b0",
   "metadata": {},
   "outputs": [
    {
     "data": {
      "text/plain": [
       "0.9087947882736156"
      ]
     },
     "execution_count": 60,
     "metadata": {},
     "output_type": "execute_result"
    }
   ],
   "source": [
    "true_negative_rate = (true_negative)/(true_negative + false_positive)\n",
    "true_negative_rate"
   ]
  },
  {
   "cell_type": "markdown",
   "id": "e6f41a61",
   "metadata": {},
   "source": [
    "**False Negative Rate**"
   ]
  },
  {
   "cell_type": "code",
   "execution_count": 61,
   "id": "f9f2e6ab",
   "metadata": {},
   "outputs": [
    {
     "data": {
      "text/plain": [
       "0.3263157894736842"
      ]
     },
     "execution_count": 61,
     "metadata": {},
     "output_type": "execute_result"
    }
   ],
   "source": [
    "false_negative_rate = (false_negative)/(false_negative + true_positive)\n",
    "false_negative_rate"
   ]
  },
  {
   "cell_type": "markdown",
   "id": "19254a41",
   "metadata": {},
   "source": [
    "**Precision**"
   ]
  },
  {
   "cell_type": "code",
   "execution_count": 62,
   "id": "95bdb070",
   "metadata": {},
   "outputs": [
    {
     "data": {
      "text/plain": [
       "0.8157894736842105"
      ]
     },
     "execution_count": 62,
     "metadata": {},
     "output_type": "execute_result"
    }
   ],
   "source": [
    "model_precision = precision_score(y_train, y_pred, pos_label= 1)\n",
    "model_precision"
   ]
  },
  {
   "cell_type": "markdown",
   "id": "97fd302b",
   "metadata": {},
   "source": [
    "**Recall**"
   ]
  },
  {
   "cell_type": "code",
   "execution_count": 63,
   "id": "a4bce48d",
   "metadata": {},
   "outputs": [
    {
     "data": {
      "text/plain": [
       "0.6526315789473685"
      ]
     },
     "execution_count": 63,
     "metadata": {},
     "output_type": "execute_result"
    }
   ],
   "source": [
    "model_recall = recall_score(y_train, y_pred, pos_label = 1)\n",
    "model_recall"
   ]
  },
  {
   "cell_type": "markdown",
   "id": "be6c2fb6",
   "metadata": {},
   "source": [
    "**f-1 score**"
   ]
  },
  {
   "cell_type": "code",
   "execution_count": 64,
   "id": "06e51ff1",
   "metadata": {},
   "outputs": [
    {
     "data": {
      "text/plain": [
       "array([0.85582822, 0.7251462 ])"
      ]
     },
     "execution_count": 64,
     "metadata": {},
     "output_type": "execute_result"
    }
   ],
   "source": [
    "model_f1_score = f1_score(y_train, y_pred, average=None)\n",
    "model_f1_score"
   ]
  },
  {
   "cell_type": "markdown",
   "id": "020b60f3",
   "metadata": {},
   "source": [
    "**Support**"
   ]
  },
  {
   "cell_type": "code",
   "execution_count": 65,
   "id": "4ef49cfd",
   "metadata": {},
   "outputs": [
    {
     "data": {
      "text/plain": [
       "0    307\n",
       "1    190\n",
       "Name: survived, dtype: int64"
      ]
     },
     "execution_count": 65,
     "metadata": {},
     "output_type": "execute_result"
    }
   ],
   "source": [
    "y_train.value_counts()"
   ]
  },
  {
   "cell_type": "code",
   "execution_count": 66,
   "id": "28da756f",
   "metadata": {},
   "outputs": [],
   "source": [
    "y_pred_df = pd.DataFrame(y_pred)"
   ]
  },
  {
   "cell_type": "code",
   "execution_count": 67,
   "id": "3fd9097f",
   "metadata": {},
   "outputs": [
    {
     "data": {
      "text/html": [
       "<div>\n",
       "<style scoped>\n",
       "    .dataframe tbody tr th:only-of-type {\n",
       "        vertical-align: middle;\n",
       "    }\n",
       "\n",
       "    .dataframe tbody tr th {\n",
       "        vertical-align: top;\n",
       "    }\n",
       "\n",
       "    .dataframe thead th {\n",
       "        text-align: right;\n",
       "    }\n",
       "</style>\n",
       "<table border=\"1\" class=\"dataframe\">\n",
       "  <thead>\n",
       "    <tr style=\"text-align: right;\">\n",
       "      <th></th>\n",
       "      <th>0</th>\n",
       "    </tr>\n",
       "  </thead>\n",
       "  <tbody>\n",
       "    <tr>\n",
       "      <th>0</th>\n",
       "      <td>0</td>\n",
       "    </tr>\n",
       "    <tr>\n",
       "      <th>1</th>\n",
       "      <td>1</td>\n",
       "    </tr>\n",
       "    <tr>\n",
       "      <th>2</th>\n",
       "      <td>0</td>\n",
       "    </tr>\n",
       "    <tr>\n",
       "      <th>3</th>\n",
       "      <td>1</td>\n",
       "    </tr>\n",
       "    <tr>\n",
       "      <th>4</th>\n",
       "      <td>1</td>\n",
       "    </tr>\n",
       "  </tbody>\n",
       "</table>\n",
       "</div>"
      ],
      "text/plain": [
       "   0\n",
       "0  0\n",
       "1  1\n",
       "2  0\n",
       "3  1\n",
       "4  1"
      ]
     },
     "execution_count": 67,
     "metadata": {},
     "output_type": "execute_result"
    }
   ],
   "source": [
    "y_pred_df.head()"
   ]
  },
  {
   "cell_type": "code",
   "execution_count": 68,
   "id": "43ffd700",
   "metadata": {},
   "outputs": [
    {
     "data": {
      "text/plain": [
       "345"
      ]
     },
     "execution_count": 68,
     "metadata": {},
     "output_type": "execute_result"
    }
   ],
   "source": [
    "y0 = y_pred_df[y_pred_df[0] == 0]\n",
    "y0.size"
   ]
  },
  {
   "cell_type": "code",
   "execution_count": 69,
   "id": "3a407cc8",
   "metadata": {},
   "outputs": [
    {
     "data": {
      "text/plain": [
       "152"
      ]
     },
     "execution_count": 69,
     "metadata": {},
     "output_type": "execute_result"
    }
   ],
   "source": [
    "y1 = y_pred_df[y_pred_df[0] == 1]\n",
    "y1.size"
   ]
  },
  {
   "cell_type": "markdown",
   "id": "cc7d74d9",
   "metadata": {},
   "source": [
    "## Run through steps 2-4 using a different max_depth value."
   ]
  },
  {
   "cell_type": "markdown",
   "id": "67457baa",
   "metadata": {},
   "source": [
    "### Training data"
   ]
  },
  {
   "cell_type": "code",
   "execution_count": 70,
   "id": "30b72810",
   "metadata": {},
   "outputs": [],
   "source": [
    "clf2 = DecisionTreeClassifier(max_depth=4, random_state=123)"
   ]
  },
  {
   "cell_type": "code",
   "execution_count": 71,
   "id": "f4cf7bcb",
   "metadata": {},
   "outputs": [],
   "source": [
    "clf2 = clf2.fit(X_train, y_train)"
   ]
  },
  {
   "cell_type": "code",
   "execution_count": 72,
   "id": "d5981a0b",
   "metadata": {},
   "outputs": [],
   "source": [
    "y_pred_train_depth_4 = clf2.predict(X_train)"
   ]
  },
  {
   "cell_type": "code",
   "execution_count": 73,
   "id": "8bb0475b",
   "metadata": {},
   "outputs": [],
   "source": [
    "y_pred_proba = clf2.predict_proba(X_train)"
   ]
  },
  {
   "cell_type": "code",
   "execution_count": 74,
   "id": "a0d2e9c9",
   "metadata": {},
   "outputs": [],
   "source": [
    "y_probability = pd.DataFrame(y_pred_proba)"
   ]
  },
  {
   "cell_type": "markdown",
   "id": "ecddb3a7",
   "metadata": {},
   "source": [
    "**Training data accuracy score**"
   ]
  },
  {
   "cell_type": "code",
   "execution_count": 75,
   "id": "930c98d6",
   "metadata": {},
   "outputs": [
    {
     "name": "stdout",
     "output_type": "stream",
     "text": [
      "Accuracy of Decision Tree classifier on training set: 0.85\n"
     ]
    }
   ],
   "source": [
    "print('Accuracy of Decision Tree classifier on training set: {:.2f}'\n",
    "      .format(clf2.score(X_train, y_train)))"
   ]
  },
  {
   "cell_type": "markdown",
   "id": "3b47c217",
   "metadata": {},
   "source": [
    "**Traininig data confusion matrix**"
   ]
  },
  {
   "cell_type": "code",
   "execution_count": 76,
   "id": "ac6eac1e",
   "metadata": {},
   "outputs": [
    {
     "data": {
      "text/plain": [
       "array([[283,  24],\n",
       "       [ 53, 137]])"
      ]
     },
     "execution_count": 76,
     "metadata": {},
     "output_type": "execute_result"
    }
   ],
   "source": [
    "confusion_matrix(y_train, y_pred_train_depth_4)"
   ]
  },
  {
   "cell_type": "code",
   "execution_count": 77,
   "id": "4fa38f70",
   "metadata": {},
   "outputs": [
    {
     "data": {
      "text/html": [
       "<div>\n",
       "<style scoped>\n",
       "    .dataframe tbody tr th:only-of-type {\n",
       "        vertical-align: middle;\n",
       "    }\n",
       "\n",
       "    .dataframe tbody tr th {\n",
       "        vertical-align: top;\n",
       "    }\n",
       "\n",
       "    .dataframe thead th {\n",
       "        text-align: right;\n",
       "    }\n",
       "</style>\n",
       "<table border=\"1\" class=\"dataframe\">\n",
       "  <thead>\n",
       "    <tr style=\"text-align: right;\">\n",
       "      <th></th>\n",
       "      <th>died_predict</th>\n",
       "      <th>survived_predict</th>\n",
       "    </tr>\n",
       "  </thead>\n",
       "  <tbody>\n",
       "    <tr>\n",
       "      <th>died_actual</th>\n",
       "      <td>283</td>\n",
       "      <td>24</td>\n",
       "    </tr>\n",
       "    <tr>\n",
       "      <th>survived_actual</th>\n",
       "      <td>53</td>\n",
       "      <td>137</td>\n",
       "    </tr>\n",
       "  </tbody>\n",
       "</table>\n",
       "</div>"
      ],
      "text/plain": [
       "                 died_predict  survived_predict\n",
       "died_actual               283                24\n",
       "survived_actual            53               137"
      ]
     },
     "execution_count": 77,
     "metadata": {},
     "output_type": "execute_result"
    }
   ],
   "source": [
    "labels1 = ['died_actual', 'survived_actual']\n",
    "labels2 = ['died_predict', 'survived_predict']\n",
    "\n",
    "pd.DataFrame(confusion_matrix(y_train, y_pred_train_depth_4), index=labels1, columns=labels2)"
   ]
  },
  {
   "cell_type": "markdown",
   "id": "388bff7e",
   "metadata": {},
   "source": [
    "**Training Data Classification Report**"
   ]
  },
  {
   "cell_type": "code",
   "execution_count": 78,
   "id": "c576d5ff",
   "metadata": {},
   "outputs": [],
   "source": [
    "classification_report_train_depth_four = classification_report(y_train, y_pred_train_depth_4, output_dict = True)"
   ]
  },
  {
   "cell_type": "code",
   "execution_count": 79,
   "id": "44c8c341",
   "metadata": {},
   "outputs": [],
   "source": [
    "df_classification_report_train_depth_four = pd.DataFrame(classification_report_train_depth_four).T"
   ]
  },
  {
   "cell_type": "code",
   "execution_count": 80,
   "id": "38bf2918",
   "metadata": {},
   "outputs": [
    {
     "data": {
      "text/html": [
       "<div>\n",
       "<style scoped>\n",
       "    .dataframe tbody tr th:only-of-type {\n",
       "        vertical-align: middle;\n",
       "    }\n",
       "\n",
       "    .dataframe tbody tr th {\n",
       "        vertical-align: top;\n",
       "    }\n",
       "\n",
       "    .dataframe thead th {\n",
       "        text-align: right;\n",
       "    }\n",
       "</style>\n",
       "<table border=\"1\" class=\"dataframe\">\n",
       "  <thead>\n",
       "    <tr style=\"text-align: right;\">\n",
       "      <th></th>\n",
       "      <th>precision</th>\n",
       "      <th>recall</th>\n",
       "      <th>f1-score</th>\n",
       "      <th>support</th>\n",
       "    </tr>\n",
       "  </thead>\n",
       "  <tbody>\n",
       "    <tr>\n",
       "      <th>0</th>\n",
       "      <td>0.842262</td>\n",
       "      <td>0.921824</td>\n",
       "      <td>0.880249</td>\n",
       "      <td>307.00000</td>\n",
       "    </tr>\n",
       "    <tr>\n",
       "      <th>1</th>\n",
       "      <td>0.850932</td>\n",
       "      <td>0.721053</td>\n",
       "      <td>0.780627</td>\n",
       "      <td>190.00000</td>\n",
       "    </tr>\n",
       "    <tr>\n",
       "      <th>accuracy</th>\n",
       "      <td>0.845070</td>\n",
       "      <td>0.845070</td>\n",
       "      <td>0.845070</td>\n",
       "      <td>0.84507</td>\n",
       "    </tr>\n",
       "    <tr>\n",
       "      <th>macro avg</th>\n",
       "      <td>0.846597</td>\n",
       "      <td>0.821438</td>\n",
       "      <td>0.830438</td>\n",
       "      <td>497.00000</td>\n",
       "    </tr>\n",
       "    <tr>\n",
       "      <th>weighted avg</th>\n",
       "      <td>0.845576</td>\n",
       "      <td>0.845070</td>\n",
       "      <td>0.842164</td>\n",
       "      <td>497.00000</td>\n",
       "    </tr>\n",
       "  </tbody>\n",
       "</table>\n",
       "</div>"
      ],
      "text/plain": [
       "              precision    recall  f1-score    support\n",
       "0              0.842262  0.921824  0.880249  307.00000\n",
       "1              0.850932  0.721053  0.780627  190.00000\n",
       "accuracy       0.845070  0.845070  0.845070    0.84507\n",
       "macro avg      0.846597  0.821438  0.830438  497.00000\n",
       "weighted avg   0.845576  0.845070  0.842164  497.00000"
      ]
     },
     "execution_count": 80,
     "metadata": {},
     "output_type": "execute_result"
    }
   ],
   "source": [
    "df_classification_report_train_depth_four"
   ]
  },
  {
   "cell_type": "markdown",
   "id": "093d65b0",
   "metadata": {},
   "source": [
    "### Validate Data"
   ]
  },
  {
   "cell_type": "code",
   "execution_count": 81,
   "id": "69c70ca7",
   "metadata": {},
   "outputs": [],
   "source": [
    "clf2 = clf2.fit(X_validate, y_validate)"
   ]
  },
  {
   "cell_type": "code",
   "execution_count": 82,
   "id": "8d41e532",
   "metadata": {},
   "outputs": [],
   "source": [
    "y_pred_validate_depth_4 = clf2.predict(X_validate)"
   ]
  },
  {
   "cell_type": "markdown",
   "id": "a3eb802c",
   "metadata": {},
   "source": [
    "**Validate accuracy**"
   ]
  },
  {
   "cell_type": "code",
   "execution_count": 83,
   "id": "a85992de",
   "metadata": {},
   "outputs": [
    {
     "name": "stdout",
     "output_type": "stream",
     "text": [
      "Accuracy of Decision Tree classifier on validate set: 0.86\n"
     ]
    }
   ],
   "source": [
    "print('Accuracy of Decision Tree classifier on validate set: {:.2f}'\n",
    "      .format(clf2.score(X_validate, y_validate)))"
   ]
  },
  {
   "cell_type": "markdown",
   "id": "a6e38c34",
   "metadata": {},
   "source": [
    "**Validate confusion matrix**"
   ]
  },
  {
   "cell_type": "code",
   "execution_count": 84,
   "id": "ab4f7417",
   "metadata": {},
   "outputs": [
    {
     "data": {
      "text/html": [
       "<div>\n",
       "<style scoped>\n",
       "    .dataframe tbody tr th:only-of-type {\n",
       "        vertical-align: middle;\n",
       "    }\n",
       "\n",
       "    .dataframe tbody tr th {\n",
       "        vertical-align: top;\n",
       "    }\n",
       "\n",
       "    .dataframe thead th {\n",
       "        text-align: right;\n",
       "    }\n",
       "</style>\n",
       "<table border=\"1\" class=\"dataframe\">\n",
       "  <thead>\n",
       "    <tr style=\"text-align: right;\">\n",
       "      <th></th>\n",
       "      <th>died_predict</th>\n",
       "      <th>survived_predict</th>\n",
       "    </tr>\n",
       "  </thead>\n",
       "  <tbody>\n",
       "    <tr>\n",
       "      <th>died_actual</th>\n",
       "      <td>125</td>\n",
       "      <td>7</td>\n",
       "    </tr>\n",
       "    <tr>\n",
       "      <th>survived_actual</th>\n",
       "      <td>24</td>\n",
       "      <td>58</td>\n",
       "    </tr>\n",
       "  </tbody>\n",
       "</table>\n",
       "</div>"
      ],
      "text/plain": [
       "                 died_predict  survived_predict\n",
       "died_actual               125                 7\n",
       "survived_actual            24                58"
      ]
     },
     "execution_count": 84,
     "metadata": {},
     "output_type": "execute_result"
    }
   ],
   "source": [
    "labels1 = ['died_actual', 'survived_actual']\n",
    "labels2 = ['died_predict', 'survived_predict']\n",
    "\n",
    "pd.DataFrame(confusion_matrix(y_validate, y_pred_validate_depth_4), index=labels1, columns=labels2)"
   ]
  },
  {
   "cell_type": "markdown",
   "id": "951bd4e8",
   "metadata": {},
   "source": [
    "**Training data classification report**"
   ]
  },
  {
   "cell_type": "code",
   "execution_count": 85,
   "id": "a926431b",
   "metadata": {},
   "outputs": [],
   "source": [
    "classification_report_validate_depth_4 = classification_report(y_validate, y_pred_validate_depth_4, output_dict = True)\n",
    "df_classification_report_validate_depth_4 = pd.DataFrame(classification_report_validate_depth_4).T"
   ]
  },
  {
   "cell_type": "code",
   "execution_count": 86,
   "id": "4b79a770",
   "metadata": {},
   "outputs": [
    {
     "data": {
      "text/html": [
       "<div>\n",
       "<style scoped>\n",
       "    .dataframe tbody tr th:only-of-type {\n",
       "        vertical-align: middle;\n",
       "    }\n",
       "\n",
       "    .dataframe tbody tr th {\n",
       "        vertical-align: top;\n",
       "    }\n",
       "\n",
       "    .dataframe thead th {\n",
       "        text-align: right;\n",
       "    }\n",
       "</style>\n",
       "<table border=\"1\" class=\"dataframe\">\n",
       "  <thead>\n",
       "    <tr style=\"text-align: right;\">\n",
       "      <th></th>\n",
       "      <th>precision</th>\n",
       "      <th>recall</th>\n",
       "      <th>f1-score</th>\n",
       "      <th>support</th>\n",
       "    </tr>\n",
       "  </thead>\n",
       "  <tbody>\n",
       "    <tr>\n",
       "      <th>0</th>\n",
       "      <td>0.838926</td>\n",
       "      <td>0.946970</td>\n",
       "      <td>0.889680</td>\n",
       "      <td>132.00000</td>\n",
       "    </tr>\n",
       "    <tr>\n",
       "      <th>1</th>\n",
       "      <td>0.892308</td>\n",
       "      <td>0.707317</td>\n",
       "      <td>0.789116</td>\n",
       "      <td>82.00000</td>\n",
       "    </tr>\n",
       "    <tr>\n",
       "      <th>accuracy</th>\n",
       "      <td>0.855140</td>\n",
       "      <td>0.855140</td>\n",
       "      <td>0.855140</td>\n",
       "      <td>0.85514</td>\n",
       "    </tr>\n",
       "    <tr>\n",
       "      <th>macro avg</th>\n",
       "      <td>0.865617</td>\n",
       "      <td>0.827143</td>\n",
       "      <td>0.839398</td>\n",
       "      <td>214.00000</td>\n",
       "    </tr>\n",
       "    <tr>\n",
       "      <th>weighted avg</th>\n",
       "      <td>0.859381</td>\n",
       "      <td>0.855140</td>\n",
       "      <td>0.851146</td>\n",
       "      <td>214.00000</td>\n",
       "    </tr>\n",
       "  </tbody>\n",
       "</table>\n",
       "</div>"
      ],
      "text/plain": [
       "              precision    recall  f1-score    support\n",
       "0              0.838926  0.946970  0.889680  132.00000\n",
       "1              0.892308  0.707317  0.789116   82.00000\n",
       "accuracy       0.855140  0.855140  0.855140    0.85514\n",
       "macro avg      0.865617  0.827143  0.839398  214.00000\n",
       "weighted avg   0.859381  0.855140  0.851146  214.00000"
      ]
     },
     "execution_count": 86,
     "metadata": {},
     "output_type": "execute_result"
    }
   ],
   "source": [
    "df_classification_report_validate_depth_4"
   ]
  },
  {
   "cell_type": "markdown",
   "id": "a2897605",
   "metadata": {},
   "source": [
    "### Which model performs better on your in-sample data?"
   ]
  },
  {
   "cell_type": "markdown",
   "id": "7322e70c",
   "metadata": {},
   "source": [
    "To answer this question, let's look at the training data classificatino reports side by side."
   ]
  },
  {
   "cell_type": "markdown",
   "id": "9fb5dd40",
   "metadata": {},
   "source": [
    "**Max depth three**"
   ]
  },
  {
   "cell_type": "code",
   "execution_count": 87,
   "id": "8c524bf6",
   "metadata": {},
   "outputs": [
    {
     "data": {
      "text/html": [
       "<div>\n",
       "<style scoped>\n",
       "    .dataframe tbody tr th:only-of-type {\n",
       "        vertical-align: middle;\n",
       "    }\n",
       "\n",
       "    .dataframe tbody tr th {\n",
       "        vertical-align: top;\n",
       "    }\n",
       "\n",
       "    .dataframe thead th {\n",
       "        text-align: right;\n",
       "    }\n",
       "</style>\n",
       "<table border=\"1\" class=\"dataframe\">\n",
       "  <thead>\n",
       "    <tr style=\"text-align: right;\">\n",
       "      <th></th>\n",
       "      <th>precision</th>\n",
       "      <th>recall</th>\n",
       "      <th>f1-score</th>\n",
       "      <th>support</th>\n",
       "    </tr>\n",
       "  </thead>\n",
       "  <tbody>\n",
       "    <tr>\n",
       "      <th>0</th>\n",
       "      <td>0.808696</td>\n",
       "      <td>0.908795</td>\n",
       "      <td>0.855828</td>\n",
       "      <td>307.000000</td>\n",
       "    </tr>\n",
       "    <tr>\n",
       "      <th>1</th>\n",
       "      <td>0.815789</td>\n",
       "      <td>0.652632</td>\n",
       "      <td>0.725146</td>\n",
       "      <td>190.000000</td>\n",
       "    </tr>\n",
       "    <tr>\n",
       "      <th>accuracy</th>\n",
       "      <td>0.810865</td>\n",
       "      <td>0.810865</td>\n",
       "      <td>0.810865</td>\n",
       "      <td>0.810865</td>\n",
       "    </tr>\n",
       "    <tr>\n",
       "      <th>macro avg</th>\n",
       "      <td>0.812243</td>\n",
       "      <td>0.780713</td>\n",
       "      <td>0.790487</td>\n",
       "      <td>497.000000</td>\n",
       "    </tr>\n",
       "    <tr>\n",
       "      <th>weighted avg</th>\n",
       "      <td>0.811408</td>\n",
       "      <td>0.810865</td>\n",
       "      <td>0.805869</td>\n",
       "      <td>497.000000</td>\n",
       "    </tr>\n",
       "  </tbody>\n",
       "</table>\n",
       "</div>"
      ],
      "text/plain": [
       "              precision    recall  f1-score     support\n",
       "0              0.808696  0.908795  0.855828  307.000000\n",
       "1              0.815789  0.652632  0.725146  190.000000\n",
       "accuracy       0.810865  0.810865  0.810865    0.810865\n",
       "macro avg      0.812243  0.780713  0.790487  497.000000\n",
       "weighted avg   0.811408  0.810865  0.805869  497.000000"
      ]
     },
     "execution_count": 87,
     "metadata": {},
     "output_type": "execute_result"
    }
   ],
   "source": [
    "df_report_train_depth_three"
   ]
  },
  {
   "cell_type": "markdown",
   "id": "f0a6243c",
   "metadata": {},
   "source": [
    "**Max depth four**"
   ]
  },
  {
   "cell_type": "code",
   "execution_count": 88,
   "id": "25068d46",
   "metadata": {},
   "outputs": [
    {
     "data": {
      "text/html": [
       "<div>\n",
       "<style scoped>\n",
       "    .dataframe tbody tr th:only-of-type {\n",
       "        vertical-align: middle;\n",
       "    }\n",
       "\n",
       "    .dataframe tbody tr th {\n",
       "        vertical-align: top;\n",
       "    }\n",
       "\n",
       "    .dataframe thead th {\n",
       "        text-align: right;\n",
       "    }\n",
       "</style>\n",
       "<table border=\"1\" class=\"dataframe\">\n",
       "  <thead>\n",
       "    <tr style=\"text-align: right;\">\n",
       "      <th></th>\n",
       "      <th>precision</th>\n",
       "      <th>recall</th>\n",
       "      <th>f1-score</th>\n",
       "      <th>support</th>\n",
       "    </tr>\n",
       "  </thead>\n",
       "  <tbody>\n",
       "    <tr>\n",
       "      <th>0</th>\n",
       "      <td>0.842262</td>\n",
       "      <td>0.921824</td>\n",
       "      <td>0.880249</td>\n",
       "      <td>307.00000</td>\n",
       "    </tr>\n",
       "    <tr>\n",
       "      <th>1</th>\n",
       "      <td>0.850932</td>\n",
       "      <td>0.721053</td>\n",
       "      <td>0.780627</td>\n",
       "      <td>190.00000</td>\n",
       "    </tr>\n",
       "    <tr>\n",
       "      <th>accuracy</th>\n",
       "      <td>0.845070</td>\n",
       "      <td>0.845070</td>\n",
       "      <td>0.845070</td>\n",
       "      <td>0.84507</td>\n",
       "    </tr>\n",
       "    <tr>\n",
       "      <th>macro avg</th>\n",
       "      <td>0.846597</td>\n",
       "      <td>0.821438</td>\n",
       "      <td>0.830438</td>\n",
       "      <td>497.00000</td>\n",
       "    </tr>\n",
       "    <tr>\n",
       "      <th>weighted avg</th>\n",
       "      <td>0.845576</td>\n",
       "      <td>0.845070</td>\n",
       "      <td>0.842164</td>\n",
       "      <td>497.00000</td>\n",
       "    </tr>\n",
       "  </tbody>\n",
       "</table>\n",
       "</div>"
      ],
      "text/plain": [
       "              precision    recall  f1-score    support\n",
       "0              0.842262  0.921824  0.880249  307.00000\n",
       "1              0.850932  0.721053  0.780627  190.00000\n",
       "accuracy       0.845070  0.845070  0.845070    0.84507\n",
       "macro avg      0.846597  0.821438  0.830438  497.00000\n",
       "weighted avg   0.845576  0.845070  0.842164  497.00000"
      ]
     },
     "execution_count": 88,
     "metadata": {},
     "output_type": "execute_result"
    }
   ],
   "source": [
    "df_classification_report_train_depth_four"
   ]
  },
  {
   "cell_type": "markdown",
   "id": "2694c1be",
   "metadata": {},
   "source": [
    "Max depth three out performs Max depth four on every observable measure."
   ]
  },
  {
   "cell_type": "markdown",
   "id": "7a75418a",
   "metadata": {},
   "source": [
    "### Which model performs best on your out-of-sample data, the validate set?"
   ]
  },
  {
   "cell_type": "markdown",
   "id": "9b19fcf5",
   "metadata": {},
   "source": [
    "**Max depth three**"
   ]
  },
  {
   "cell_type": "code",
   "execution_count": 89,
   "id": "ba1a5ff4",
   "metadata": {},
   "outputs": [
    {
     "data": {
      "text/html": [
       "<div>\n",
       "<style scoped>\n",
       "    .dataframe tbody tr th:only-of-type {\n",
       "        vertical-align: middle;\n",
       "    }\n",
       "\n",
       "    .dataframe tbody tr th {\n",
       "        vertical-align: top;\n",
       "    }\n",
       "\n",
       "    .dataframe thead th {\n",
       "        text-align: right;\n",
       "    }\n",
       "</style>\n",
       "<table border=\"1\" class=\"dataframe\">\n",
       "  <thead>\n",
       "    <tr style=\"text-align: right;\">\n",
       "      <th></th>\n",
       "      <th>precision</th>\n",
       "      <th>recall</th>\n",
       "      <th>f1-score</th>\n",
       "      <th>support</th>\n",
       "    </tr>\n",
       "  </thead>\n",
       "  <tbody>\n",
       "    <tr>\n",
       "      <th>0</th>\n",
       "      <td>0.795918</td>\n",
       "      <td>0.886364</td>\n",
       "      <td>0.838710</td>\n",
       "      <td>132.00000</td>\n",
       "    </tr>\n",
       "    <tr>\n",
       "      <th>1</th>\n",
       "      <td>0.776119</td>\n",
       "      <td>0.634146</td>\n",
       "      <td>0.697987</td>\n",
       "      <td>82.00000</td>\n",
       "    </tr>\n",
       "    <tr>\n",
       "      <th>accuracy</th>\n",
       "      <td>0.789720</td>\n",
       "      <td>0.789720</td>\n",
       "      <td>0.789720</td>\n",
       "      <td>0.78972</td>\n",
       "    </tr>\n",
       "    <tr>\n",
       "      <th>macro avg</th>\n",
       "      <td>0.786019</td>\n",
       "      <td>0.760255</td>\n",
       "      <td>0.768348</td>\n",
       "      <td>214.00000</td>\n",
       "    </tr>\n",
       "    <tr>\n",
       "      <th>weighted avg</th>\n",
       "      <td>0.788332</td>\n",
       "      <td>0.789720</td>\n",
       "      <td>0.784788</td>\n",
       "      <td>214.00000</td>\n",
       "    </tr>\n",
       "  </tbody>\n",
       "</table>\n",
       "</div>"
      ],
      "text/plain": [
       "              precision    recall  f1-score    support\n",
       "0              0.795918  0.886364  0.838710  132.00000\n",
       "1              0.776119  0.634146  0.697987   82.00000\n",
       "accuracy       0.789720  0.789720  0.789720    0.78972\n",
       "macro avg      0.786019  0.760255  0.768348  214.00000\n",
       "weighted avg   0.788332  0.789720  0.784788  214.00000"
      ]
     },
     "execution_count": 89,
     "metadata": {},
     "output_type": "execute_result"
    }
   ],
   "source": [
    "df_report_validate_depth_three"
   ]
  },
  {
   "cell_type": "markdown",
   "id": "c3b2322e",
   "metadata": {},
   "source": [
    "**Max depth four**"
   ]
  },
  {
   "cell_type": "code",
   "execution_count": 90,
   "id": "f4f69292",
   "metadata": {},
   "outputs": [
    {
     "data": {
      "text/html": [
       "<div>\n",
       "<style scoped>\n",
       "    .dataframe tbody tr th:only-of-type {\n",
       "        vertical-align: middle;\n",
       "    }\n",
       "\n",
       "    .dataframe tbody tr th {\n",
       "        vertical-align: top;\n",
       "    }\n",
       "\n",
       "    .dataframe thead th {\n",
       "        text-align: right;\n",
       "    }\n",
       "</style>\n",
       "<table border=\"1\" class=\"dataframe\">\n",
       "  <thead>\n",
       "    <tr style=\"text-align: right;\">\n",
       "      <th></th>\n",
       "      <th>precision</th>\n",
       "      <th>recall</th>\n",
       "      <th>f1-score</th>\n",
       "      <th>support</th>\n",
       "    </tr>\n",
       "  </thead>\n",
       "  <tbody>\n",
       "    <tr>\n",
       "      <th>0</th>\n",
       "      <td>0.838926</td>\n",
       "      <td>0.946970</td>\n",
       "      <td>0.889680</td>\n",
       "      <td>132.00000</td>\n",
       "    </tr>\n",
       "    <tr>\n",
       "      <th>1</th>\n",
       "      <td>0.892308</td>\n",
       "      <td>0.707317</td>\n",
       "      <td>0.789116</td>\n",
       "      <td>82.00000</td>\n",
       "    </tr>\n",
       "    <tr>\n",
       "      <th>accuracy</th>\n",
       "      <td>0.855140</td>\n",
       "      <td>0.855140</td>\n",
       "      <td>0.855140</td>\n",
       "      <td>0.85514</td>\n",
       "    </tr>\n",
       "    <tr>\n",
       "      <th>macro avg</th>\n",
       "      <td>0.865617</td>\n",
       "      <td>0.827143</td>\n",
       "      <td>0.839398</td>\n",
       "      <td>214.00000</td>\n",
       "    </tr>\n",
       "    <tr>\n",
       "      <th>weighted avg</th>\n",
       "      <td>0.859381</td>\n",
       "      <td>0.855140</td>\n",
       "      <td>0.851146</td>\n",
       "      <td>214.00000</td>\n",
       "    </tr>\n",
       "  </tbody>\n",
       "</table>\n",
       "</div>"
      ],
      "text/plain": [
       "              precision    recall  f1-score    support\n",
       "0              0.838926  0.946970  0.889680  132.00000\n",
       "1              0.892308  0.707317  0.789116   82.00000\n",
       "accuracy       0.855140  0.855140  0.855140    0.85514\n",
       "macro avg      0.865617  0.827143  0.839398  214.00000\n",
       "weighted avg   0.859381  0.855140  0.851146  214.00000"
      ]
     },
     "execution_count": 90,
     "metadata": {},
     "output_type": "execute_result"
    }
   ],
   "source": [
    "df_classification_report_validate_depth_4"
   ]
  },
  {
   "cell_type": "markdown",
   "id": "4f84afe8",
   "metadata": {},
   "source": [
    "Max depth three outperforms Max depth three for the validate data sets."
   ]
  },
  {
   "cell_type": "markdown",
   "id": "70a10521",
   "metadata": {},
   "source": [
    "# Random Forest"
   ]
  },
  {
   "cell_type": "markdown",
   "id": "fc13edc5",
   "metadata": {},
   "source": [
    "### Fit the Random Forest classifier to your training sample and transform (i.e. make predictions on the training sample) setting the random_state accordingly and setting min_samples_leaf = 1 and max_depth = 10."
   ]
  },
  {
   "cell_type": "code",
   "execution_count": 92,
   "id": "d0da26d0",
   "metadata": {},
   "outputs": [],
   "source": [
    "from sklearn.ensemble import RandomForestClassifier"
   ]
  },
  {
   "cell_type": "code",
   "execution_count": 95,
   "id": "6e2b46ae",
   "metadata": {},
   "outputs": [],
   "source": [
    "rf = RandomForestClassifier(bootstrap=True, \n",
    "                            class_weight=None, \n",
    "                            criterion='gini',\n",
    "                            min_samples_leaf=1,\n",
    "                            n_estimators=100,\n",
    "                            max_depth=10, \n",
    "                            random_state=123)"
   ]
  },
  {
   "cell_type": "markdown",
   "id": "342edb22",
   "metadata": {},
   "source": [
    "**Fit the model**"
   ]
  },
  {
   "cell_type": "code",
   "execution_count": 96,
   "id": "09693ea3",
   "metadata": {},
   "outputs": [
    {
     "data": {
      "text/plain": [
       "RandomForestClassifier(max_depth=10, random_state=123)"
      ]
     },
     "execution_count": 96,
     "metadata": {},
     "output_type": "execute_result"
    }
   ],
   "source": [
    "rf.fit(X_train, y_train)"
   ]
  },
  {
   "cell_type": "markdown",
   "id": "e919535e",
   "metadata": {},
   "source": [
    "**Feature importance**"
   ]
  },
  {
   "cell_type": "code",
   "execution_count": 100,
   "id": "84e18c79",
   "metadata": {},
   "outputs": [
    {
     "data": {
      "text/html": [
       "<div>\n",
       "<style scoped>\n",
       "    .dataframe tbody tr th:only-of-type {\n",
       "        vertical-align: middle;\n",
       "    }\n",
       "\n",
       "    .dataframe tbody tr th {\n",
       "        vertical-align: top;\n",
       "    }\n",
       "\n",
       "    .dataframe thead th {\n",
       "        text-align: right;\n",
       "    }\n",
       "</style>\n",
       "<table border=\"1\" class=\"dataframe\">\n",
       "  <thead>\n",
       "    <tr style=\"text-align: right;\">\n",
       "      <th></th>\n",
       "      <th>0</th>\n",
       "    </tr>\n",
       "  </thead>\n",
       "  <tbody>\n",
       "    <tr>\n",
       "      <th>0</th>\n",
       "      <td>0.158897</td>\n",
       "    </tr>\n",
       "    <tr>\n",
       "      <th>1</th>\n",
       "      <td>0.162192</td>\n",
       "    </tr>\n",
       "    <tr>\n",
       "      <th>2</th>\n",
       "      <td>0.099323</td>\n",
       "    </tr>\n",
       "    <tr>\n",
       "      <th>3</th>\n",
       "      <td>0.047610</td>\n",
       "    </tr>\n",
       "    <tr>\n",
       "      <th>4</th>\n",
       "      <td>0.031066</td>\n",
       "    </tr>\n",
       "    <tr>\n",
       "      <th>5</th>\n",
       "      <td>0.195731</td>\n",
       "    </tr>\n",
       "    <tr>\n",
       "      <th>6</th>\n",
       "      <td>0.029676</td>\n",
       "    </tr>\n",
       "    <tr>\n",
       "      <th>7</th>\n",
       "      <td>0.007023</td>\n",
       "    </tr>\n",
       "    <tr>\n",
       "      <th>8</th>\n",
       "      <td>0.013260</td>\n",
       "    </tr>\n",
       "    <tr>\n",
       "      <th>9</th>\n",
       "      <td>0.233667</td>\n",
       "    </tr>\n",
       "    <tr>\n",
       "      <th>10</th>\n",
       "      <td>0.006549</td>\n",
       "    </tr>\n",
       "    <tr>\n",
       "      <th>11</th>\n",
       "      <td>0.015006</td>\n",
       "    </tr>\n",
       "  </tbody>\n",
       "</table>\n",
       "</div>"
      ],
      "text/plain": [
       "           0\n",
       "0   0.158897\n",
       "1   0.162192\n",
       "2   0.099323\n",
       "3   0.047610\n",
       "4   0.031066\n",
       "5   0.195731\n",
       "6   0.029676\n",
       "7   0.007023\n",
       "8   0.013260\n",
       "9   0.233667\n",
       "10  0.006549\n",
       "11  0.015006"
      ]
     },
     "execution_count": 100,
     "metadata": {},
     "output_type": "execute_result"
    }
   ],
   "source": [
    "pd.DataFrame(rf.feature_importances_)"
   ]
  },
  {
   "cell_type": "markdown",
   "id": "197bf9f1",
   "metadata": {},
   "source": [
    "**Make predictions**"
   ]
  },
  {
   "cell_type": "code",
   "execution_count": 101,
   "id": "d5747e3b",
   "metadata": {},
   "outputs": [],
   "source": [
    "y_pred = rf.predict(X_train)"
   ]
  },
  {
   "cell_type": "code",
   "execution_count": 103,
   "id": "806b1523",
   "metadata": {},
   "outputs": [
    {
     "data": {
      "text/html": [
       "<div>\n",
       "<style scoped>\n",
       "    .dataframe tbody tr th:only-of-type {\n",
       "        vertical-align: middle;\n",
       "    }\n",
       "\n",
       "    .dataframe tbody tr th {\n",
       "        vertical-align: top;\n",
       "    }\n",
       "\n",
       "    .dataframe thead th {\n",
       "        text-align: right;\n",
       "    }\n",
       "</style>\n",
       "<table border=\"1\" class=\"dataframe\">\n",
       "  <thead>\n",
       "    <tr style=\"text-align: right;\">\n",
       "      <th></th>\n",
       "      <th>0</th>\n",
       "    </tr>\n",
       "  </thead>\n",
       "  <tbody>\n",
       "    <tr>\n",
       "      <th>0</th>\n",
       "      <td>0</td>\n",
       "    </tr>\n",
       "    <tr>\n",
       "      <th>1</th>\n",
       "      <td>1</td>\n",
       "    </tr>\n",
       "    <tr>\n",
       "      <th>2</th>\n",
       "      <td>0</td>\n",
       "    </tr>\n",
       "    <tr>\n",
       "      <th>3</th>\n",
       "      <td>1</td>\n",
       "    </tr>\n",
       "    <tr>\n",
       "      <th>4</th>\n",
       "      <td>1</td>\n",
       "    </tr>\n",
       "    <tr>\n",
       "      <th>...</th>\n",
       "      <td>...</td>\n",
       "    </tr>\n",
       "    <tr>\n",
       "      <th>492</th>\n",
       "      <td>0</td>\n",
       "    </tr>\n",
       "    <tr>\n",
       "      <th>493</th>\n",
       "      <td>0</td>\n",
       "    </tr>\n",
       "    <tr>\n",
       "      <th>494</th>\n",
       "      <td>0</td>\n",
       "    </tr>\n",
       "    <tr>\n",
       "      <th>495</th>\n",
       "      <td>0</td>\n",
       "    </tr>\n",
       "    <tr>\n",
       "      <th>496</th>\n",
       "      <td>1</td>\n",
       "    </tr>\n",
       "  </tbody>\n",
       "</table>\n",
       "<p>497 rows × 1 columns</p>\n",
       "</div>"
      ],
      "text/plain": [
       "     0\n",
       "0    0\n",
       "1    1\n",
       "2    0\n",
       "3    1\n",
       "4    1\n",
       "..  ..\n",
       "492  0\n",
       "493  0\n",
       "494  0\n",
       "495  0\n",
       "496  1\n",
       "\n",
       "[497 rows x 1 columns]"
      ]
     },
     "execution_count": 103,
     "metadata": {},
     "output_type": "execute_result"
    }
   ],
   "source": [
    "pd.DataFrame(y_pred)"
   ]
  },
  {
   "cell_type": "markdown",
   "id": "c5da035b",
   "metadata": {},
   "source": [
    "**Estimate probability**"
   ]
  },
  {
   "cell_type": "code",
   "execution_count": 104,
   "id": "a0179a81",
   "metadata": {},
   "outputs": [],
   "source": [
    "y_pred_proba = rf.predict_proba(X_train)"
   ]
  },
  {
   "cell_type": "code",
   "execution_count": 105,
   "id": "8d0a16c9",
   "metadata": {},
   "outputs": [
    {
     "data": {
      "text/html": [
       "<div>\n",
       "<style scoped>\n",
       "    .dataframe tbody tr th:only-of-type {\n",
       "        vertical-align: middle;\n",
       "    }\n",
       "\n",
       "    .dataframe tbody tr th {\n",
       "        vertical-align: top;\n",
       "    }\n",
       "\n",
       "    .dataframe thead th {\n",
       "        text-align: right;\n",
       "    }\n",
       "</style>\n",
       "<table border=\"1\" class=\"dataframe\">\n",
       "  <thead>\n",
       "    <tr style=\"text-align: right;\">\n",
       "      <th></th>\n",
       "      <th>0</th>\n",
       "      <th>1</th>\n",
       "    </tr>\n",
       "  </thead>\n",
       "  <tbody>\n",
       "    <tr>\n",
       "      <th>0</th>\n",
       "      <td>0.845507</td>\n",
       "      <td>0.154493</td>\n",
       "    </tr>\n",
       "    <tr>\n",
       "      <th>1</th>\n",
       "      <td>0.021714</td>\n",
       "      <td>0.978286</td>\n",
       "    </tr>\n",
       "    <tr>\n",
       "      <th>2</th>\n",
       "      <td>0.977273</td>\n",
       "      <td>0.022727</td>\n",
       "    </tr>\n",
       "    <tr>\n",
       "      <th>3</th>\n",
       "      <td>0.010714</td>\n",
       "      <td>0.989286</td>\n",
       "    </tr>\n",
       "    <tr>\n",
       "      <th>4</th>\n",
       "      <td>0.100000</td>\n",
       "      <td>0.900000</td>\n",
       "    </tr>\n",
       "    <tr>\n",
       "      <th>...</th>\n",
       "      <td>...</td>\n",
       "      <td>...</td>\n",
       "    </tr>\n",
       "    <tr>\n",
       "      <th>492</th>\n",
       "      <td>0.942332</td>\n",
       "      <td>0.057668</td>\n",
       "    </tr>\n",
       "    <tr>\n",
       "      <th>493</th>\n",
       "      <td>0.906272</td>\n",
       "      <td>0.093728</td>\n",
       "    </tr>\n",
       "    <tr>\n",
       "      <th>494</th>\n",
       "      <td>0.799098</td>\n",
       "      <td>0.200902</td>\n",
       "    </tr>\n",
       "    <tr>\n",
       "      <th>495</th>\n",
       "      <td>0.921866</td>\n",
       "      <td>0.078134</td>\n",
       "    </tr>\n",
       "    <tr>\n",
       "      <th>496</th>\n",
       "      <td>0.439101</td>\n",
       "      <td>0.560899</td>\n",
       "    </tr>\n",
       "  </tbody>\n",
       "</table>\n",
       "<p>497 rows × 2 columns</p>\n",
       "</div>"
      ],
      "text/plain": [
       "            0         1\n",
       "0    0.845507  0.154493\n",
       "1    0.021714  0.978286\n",
       "2    0.977273  0.022727\n",
       "3    0.010714  0.989286\n",
       "4    0.100000  0.900000\n",
       "..        ...       ...\n",
       "492  0.942332  0.057668\n",
       "493  0.906272  0.093728\n",
       "494  0.799098  0.200902\n",
       "495  0.921866  0.078134\n",
       "496  0.439101  0.560899\n",
       "\n",
       "[497 rows x 2 columns]"
      ]
     },
     "execution_count": 105,
     "metadata": {},
     "output_type": "execute_result"
    }
   ],
   "source": [
    "pd.DataFrame(y_pred_proba)"
   ]
  },
  {
   "cell_type": "markdown",
   "id": "ca51efc1",
   "metadata": {},
   "source": [
    "### Evaluate your results using the model score, confusion matrix, and classification report."
   ]
  },
  {
   "cell_type": "markdown",
   "id": "1d28239e",
   "metadata": {},
   "source": [
    "**Compute Accuracy**"
   ]
  },
  {
   "cell_type": "code",
   "execution_count": 106,
   "id": "f7fe93fa",
   "metadata": {},
   "outputs": [
    {
     "name": "stdout",
     "output_type": "stream",
     "text": [
      "Accuracy of random forest classifier on training set: 0.97\n"
     ]
    }
   ],
   "source": [
    "print('Accuracy of random forest classifier on training set: {:.2f}'\n",
    "     .format(rf.score(X_train, y_train)))"
   ]
  },
  {
   "cell_type": "markdown",
   "id": "5c795f03",
   "metadata": {},
   "source": [
    "**Create a confusion matrix**"
   ]
  },
  {
   "cell_type": "code",
   "execution_count": 111,
   "id": "53649edb",
   "metadata": {},
   "outputs": [],
   "source": [
    "labels1 = ['died_actual', 'survived_actual']\n",
    "labels2 = ['died_predicted', 'survived_predicted']\n",
    "df_confusion_matrix = pd.DataFrame(confusion_matrix(y_train, y_pred), index=labels1, columns=labels2)"
   ]
  },
  {
   "cell_type": "code",
   "execution_count": 112,
   "id": "44ab8780",
   "metadata": {},
   "outputs": [
    {
     "data": {
      "text/html": [
       "<div>\n",
       "<style scoped>\n",
       "    .dataframe tbody tr th:only-of-type {\n",
       "        vertical-align: middle;\n",
       "    }\n",
       "\n",
       "    .dataframe tbody tr th {\n",
       "        vertical-align: top;\n",
       "    }\n",
       "\n",
       "    .dataframe thead th {\n",
       "        text-align: right;\n",
       "    }\n",
       "</style>\n",
       "<table border=\"1\" class=\"dataframe\">\n",
       "  <thead>\n",
       "    <tr style=\"text-align: right;\">\n",
       "      <th></th>\n",
       "      <th>died_predicted</th>\n",
       "      <th>survived_predicted</th>\n",
       "    </tr>\n",
       "  </thead>\n",
       "  <tbody>\n",
       "    <tr>\n",
       "      <th>died_actual</th>\n",
       "      <td>307</td>\n",
       "      <td>0</td>\n",
       "    </tr>\n",
       "    <tr>\n",
       "      <th>survived_actual</th>\n",
       "      <td>16</td>\n",
       "      <td>174</td>\n",
       "    </tr>\n",
       "  </tbody>\n",
       "</table>\n",
       "</div>"
      ],
      "text/plain": [
       "                 died_predicted  survived_predicted\n",
       "died_actual                 307                   0\n",
       "survived_actual              16                 174"
      ]
     },
     "execution_count": 112,
     "metadata": {},
     "output_type": "execute_result"
    }
   ],
   "source": [
    "df_confusion_matrix"
   ]
  },
  {
   "cell_type": "markdown",
   "id": "aacbd509",
   "metadata": {},
   "source": [
    "**Create a classification report**"
   ]
  },
  {
   "cell_type": "code",
   "execution_count": 113,
   "id": "31846441",
   "metadata": {},
   "outputs": [],
   "source": [
    "classification_report = classification_report(y_train, y_pred, output_dict = True)"
   ]
  },
  {
   "cell_type": "code",
   "execution_count": 116,
   "id": "8a265f68",
   "metadata": {},
   "outputs": [],
   "source": [
    "df_classification_report = pd.DataFrame(classification_report).T"
   ]
  },
  {
   "cell_type": "code",
   "execution_count": 117,
   "id": "d897467d",
   "metadata": {},
   "outputs": [
    {
     "data": {
      "text/html": [
       "<div>\n",
       "<style scoped>\n",
       "    .dataframe tbody tr th:only-of-type {\n",
       "        vertical-align: middle;\n",
       "    }\n",
       "\n",
       "    .dataframe tbody tr th {\n",
       "        vertical-align: top;\n",
       "    }\n",
       "\n",
       "    .dataframe thead th {\n",
       "        text-align: right;\n",
       "    }\n",
       "</style>\n",
       "<table border=\"1\" class=\"dataframe\">\n",
       "  <thead>\n",
       "    <tr style=\"text-align: right;\">\n",
       "      <th></th>\n",
       "      <th>precision</th>\n",
       "      <th>recall</th>\n",
       "      <th>f1-score</th>\n",
       "      <th>support</th>\n",
       "    </tr>\n",
       "  </thead>\n",
       "  <tbody>\n",
       "    <tr>\n",
       "      <th>0</th>\n",
       "      <td>0.950464</td>\n",
       "      <td>1.000000</td>\n",
       "      <td>0.974603</td>\n",
       "      <td>307.000000</td>\n",
       "    </tr>\n",
       "    <tr>\n",
       "      <th>1</th>\n",
       "      <td>1.000000</td>\n",
       "      <td>0.915789</td>\n",
       "      <td>0.956044</td>\n",
       "      <td>190.000000</td>\n",
       "    </tr>\n",
       "    <tr>\n",
       "      <th>accuracy</th>\n",
       "      <td>0.967807</td>\n",
       "      <td>0.967807</td>\n",
       "      <td>0.967807</td>\n",
       "      <td>0.967807</td>\n",
       "    </tr>\n",
       "    <tr>\n",
       "      <th>macro avg</th>\n",
       "      <td>0.975232</td>\n",
       "      <td>0.957895</td>\n",
       "      <td>0.965324</td>\n",
       "      <td>497.000000</td>\n",
       "    </tr>\n",
       "    <tr>\n",
       "      <th>weighted avg</th>\n",
       "      <td>0.969402</td>\n",
       "      <td>0.967807</td>\n",
       "      <td>0.967508</td>\n",
       "      <td>497.000000</td>\n",
       "    </tr>\n",
       "  </tbody>\n",
       "</table>\n",
       "</div>"
      ],
      "text/plain": [
       "              precision    recall  f1-score     support\n",
       "0              0.950464  1.000000  0.974603  307.000000\n",
       "1              1.000000  0.915789  0.956044  190.000000\n",
       "accuracy       0.967807  0.967807  0.967807    0.967807\n",
       "macro avg      0.975232  0.957895  0.965324  497.000000\n",
       "weighted avg   0.969402  0.967807  0.967508  497.000000"
      ]
     },
     "execution_count": 117,
     "metadata": {},
     "output_type": "execute_result"
    }
   ],
   "source": [
    "df_classification_report"
   ]
  },
  {
   "cell_type": "markdown",
   "id": "27491801",
   "metadata": {},
   "source": [
    "### Print and clearly label the following: Accuracy, true positive rate, false positive rate, true negative rate, false negative rate, precision, recall, f1-score, and support."
   ]
  },
  {
   "cell_type": "code",
   "execution_count": 128,
   "id": "78126252",
   "metadata": {},
   "outputs": [],
   "source": [
    "true_positives = 174 \n",
    "false_positives = 0 \n",
    "true_negatives = 307\n",
    "false_negatives = 16"
   ]
  },
  {
   "cell_type": "markdown",
   "id": "13a42fb5",
   "metadata": {},
   "source": [
    "**Accuracy**"
   ]
  },
  {
   "cell_type": "code",
   "execution_count": 118,
   "id": "bb5d04ba",
   "metadata": {},
   "outputs": [
    {
     "data": {
      "text/plain": [
       "0.9678068410462777"
      ]
     },
     "execution_count": 118,
     "metadata": {},
     "output_type": "execute_result"
    }
   ],
   "source": [
    "model_accuracy = accuracy_score(y_train, y_pred)\n",
    "model_accuracy"
   ]
  },
  {
   "cell_type": "markdown",
   "id": "43c15395",
   "metadata": {},
   "source": [
    "**True positive rate**"
   ]
  },
  {
   "cell_type": "code",
   "execution_count": 136,
   "id": "8972b933",
   "metadata": {},
   "outputs": [],
   "source": [
    "true_positive_rate = (true_positives)/(true_positives + false_negatives)"
   ]
  },
  {
   "cell_type": "code",
   "execution_count": 137,
   "id": "8d500258",
   "metadata": {},
   "outputs": [
    {
     "data": {
      "text/plain": [
       "0.9157894736842105"
      ]
     },
     "execution_count": 137,
     "metadata": {},
     "output_type": "execute_result"
    }
   ],
   "source": [
    "true_positive_rate"
   ]
  },
  {
   "cell_type": "markdown",
   "id": "773483a3",
   "metadata": {},
   "source": [
    "**False negative rate**"
   ]
  },
  {
   "cell_type": "code",
   "execution_count": 138,
   "id": "034a539e",
   "metadata": {},
   "outputs": [],
   "source": [
    "false_negative_rate = (false_negatives)/(false_negatives + true_positives)"
   ]
  },
  {
   "cell_type": "code",
   "execution_count": 139,
   "id": "1522b477",
   "metadata": {},
   "outputs": [
    {
     "data": {
      "text/plain": [
       "0.08421052631578947"
      ]
     },
     "execution_count": 139,
     "metadata": {},
     "output_type": "execute_result"
    }
   ],
   "source": [
    "false_negative_rate"
   ]
  },
  {
   "cell_type": "markdown",
   "id": "fe283ff8",
   "metadata": {},
   "source": [
    "**True negative rate**"
   ]
  },
  {
   "cell_type": "code",
   "execution_count": 140,
   "id": "131e3f4a",
   "metadata": {},
   "outputs": [],
   "source": [
    "true_negative_rate = (true_negatives)/(true_negatives + false_positives)"
   ]
  },
  {
   "cell_type": "code",
   "execution_count": 141,
   "id": "660e6f15",
   "metadata": {},
   "outputs": [
    {
     "data": {
      "text/plain": [
       "1.0"
      ]
     },
     "execution_count": 141,
     "metadata": {},
     "output_type": "execute_result"
    }
   ],
   "source": [
    "true_negative_rate"
   ]
  },
  {
   "cell_type": "markdown",
   "id": "6a204aab",
   "metadata": {},
   "source": [
    "**False Posititve  rate**"
   ]
  },
  {
   "cell_type": "code",
   "execution_count": 143,
   "id": "a878070b",
   "metadata": {},
   "outputs": [],
   "source": [
    "false_positive_rate = (false_positives)/(false_positives + true_negatives)"
   ]
  },
  {
   "cell_type": "code",
   "execution_count": 144,
   "id": "4a22fd82",
   "metadata": {},
   "outputs": [
    {
     "data": {
      "text/plain": [
       "0.0"
      ]
     },
     "execution_count": 144,
     "metadata": {},
     "output_type": "execute_result"
    }
   ],
   "source": [
    "false_positive_rate"
   ]
  },
  {
   "cell_type": "markdown",
   "id": "70c964f2",
   "metadata": {},
   "source": [
    "**Precision rate**"
   ]
  },
  {
   "cell_type": "code",
   "execution_count": 150,
   "id": "8c254119",
   "metadata": {},
   "outputs": [],
   "source": [
    "precision = precision_score(y_train, y_pred)"
   ]
  },
  {
   "cell_type": "code",
   "execution_count": 151,
   "id": "b17763e5",
   "metadata": {},
   "outputs": [
    {
     "data": {
      "text/plain": [
       "1.0"
      ]
     },
     "execution_count": 151,
     "metadata": {},
     "output_type": "execute_result"
    }
   ],
   "source": [
    "precision"
   ]
  },
  {
   "cell_type": "markdown",
   "id": "f776cbd4",
   "metadata": {},
   "source": [
    "**Recall**"
   ]
  },
  {
   "cell_type": "code",
   "execution_count": 152,
   "id": "3fe86b40",
   "metadata": {},
   "outputs": [],
   "source": [
    "recall = recall_score(y_train, y_pred)"
   ]
  },
  {
   "cell_type": "code",
   "execution_count": 153,
   "id": "e14fc250",
   "metadata": {},
   "outputs": [
    {
     "data": {
      "text/plain": [
       "0.9157894736842105"
      ]
     },
     "execution_count": 153,
     "metadata": {},
     "output_type": "execute_result"
    }
   ],
   "source": [
    "recall"
   ]
  },
  {
   "cell_type": "markdown",
   "id": "e1ceeb81",
   "metadata": {},
   "source": [
    "**F-1 score**"
   ]
  },
  {
   "cell_type": "code",
   "execution_count": 154,
   "id": "aef0e07e",
   "metadata": {},
   "outputs": [],
   "source": [
    "f1 = f1_score(y_train, y_pred)"
   ]
  },
  {
   "cell_type": "code",
   "execution_count": 155,
   "id": "3d0297ec",
   "metadata": {},
   "outputs": [
    {
     "data": {
      "text/plain": [
       "0.956043956043956"
      ]
     },
     "execution_count": 155,
     "metadata": {},
     "output_type": "execute_result"
    }
   ],
   "source": [
    "f1"
   ]
  },
  {
   "cell_type": "markdown",
   "id": "666b2f39",
   "metadata": {},
   "source": [
    "**Support**"
   ]
  },
  {
   "cell_type": "code",
   "execution_count": 159,
   "id": "1d70f1f6",
   "metadata": {},
   "outputs": [],
   "source": [
    "support_1 = true_positives + false_negatives \n",
    "support_0 = false_positives + true_negatives\n",
    "support_total = true_positives + false_negatives + false_positives + true_negatives"
   ]
  },
  {
   "cell_type": "code",
   "execution_count": 165,
   "id": "a89aaeb6",
   "metadata": {},
   "outputs": [
    {
     "name": "stdout",
     "output_type": "stream",
     "text": [
      "Support 1: 190\n",
      "Support 0: 307\n",
      "Support total: 497\n"
     ]
    }
   ],
   "source": [
    "print(f'Support 1: {support_1}')\n",
    "print(f'Support 0: {support_0}')\n",
    "print(f'Support total: {support_total}')"
   ]
  },
  {
   "cell_type": "markdown",
   "id": "6716f2dc",
   "metadata": {},
   "source": [
    "### Run through steps increasing your min_samples_leaf and decreasing your max_depth."
   ]
  },
  {
   "cell_type": "markdown",
   "id": "b9116ee2",
   "metadata": {},
   "source": [
    "This time, let's set min_samples_leaf to 3, and max_depth to 6."
   ]
  },
  {
   "cell_type": "code",
   "execution_count": 168,
   "id": "64657b82",
   "metadata": {},
   "outputs": [],
   "source": [
    "rf2 = RandomForestClassifier(bootstrap=True, \n",
    "                            class_weight=None, \n",
    "                            criterion='gini',\n",
    "                            min_samples_leaf=3,\n",
    "                            n_estimators=100,\n",
    "                            max_depth=6, \n",
    "                            random_state=123)"
   ]
  },
  {
   "cell_type": "markdown",
   "id": "bef68cd8",
   "metadata": {},
   "source": [
    "**Fit the model**"
   ]
  },
  {
   "cell_type": "code",
   "execution_count": 186,
   "id": "e6ca8643",
   "metadata": {},
   "outputs": [
    {
     "data": {
      "text/plain": [
       "RandomForestClassifier(max_depth=6, min_samples_leaf=3, random_state=123)"
      ]
     },
     "execution_count": 186,
     "metadata": {},
     "output_type": "execute_result"
    }
   ],
   "source": [
    "rf2.fit(X_train, y_train)"
   ]
  },
  {
   "cell_type": "markdown",
   "id": "d2101de1",
   "metadata": {},
   "source": [
    "**Feature importance**"
   ]
  },
  {
   "cell_type": "code",
   "execution_count": 187,
   "id": "8ba3504d",
   "metadata": {},
   "outputs": [
    {
     "data": {
      "text/html": [
       "<div>\n",
       "<style scoped>\n",
       "    .dataframe tbody tr th:only-of-type {\n",
       "        vertical-align: middle;\n",
       "    }\n",
       "\n",
       "    .dataframe tbody tr th {\n",
       "        vertical-align: top;\n",
       "    }\n",
       "\n",
       "    .dataframe thead th {\n",
       "        text-align: right;\n",
       "    }\n",
       "</style>\n",
       "<table border=\"1\" class=\"dataframe\">\n",
       "  <thead>\n",
       "    <tr style=\"text-align: right;\">\n",
       "      <th></th>\n",
       "      <th>0</th>\n",
       "    </tr>\n",
       "  </thead>\n",
       "  <tbody>\n",
       "    <tr>\n",
       "      <th>0</th>\n",
       "      <td>0.095989</td>\n",
       "    </tr>\n",
       "    <tr>\n",
       "      <th>1</th>\n",
       "      <td>0.096242</td>\n",
       "    </tr>\n",
       "    <tr>\n",
       "      <th>2</th>\n",
       "      <td>0.133684</td>\n",
       "    </tr>\n",
       "    <tr>\n",
       "      <th>3</th>\n",
       "      <td>0.047151</td>\n",
       "    </tr>\n",
       "    <tr>\n",
       "      <th>4</th>\n",
       "      <td>0.026138</td>\n",
       "    </tr>\n",
       "    <tr>\n",
       "      <th>5</th>\n",
       "      <td>0.169599</td>\n",
       "    </tr>\n",
       "    <tr>\n",
       "      <th>6</th>\n",
       "      <td>0.040284</td>\n",
       "    </tr>\n",
       "    <tr>\n",
       "      <th>7</th>\n",
       "      <td>0.004780</td>\n",
       "    </tr>\n",
       "    <tr>\n",
       "      <th>8</th>\n",
       "      <td>0.013097</td>\n",
       "    </tr>\n",
       "    <tr>\n",
       "      <th>9</th>\n",
       "      <td>0.355629</td>\n",
       "    </tr>\n",
       "    <tr>\n",
       "      <th>10</th>\n",
       "      <td>0.005959</td>\n",
       "    </tr>\n",
       "    <tr>\n",
       "      <th>11</th>\n",
       "      <td>0.011448</td>\n",
       "    </tr>\n",
       "  </tbody>\n",
       "</table>\n",
       "</div>"
      ],
      "text/plain": [
       "           0\n",
       "0   0.095989\n",
       "1   0.096242\n",
       "2   0.133684\n",
       "3   0.047151\n",
       "4   0.026138\n",
       "5   0.169599\n",
       "6   0.040284\n",
       "7   0.004780\n",
       "8   0.013097\n",
       "9   0.355629\n",
       "10  0.005959\n",
       "11  0.011448"
      ]
     },
     "execution_count": 187,
     "metadata": {},
     "output_type": "execute_result"
    }
   ],
   "source": [
    "pd.DataFrame(rf2.feature_importances_)"
   ]
  },
  {
   "cell_type": "markdown",
   "id": "5cc557f9",
   "metadata": {},
   "source": [
    "**Make predictions**"
   ]
  },
  {
   "cell_type": "code",
   "execution_count": 193,
   "id": "2cd42830",
   "metadata": {},
   "outputs": [
    {
     "data": {
      "text/html": [
       "<div>\n",
       "<style scoped>\n",
       "    .dataframe tbody tr th:only-of-type {\n",
       "        vertical-align: middle;\n",
       "    }\n",
       "\n",
       "    .dataframe tbody tr th {\n",
       "        vertical-align: top;\n",
       "    }\n",
       "\n",
       "    .dataframe thead th {\n",
       "        text-align: right;\n",
       "    }\n",
       "</style>\n",
       "<table border=\"1\" class=\"dataframe\">\n",
       "  <thead>\n",
       "    <tr style=\"text-align: right;\">\n",
       "      <th></th>\n",
       "      <th>0</th>\n",
       "    </tr>\n",
       "  </thead>\n",
       "  <tbody>\n",
       "    <tr>\n",
       "      <th>0</th>\n",
       "      <td>0</td>\n",
       "    </tr>\n",
       "    <tr>\n",
       "      <th>1</th>\n",
       "      <td>1</td>\n",
       "    </tr>\n",
       "    <tr>\n",
       "      <th>2</th>\n",
       "      <td>0</td>\n",
       "    </tr>\n",
       "    <tr>\n",
       "      <th>3</th>\n",
       "      <td>1</td>\n",
       "    </tr>\n",
       "    <tr>\n",
       "      <th>4</th>\n",
       "      <td>1</td>\n",
       "    </tr>\n",
       "    <tr>\n",
       "      <th>...</th>\n",
       "      <td>...</td>\n",
       "    </tr>\n",
       "    <tr>\n",
       "      <th>492</th>\n",
       "      <td>0</td>\n",
       "    </tr>\n",
       "    <tr>\n",
       "      <th>493</th>\n",
       "      <td>0</td>\n",
       "    </tr>\n",
       "    <tr>\n",
       "      <th>494</th>\n",
       "      <td>0</td>\n",
       "    </tr>\n",
       "    <tr>\n",
       "      <th>495</th>\n",
       "      <td>0</td>\n",
       "    </tr>\n",
       "    <tr>\n",
       "      <th>496</th>\n",
       "      <td>0</td>\n",
       "    </tr>\n",
       "  </tbody>\n",
       "</table>\n",
       "<p>497 rows × 1 columns</p>\n",
       "</div>"
      ],
      "text/plain": [
       "     0\n",
       "0    0\n",
       "1    1\n",
       "2    0\n",
       "3    1\n",
       "4    1\n",
       "..  ..\n",
       "492  0\n",
       "493  0\n",
       "494  0\n",
       "495  0\n",
       "496  0\n",
       "\n",
       "[497 rows x 1 columns]"
      ]
     },
     "execution_count": 193,
     "metadata": {},
     "output_type": "execute_result"
    }
   ],
   "source": [
    "y_pred = rf2.predict(X_train)\n",
    "pd.DataFrame(y_pred)"
   ]
  },
  {
   "cell_type": "markdown",
   "id": "468ad276",
   "metadata": {},
   "source": [
    "**Estimate probability**"
   ]
  },
  {
   "cell_type": "code",
   "execution_count": 175,
   "id": "9efe9dd1",
   "metadata": {},
   "outputs": [
    {
     "data": {
      "text/html": [
       "<div>\n",
       "<style scoped>\n",
       "    .dataframe tbody tr th:only-of-type {\n",
       "        vertical-align: middle;\n",
       "    }\n",
       "\n",
       "    .dataframe tbody tr th {\n",
       "        vertical-align: top;\n",
       "    }\n",
       "\n",
       "    .dataframe thead th {\n",
       "        text-align: right;\n",
       "    }\n",
       "</style>\n",
       "<table border=\"1\" class=\"dataframe\">\n",
       "  <thead>\n",
       "    <tr style=\"text-align: right;\">\n",
       "      <th></th>\n",
       "      <th>0</th>\n",
       "      <th>1</th>\n",
       "    </tr>\n",
       "  </thead>\n",
       "  <tbody>\n",
       "    <tr>\n",
       "      <th>0</th>\n",
       "      <td>0.691080</td>\n",
       "      <td>0.308920</td>\n",
       "    </tr>\n",
       "    <tr>\n",
       "      <th>1</th>\n",
       "      <td>0.046536</td>\n",
       "      <td>0.953464</td>\n",
       "    </tr>\n",
       "    <tr>\n",
       "      <th>2</th>\n",
       "      <td>0.914865</td>\n",
       "      <td>0.085135</td>\n",
       "    </tr>\n",
       "    <tr>\n",
       "      <th>3</th>\n",
       "      <td>0.098877</td>\n",
       "      <td>0.901123</td>\n",
       "    </tr>\n",
       "    <tr>\n",
       "      <th>4</th>\n",
       "      <td>0.227153</td>\n",
       "      <td>0.772847</td>\n",
       "    </tr>\n",
       "    <tr>\n",
       "      <th>...</th>\n",
       "      <td>...</td>\n",
       "      <td>...</td>\n",
       "    </tr>\n",
       "    <tr>\n",
       "      <th>492</th>\n",
       "      <td>0.892887</td>\n",
       "      <td>0.107113</td>\n",
       "    </tr>\n",
       "    <tr>\n",
       "      <th>493</th>\n",
       "      <td>0.898224</td>\n",
       "      <td>0.101776</td>\n",
       "    </tr>\n",
       "    <tr>\n",
       "      <th>494</th>\n",
       "      <td>0.845211</td>\n",
       "      <td>0.154789</td>\n",
       "    </tr>\n",
       "    <tr>\n",
       "      <th>495</th>\n",
       "      <td>0.722290</td>\n",
       "      <td>0.277710</td>\n",
       "    </tr>\n",
       "    <tr>\n",
       "      <th>496</th>\n",
       "      <td>0.837201</td>\n",
       "      <td>0.162799</td>\n",
       "    </tr>\n",
       "  </tbody>\n",
       "</table>\n",
       "<p>497 rows × 2 columns</p>\n",
       "</div>"
      ],
      "text/plain": [
       "            0         1\n",
       "0    0.691080  0.308920\n",
       "1    0.046536  0.953464\n",
       "2    0.914865  0.085135\n",
       "3    0.098877  0.901123\n",
       "4    0.227153  0.772847\n",
       "..        ...       ...\n",
       "492  0.892887  0.107113\n",
       "493  0.898224  0.101776\n",
       "494  0.845211  0.154789\n",
       "495  0.722290  0.277710\n",
       "496  0.837201  0.162799\n",
       "\n",
       "[497 rows x 2 columns]"
      ]
     },
     "execution_count": 175,
     "metadata": {},
     "output_type": "execute_result"
    }
   ],
   "source": [
    "y_pred_proba = rf2.predict_proba(X_train)\n",
    "pd.DataFrame(y_pred_proba)"
   ]
  },
  {
   "cell_type": "markdown",
   "id": "798537cd",
   "metadata": {},
   "source": [
    "**Compute accuracy**"
   ]
  },
  {
   "cell_type": "code",
   "execution_count": 176,
   "id": "565a4531",
   "metadata": {},
   "outputs": [
    {
     "name": "stdout",
     "output_type": "stream",
     "text": [
      "Accuracy of random forest classifier on training set: 0.87\n"
     ]
    }
   ],
   "source": [
    "print('Accuracy of random forest classifier on training set: {:.2f}'\n",
    "     .format(rf2.score(X_train, y_train)))"
   ]
  },
  {
   "cell_type": "markdown",
   "id": "e5ccf05c",
   "metadata": {},
   "source": [
    "**Create a confusion matrix**"
   ]
  },
  {
   "cell_type": "code",
   "execution_count": 177,
   "id": "f5462e78",
   "metadata": {},
   "outputs": [],
   "source": [
    "labels1 = ['died_actual', 'survived_actual']\n",
    "labels2 = ['died_predicted', 'survived_predicted']\n",
    "df_confusion_matrix = pd.DataFrame(confusion_matrix(y_train, y_pred), index=labels1, columns=labels2)"
   ]
  },
  {
   "cell_type": "code",
   "execution_count": 178,
   "id": "cbdec033",
   "metadata": {},
   "outputs": [
    {
     "data": {
      "text/html": [
       "<div>\n",
       "<style scoped>\n",
       "    .dataframe tbody tr th:only-of-type {\n",
       "        vertical-align: middle;\n",
       "    }\n",
       "\n",
       "    .dataframe tbody tr th {\n",
       "        vertical-align: top;\n",
       "    }\n",
       "\n",
       "    .dataframe thead th {\n",
       "        text-align: right;\n",
       "    }\n",
       "</style>\n",
       "<table border=\"1\" class=\"dataframe\">\n",
       "  <thead>\n",
       "    <tr style=\"text-align: right;\">\n",
       "      <th></th>\n",
       "      <th>died_predicted</th>\n",
       "      <th>survived_predicted</th>\n",
       "    </tr>\n",
       "  </thead>\n",
       "  <tbody>\n",
       "    <tr>\n",
       "      <th>died_actual</th>\n",
       "      <td>295</td>\n",
       "      <td>12</td>\n",
       "    </tr>\n",
       "    <tr>\n",
       "      <th>survived_actual</th>\n",
       "      <td>51</td>\n",
       "      <td>139</td>\n",
       "    </tr>\n",
       "  </tbody>\n",
       "</table>\n",
       "</div>"
      ],
      "text/plain": [
       "                 died_predicted  survived_predicted\n",
       "died_actual                 295                  12\n",
       "survived_actual              51                 139"
      ]
     },
     "execution_count": 178,
     "metadata": {},
     "output_type": "execute_result"
    }
   ],
   "source": [
    "df_confusion_matrix"
   ]
  },
  {
   "cell_type": "markdown",
   "id": "193c6f69",
   "metadata": {},
   "source": [
    "**Create a classification report**"
   ]
  },
  {
   "cell_type": "code",
   "execution_count": 197,
   "id": "a7f5c562",
   "metadata": {},
   "outputs": [],
   "source": [
    "classification_report_2 = classification_report(y_train, y_pred, output_dict = True)"
   ]
  },
  {
   "cell_type": "code",
   "execution_count": 200,
   "id": "d408dd57",
   "metadata": {},
   "outputs": [],
   "source": [
    "df_classification_report_2 = pd.DataFrame(classification_report_2).T"
   ]
  },
  {
   "cell_type": "code",
   "execution_count": 201,
   "id": "2e481a01",
   "metadata": {},
   "outputs": [
    {
     "data": {
      "text/html": [
       "<div>\n",
       "<style scoped>\n",
       "    .dataframe tbody tr th:only-of-type {\n",
       "        vertical-align: middle;\n",
       "    }\n",
       "\n",
       "    .dataframe tbody tr th {\n",
       "        vertical-align: top;\n",
       "    }\n",
       "\n",
       "    .dataframe thead th {\n",
       "        text-align: right;\n",
       "    }\n",
       "</style>\n",
       "<table border=\"1\" class=\"dataframe\">\n",
       "  <thead>\n",
       "    <tr style=\"text-align: right;\">\n",
       "      <th></th>\n",
       "      <th>precision</th>\n",
       "      <th>recall</th>\n",
       "      <th>f1-score</th>\n",
       "      <th>support</th>\n",
       "    </tr>\n",
       "  </thead>\n",
       "  <tbody>\n",
       "    <tr>\n",
       "      <th>0</th>\n",
       "      <td>0.852601</td>\n",
       "      <td>0.960912</td>\n",
       "      <td>0.903522</td>\n",
       "      <td>307.000000</td>\n",
       "    </tr>\n",
       "    <tr>\n",
       "      <th>1</th>\n",
       "      <td>0.920530</td>\n",
       "      <td>0.731579</td>\n",
       "      <td>0.815249</td>\n",
       "      <td>190.000000</td>\n",
       "    </tr>\n",
       "    <tr>\n",
       "      <th>accuracy</th>\n",
       "      <td>0.873239</td>\n",
       "      <td>0.873239</td>\n",
       "      <td>0.873239</td>\n",
       "      <td>0.873239</td>\n",
       "    </tr>\n",
       "    <tr>\n",
       "      <th>macro avg</th>\n",
       "      <td>0.886565</td>\n",
       "      <td>0.846245</td>\n",
       "      <td>0.859386</td>\n",
       "      <td>497.000000</td>\n",
       "    </tr>\n",
       "    <tr>\n",
       "      <th>weighted avg</th>\n",
       "      <td>0.878570</td>\n",
       "      <td>0.873239</td>\n",
       "      <td>0.869776</td>\n",
       "      <td>497.000000</td>\n",
       "    </tr>\n",
       "  </tbody>\n",
       "</table>\n",
       "</div>"
      ],
      "text/plain": [
       "              precision    recall  f1-score     support\n",
       "0              0.852601  0.960912  0.903522  307.000000\n",
       "1              0.920530  0.731579  0.815249  190.000000\n",
       "accuracy       0.873239  0.873239  0.873239    0.873239\n",
       "macro avg      0.886565  0.846245  0.859386  497.000000\n",
       "weighted avg   0.878570  0.873239  0.869776  497.000000"
      ]
     },
     "execution_count": 201,
     "metadata": {},
     "output_type": "execute_result"
    }
   ],
   "source": [
    "df_classification_report_2"
   ]
  },
  {
   "cell_type": "markdown",
   "id": "25ce78b2",
   "metadata": {},
   "source": [
    "### What are the differences in the evaluation metrics? Which performs better on your in-sample data? Why?"
   ]
  },
  {
   "cell_type": "markdown",
   "id": "19ce4321",
   "metadata": {},
   "source": [
    "Let's compare the two classification reports for the evaluation metrics."
   ]
  },
  {
   "cell_type": "code",
   "execution_count": 202,
   "id": "acfdfbae",
   "metadata": {},
   "outputs": [
    {
     "data": {
      "text/html": [
       "<div>\n",
       "<style scoped>\n",
       "    .dataframe tbody tr th:only-of-type {\n",
       "        vertical-align: middle;\n",
       "    }\n",
       "\n",
       "    .dataframe tbody tr th {\n",
       "        vertical-align: top;\n",
       "    }\n",
       "\n",
       "    .dataframe thead th {\n",
       "        text-align: right;\n",
       "    }\n",
       "</style>\n",
       "<table border=\"1\" class=\"dataframe\">\n",
       "  <thead>\n",
       "    <tr style=\"text-align: right;\">\n",
       "      <th></th>\n",
       "      <th>precision</th>\n",
       "      <th>recall</th>\n",
       "      <th>f1-score</th>\n",
       "      <th>support</th>\n",
       "    </tr>\n",
       "  </thead>\n",
       "  <tbody>\n",
       "    <tr>\n",
       "      <th>0</th>\n",
       "      <td>0.950464</td>\n",
       "      <td>1.000000</td>\n",
       "      <td>0.974603</td>\n",
       "      <td>307.000000</td>\n",
       "    </tr>\n",
       "    <tr>\n",
       "      <th>1</th>\n",
       "      <td>1.000000</td>\n",
       "      <td>0.915789</td>\n",
       "      <td>0.956044</td>\n",
       "      <td>190.000000</td>\n",
       "    </tr>\n",
       "    <tr>\n",
       "      <th>accuracy</th>\n",
       "      <td>0.967807</td>\n",
       "      <td>0.967807</td>\n",
       "      <td>0.967807</td>\n",
       "      <td>0.967807</td>\n",
       "    </tr>\n",
       "    <tr>\n",
       "      <th>macro avg</th>\n",
       "      <td>0.975232</td>\n",
       "      <td>0.957895</td>\n",
       "      <td>0.965324</td>\n",
       "      <td>497.000000</td>\n",
       "    </tr>\n",
       "    <tr>\n",
       "      <th>weighted avg</th>\n",
       "      <td>0.969402</td>\n",
       "      <td>0.967807</td>\n",
       "      <td>0.967508</td>\n",
       "      <td>497.000000</td>\n",
       "    </tr>\n",
       "  </tbody>\n",
       "</table>\n",
       "</div>"
      ],
      "text/plain": [
       "              precision    recall  f1-score     support\n",
       "0              0.950464  1.000000  0.974603  307.000000\n",
       "1              1.000000  0.915789  0.956044  190.000000\n",
       "accuracy       0.967807  0.967807  0.967807    0.967807\n",
       "macro avg      0.975232  0.957895  0.965324  497.000000\n",
       "weighted avg   0.969402  0.967807  0.967508  497.000000"
      ]
     },
     "execution_count": 202,
     "metadata": {},
     "output_type": "execute_result"
    }
   ],
   "source": [
    "df_classification_report"
   ]
  },
  {
   "cell_type": "code",
   "execution_count": 203,
   "id": "115a4eea",
   "metadata": {},
   "outputs": [
    {
     "data": {
      "text/html": [
       "<div>\n",
       "<style scoped>\n",
       "    .dataframe tbody tr th:only-of-type {\n",
       "        vertical-align: middle;\n",
       "    }\n",
       "\n",
       "    .dataframe tbody tr th {\n",
       "        vertical-align: top;\n",
       "    }\n",
       "\n",
       "    .dataframe thead th {\n",
       "        text-align: right;\n",
       "    }\n",
       "</style>\n",
       "<table border=\"1\" class=\"dataframe\">\n",
       "  <thead>\n",
       "    <tr style=\"text-align: right;\">\n",
       "      <th></th>\n",
       "      <th>precision</th>\n",
       "      <th>recall</th>\n",
       "      <th>f1-score</th>\n",
       "      <th>support</th>\n",
       "    </tr>\n",
       "  </thead>\n",
       "  <tbody>\n",
       "    <tr>\n",
       "      <th>0</th>\n",
       "      <td>0.852601</td>\n",
       "      <td>0.960912</td>\n",
       "      <td>0.903522</td>\n",
       "      <td>307.000000</td>\n",
       "    </tr>\n",
       "    <tr>\n",
       "      <th>1</th>\n",
       "      <td>0.920530</td>\n",
       "      <td>0.731579</td>\n",
       "      <td>0.815249</td>\n",
       "      <td>190.000000</td>\n",
       "    </tr>\n",
       "    <tr>\n",
       "      <th>accuracy</th>\n",
       "      <td>0.873239</td>\n",
       "      <td>0.873239</td>\n",
       "      <td>0.873239</td>\n",
       "      <td>0.873239</td>\n",
       "    </tr>\n",
       "    <tr>\n",
       "      <th>macro avg</th>\n",
       "      <td>0.886565</td>\n",
       "      <td>0.846245</td>\n",
       "      <td>0.859386</td>\n",
       "      <td>497.000000</td>\n",
       "    </tr>\n",
       "    <tr>\n",
       "      <th>weighted avg</th>\n",
       "      <td>0.878570</td>\n",
       "      <td>0.873239</td>\n",
       "      <td>0.869776</td>\n",
       "      <td>497.000000</td>\n",
       "    </tr>\n",
       "  </tbody>\n",
       "</table>\n",
       "</div>"
      ],
      "text/plain": [
       "              precision    recall  f1-score     support\n",
       "0              0.852601  0.960912  0.903522  307.000000\n",
       "1              0.920530  0.731579  0.815249  190.000000\n",
       "accuracy       0.873239  0.873239  0.873239    0.873239\n",
       "macro avg      0.886565  0.846245  0.859386  497.000000\n",
       "weighted avg   0.878570  0.873239  0.869776  497.000000"
      ]
     },
     "execution_count": 203,
     "metadata": {},
     "output_type": "execute_result"
    }
   ],
   "source": [
    "df_classification_report_2"
   ]
  },
  {
   "cell_type": "markdown",
   "id": "dd8de0d2",
   "metadata": {},
   "source": [
    "The first sample with min_samples_leaf = 1 and max_depth = 10 performs better than the second sample. This is likely because we are using a higher max depth."
   ]
  }
 ],
 "metadata": {
  "kernelspec": {
   "display_name": "Python 3",
   "language": "python",
   "name": "python3"
  },
  "language_info": {
   "codemirror_mode": {
    "name": "ipython",
    "version": 3
   },
   "file_extension": ".py",
   "mimetype": "text/x-python",
   "name": "python",
   "nbconvert_exporter": "python",
   "pygments_lexer": "ipython3",
   "version": "3.8.8"
  }
 },
 "nbformat": 4,
 "nbformat_minor": 5
}
